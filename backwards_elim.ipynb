{
 "cells": [
  {
   "cell_type": "code",
   "execution_count": 3,
   "metadata": {},
   "outputs": [],
   "source": [
    "import numpy as np\n",
    "import pandas as pd"
   ]
  },
  {
   "cell_type": "code",
   "execution_count": 41,
   "metadata": {},
   "outputs": [],
   "source": [
    "data = pd.read_csv('data_source/data.csv', parse_dates=True,infer_datetime_format= True)\\\n",
    "         .drop('Unnamed: 0', axis=1)"
   ]
  },
  {
   "cell_type": "code",
   "execution_count": 42,
   "metadata": {},
   "outputs": [
    {
     "data": {
      "text/html": [
       "<div>\n",
       "<style scoped>\n",
       "    .dataframe tbody tr th:only-of-type {\n",
       "        vertical-align: middle;\n",
       "    }\n",
       "\n",
       "    .dataframe tbody tr th {\n",
       "        vertical-align: top;\n",
       "    }\n",
       "\n",
       "    .dataframe thead th {\n",
       "        text-align: right;\n",
       "    }\n",
       "</style>\n",
       "<table border=\"1\" class=\"dataframe\">\n",
       "  <thead>\n",
       "    <tr style=\"text-align: right;\">\n",
       "      <th></th>\n",
       "      <th>Date</th>\n",
       "      <th>company</th>\n",
       "      <th>current_price</th>\n",
       "      <th>momentum</th>\n",
       "      <th>moving_average</th>\n",
       "      <th>moving_volatility</th>\n",
       "      <th>trading_range</th>\n",
       "      <th>target_return</th>\n",
       "      <th>exp_market_change</th>\n",
       "      <th>rates</th>\n",
       "      <th>...</th>\n",
       "      <th>Gross_profit</th>\n",
       "      <th>Operating_profit</th>\n",
       "      <th>Net_Profit</th>\n",
       "      <th>Issue_of_shares</th>\n",
       "      <th>Share_repurchase</th>\n",
       "      <th>Non_current_assets</th>\n",
       "      <th>Current_assets</th>\n",
       "      <th>Non_current_liabilities</th>\n",
       "      <th>Current_liabilities</th>\n",
       "      <th>net_cash_op_act</th>\n",
       "    </tr>\n",
       "  </thead>\n",
       "  <tbody>\n",
       "    <tr>\n",
       "      <th>0</th>\n",
       "      <td>2010/02/17</td>\n",
       "      <td>Anglogold Ashanti Ltd</td>\n",
       "      <td>29500.0</td>\n",
       "      <td>-0.103343</td>\n",
       "      <td>30598.216667</td>\n",
       "      <td>1854.530002</td>\n",
       "      <td>850.55</td>\n",
       "      <td>0.090136</td>\n",
       "      <td>-0.016852</td>\n",
       "      <td>7.08</td>\n",
       "      <td>...</td>\n",
       "      <td>329.5</td>\n",
       "      <td>431.7</td>\n",
       "      <td>317.9</td>\n",
       "      <td>3.9</td>\n",
       "      <td>3.9</td>\n",
       "      <td>732.8</td>\n",
       "      <td>237.2</td>\n",
       "      <td>220.7</td>\n",
       "      <td>454.3</td>\n",
       "      <td>959.6</td>\n",
       "    </tr>\n",
       "  </tbody>\n",
       "</table>\n",
       "<p>1 rows × 22 columns</p>\n",
       "</div>"
      ],
      "text/plain": [
       "         Date                 company  current_price  momentum  \\\n",
       "0  2010/02/17   Anglogold Ashanti Ltd        29500.0 -0.103343   \n",
       "\n",
       "   moving_average  moving_volatility  trading_range  target_return  \\\n",
       "0    30598.216667        1854.530002         850.55       0.090136   \n",
       "\n",
       "   exp_market_change  rates       ...         Gross_profit  Operating_profit  \\\n",
       "0          -0.016852   7.08       ...                329.5             431.7   \n",
       "\n",
       "   Net_Profit  Issue_of_shares  Share_repurchase  Non_current_assets  \\\n",
       "0       317.9              3.9               3.9               732.8   \n",
       "\n",
       "   Current_assets  Non_current_liabilities  Current_liabilities  \\\n",
       "0           237.2                    220.7                454.3   \n",
       "\n",
       "   net_cash_op_act  \n",
       "0            959.6  \n",
       "\n",
       "[1 rows x 22 columns]"
      ]
     },
     "execution_count": 42,
     "metadata": {},
     "output_type": "execute_result"
    }
   ],
   "source": [
    "data.head(1)"
   ]
  },
  {
   "cell_type": "code",
   "execution_count": 43,
   "metadata": {},
   "outputs": [],
   "source": [
    "# Lables\n",
    "y = data['target_return']\n",
    "\n",
    "# Features\n",
    "X = data.drop(['Date', 'company', 'target_return'], axis=1)"
   ]
  },
  {
   "cell_type": "markdown",
   "metadata": {},
   "source": [
    "#### Train, Test, Split"
   ]
  },
  {
   "cell_type": "code",
   "execution_count": 44,
   "metadata": {},
   "outputs": [],
   "source": [
    "from sklearn.model_selection import train_test_split"
   ]
  },
  {
   "cell_type": "code",
   "execution_count": 45,
   "metadata": {},
   "outputs": [],
   "source": [
    "X_train, X_test, y_train, y_test = train_test_split(X, y, test_size=0.3, random_state=50)"
   ]
  },
  {
   "cell_type": "markdown",
   "metadata": {},
   "source": [
    "#### Linear Regression"
   ]
  },
  {
   "cell_type": "code",
   "execution_count": 8,
   "metadata": {},
   "outputs": [],
   "source": [
    "from sklearn.linear_model import LinearRegression"
   ]
  },
  {
   "cell_type": "code",
   "execution_count": 9,
   "metadata": {},
   "outputs": [],
   "source": [
    "linreg = LinearRegression()"
   ]
  },
  {
   "cell_type": "code",
   "execution_count": 10,
   "metadata": {},
   "outputs": [
    {
     "data": {
      "text/plain": [
       "LinearRegression(copy_X=True, fit_intercept=True, n_jobs=1, normalize=False)"
      ]
     },
     "execution_count": 10,
     "metadata": {},
     "output_type": "execute_result"
    }
   ],
   "source": [
    "linreg.fit(X_train,y_train)"
   ]
  },
  {
   "cell_type": "code",
   "execution_count": 11,
   "metadata": {},
   "outputs": [],
   "source": [
    "y_pred = linreg.predict(X_test)"
   ]
  },
  {
   "cell_type": "markdown",
   "metadata": {},
   "source": [
    "---\n",
    "#### Backwards Elimination using statsmodel on initial Data\n",
    "using a Significance Level = 0.05"
   ]
  },
  {
   "cell_type": "code",
   "execution_count": 46,
   "metadata": {},
   "outputs": [],
   "source": [
    "from pandas.core import datetools\n",
    "import statsmodels.api as sm\n",
    "import statsmodels.formula.api as smf"
   ]
  },
  {
   "cell_type": "code",
   "execution_count": 47,
   "metadata": {},
   "outputs": [
    {
     "name": "stdout",
     "output_type": "stream",
     "text": [
      "                            OLS Regression Results                            \n",
      "==============================================================================\n",
      "Dep. Variable:          target_return   R-squared:                       0.084\n",
      "Model:                            OLS   Adj. R-squared:                  0.009\n",
      "Method:                 Least Squares   F-statistic:                     1.121\n",
      "Date:                Mon, 16 Apr 2018   Prob (F-statistic):              0.330\n",
      "Time:                        15:35:10   Log-Likelihood:                 206.36\n",
      "No. Observations:                 253   AIC:                            -372.7\n",
      "Df Residuals:                     233   BIC:                            -302.0\n",
      "Df Model:                          19                                         \n",
      "Covariance Type:            nonrobust                                         \n",
      "===========================================================================================\n",
      "                              coef    std err          t      P>|t|      [0.025      0.975]\n",
      "-------------------------------------------------------------------------------------------\n",
      "Intercept                   0.2358      0.068      3.492      0.001       0.103       0.369\n",
      "current_price            6.365e-07   7.42e-06      0.086      0.932    -1.4e-05    1.53e-05\n",
      "momentum                   -0.0216      0.074     -0.290      0.772      -0.168       0.125\n",
      "moving_average          -5.966e-07   7.43e-06     -0.080      0.936   -1.52e-05     1.4e-05\n",
      "moving_volatility        1.008e-05      2e-05      0.503      0.615   -2.94e-05    4.95e-05\n",
      "trading_range           -1.969e-05   6.89e-05     -0.286      0.775      -0.000       0.000\n",
      "exp_market_change          -0.3367      0.169     -1.995      0.047      -0.669      -0.004\n",
      "rates                      -0.0340      0.011     -3.076      0.002      -0.056      -0.012\n",
      "Revenue                 -1.736e-05   4.12e-05     -0.422      0.674   -9.85e-05    6.37e-05\n",
      "Cost_of_Sales            1.726e-05   4.12e-05      0.419      0.676   -6.39e-05    9.84e-05\n",
      "Gross_profit             1.727e-05   4.12e-05      0.419      0.676    -6.4e-05    9.85e-05\n",
      "Operating_profit        -2.678e-07   5.29e-07     -0.506      0.613   -1.31e-06    7.75e-07\n",
      "Net_Profit              -1.645e-06   2.56e-06     -0.644      0.520   -6.68e-06    3.39e-06\n",
      "Issue_of_shares          6.772e-08   7.24e-07      0.094      0.926   -1.36e-06    1.49e-06\n",
      "Share_repurchase         5.879e-07    3.5e-06      0.168      0.867   -6.31e-06    7.49e-06\n",
      "Non_current_assets      -2.913e-09   3.74e-08     -0.078      0.938   -7.66e-08    7.08e-08\n",
      "Current_assets           6.252e-09   4.39e-08      0.142      0.887   -8.03e-08    9.28e-08\n",
      "Non_current_liabilities  2.428e-08   2.39e-08      1.015      0.311   -2.29e-08    7.14e-08\n",
      "Current_liabilities      3.048e-09   4.85e-08      0.063      0.950   -9.25e-08    9.86e-08\n",
      "net_cash_op_act          8.059e-07   1.06e-06      0.763      0.446   -1.28e-06    2.89e-06\n",
      "==============================================================================\n",
      "Omnibus:                       12.286   Durbin-Watson:                   1.933\n",
      "Prob(Omnibus):                  0.002   Jarque-Bera (JB):               17.842\n",
      "Skew:                           0.331   Prob(JB):                     0.000134\n",
      "Kurtosis:                       4.120   Cond. No.                     1.91e+08\n",
      "==============================================================================\n",
      "\n",
      "Warnings:\n",
      "[1] Standard Errors assume that the covariance matrix of the errors is correctly specified.\n",
      "[2] The condition number is large, 1.91e+08. This might indicate that there are\n",
      "strong multicollinearity or other numerical problems.\n"
     ]
    }
   ],
   "source": [
    "traindata = X_train.join(y_train)\n",
    "lm_sm = smf.ols( 'target_return~ current_price + momentum + moving_average\\\n",
    "             + moving_volatility + trading_range + exp_market_change\\\n",
    "             + rates + Revenue + Cost_of_Sales + Gross_profit\\\n",
    "             + Operating_profit + Net_Profit + Issue_of_shares\\\n",
    "             + Share_repurchase + Non_current_assets + Current_assets\\\n",
    "             + Non_current_liabilities + Current_liabilities + net_cash_op_act',\n",
    "             data = traindata).fit()\n",
    "print(lm_sm.summary()) "
   ]
  },
  {
   "cell_type": "code",
   "execution_count": 69,
   "metadata": {},
   "outputs": [
    {
     "name": "stdout",
     "output_type": "stream",
     "text": [
      "                            OLS Regression Results                            \n",
      "==============================================================================\n",
      "Dep. Variable:          target_return   R-squared:                       0.052\n",
      "Model:                            OLS   Adj. R-squared:                  0.044\n",
      "Method:                 Least Squares   F-statistic:                     6.787\n",
      "Date:                Mon, 16 Apr 2018   Prob (F-statistic):            0.00135\n",
      "Time:                        15:42:42   Log-Likelihood:                 201.98\n",
      "No. Observations:                 253   AIC:                            -398.0\n",
      "Df Residuals:                     250   BIC:                            -387.4\n",
      "Df Model:                           2                                         \n",
      "Covariance Type:            nonrobust                                         \n",
      "=====================================================================================\n",
      "                        coef    std err          t      P>|t|      [0.025      0.975]\n",
      "-------------------------------------------------------------------------------------\n",
      "Intercept             0.2363      0.061      3.887      0.000       0.117       0.356\n",
      "exp_market_change    -0.3524      0.155     -2.281      0.023      -0.657      -0.048\n",
      "rates                -0.0351      0.010     -3.522      0.001      -0.055      -0.015\n",
      "==============================================================================\n",
      "Omnibus:                       10.205   Durbin-Watson:                   1.947\n",
      "Prob(Omnibus):                  0.006   Jarque-Bera (JB):               12.818\n",
      "Skew:                           0.329   Prob(JB):                      0.00165\n",
      "Kurtosis:                       3.885   Cond. No.                         138.\n",
      "==============================================================================\n",
      "\n",
      "Warnings:\n",
      "[1] Standard Errors assume that the covariance matrix of the errors is correctly specified.\n"
     ]
    }
   ],
   "source": [
    "traindata = X_train.join(y_train)\n",
    "lm_sm = smf.ols( 'target_return~ \\\n",
    "             + exp_market_change\\\n",
    "             + rates',\n",
    "             data = traindata).fit()\n",
    "print(lm_sm.summary()) "
   ]
  },
  {
   "cell_type": "markdown",
   "metadata": {},
   "source": [
    "---\n",
    "#### Backwards Elimination using statsmodel on current data\n",
    "using a Significance Level = 0.05"
   ]
  },
  {
   "cell_type": "code",
   "execution_count": 4,
   "metadata": {},
   "outputs": [
    {
     "data": {
      "text/html": [
       "<div>\n",
       "<style>\n",
       "    .dataframe thead tr:only-child th {\n",
       "        text-align: right;\n",
       "    }\n",
       "\n",
       "    .dataframe thead th {\n",
       "        text-align: left;\n",
       "    }\n",
       "\n",
       "    .dataframe tbody tr th {\n",
       "        vertical-align: top;\n",
       "    }\n",
       "</style>\n",
       "<table border=\"1\" class=\"dataframe\">\n",
       "  <thead>\n",
       "    <tr style=\"text-align: right;\">\n",
       "      <th></th>\n",
       "      <th>Date</th>\n",
       "      <th>company</th>\n",
       "      <th>current_price</th>\n",
       "      <th>momentum</th>\n",
       "      <th>moving_average</th>\n",
       "      <th>moving_volatility</th>\n",
       "      <th>trading_range</th>\n",
       "      <th>target_return</th>\n",
       "      <th>exp_market_change</th>\n",
       "      <th>rates</th>\n",
       "      <th>...</th>\n",
       "      <th>net_cash_op_act</th>\n",
       "      <th>Debt_M</th>\n",
       "      <th>Debt_perc_GDP</th>\n",
       "      <th>Debt_Per_Capita</th>\n",
       "      <th>CPI_perc</th>\n",
       "      <th>GDP_Mill_dollars</th>\n",
       "      <th>GDP_Growth_perc</th>\n",
       "      <th>Unemployment</th>\n",
       "      <th>Unemployment_perc_Change</th>\n",
       "      <th>Unemployment_alt</th>\n",
       "    </tr>\n",
       "  </thead>\n",
       "  <tbody>\n",
       "    <tr>\n",
       "      <th>0</th>\n",
       "      <td>2010/02/17</td>\n",
       "      <td>Anglogold Ashanti Ltd</td>\n",
       "      <td>29500.0</td>\n",
       "      <td>-0.103343</td>\n",
       "      <td>30598.216667</td>\n",
       "      <td>1854.530002</td>\n",
       "      <td>850.55</td>\n",
       "      <td>0.090136</td>\n",
       "      <td>-0.016852</td>\n",
       "      <td>7.08</td>\n",
       "      <td>...</td>\n",
       "      <td>959.6</td>\n",
       "      <td>130020</td>\n",
       "      <td>34.68</td>\n",
       "      <td>2557.0</td>\n",
       "      <td>5.468</td>\n",
       "      <td>375.304</td>\n",
       "      <td>3.0</td>\n",
       "      <td>24.9</td>\n",
       "      <td>4.96</td>\n",
       "      <td>24.7</td>\n",
       "    </tr>\n",
       "  </tbody>\n",
       "</table>\n",
       "<p>1 rows × 31 columns</p>\n",
       "</div>"
      ],
      "text/plain": [
       "         Date                 company  current_price  momentum  \\\n",
       "0  2010/02/17   Anglogold Ashanti Ltd        29500.0 -0.103343   \n",
       "\n",
       "   moving_average  moving_volatility  trading_range  target_return  \\\n",
       "0    30598.216667        1854.530002         850.55       0.090136   \n",
       "\n",
       "   exp_market_change  rates        ...         net_cash_op_act  Debt_M  \\\n",
       "0          -0.016852   7.08        ...                   959.6  130020   \n",
       "\n",
       "   Debt_perc_GDP  Debt_Per_Capita  CPI_perc  GDP_Mill_dollars  \\\n",
       "0          34.68           2557.0     5.468           375.304   \n",
       "\n",
       "   GDP_Growth_perc  Unemployment  Unemployment_perc_Change  Unemployment_alt  \n",
       "0              3.0          24.9                      4.96              24.7  \n",
       "\n",
       "[1 rows x 31 columns]"
      ]
     },
     "execution_count": 4,
     "metadata": {},
     "output_type": "execute_result"
    }
   ],
   "source": [
    "df_05 = pd.read_csv('data_source/Data_prepped.csv', parse_dates=True,infer_datetime_format= True)\\\n",
    "         .drop('Unnamed: 0', axis=1)\n",
    "df_05.head(1)"
   ]
  },
  {
   "cell_type": "code",
   "execution_count": 102,
   "metadata": {},
   "outputs": [],
   "source": [
    "# Lables\n",
    "y = df_05['target_return']\n",
    "\n",
    "# Features\n",
    "X = df_05.drop(['Date', 'company', 'target_return','Revenue','Cost_of_Sales','Gross_profit','Operating_profit','Net_Profit','Issue_of_shares','Share_repurchase','Non_current_assets','Current_assets','Non_current_liabilities','Current_liabilities','net_cash_op_act',\\\n",
    "                'current_price','momentum','moving_average','moving_volatility','trading_range','Unemployment', 'Unemployment_perc_Change','Debt_perc_GDP'], axis=1)"
   ]
  },
  {
   "cell_type": "code",
   "execution_count": 103,
   "metadata": {},
   "outputs": [
    {
     "data": {
      "text/plain": [
       "Index(['exp_market_change', 'rates', 'Debt_M', 'Debt_Per_Capita', 'CPI_perc',\n",
       "       'GDP_Mill_dollars', 'GDP_Growth_perc', 'Unemployment_alt'],\n",
       "      dtype='object')"
      ]
     },
     "execution_count": 103,
     "metadata": {},
     "output_type": "execute_result"
    }
   ],
   "source": [
    "X.columns"
   ]
  },
  {
   "cell_type": "code",
   "execution_count": 104,
   "metadata": {},
   "outputs": [],
   "source": [
    "from sklearn.model_selection import train_test_split"
   ]
  },
  {
   "cell_type": "code",
   "execution_count": 105,
   "metadata": {},
   "outputs": [],
   "source": [
    "X_train, X_test, y_train, y_test = train_test_split(X, y, test_size=0.3, random_state=50)"
   ]
  },
  {
   "cell_type": "code",
   "execution_count": 106,
   "metadata": {},
   "outputs": [],
   "source": [
    "from pandas.core import datetools\n",
    "import statsmodels.api as sm\n",
    "import statsmodels.formula.api as smf"
   ]
  },
  {
   "cell_type": "code",
   "execution_count": 95,
   "metadata": {},
   "outputs": [
    {
     "name": "stdout",
     "output_type": "stream",
     "text": [
      "                            OLS Regression Results                            \n",
      "==============================================================================\n",
      "Dep. Variable:          target_return   R-squared:                       0.052\n",
      "Model:                            OLS   Adj. R-squared:                  0.044\n",
      "Method:                 Least Squares   F-statistic:                     6.787\n",
      "Date:                Mon, 16 Apr 2018   Prob (F-statistic):            0.00135\n",
      "Time:                        17:10:37   Log-Likelihood:                 201.98\n",
      "No. Observations:                 253   AIC:                            -398.0\n",
      "Df Residuals:                     250   BIC:                            -387.4\n",
      "Df Model:                           2                                         \n",
      "Covariance Type:            nonrobust                                         \n",
      "=====================================================================================\n",
      "                        coef    std err          t      P>|t|      [0.025      0.975]\n",
      "-------------------------------------------------------------------------------------\n",
      "Intercept             0.2363      0.061      3.887      0.000       0.117       0.356\n",
      "exp_market_change    -0.3524      0.155     -2.281      0.023      -0.657      -0.048\n",
      "rates                -0.0351      0.010     -3.522      0.001      -0.055      -0.015\n",
      "==============================================================================\n",
      "Omnibus:                       10.205   Durbin-Watson:                   1.947\n",
      "Prob(Omnibus):                  0.006   Jarque-Bera (JB):               12.818\n",
      "Skew:                           0.329   Prob(JB):                      0.00165\n",
      "Kurtosis:                       3.885   Cond. No.                         138.\n",
      "==============================================================================\n",
      "\n",
      "Warnings:\n",
      "[1] Standard Errors assume that the covariance matrix of the errors is correctly specified.\n"
     ]
    }
   ],
   "source": [
    "traindata = X_train.join(y_train)\n",
    "lm_sm = smf.ols( 'target_return~ \\\n",
    "             + exp_market_change\\\n",
    "             + rates',\n",
    "             data = traindata).fit()\n",
    "print(lm_sm.summary()) "
   ]
  },
  {
   "cell_type": "code",
   "execution_count": 108,
   "metadata": {},
   "outputs": [
    {
     "name": "stdout",
     "output_type": "stream",
     "text": [
      "                            OLS Regression Results                            \n",
      "==============================================================================\n",
      "Dep. Variable:          target_return   R-squared:                       0.186\n",
      "Model:                            OLS   Adj. R-squared:                  0.159\n",
      "Method:                 Least Squares   F-statistic:                     6.951\n",
      "Date:                Mon, 16 Apr 2018   Prob (F-statistic):           3.00e-08\n",
      "Time:                        17:17:28   Log-Likelihood:                 221.26\n",
      "No. Observations:                 253   AIC:                            -424.5\n",
      "Df Residuals:                     244   BIC:                            -392.7\n",
      "Df Model:                           8                                         \n",
      "Covariance Type:            nonrobust                                         \n",
      "=====================================================================================\n",
      "                        coef    std err          t      P>|t|      [0.025      0.975]\n",
      "-------------------------------------------------------------------------------------\n",
      "Intercept           -10.1029      2.555     -3.955      0.000     -15.135      -5.071\n",
      "exp_market_change    -0.6845      0.162     -4.224      0.000      -1.004      -0.365\n",
      "rates                -0.1698      0.031     -5.526      0.000      -0.230      -0.109\n",
      "Debt_M                0.0003   6.43e-05      4.432      0.000       0.000       0.000\n",
      "Debt_Per_Capita      -0.0181      0.004     -4.470      0.000      -0.026      -0.010\n",
      "CPI_perc              0.0978      0.018      5.420      0.000       0.062       0.133\n",
      "GDP_Mill_dollars      0.0277      0.006      4.392      0.000       0.015       0.040\n",
      "GDP_Growth_perc       0.3722      0.088      4.242      0.000       0.199       0.545\n",
      "Unemployment_alt      0.3450      0.086      4.013      0.000       0.176       0.514\n",
      "==============================================================================\n",
      "Omnibus:                       11.573   Durbin-Watson:                   1.970\n",
      "Prob(Omnibus):                  0.003   Jarque-Bera (JB):               15.330\n",
      "Skew:                           0.348   Prob(JB):                     0.000469\n",
      "Kurtosis:                       3.985   Cond. No.                     6.16e+07\n",
      "==============================================================================\n",
      "\n",
      "Warnings:\n",
      "[1] Standard Errors assume that the covariance matrix of the errors is correctly specified.\n",
      "[2] The condition number is large, 6.16e+07. This might indicate that there are\n",
      "strong multicollinearity or other numerical problems.\n"
     ]
    }
   ],
   "source": [
    "traindata = X_train.join(y_train)\n",
    "lm_sm = smf.ols( 'target_return~ exp_market_change + rates + Debt_M + Debt_Per_Capita + CPI_perc + GDP_Mill_dollars + GDP_Growth_perc + Unemployment_alt',\n",
    "             data = traindata).fit()\n",
    "print(lm_sm.summary()) "
   ]
  },
  {
   "cell_type": "markdown",
   "metadata": {},
   "source": [
    "### Using Backwards Elimination\n",
    "\n",
    "Using a Significance Level of 0.05"
   ]
  },
  {
   "cell_type": "code",
   "execution_count": 5,
   "metadata": {},
   "outputs": [],
   "source": [
    "data_signif = df_05.drop(['Date', 'company', 'Revenue','Cost_of_Sales','Gross_profit','Operating_profit','Net_Profit','Issue_of_shares','Share_repurchase','Non_current_assets','Current_assets','Non_current_liabilities','Current_liabilities','net_cash_op_act',\\\n",
    "                'current_price','momentum','moving_average','moving_volatility','trading_range','Unemployment', 'Unemployment_perc_Change','Debt_perc_GDP'], axis=1)"
   ]
  },
  {
   "cell_type": "code",
   "execution_count": 6,
   "metadata": {},
   "outputs": [
    {
     "data": {
      "text/html": [
       "<div>\n",
       "<style>\n",
       "    .dataframe thead tr:only-child th {\n",
       "        text-align: right;\n",
       "    }\n",
       "\n",
       "    .dataframe thead th {\n",
       "        text-align: left;\n",
       "    }\n",
       "\n",
       "    .dataframe tbody tr th {\n",
       "        vertical-align: top;\n",
       "    }\n",
       "</style>\n",
       "<table border=\"1\" class=\"dataframe\">\n",
       "  <thead>\n",
       "    <tr style=\"text-align: right;\">\n",
       "      <th></th>\n",
       "      <th>target_return</th>\n",
       "      <th>exp_market_change</th>\n",
       "      <th>rates</th>\n",
       "      <th>Debt_M</th>\n",
       "      <th>Debt_Per_Capita</th>\n",
       "      <th>CPI_perc</th>\n",
       "      <th>GDP_Mill_dollars</th>\n",
       "      <th>GDP_Growth_perc</th>\n",
       "      <th>Unemployment_alt</th>\n",
       "    </tr>\n",
       "  </thead>\n",
       "  <tbody>\n",
       "    <tr>\n",
       "      <th>0</th>\n",
       "      <td>0.090136</td>\n",
       "      <td>-0.016852</td>\n",
       "      <td>7.08</td>\n",
       "      <td>130020</td>\n",
       "      <td>2557.0</td>\n",
       "      <td>5.468</td>\n",
       "      <td>375.304</td>\n",
       "      <td>3.0</td>\n",
       "      <td>24.7</td>\n",
       "    </tr>\n",
       "    <tr>\n",
       "      <th>1</th>\n",
       "      <td>-0.053612</td>\n",
       "      <td>0.044321</td>\n",
       "      <td>6.58</td>\n",
       "      <td>130020</td>\n",
       "      <td>2557.0</td>\n",
       "      <td>5.468</td>\n",
       "      <td>375.304</td>\n",
       "      <td>3.0</td>\n",
       "      <td>24.7</td>\n",
       "    </tr>\n",
       "    <tr>\n",
       "      <th>2</th>\n",
       "      <td>0.050286</td>\n",
       "      <td>0.008204</td>\n",
       "      <td>6.42</td>\n",
       "      <td>130020</td>\n",
       "      <td>2557.0</td>\n",
       "      <td>5.468</td>\n",
       "      <td>375.304</td>\n",
       "      <td>3.0</td>\n",
       "      <td>24.7</td>\n",
       "    </tr>\n",
       "    <tr>\n",
       "      <th>3</th>\n",
       "      <td>-0.060365</td>\n",
       "      <td>0.136024</td>\n",
       "      <td>5.65</td>\n",
       "      <td>130020</td>\n",
       "      <td>2557.0</td>\n",
       "      <td>5.468</td>\n",
       "      <td>375.304</td>\n",
       "      <td>3.0</td>\n",
       "      <td>24.7</td>\n",
       "    </tr>\n",
       "    <tr>\n",
       "      <th>4</th>\n",
       "      <td>-0.061601</td>\n",
       "      <td>0.076571</td>\n",
       "      <td>5.53</td>\n",
       "      <td>159429</td>\n",
       "      <td>3091.0</td>\n",
       "      <td>3.571</td>\n",
       "      <td>416.879</td>\n",
       "      <td>3.3</td>\n",
       "      <td>24.7</td>\n",
       "    </tr>\n",
       "  </tbody>\n",
       "</table>\n",
       "</div>"
      ],
      "text/plain": [
       "   target_return  exp_market_change  rates  Debt_M  Debt_Per_Capita  CPI_perc  \\\n",
       "0       0.090136          -0.016852   7.08  130020           2557.0     5.468   \n",
       "1      -0.053612           0.044321   6.58  130020           2557.0     5.468   \n",
       "2       0.050286           0.008204   6.42  130020           2557.0     5.468   \n",
       "3      -0.060365           0.136024   5.65  130020           2557.0     5.468   \n",
       "4      -0.061601           0.076571   5.53  159429           3091.0     3.571   \n",
       "\n",
       "   GDP_Mill_dollars  GDP_Growth_perc  Unemployment_alt  \n",
       "0           375.304              3.0              24.7  \n",
       "1           375.304              3.0              24.7  \n",
       "2           375.304              3.0              24.7  \n",
       "3           375.304              3.0              24.7  \n",
       "4           416.879              3.3              24.7  "
      ]
     },
     "execution_count": 6,
     "metadata": {},
     "output_type": "execute_result"
    }
   ],
   "source": [
    "data_signif.head()"
   ]
  },
  {
   "cell_type": "code",
   "execution_count": 7,
   "metadata": {},
   "outputs": [],
   "source": [
    "data_signif.to_csv('data_source/data_signif.csv')"
   ]
  },
  {
   "cell_type": "code",
   "execution_count": null,
   "metadata": {},
   "outputs": [],
   "source": []
  }
 ],
 "metadata": {
  "kernelspec": {
   "display_name": "Python 3",
   "language": "python",
   "name": "python3"
  },
  "language_info": {
   "codemirror_mode": {
    "name": "ipython",
    "version": 3
   },
   "file_extension": ".py",
   "mimetype": "text/x-python",
   "name": "python",
   "nbconvert_exporter": "python",
   "pygments_lexer": "ipython3",
   "version": "3.6.4"
  }
 },
 "nbformat": 4,
 "nbformat_minor": 2
}
