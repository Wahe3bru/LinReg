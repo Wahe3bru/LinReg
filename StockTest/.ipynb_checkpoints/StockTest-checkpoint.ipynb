{
 "cells": [
  {
   "cell_type": "markdown",
   "metadata": {
    "colab_type": "text",
    "id": "ln2z4MZOwkTv"
   },
   "source": [
    "# Predict Stock Returns in Scikit Learn - Multifactor Linear Regression "
   ]
  },
  {
   "cell_type": "code",
   "execution_count": 49,
   "metadata": {
    "colab": {
     "autoexec": {
      "startup": false,
      "wait_interval": 0
     }
    },
    "colab_type": "code",
    "id": "l3F-J5FjwkTy"
   },
   "outputs": [],
   "source": [
    "import numpy as np\n",
    "import pandas as pd\n",
    "import matplotlib.pyplot as plt\n",
    "import seaborn as sns\n",
    "% matplotlib inline"
   ]
  },
  {
   "cell_type": "code",
   "execution_count": 5,
   "metadata": {},
   "outputs": [
    {
     "data": {
      "text/plain": [
       "Index(['company_index', 'Date', 'Revenue', 'Cost_of_Sales', 'Gross_profit',\n",
       "       'Operating_profit', 'Net_Profit', 'Issue_of_shares', 'Share_repurchase',\n",
       "       'Non_current_assets', 'Current_assets', 'Non_current_liabilities',\n",
       "       'Current_liabilities', 'net_cash_op_act'],\n",
       "      dtype='object')"
      ]
     },
     "execution_count": 5,
     "metadata": {},
     "output_type": "execute_result"
    }
   ],
   "source": [
    "fund = pd.read_csv('fundamentals.csv')\n",
    "fund.columns"
   ]
  },
  {
   "cell_type": "code",
   "execution_count": 7,
   "metadata": {},
   "outputs": [
    {
     "data": {
      "text/plain": [
       "Index(['Date', 'Close', 'Open', 'High', 'Low', 'Change'], dtype='object')"
      ]
     },
     "execution_count": 7,
     "metadata": {},
     "output_type": "execute_result"
    }
   ],
   "source": [
    "futures = pd.read_csv('futures_prices.csv')\n",
    "futures.columns"
   ]
  },
  {
   "cell_type": "code",
   "execution_count": 9,
   "metadata": {},
   "outputs": [
    {
     "data": {
      "text/plain": [
       "Index(['Date', 'rates'], dtype='object')"
      ]
     },
     "execution_count": 9,
     "metadata": {},
     "output_type": "execute_result"
    }
   ],
   "source": [
    "interest = pd.read_csv('interest_rates.csv')\n",
    "interest.columns"
   ]
  },
  {
   "cell_type": "code",
   "execution_count": 50,
   "metadata": {
    "colab": {
     "autoexec": {
      "startup": false,
      "wait_interval": 0
     }
    },
    "colab_type": "code",
    "id": "bh4SGSemwkT3"
   },
   "outputs": [],
   "source": [
    "df = pd.read_csv('data.csv').drop('Unnamed: 0', axis=1)"
   ]
  },
  {
   "cell_type": "code",
   "execution_count": 51,
   "metadata": {
    "colab": {
     "autoexec": {
      "startup": false,
      "wait_interval": 0
     },
     "output_extras": [
      {},
      {}
     ]
    },
    "colab_type": "code",
    "id": "-fp8iYWSwkT6",
    "outputId": "9d4e467b-b515-457b-f4ee-2bbdbf4dc031"
   },
   "outputs": [
    {
     "name": "stdout",
     "output_type": "stream",
     "text": [
      "<class 'pandas.core.frame.DataFrame'>\n",
      "RangeIndex: 362 entries, 0 to 361\n",
      "Data columns (total 22 columns):\n",
      "Date                       362 non-null object\n",
      "company                    362 non-null object\n",
      "current_price              362 non-null float64\n",
      "momentum                   362 non-null float64\n",
      "moving_average             362 non-null float64\n",
      "moving_volatility          362 non-null float64\n",
      "trading_range              362 non-null float64\n",
      "target_return              362 non-null float64\n",
      "exp_market_change          362 non-null float64\n",
      "rates                      362 non-null float64\n",
      "Revenue                    362 non-null float64\n",
      "Cost_of_Sales              362 non-null float64\n",
      "Gross_profit               362 non-null float64\n",
      "Operating_profit           362 non-null float64\n",
      "Net_Profit                 362 non-null float64\n",
      "Issue_of_shares            362 non-null float64\n",
      "Share_repurchase           362 non-null float64\n",
      "Non_current_assets         362 non-null float64\n",
      "Current_assets             362 non-null float64\n",
      "Non_current_liabilities    362 non-null float64\n",
      "Current_liabilities        362 non-null float64\n",
      "net_cash_op_act            362 non-null float64\n",
      "dtypes: float64(20), object(2)\n",
      "memory usage: 62.3+ KB\n",
      "None\n"
     ]
    },
    {
     "data": {
      "text/html": [
       "<div>\n",
       "<style>\n",
       "    .dataframe thead tr:only-child th {\n",
       "        text-align: right;\n",
       "    }\n",
       "\n",
       "    .dataframe thead th {\n",
       "        text-align: left;\n",
       "    }\n",
       "\n",
       "    .dataframe tbody tr th {\n",
       "        vertical-align: top;\n",
       "    }\n",
       "</style>\n",
       "<table border=\"1\" class=\"dataframe\">\n",
       "  <thead>\n",
       "    <tr style=\"text-align: right;\">\n",
       "      <th></th>\n",
       "      <th>Date</th>\n",
       "      <th>company</th>\n",
       "      <th>current_price</th>\n",
       "      <th>momentum</th>\n",
       "      <th>moving_average</th>\n",
       "      <th>moving_volatility</th>\n",
       "      <th>trading_range</th>\n",
       "      <th>target_return</th>\n",
       "      <th>exp_market_change</th>\n",
       "      <th>rates</th>\n",
       "      <th>...</th>\n",
       "      <th>Gross_profit</th>\n",
       "      <th>Operating_profit</th>\n",
       "      <th>Net_Profit</th>\n",
       "      <th>Issue_of_shares</th>\n",
       "      <th>Share_repurchase</th>\n",
       "      <th>Non_current_assets</th>\n",
       "      <th>Current_assets</th>\n",
       "      <th>Non_current_liabilities</th>\n",
       "      <th>Current_liabilities</th>\n",
       "      <th>net_cash_op_act</th>\n",
       "    </tr>\n",
       "  </thead>\n",
       "  <tbody>\n",
       "    <tr>\n",
       "      <th>0</th>\n",
       "      <td>2010/02/17</td>\n",
       "      <td>Anglogold Ashanti Ltd</td>\n",
       "      <td>29500.0</td>\n",
       "      <td>-0.103343</td>\n",
       "      <td>30598.216667</td>\n",
       "      <td>1854.530002</td>\n",
       "      <td>850.55</td>\n",
       "      <td>0.090136</td>\n",
       "      <td>-0.016852</td>\n",
       "      <td>7.08</td>\n",
       "      <td>...</td>\n",
       "      <td>329.5</td>\n",
       "      <td>431.7</td>\n",
       "      <td>317.9</td>\n",
       "      <td>3.9</td>\n",
       "      <td>3.9</td>\n",
       "      <td>732.8</td>\n",
       "      <td>237.2</td>\n",
       "      <td>220.7</td>\n",
       "      <td>454.3</td>\n",
       "      <td>959.6</td>\n",
       "    </tr>\n",
       "  </tbody>\n",
       "</table>\n",
       "<p>1 rows × 22 columns</p>\n",
       "</div>"
      ],
      "text/plain": [
       "         Date                 company  current_price  momentum  \\\n",
       "0  2010/02/17   Anglogold Ashanti Ltd        29500.0 -0.103343   \n",
       "\n",
       "   moving_average  moving_volatility  trading_range  target_return  \\\n",
       "0    30598.216667        1854.530002         850.55       0.090136   \n",
       "\n",
       "   exp_market_change  rates       ...         Gross_profit  Operating_profit  \\\n",
       "0          -0.016852   7.08       ...                329.5             431.7   \n",
       "\n",
       "   Net_Profit  Issue_of_shares  Share_repurchase  Non_current_assets  \\\n",
       "0       317.9              3.9               3.9               732.8   \n",
       "\n",
       "   Current_assets  Non_current_liabilities  Current_liabilities  \\\n",
       "0           237.2                    220.7                454.3   \n",
       "\n",
       "   net_cash_op_act  \n",
       "0            959.6  \n",
       "\n",
       "[1 rows x 22 columns]"
      ]
     },
     "execution_count": 51,
     "metadata": {},
     "output_type": "execute_result"
    }
   ],
   "source": [
    "print(df.info())\n",
    "df.head(1)"
   ]
  },
  {
   "cell_type": "markdown",
   "metadata": {
    "colab_type": "text",
    "id": "64L6FTqYwkUI"
   },
   "source": [
    "## 4 dfs"
   ]
  },
  {
   "cell_type": "code",
   "execution_count": 52,
   "metadata": {},
   "outputs": [],
   "source": [
    "# f_\n",
    "fundamentals_df = df[['Revenue', 'Cost_of_Sales', 'Gross_profit',\n",
    "       'Operating_profit', 'Net_Profit', 'Issue_of_shares', 'Share_repurchase',\n",
    "       'Non_current_assets', 'Current_assets', 'Non_current_liabilities',\n",
    "       'Current_liabilities', 'net_cash_op_act','target_return']]"
   ]
  },
  {
   "cell_type": "code",
   "execution_count": 53,
   "metadata": {},
   "outputs": [],
   "source": [
    "# pf_\n",
    "price_feat_df = df[['current_price','moving_average', 'moving_volatility', 'trading_range',\n",
    "                    'momentum','target_return']]"
   ]
  },
  {
   "cell_type": "code",
   "execution_count": 54,
   "metadata": {},
   "outputs": [],
   "source": [
    "# m_\n",
    "market_exp_df = df[['exp_market_change','target_return']]"
   ]
  },
  {
   "cell_type": "code",
   "execution_count": 55,
   "metadata": {},
   "outputs": [],
   "source": [
    "# ex_\n",
    "external_df = df[['rates','target_return']]"
   ]
  },
  {
   "cell_type": "markdown",
   "metadata": {},
   "source": [
    "create X and y for each df"
   ]
  },
  {
   "cell_type": "code",
   "execution_count": 76,
   "metadata": {},
   "outputs": [],
   "source": [
    "f_y = fundamentals_df['target_return']\n",
    "f_X = fundamentals_df.drop(['target_return'], axis=1)"
   ]
  },
  {
   "cell_type": "code",
   "execution_count": 77,
   "metadata": {},
   "outputs": [],
   "source": [
    "pf_y = price_feat_df['target_return']\n",
    "pf_X = price_feat_df.drop(['target_return'], axis=1)"
   ]
  },
  {
   "cell_type": "code",
   "execution_count": 78,
   "metadata": {},
   "outputs": [],
   "source": [
    "m_y = market_exp_df['target_return']\n",
    "m_X = market_exp_df.drop(['target_return'], axis=1)"
   ]
  },
  {
   "cell_type": "code",
   "execution_count": 79,
   "metadata": {
    "colab": {
     "autoexec": {
      "startup": false,
      "wait_interval": 0
     }
    },
    "colab_type": "code",
    "id": "qzOPcBEuwkUI"
   },
   "outputs": [],
   "source": [
    "# Lables\n",
    "ex_y = external_df['target_return']\n",
    "# Features\n",
    "ex_X = external_df.drop(['target_return'], axis=1)"
   ]
  },
  {
   "cell_type": "markdown",
   "metadata": {
    "colab_type": "text",
    "id": "eTAvhXnnwkUR"
   },
   "source": [
    "Now let's import the train_test_split method from sklearn.model_selection:"
   ]
  },
  {
   "cell_type": "code",
   "execution_count": 60,
   "metadata": {
    "colab": {
     "autoexec": {
      "startup": false,
      "wait_interval": 0
     }
    },
    "colab_type": "code",
    "collapsed": true,
    "id": "Wo6esOGFwkUR"
   },
   "outputs": [],
   "source": [
    "from sklearn.model_selection import train_test_split"
   ]
  },
  {
   "cell_type": "code",
   "execution_count": 80,
   "metadata": {
    "colab": {
     "autoexec": {
      "startup": false,
      "wait_interval": 0
     }
    },
    "colab_type": "code",
    "collapsed": true,
    "id": "urcJrv_FwkUT"
   },
   "outputs": [],
   "source": [
    "f_X_train, f_X_test, f_y_train, f_y_test = train_test_split(f_X, f_y, test_size=0.3, random_state=23)"
   ]
  },
  {
   "cell_type": "code",
   "execution_count": 81,
   "metadata": {
    "colab": {
     "autoexec": {
      "startup": false,
      "wait_interval": 0
     }
    },
    "colab_type": "code",
    "collapsed": true,
    "id": "urcJrv_FwkUT"
   },
   "outputs": [],
   "source": [
    "pf_X_train, pf_X_test, pf_y_train, pf_y_test = train_test_split(pf_X, pf_y, test_size=0.3, random_state=23)"
   ]
  },
  {
   "cell_type": "code",
   "execution_count": 82,
   "metadata": {
    "colab": {
     "autoexec": {
      "startup": false,
      "wait_interval": 0
     }
    },
    "colab_type": "code",
    "collapsed": true,
    "id": "urcJrv_FwkUT"
   },
   "outputs": [],
   "source": [
    "m_X_train, m_X_test, m_y_train, m_y_test = train_test_split(m_X, m_y, test_size=0.3, random_state=23)"
   ]
  },
  {
   "cell_type": "code",
   "execution_count": 83,
   "metadata": {
    "colab": {
     "autoexec": {
      "startup": false,
      "wait_interval": 0
     }
    },
    "colab_type": "code",
    "collapsed": true,
    "id": "urcJrv_FwkUT"
   },
   "outputs": [],
   "source": [
    "ex_X_train, ex_X_test, ex_y_train, ex_y_test = train_test_split(ex_X, ex_y, test_size=0.3, random_state=23)"
   ]
  },
  {
   "cell_type": "markdown",
   "metadata": {},
   "source": [
    " "
   ]
  },
  {
   "cell_type": "code",
   "execution_count": 15,
   "metadata": {
    "colab": {
     "autoexec": {
      "startup": false,
      "wait_interval": 0
     }
    },
    "colab_type": "code",
    "collapsed": true,
    "id": "K83q_a8wwkUX"
   },
   "outputs": [],
   "source": [
    "from sklearn.linear_model import LinearRegression"
   ]
  },
  {
   "cell_type": "code",
   "execution_count": 16,
   "metadata": {
    "colab": {
     "autoexec": {
      "startup": false,
      "wait_interval": 0
     }
    },
    "colab_type": "code",
    "collapsed": true,
    "id": "QVLGGUgkwkUb"
   },
   "outputs": [],
   "source": [
    "lm = LinearRegression()"
   ]
  },
  {
   "cell_type": "code",
   "execution_count": 17,
   "metadata": {
    "colab": {
     "autoexec": {
      "startup": false,
      "wait_interval": 0
     },
     "output_extras": [
      {}
     ]
    },
    "colab_type": "code",
    "id": "K0B0PVZGwkUe",
    "outputId": "e075c91b-34a4-4d33-9317-6eba355b6add"
   },
   "outputs": [
    {
     "data": {
      "text/plain": [
       "LinearRegression(copy_X=True, fit_intercept=True, n_jobs=1, normalize=False)"
      ]
     },
     "execution_count": 17,
     "metadata": {},
     "output_type": "execute_result"
    }
   ],
   "source": [
    "lm.fit(X_train,y_train)"
   ]
  },
  {
   "cell_type": "code",
   "execution_count": 18,
   "metadata": {
    "colab": {
     "autoexec": {
      "startup": false,
      "wait_interval": 0
     },
     "output_extras": [
      {}
     ]
    },
    "colab_type": "code",
    "id": "McuhHSrEwkUj",
    "outputId": "387e9099-5a93-4eb3-9da5-d508ff80f734"
   },
   "outputs": [
    {
     "data": {
      "text/plain": [
       "0.030743091269107608"
      ]
     },
     "execution_count": 18,
     "metadata": {},
     "output_type": "execute_result"
    }
   ],
   "source": [
    "lm.intercept_"
   ]
  },
  {
   "cell_type": "code",
   "execution_count": 19,
   "metadata": {
    "colab": {
     "autoexec": {
      "startup": false,
      "wait_interval": 0
     },
     "output_extras": [
      {}
     ]
    },
    "colab_type": "code",
    "id": "ATQg5AufwkUo",
    "outputId": "f7ae082e-8202-44c2-e46f-fb0d0be262ff"
   },
   "outputs": [
    {
     "data": {
      "text/html": [
       "<div>\n",
       "<style>\n",
       "    .dataframe thead tr:only-child th {\n",
       "        text-align: right;\n",
       "    }\n",
       "\n",
       "    .dataframe thead th {\n",
       "        text-align: left;\n",
       "    }\n",
       "\n",
       "    .dataframe tbody tr th {\n",
       "        vertical-align: top;\n",
       "    }\n",
       "</style>\n",
       "<table border=\"1\" class=\"dataframe\">\n",
       "  <thead>\n",
       "    <tr style=\"text-align: right;\">\n",
       "      <th></th>\n",
       "      <th>Coefficient</th>\n",
       "    </tr>\n",
       "  </thead>\n",
       "  <tbody>\n",
       "    <tr>\n",
       "      <th>Revenue</th>\n",
       "      <td>1.378913e-04</td>\n",
       "    </tr>\n",
       "    <tr>\n",
       "      <th>Cost_of_Sales</th>\n",
       "      <td>-1.380449e-04</td>\n",
       "    </tr>\n",
       "    <tr>\n",
       "      <th>Gross_profit</th>\n",
       "      <td>-1.383950e-04</td>\n",
       "    </tr>\n",
       "    <tr>\n",
       "      <th>Operating_profit</th>\n",
       "      <td>2.286646e-07</td>\n",
       "    </tr>\n",
       "    <tr>\n",
       "      <th>Net_Profit</th>\n",
       "      <td>-4.027168e-08</td>\n",
       "    </tr>\n",
       "    <tr>\n",
       "      <th>Issue_of_shares</th>\n",
       "      <td>-5.811713e-08</td>\n",
       "    </tr>\n",
       "    <tr>\n",
       "      <th>Share_repurchase</th>\n",
       "      <td>-2.549323e-06</td>\n",
       "    </tr>\n",
       "    <tr>\n",
       "      <th>Non_current_assets</th>\n",
       "      <td>-3.583539e-08</td>\n",
       "    </tr>\n",
       "    <tr>\n",
       "      <th>Current_assets</th>\n",
       "      <td>9.759752e-09</td>\n",
       "    </tr>\n",
       "    <tr>\n",
       "      <th>Non_current_liabilities</th>\n",
       "      <td>4.425377e-08</td>\n",
       "    </tr>\n",
       "    <tr>\n",
       "      <th>Current_liabilities</th>\n",
       "      <td>2.787339e-08</td>\n",
       "    </tr>\n",
       "    <tr>\n",
       "      <th>net_cash_op_act</th>\n",
       "      <td>4.386651e-07</td>\n",
       "    </tr>\n",
       "  </tbody>\n",
       "</table>\n",
       "</div>"
      ],
      "text/plain": [
       "                          Coefficient\n",
       "Revenue                  1.378913e-04\n",
       "Cost_of_Sales           -1.380449e-04\n",
       "Gross_profit            -1.383950e-04\n",
       "Operating_profit         2.286646e-07\n",
       "Net_Profit              -4.027168e-08\n",
       "Issue_of_shares         -5.811713e-08\n",
       "Share_repurchase        -2.549323e-06\n",
       "Non_current_assets      -3.583539e-08\n",
       "Current_assets           9.759752e-09\n",
       "Non_current_liabilities  4.425377e-08\n",
       "Current_liabilities      2.787339e-08\n",
       "net_cash_op_act          4.386651e-07"
      ]
     },
     "execution_count": 19,
     "metadata": {},
     "output_type": "execute_result"
    }
   ],
   "source": [
    "coeff_df = pd.DataFrame(lm.coef_,X.columns,columns=['Coefficient'])\n",
    "coeff_df"
   ]
  },
  {
   "cell_type": "code",
   "execution_count": 20,
   "metadata": {
    "colab": {
     "autoexec": {
      "startup": false,
      "wait_interval": 0
     }
    },
    "colab_type": "code",
    "collapsed": true,
    "id": "dvPK7HRTwkUs"
   },
   "outputs": [],
   "source": [
    "from sklearn import metrics"
   ]
  },
  {
   "cell_type": "markdown",
   "metadata": {
    "colab_type": "text",
    "id": "iXmchHuzwkUu"
   },
   "source": [
    "MSE"
   ]
  },
  {
   "cell_type": "code",
   "execution_count": 21,
   "metadata": {
    "colab": {
     "autoexec": {
      "startup": false,
      "wait_interval": 0
     },
     "output_extras": [
      {}
     ]
    },
    "colab_type": "code",
    "id": "9PLZ-iOpwkUu",
    "outputId": "297228da-bb0c-4459-a684-9f487fb6bfa8"
   },
   "outputs": [
    {
     "name": "stdout",
     "output_type": "stream",
     "text": [
      "MSE (train)\n",
      "Linear: 0.0154314938524\n"
     ]
    }
   ],
   "source": [
    "# Get predictions for training data\n",
    "fit_lm = lm.predict(X_train)\n",
    "\n",
    "# Print MSE for models\n",
    "print('MSE (train)')\n",
    "print('Linear:', metrics.mean_squared_error(y_train, fit_lm))"
   ]
  },
  {
   "cell_type": "markdown",
   "metadata": {
    "colab_type": "text",
    "id": "xmbUZ9r5wkUx"
   },
   "source": [
    "R$^2$"
   ]
  },
  {
   "cell_type": "code",
   "execution_count": 22,
   "metadata": {
    "colab": {
     "autoexec": {
      "startup": false,
      "wait_interval": 0
     },
     "output_extras": [
      {}
     ]
    },
    "colab_type": "code",
    "id": "opDibx1cwkUy",
    "outputId": "da6351d3-b655-458f-e9d1-46ee42b1644f"
   },
   "outputs": [
    {
     "name": "stdout",
     "output_type": "stream",
     "text": [
      "R SQUARED SCORE\n",
      "Linear: 0.0280715616586\n"
     ]
    }
   ],
   "source": [
    "print('R SQUARED SCORE')\n",
    "print('Linear:', lm.score(X_train, y_train))"
   ]
  },
  {
   "cell_type": "markdown",
   "metadata": {
    "colab_type": "text",
    "id": "coN3l2rPwkUz"
   },
   "source": [
    "\n",
    "\n",
    "\n",
    "## Using statsmodels rather than sklearn"
   ]
  },
  {
   "cell_type": "code",
   "execution_count": 65,
   "metadata": {
    "colab": {
     "autoexec": {
      "startup": false,
      "wait_interval": 0
     }
    },
    "colab_type": "code",
    "collapsed": true,
    "id": "2AtQFNfRwkU0"
   },
   "outputs": [],
   "source": [
    "from pandas.core import datetools\n",
    "import statsmodels.api as sm\n",
    "import statsmodels.formula.api as smf"
   ]
  },
  {
   "cell_type": "code",
   "execution_count": 84,
   "metadata": {},
   "outputs": [
    {
     "name": "stdout",
     "output_type": "stream",
     "text": [
      "                            OLS Regression Results                            \n",
      "==============================================================================\n",
      "Dep. Variable:          target_return   R-squared:                       0.028\n",
      "Model:                            OLS   Adj. R-squared:                 -0.021\n",
      "Method:                 Least Squares   F-statistic:                    0.5776\n",
      "Date:                Tue, 17 Apr 2018   Prob (F-statistic):              0.859\n",
      "Time:                        09:54:48   Log-Likelihood:                 168.68\n",
      "No. Observations:                 253   AIC:                            -311.4\n",
      "Df Residuals:                     240   BIC:                            -265.4\n",
      "Df Model:                          12                                         \n",
      "Covariance Type:            nonrobust                                         \n",
      "===========================================================================================\n",
      "                              coef    std err          t      P>|t|      [0.025      0.975]\n",
      "-------------------------------------------------------------------------------------------\n",
      "Intercept                   0.0307      0.010      3.020      0.003       0.011       0.051\n",
      "Revenue                     0.0001      0.000      1.366      0.173   -6.09e-05       0.000\n",
      "Cost_of_Sales              -0.0001      0.000     -1.367      0.173      -0.000    6.08e-05\n",
      "Gross_profit               -0.0001      0.000     -1.371      0.172      -0.000    6.05e-05\n",
      "Operating_profit         2.287e-07   4.87e-07      0.470      0.639    -7.3e-07    1.19e-06\n",
      "Net_Profit              -4.027e-08   1.16e-06     -0.035      0.972   -2.32e-06    2.24e-06\n",
      "Issue_of_shares         -5.812e-08   5.31e-07     -0.109      0.913    -1.1e-06    9.88e-07\n",
      "Share_repurchase        -2.549e-06   2.37e-06     -1.077      0.282   -7.21e-06    2.11e-06\n",
      "Non_current_assets      -3.584e-08   2.41e-08     -1.487      0.138   -8.33e-08    1.16e-08\n",
      "Current_assets            9.76e-09   4.12e-08      0.237      0.813   -7.14e-08    9.09e-08\n",
      "Non_current_liabilities  4.425e-08   4.25e-08      1.042      0.298   -3.94e-08    1.28e-07\n",
      "Current_liabilities      2.787e-08   3.07e-08      0.908      0.365   -3.26e-08    8.84e-08\n",
      "net_cash_op_act          4.387e-07   1.24e-06      0.354      0.724      -2e-06    2.88e-06\n",
      "==============================================================================\n",
      "Omnibus:                       23.234   Durbin-Watson:                   1.693\n",
      "Prob(Omnibus):                  0.000   Jarque-Bera (JB):               57.540\n",
      "Skew:                           0.392   Prob(JB):                     3.20e-13\n",
      "Kurtosis:                       5.201   Cond. No.                     1.24e+07\n",
      "==============================================================================\n",
      "\n",
      "Warnings:\n",
      "[1] Standard Errors assume that the covariance matrix of the errors is correctly specified.\n",
      "[2] The condition number is large, 1.24e+07. This might indicate that there are\n",
      "strong multicollinearity or other numerical problems.\n"
     ]
    }
   ],
   "source": [
    "# f_\n",
    "f_traindata = f_X_train.join(f_y_train)\n",
    "f_lm_sm = smf.ols( 'target_return~ Revenue + Cost_of_Sales + Gross_profit\\\n",
    "                + Operating_profit + Net_Profit + Issue_of_shares + Share_repurchase\\\n",
    "                + Non_current_assets + Current_assets + Non_current_liabilities\\\n",
    "                + Current_liabilities + net_cash_op_act',\n",
    "                data = f_traindata).fit()\n",
    "print(f_lm_sm.summary()) "
   ]
  },
  {
   "cell_type": "code",
   "execution_count": 85,
   "metadata": {},
   "outputs": [
    {
     "name": "stdout",
     "output_type": "stream",
     "text": [
      "                            OLS Regression Results                            \n",
      "==============================================================================\n",
      "Dep. Variable:          target_return   R-squared:                       0.026\n",
      "Model:                            OLS   Adj. R-squared:                  0.006\n",
      "Method:                 Least Squares   F-statistic:                     1.295\n",
      "Date:                Tue, 17 Apr 2018   Prob (F-statistic):              0.267\n",
      "Time:                        09:54:54   Log-Likelihood:                 168.35\n",
      "No. Observations:                 253   AIC:                            -324.7\n",
      "Df Residuals:                     247   BIC:                            -303.5\n",
      "Df Model:                           5                                         \n",
      "Covariance Type:            nonrobust                                         \n",
      "=====================================================================================\n",
      "                        coef    std err          t      P>|t|      [0.025      0.975]\n",
      "-------------------------------------------------------------------------------------\n",
      "Intercept             0.0337      0.012      2.722      0.007       0.009       0.058\n",
      "current_price     -4.336e-06   7.58e-06     -0.572      0.568   -1.93e-05    1.06e-05\n",
      "moving_average     2.775e-06   7.62e-06      0.364      0.716   -1.22e-05    1.78e-05\n",
      "moving_volatility  4.116e-05   2.27e-05      1.810      0.072   -3.63e-06     8.6e-05\n",
      "trading_range     -1.479e-05   7.46e-05     -0.198      0.843      -0.000       0.000\n",
      "momentum             -0.0647      0.081     -0.797      0.426      -0.224       0.095\n",
      "==============================================================================\n",
      "Omnibus:                       21.896   Durbin-Watson:                   1.674\n",
      "Prob(Omnibus):                  0.000   Jarque-Bera (JB):               55.353\n",
      "Skew:                           0.352   Prob(JB):                     9.56e-13\n",
      "Kurtosis:                       5.181   Cond. No.                     3.91e+05\n",
      "==============================================================================\n",
      "\n",
      "Warnings:\n",
      "[1] Standard Errors assume that the covariance matrix of the errors is correctly specified.\n",
      "[2] The condition number is large, 3.91e+05. This might indicate that there are\n",
      "strong multicollinearity or other numerical problems.\n"
     ]
    }
   ],
   "source": [
    "# pf_\n",
    "pf_traindata = pf_X_train.join(pf_y_train)\n",
    "pf_lm_sm = smf.ols( 'target_return~ current_price + moving_average + moving_volatility \\\n",
    "                + trading_range + momentum',\n",
    "                data = pf_traindata).fit()\n",
    "print(pf_lm_sm.summary()) "
   ]
  },
  {
   "cell_type": "code",
   "execution_count": 86,
   "metadata": {},
   "outputs": [
    {
     "name": "stdout",
     "output_type": "stream",
     "text": [
      "                            OLS Regression Results                            \n",
      "==============================================================================\n",
      "Dep. Variable:          target_return   R-squared:                       0.009\n",
      "Model:                            OLS   Adj. R-squared:                  0.005\n",
      "Method:                 Least Squares   F-statistic:                     2.180\n",
      "Date:                Tue, 17 Apr 2018   Prob (F-statistic):              0.141\n",
      "Time:                        09:54:57   Log-Likelihood:                 166.18\n",
      "No. Observations:                 253   AIC:                            -328.4\n",
      "Df Residuals:                     251   BIC:                            -321.3\n",
      "Df Model:                           1                                         \n",
      "Covariance Type:            nonrobust                                         \n",
      "=====================================================================================\n",
      "                        coef    std err          t      P>|t|      [0.025      0.975]\n",
      "-------------------------------------------------------------------------------------\n",
      "Intercept             0.0333      0.009      3.888      0.000       0.016       0.050\n",
      "exp_market_change    -0.2377      0.161     -1.476      0.141      -0.555       0.079\n",
      "==============================================================================\n",
      "Omnibus:                       19.316   Durbin-Watson:                   1.660\n",
      "Prob(Omnibus):                  0.000   Jarque-Bera (JB):               43.268\n",
      "Skew:                           0.340   Prob(JB):                     4.02e-10\n",
      "Kurtosis:                       4.908   Cond. No.                         20.3\n",
      "==============================================================================\n",
      "\n",
      "Warnings:\n",
      "[1] Standard Errors assume that the covariance matrix of the errors is correctly specified.\n"
     ]
    }
   ],
   "source": [
    "# m_\n",
    "m_traindata = m_X_train.join(m_y_train)\n",
    "m_lm_sm = smf.ols( 'target_return~ exp_market_change',\n",
    "                data = m_traindata).fit()\n",
    "print(m_lm_sm.summary()) "
   ]
  },
  {
   "cell_type": "code",
   "execution_count": 87,
   "metadata": {},
   "outputs": [
    {
     "name": "stdout",
     "output_type": "stream",
     "text": [
      "                            OLS Regression Results                            \n",
      "==============================================================================\n",
      "Dep. Variable:          target_return   R-squared:                       0.022\n",
      "Model:                            OLS   Adj. R-squared:                  0.018\n",
      "Method:                 Least Squares   F-statistic:                     5.570\n",
      "Date:                Tue, 17 Apr 2018   Prob (F-statistic):             0.0190\n",
      "Time:                        09:54:59   Log-Likelihood:                 167.86\n",
      "No. Observations:                 253   AIC:                            -331.7\n",
      "Df Residuals:                     251   BIC:                            -324.6\n",
      "Df Model:                           1                                         \n",
      "Covariance Type:            nonrobust                                         \n",
      "==============================================================================\n",
      "                 coef    std err          t      P>|t|      [0.025      0.975]\n",
      "------------------------------------------------------------------------------\n",
      "Intercept      0.1824      0.066      2.777      0.006       0.053       0.312\n",
      "rates         -0.0262      0.011     -2.360      0.019      -0.048      -0.004\n",
      "==============================================================================\n",
      "Omnibus:                       28.013   Durbin-Watson:                   1.641\n",
      "Prob(Omnibus):                  0.000   Jarque-Bera (JB):               68.153\n",
      "Skew:                           0.501   Prob(JB):                     1.59e-15\n",
      "Kurtosis:                       5.337   Cond. No.                         50.9\n",
      "==============================================================================\n",
      "\n",
      "Warnings:\n",
      "[1] Standard Errors assume that the covariance matrix of the errors is correctly specified.\n"
     ]
    }
   ],
   "source": [
    "# ex_\n",
    "ex_traindata = ex_X_train.join(ex_y_train)\n",
    "ex_lm_sm = smf.ols( 'target_return~ rates',\n",
    "                data = ex_traindata).fit()\n",
    "print(ex_lm_sm.summary()) "
   ]
  },
  {
   "cell_type": "code",
   "execution_count": 89,
   "metadata": {},
   "outputs": [
    {
     "name": "stdout",
     "output_type": "stream",
     "text": [
      "Adjusted R squared SCORE\n",
      "Model pf_:  0.00581222044023\n",
      "Model f_:   -0.0205248602585\n",
      "Model m_:   0.00466086847822\n",
      "Model ex_:  0.0178110417458\n"
     ]
    }
   ],
   "source": [
    "print('Adjusted R squared SCORE')\n",
    "print('Model pf_: ', pf_lm_sm.rsquared_adj) \n",
    "print('Model f_:  ', f_lm_sm.rsquared_adj)\n",
    "print('Model m_:  ', m_lm_sm.rsquared_adj)\n",
    "print('Model ex_: ', ex_lm_sm.rsquared_adj)"
   ]
  },
  {
   "cell_type": "code",
   "execution_count": 92,
   "metadata": {},
   "outputs": [
    {
     "data": {
      "text/plain": [
       "LinearRegression(copy_X=True, fit_intercept=True, n_jobs=1, normalize=False)"
      ]
     },
     "execution_count": 92,
     "metadata": {},
     "output_type": "execute_result"
    }
   ],
   "source": [
    "m_lm = LinearRegression()\n",
    "m_lm.fit(m_X_train,m_y_train)"
   ]
  },
  {
   "cell_type": "code",
   "execution_count": 93,
   "metadata": {},
   "outputs": [
    {
     "data": {
      "text/plain": [
       "LinearRegression(copy_X=True, fit_intercept=True, n_jobs=1, normalize=False)"
      ]
     },
     "execution_count": 93,
     "metadata": {},
     "output_type": "execute_result"
    }
   ],
   "source": [
    "pf_lm = LinearRegression()\n",
    "pf_lm.fit(pf_X_train,pf_y_train)"
   ]
  },
  {
   "cell_type": "code",
   "execution_count": 94,
   "metadata": {},
   "outputs": [
    {
     "data": {
      "text/plain": [
       "LinearRegression(copy_X=True, fit_intercept=True, n_jobs=1, normalize=False)"
      ]
     },
     "execution_count": 94,
     "metadata": {},
     "output_type": "execute_result"
    }
   ],
   "source": [
    "f_lm = LinearRegression()\n",
    "f_lm.fit(f_X_train,f_y_train)"
   ]
  },
  {
   "cell_type": "code",
   "execution_count": 95,
   "metadata": {},
   "outputs": [
    {
     "data": {
      "text/plain": [
       "LinearRegression(copy_X=True, fit_intercept=True, n_jobs=1, normalize=False)"
      ]
     },
     "execution_count": 95,
     "metadata": {},
     "output_type": "execute_result"
    }
   ],
   "source": [
    "ex_lm = LinearRegression()\n",
    "ex_lm.fit(ex_X_train,ex_y_train)"
   ]
  },
  {
   "cell_type": "code",
   "execution_count": 96,
   "metadata": {},
   "outputs": [],
   "source": [
    "m_predictions = m_lm.predict(m_X_test)\n",
    "pf_predictions = pf_lm.predict(pf_X_test)\n",
    "f_predictions = f_lm.predict(f_X_test)\n",
    "ex_predictions = ex_lm.predict(ex_X_test)"
   ]
  },
  {
   "cell_type": "code",
   "execution_count": 98,
   "metadata": {},
   "outputs": [
    {
     "name": "stdout",
     "output_type": "stream",
     "text": [
      "Test MSE\n",
      "Model m_:  0.0161412361756\n",
      "Model pf_: 0.0162671937496\n",
      "Model f_:  0.0182799024515\n",
      "Model ex_: 0.0170650399279\n"
     ]
    }
   ],
   "source": [
    "print('Test MSE')\n",
    "print('Model m_: ', metrics.mean_squared_error(m_y_test, m_predictions))\n",
    "print('Model pf_:', metrics.mean_squared_error(pf_y_test, pf_predictions))\n",
    "print('Model f_: ', metrics.mean_squared_error(f_y_test, f_predictions))\n",
    "print('Model ex_:', metrics.mean_squared_error(ex_y_test, ex_predictions))"
   ]
  },
  {
   "cell_type": "code",
   "execution_count": 99,
   "metadata": {},
   "outputs": [
    {
     "name": "stdout",
     "output_type": "stream",
     "text": [
      "pf_Intercept:               0.0337036272142\n"
     ]
    }
   ],
   "source": [
    "print('pf_Intercept:              ', pf_lm.intercept_)"
   ]
  },
  {
   "cell_type": "code",
   "execution_count": 101,
   "metadata": {},
   "outputs": [
    {
     "data": {
      "text/plain": [
       "-0.008325655547100002"
      ]
     },
     "execution_count": 101,
     "metadata": {},
     "output_type": "execute_result"
    }
   ],
   "source": [
    "-0.0244668917227 + 0.0161412361756"
   ]
  },
  {
   "cell_type": "code",
   "execution_count": 110,
   "metadata": {},
   "outputs": [],
   "source": [
    "abs_res = abs(ex_predictions-ex_y_test)"
   ]
  },
  {
   "cell_type": "code",
   "execution_count": 118,
   "metadata": {},
   "outputs": [],
   "source": [
    " abs_res_li = sorted(list(abs_res))"
   ]
  },
  {
   "cell_type": "code",
   "execution_count": 121,
   "metadata": {},
   "outputs": [
    {
     "data": {
      "text/plain": [
       "0.065835776525266176"
      ]
     },
     "execution_count": 121,
     "metadata": {},
     "output_type": "execute_result"
    }
   ],
   "source": [
    "abs_res_li[len(abs_res_li)//2]"
   ]
  },
  {
   "cell_type": "code",
   "execution_count": 113,
   "metadata": {},
   "outputs": [
    {
     "data": {
      "text/plain": [
       "0      0.000084\n",
       "1      0.001732\n",
       "2      0.002643\n",
       "3      0.003829\n",
       "4      0.004772\n",
       "5      0.005047\n",
       "6      0.008019\n",
       "7      0.011180\n",
       "8      0.011784\n",
       "9      0.013021\n",
       "10     0.014072\n",
       "11     0.014301\n",
       "12     0.016849\n",
       "13     0.018450\n",
       "14     0.018831\n",
       "15     0.019248\n",
       "16     0.019339\n",
       "17     0.020635\n",
       "18     0.021385\n",
       "19     0.022630\n",
       "20     0.024096\n",
       "21     0.024129\n",
       "22     0.024709\n",
       "23     0.025617\n",
       "24     0.026814\n",
       "25     0.029493\n",
       "26     0.031672\n",
       "27     0.032307\n",
       "28     0.032890\n",
       "29     0.032989\n",
       "         ...   \n",
       "79     0.116015\n",
       "80     0.118933\n",
       "81     0.125729\n",
       "82     0.126175\n",
       "83     0.126365\n",
       "84     0.127904\n",
       "85     0.135128\n",
       "86     0.138359\n",
       "87     0.139105\n",
       "88     0.141029\n",
       "89     0.143038\n",
       "90     0.149764\n",
       "91     0.153364\n",
       "92     0.159608\n",
       "93     0.170219\n",
       "94     0.173417\n",
       "95     0.176538\n",
       "96     0.183332\n",
       "97     0.199749\n",
       "98     0.212007\n",
       "99     0.228817\n",
       "100    0.264977\n",
       "101    0.275077\n",
       "102    0.278195\n",
       "103    0.285989\n",
       "104    0.298688\n",
       "105    0.368864\n",
       "106    0.383506\n",
       "107    0.413120\n",
       "108    0.466926\n",
       "Length: 109, dtype: float64"
      ]
     },
     "execution_count": 113,
     "metadata": {},
     "output_type": "execute_result"
    }
   ],
   "source": [
    "abs_res.mode()"
   ]
  },
  {
   "cell_type": "code",
   "execution_count": null,
   "metadata": {},
   "outputs": [],
   "source": []
  },
  {
   "cell_type": "code",
   "execution_count": null,
   "metadata": {},
   "outputs": [],
   "source": []
  },
  {
   "cell_type": "code",
   "execution_count": null,
   "metadata": {
    "colab": {
     "autoexec": {
      "startup": false,
      "wait_interval": 0
     },
     "output_extras": [
      {}
     ]
    },
    "colab_type": "code",
    "id": "A0B7_F5EwkU2",
    "outputId": "f8e94cc3-e327-43f0-e4fe-75109ebbf439"
   },
   "outputs": [
    {
     "name": "stdout",
     "output_type": "stream",
     "text": [
      "                            OLS Regression Results                            \n",
      "==============================================================================\n",
      "Dep. Variable:          target_return   R-squared:                       0.084\n",
      "Model:                            OLS   Adj. R-squared:                  0.009\n",
      "Method:                 Least Squares   F-statistic:                     1.121\n",
      "Date:                Tue, 05 Dec 2017   Prob (F-statistic):              0.330\n",
      "Time:                        09:51:05   Log-Likelihood:                 206.36\n",
      "No. Observations:                 253   AIC:                            -372.7\n",
      "Df Residuals:                     233   BIC:                            -302.0\n",
      "Df Model:                          19                                         \n",
      "Covariance Type:            nonrobust                                         \n",
      "===========================================================================================\n",
      "                              coef    std err          t      P>|t|      [0.025      0.975]\n",
      "-------------------------------------------------------------------------------------------\n",
      "Intercept                   0.2358      0.068      3.492      0.001       0.103       0.369\n",
      "current_price            6.365e-07   7.42e-06      0.086      0.932    -1.4e-05    1.53e-05\n",
      "momentum                   -0.0216      0.074     -0.290      0.772      -0.168       0.125\n",
      "moving_average          -5.966e-07   7.43e-06     -0.080      0.936   -1.52e-05     1.4e-05\n",
      "moving_volatility        1.008e-05      2e-05      0.503      0.615   -2.94e-05    4.95e-05\n",
      "trading_range           -1.969e-05   6.89e-05     -0.286      0.775      -0.000       0.000\n",
      "exp_market_change          -0.3367      0.169     -1.995      0.047      -0.669      -0.004\n",
      "rates                      -0.0340      0.011     -3.076      0.002      -0.056      -0.012\n",
      "Revenue                 -1.736e-05   4.12e-05     -0.422      0.674   -9.85e-05    6.37e-05\n",
      "Cost_of_Sales            1.726e-05   4.12e-05      0.419      0.676   -6.39e-05    9.84e-05\n",
      "Gross_profit             1.727e-05   4.12e-05      0.419      0.676    -6.4e-05    9.85e-05\n",
      "Operating_profit        -2.678e-07   5.29e-07     -0.506      0.613   -1.31e-06    7.75e-07\n",
      "Net_Profit              -1.645e-06   2.56e-06     -0.644      0.520   -6.68e-06    3.39e-06\n",
      "Issue_of_shares          6.772e-08   7.24e-07      0.094      0.926   -1.36e-06    1.49e-06\n",
      "Share_repurchase         5.879e-07    3.5e-06      0.168      0.867   -6.31e-06    7.49e-06\n",
      "Non_current_assets      -2.913e-09   3.74e-08     -0.078      0.938   -7.66e-08    7.08e-08\n",
      "Current_assets           6.252e-09   4.39e-08      0.142      0.887   -8.03e-08    9.28e-08\n",
      "Non_current_liabilities  2.428e-08   2.39e-08      1.015      0.311   -2.29e-08    7.14e-08\n",
      "Current_liabilities      3.048e-09   4.85e-08      0.063      0.950   -9.25e-08    9.86e-08\n",
      "net_cash_op_act          8.059e-07   1.06e-06      0.763      0.446   -1.28e-06    2.89e-06\n",
      "==============================================================================\n",
      "Omnibus:                       12.286   Durbin-Watson:                   1.933\n",
      "Prob(Omnibus):                  0.002   Jarque-Bera (JB):               17.842\n",
      "Skew:                           0.331   Prob(JB):                     0.000134\n",
      "Kurtosis:                       4.120   Cond. No.                     1.91e+08\n",
      "==============================================================================\n",
      "\n",
      "Warnings:\n",
      "[1] Standard Errors assume that the covariance matrix of the errors is correctly specified.\n",
      "[2] The condition number is large, 1.91e+08. This might indicate that there are\n",
      "strong multicollinearity or other numerical problems.\n"
     ]
    }
   ],
   "source": [
    "traindata = X_train.join(y_train)\n",
    "lm_sm = smf.ols( 'target_return~ current_price + momentum + moving_average\\\n",
    "             + moving_volatility + trading_range + exp_market_change\\\n",
    "             + rates + Revenue + Cost_of_Sales + Gross_profit\\\n",
    "             + Operating_profit + Net_Profit + Issue_of_shares\\\n",
    "             + Share_repurchase + Non_current_assets + Current_assets\\\n",
    "             + Non_current_liabilities + Current_liabilities + net_cash_op_act',\n",
    "             data = traindata).fit()\n",
    "print(lm_sm.summary()) "
   ]
  },
  {
   "cell_type": "markdown",
   "metadata": {
    "colab_type": "text",
    "id": "Bkxc6GV0wkU5"
   },
   "source": [
    "## Predicting"
   ]
  },
  {
   "cell_type": "markdown",
   "metadata": {
    "colab_type": "text",
    "id": "f0P9wb9xwkU6"
   },
   "source": [
    "The trained model can now be used to predict future stock returns. We use the predict() method on our model instance. Note that now we input the testing data => only the features since our model is already trained and now needs to predict the returns (labels)."
   ]
  },
  {
   "cell_type": "code",
   "execution_count": null,
   "metadata": {
    "colab": {
     "autoexec": {
      "startup": false,
      "wait_interval": 0
     }
    },
    "colab_type": "code",
    "collapsed": true,
    "id": "1uD2hFbWwkU6"
   },
   "outputs": [],
   "source": [
    "predictions = lm.predict(X_test)"
   ]
  },
  {
   "cell_type": "markdown",
   "metadata": {
    "colab_type": "text",
    "id": "UVWH3nOjwkU-"
   },
   "source": [
    "Next we look at some statistical measures to test our output. In this case we use MSE. A low MSE means that our model generalizes well to unseen data."
   ]
  },
  {
   "cell_type": "code",
   "execution_count": null,
   "metadata": {
    "colab": {
     "autoexec": {
      "startup": false,
      "wait_interval": 0
     },
     "output_extras": [
      {}
     ]
    },
    "colab_type": "code",
    "id": "9Sx02pK3wkU-",
    "outputId": "2d501ed9-0e0a-4963-ec4d-9a2a4a5bcfdf"
   },
   "outputs": [
    {
     "name": "stdout",
     "output_type": "stream",
     "text": [
      "MSE: 0.0244668917227\n"
     ]
    }
   ],
   "source": [
    "print('MSE:', metrics.mean_squared_error(y_test, predictions))"
   ]
  },
  {
   "cell_type": "markdown",
   "metadata": {
    "colab_type": "text",
    "id": "c0wW5vT7wkVA"
   },
   "source": [
    "## Comparing two models"
   ]
  },
  {
   "cell_type": "markdown",
   "metadata": {
    "colab_type": "text",
    "id": "HRrLVBBtwkVA"
   },
   "source": [
    "To illustrate how we can compare two linear models, let us build a second model which is almost identical to the model run above, but excludes 'net_cash_op_act' from the predictors. We will then look at three metrics for comparing models, namely adjusted $R^2$, AIC and BIC. "
   ]
  },
  {
   "cell_type": "code",
   "execution_count": null,
   "metadata": {
    "colab": {
     "autoexec": {
      "startup": false,
      "wait_interval": 0
     },
     "output_extras": [
      {}
     ]
    },
    "colab_type": "code",
    "id": "Y9DzcuojwkVB",
    "outputId": "70509711-baf8-4602-d243-ccf6bd5ecba3"
   },
   "outputs": [
    {
     "data": {
      "text/plain": [
       "LinearRegression(copy_X=True, fit_intercept=True, n_jobs=1, normalize=False)"
      ]
     },
     "execution_count": 121,
     "metadata": {
      "tags": []
     },
     "output_type": "execute_result"
    }
   ],
   "source": [
    "# Lables\n",
    "y2 = df['target_return']\n",
    "\n",
    "# Features\n",
    "X2 = df.drop(['Date', 'company', 'target_return','net_cash_op_act'], axis=1)\n",
    "\n",
    "# Train/Test Split\n",
    "X_train2, X_test2, y_train2, y_test2 = train_test_split(X2, y2, test_size=0.3, random_state=50)\n",
    "\n",
    "# Fitting linear regression to training data\n",
    "lm2 = LinearRegression()\n",
    "lm2.fit(X_train2,y_train2)\n"
   ]
  },
  {
   "cell_type": "code",
   "execution_count": null,
   "metadata": {
    "colab": {
     "autoexec": {
      "startup": false,
      "wait_interval": 0
     },
     "output_extras": [
      {}
     ]
    },
    "colab_type": "code",
    "id": "fPE0YljdwkVC",
    "outputId": "9ca73171-a3aa-43ee-d7e2-f93cde5b1346"
   },
   "outputs": [
    {
     "name": "stdout",
     "output_type": "stream",
     "text": [
      "Intercept:               0.241654317677\n",
      "\n",
      "\n",
      "                          Coefficient\n",
      "current_price            4.465901e-07\n",
      "momentum                -1.985497e-02\n",
      "moving_average          -3.233334e-07\n",
      "moving_volatility        1.070858e-05\n",
      "trading_range           -2.330393e-05\n",
      "exp_market_change       -3.550128e-01\n",
      "rates                   -3.527479e-02\n",
      "Revenue                 -2.017030e-05\n",
      "Cost_of_Sales            2.023262e-05\n",
      "Gross_profit             2.019402e-05\n",
      "Operating_profit        -8.856042e-08\n",
      "Net_Profit              -1.758764e-06\n",
      "Issue_of_shares          8.152830e-08\n",
      "Share_repurchase         9.587784e-07\n",
      "Non_current_assets       1.028664e-09\n",
      "Current_assets           1.029827e-08\n",
      "Non_current_liabilities  2.478594e-08\n",
      "Current_liabilities     -4.328677e-09\n"
     ]
    }
   ],
   "source": [
    "print('Intercept:              ', lm2.intercept_)\n",
    "print('\\n')\n",
    "coeff_df = pd.DataFrame(lm2.coef_,X2.columns,columns=['Coefficient'])\n",
    "print( coeff_df)"
   ]
  },
  {
   "cell_type": "code",
   "execution_count": null,
   "metadata": {
    "colab": {
     "autoexec": {
      "startup": false,
      "wait_interval": 0
     },
     "output_extras": [
      {}
     ]
    },
    "colab_type": "code",
    "id": "4dgXxE6KwkVF",
    "outputId": "ce1d4231-9054-4d22-98df-335050209413"
   },
   "outputs": [
    {
     "name": "stdout",
     "output_type": "stream",
     "text": [
      "                            OLS Regression Results                            \n",
      "==============================================================================\n",
      "Dep. Variable:          target_return   R-squared:                       0.081\n",
      "Model:                            OLS   Adj. R-squared:                  0.011\n",
      "Method:                 Least Squares   F-statistic:                     1.153\n",
      "Date:                Tue, 05 Dec 2017   Prob (F-statistic):              0.302\n",
      "Time:                        09:51:24   Log-Likelihood:                 206.04\n",
      "No. Observations:                 253   AIC:                            -374.1\n",
      "Df Residuals:                     234   BIC:                            -306.9\n",
      "Df Model:                          18                                         \n",
      "Covariance Type:            nonrobust                                         \n",
      "===========================================================================================\n",
      "                              coef    std err          t      P>|t|      [0.025      0.975]\n",
      "-------------------------------------------------------------------------------------------\n",
      "Intercept                   0.2417      0.067      3.606      0.000       0.110       0.374\n",
      "current_price            4.466e-07   7.41e-06      0.060      0.952   -1.42e-05    1.51e-05\n",
      "momentum                   -0.0199      0.074     -0.267      0.790      -0.166       0.127\n",
      "moving_average          -3.233e-07   7.42e-06     -0.044      0.965   -1.49e-05    1.43e-05\n",
      "moving_volatility        1.071e-05      2e-05      0.535      0.593   -2.87e-05    5.01e-05\n",
      "trading_range            -2.33e-05   6.87e-05     -0.339      0.735      -0.000       0.000\n",
      "exp_market_change          -0.3550      0.167     -2.127      0.034      -0.684      -0.026\n",
      "rates                      -0.0353      0.011     -3.234      0.001      -0.057      -0.014\n",
      "Revenue                 -2.017e-05    4.1e-05     -0.492      0.623      -0.000    6.05e-05\n",
      "Cost_of_Sales            2.023e-05    4.1e-05      0.494      0.622   -6.05e-05       0.000\n",
      "Gross_profit             2.019e-05    4.1e-05      0.492      0.623   -6.06e-05       0.000\n",
      "Operating_profit        -8.856e-08   4.74e-07     -0.187      0.852   -1.02e-06    8.45e-07\n",
      "Net_Profit              -1.759e-06   2.55e-06     -0.690      0.491   -6.78e-06    3.26e-06\n",
      "Issue_of_shares          8.153e-08   7.23e-07      0.113      0.910   -1.34e-06    1.51e-06\n",
      "Share_repurchase         9.588e-07   3.46e-06      0.277      0.782   -5.87e-06    7.78e-06\n",
      "Non_current_assets       1.029e-09    3.7e-08      0.028      0.978   -7.19e-08    7.39e-08\n",
      "Current_assets            1.03e-08   4.36e-08      0.236      0.813   -7.55e-08    9.61e-08\n",
      "Non_current_liabilities  2.479e-08   2.39e-08      1.037      0.301   -2.23e-08    7.19e-08\n",
      "Current_liabilities     -4.329e-09   4.75e-08     -0.091      0.927   -9.79e-08    8.93e-08\n",
      "==============================================================================\n",
      "Omnibus:                       12.391   Durbin-Watson:                   1.920\n",
      "Prob(Omnibus):                  0.002   Jarque-Bera (JB):               18.065\n",
      "Skew:                           0.333   Prob(JB):                     0.000119\n",
      "Kurtosis:                       4.128   Cond. No.                     1.89e+08\n",
      "==============================================================================\n",
      "\n",
      "Warnings:\n",
      "[1] Standard Errors assume that the covariance matrix of the errors is correctly specified.\n",
      "[2] The condition number is large, 1.89e+08. This might indicate that there are\n",
      "strong multicollinearity or other numerical problems.\n"
     ]
    }
   ],
   "source": [
    "traindata2 = X_train2.join(y_train2)\n",
    "lm2_sm = smf.ols( 'target_return~ current_price + momentum + moving_average\\\n",
    "             + moving_volatility + trading_range + exp_market_change\\\n",
    "             + rates + Revenue + Cost_of_Sales + Gross_profit\\\n",
    "             + Operating_profit + Net_Profit + Issue_of_shares\\\n",
    "             + Share_repurchase + Non_current_assets + Current_assets\\\n",
    "             + Non_current_liabilities + Current_liabilities',\n",
    "             data = traindata2).fit()\n",
    "print(lm2_sm.summary()) "
   ]
  },
  {
   "cell_type": "markdown",
   "metadata": {
    "colab_type": "text",
    "id": "RjodaxGhwkVI"
   },
   "source": [
    "Let us compare the $R^2$ from the two models"
   ]
  },
  {
   "cell_type": "code",
   "execution_count": null,
   "metadata": {
    "colab": {
     "autoexec": {
      "startup": false,
      "wait_interval": 0
     },
     "output_extras": [
      {}
     ]
    },
    "colab_type": "code",
    "id": "az0mTEWlwkVJ",
    "outputId": "fc24d9d6-fedc-4afb-f282-46684f58cb95"
   },
   "outputs": [
    {
     "name": "stdout",
     "output_type": "stream",
     "text": [
      "R squared SCORE\n",
      "Model 1: 0.0837699589315\n",
      "Model 2: 0.0814820736495\n"
     ]
    }
   ],
   "source": [
    "print('R squared SCORE')\n",
    "print('Model 1:', lm.score(X_train, y_train)) \n",
    "print('Model 2:', lm2.score(X_train2, y_train2))\n"
   ]
  },
  {
   "cell_type": "markdown",
   "metadata": {
    "colab_type": "text",
    "id": "IXDrz4MmwkVL"
   },
   "source": [
    "If we only used the $R^2$ statistic to compare the two models, we would assume that model 1 provides a better fit. However, model 1 also has 19 parameters compared to model 2 which only has 18. One of the disadvantages with $R^2$ is that it does not adjust for using different parameters, and as you add more and more parameters to your model, you will generally increase the $R^2$ value. To overcome this problem, we can rather look at $$ Adjusted R^2 = 1 - (1-R^2) \\times \\frac{n-1}{n - p -1} $$ "
   ]
  },
  {
   "cell_type": "code",
   "execution_count": null,
   "metadata": {
    "colab": {
     "autoexec": {
      "startup": false,
      "wait_interval": 0
     },
     "output_extras": [
      {}
     ]
    },
    "colab_type": "code",
    "id": "g6e2pASnwkVL",
    "outputId": "ec474c68-99ad-41cc-d14c-3b748640d9f7"
   },
   "outputs": [
    {
     "name": "stdout",
     "output_type": "stream",
     "text": [
      "Adjusted R squared SCORE\n",
      "Model 1: 0.00905592124781\n",
      "Model 2: 0.0108268485457\n"
     ]
    }
   ],
   "source": [
    "print('Adjusted R squared SCORE')\n",
    "print('Model 1:', lm_sm.rsquared_adj) \n",
    "print('Model 2:', lm2_sm.rsquared_adj)\n"
   ]
  },
  {
   "cell_type": "markdown",
   "metadata": {
    "colab_type": "text",
    "id": "JXlWct5EwkVO"
   },
   "source": [
    "We can see that with the adjusted $R^2$ values, model 2 is a better fit. Two alternative methods for comparing model selection is to look at information criteria e.g Akaike's information criterion (AIC) or Bayesian information criterion(BIC). The aim is to choose a model with the lowest AIC or BIC. For further information you can read up  http://scott.fortmann-roe.com/docs/MeasuringError.html."
   ]
  },
  {
   "cell_type": "code",
   "execution_count": null,
   "metadata": {
    "colab": {
     "autoexec": {
      "startup": false,
      "wait_interval": 0
     },
     "output_extras": [
      {}
     ]
    },
    "colab_type": "code",
    "id": "6e8rBt-vwkVP",
    "outputId": "7707994e-11c1-46d0-d027-a57e575a27b9"
   },
   "outputs": [
    {
     "name": "stdout",
     "output_type": "stream",
     "text": [
      "AIC\n",
      "Model 1: -372.711806076\n",
      "Model 2: -374.080836279\n",
      "BIC\n",
      "Model 1: -302.044016301\n",
      "Model 2: -306.946435993\n"
     ]
    }
   ],
   "source": [
    "print('AIC')\n",
    "print('Model 1:', lm_sm.aic) \n",
    "print('Model 2:', lm2_sm.aic)\n",
    "print('BIC')\n",
    "print('Model 1:', lm_sm.bic) \n",
    "print('Model 2:', lm2_sm.bic)\n"
   ]
  },
  {
   "cell_type": "markdown",
   "metadata": {
    "colab_type": "text",
    "id": "swm7eKRZwkVQ"
   },
   "source": [
    "Based on both AIC and BIC model 2 appears to give a better fit. However, let us compare the two models on the test data set and compare the MSE to see which model gives the best fit on the test data."
   ]
  },
  {
   "cell_type": "code",
   "execution_count": null,
   "metadata": {
    "colab": {
     "autoexec": {
      "startup": false,
      "wait_interval": 0
     },
     "output_extras": [
      {}
     ]
    },
    "colab_type": "code",
    "id": "KC4WecQawkVR",
    "outputId": "069742dc-8275-44d0-8254-4a56a81c0c44"
   },
   "outputs": [
    {
     "name": "stdout",
     "output_type": "stream",
     "text": [
      "Test MSE\n",
      "Model 1: 0.0244668917227\n",
      "Model 2: 0.0246023224392\n"
     ]
    }
   ],
   "source": [
    "predictions2 = lm2.predict(X_test2)\n",
    "print('Test MSE')\n",
    "print('Model 1:', metrics.mean_squared_error(y_test, predictions))\n",
    "print('Model 2:', metrics.mean_squared_error(y_test2, predictions2))\n"
   ]
  },
  {
   "cell_type": "markdown",
   "metadata": {
    "colab_type": "text",
    "id": "yHpzvGtNwkVU"
   },
   "source": [
    "In this scenario we can see that the Test MSE are almost identical. Thus to avoid overfitting, it would be better to choose the model with 18 parameters."
   ]
  },
  {
   "cell_type": "markdown",
   "metadata": {
    "colab_type": "text",
    "id": "EfhmkDefwkVV"
   },
   "source": [
    "In the next notebook we will look at techniques to improve a multifactor linear regression model."
   ]
  },
  {
   "cell_type": "code",
   "execution_count": null,
   "metadata": {
    "colab": {
     "autoexec": {
      "startup": false,
      "wait_interval": 0
     }
    },
    "colab_type": "code",
    "id": "kNpmESuZwkVW"
   },
   "outputs": [],
   "source": []
  }
 ],
 "metadata": {
  "colab": {
   "collapsed_sections": [
    "xlGWlcKuwkUP",
    "xW5GCwd8wkUX",
    "coN3l2rPwkUz",
    "Bkxc6GV0wkU5",
    "JJGIafm7wkU8"
   ],
   "default_view": {},
   "name": "3. Building a multifactor linear model (Predicting Stock Returns in Scikit Learn) v2.ipynb",
   "provenance": [],
   "version": "0.3.2",
   "views": {}
  },
  "kernelspec": {
   "display_name": "Python 3",
   "language": "python",
   "name": "python3"
  },
  "language_info": {
   "codemirror_mode": {
    "name": "ipython",
    "version": 3
   },
   "file_extension": ".py",
   "mimetype": "text/x-python",
   "name": "python",
   "nbconvert_exporter": "python",
   "pygments_lexer": "ipython3",
   "version": "3.6.2"
  }
 },
 "nbformat": 4,
 "nbformat_minor": 2
}
