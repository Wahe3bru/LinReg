{
 "cells": [
  {
   "cell_type": "markdown",
   "metadata": {},
   "source": [
    "# Model Analysis\n",
    "using the data with all the features"
   ]
  },
  {
   "cell_type": "code",
   "execution_count": 74,
   "metadata": {},
   "outputs": [],
   "source": [
    "import numpy as np\n",
    "import pandas as pd\n",
    "import matplotlib.pyplot as plt\n",
    "import seaborn as sns\n",
    "% matplotlib inline"
   ]
  },
  {
   "cell_type": "code",
   "execution_count": 75,
   "metadata": {},
   "outputs": [],
   "source": [
    "df = pd.read_csv('data_all_F.csv').drop('Unnamed: 0', axis=1)"
   ]
  },
  {
   "cell_type": "code",
   "execution_count": 76,
   "metadata": {},
   "outputs": [
    {
     "name": "stdout",
     "output_type": "stream",
     "text": [
      "<class 'pandas.core.frame.DataFrame'>\n",
      "RangeIndex: 362 entries, 0 to 361\n",
      "Data columns (total 31 columns):\n",
      "Date                       362 non-null object\n",
      "company                    362 non-null object\n",
      "current_price              362 non-null float64\n",
      "momentum                   362 non-null float64\n",
      "moving_average             362 non-null float64\n",
      "moving_volatility          362 non-null float64\n",
      "trading_range              362 non-null float64\n",
      "target_return              362 non-null float64\n",
      "exp_market_change          362 non-null float64\n",
      "rates                      362 non-null float64\n",
      "Revenue                    362 non-null float64\n",
      "Cost_of_Sales              362 non-null float64\n",
      "Gross_profit               362 non-null float64\n",
      "Operating_profit           362 non-null float64\n",
      "Net_Profit                 362 non-null float64\n",
      "Issue_of_shares            362 non-null float64\n",
      "Share_repurchase           362 non-null float64\n",
      "Non_current_assets         362 non-null float64\n",
      "Current_assets             362 non-null float64\n",
      "Non_current_liabilities    362 non-null float64\n",
      "Current_liabilities        362 non-null float64\n",
      "net_cash_op_act            362 non-null float64\n",
      "Debt_M                     362 non-null int64\n",
      "Debt_perc_GDP              362 non-null float64\n",
      "Debt_Per_Capita            362 non-null float64\n",
      "CPI_perc                   362 non-null float64\n",
      "GDP_Mill_dollars           362 non-null float64\n",
      "GDP_Growth_perc            362 non-null float64\n",
      "Unemployment_alt           362 non-null float64\n",
      "Brent_Oil                  362 non-null float64\n",
      "Gold                       362 non-null float64\n",
      "dtypes: float64(28), int64(1), object(2)\n",
      "memory usage: 87.8+ KB\n"
     ]
    }
   ],
   "source": [
    "df.info()"
   ]
  },
  {
   "cell_type": "markdown",
   "metadata": {},
   "source": [
    "### Features/Labels split"
   ]
  },
  {
   "cell_type": "code",
   "execution_count": 77,
   "metadata": {},
   "outputs": [],
   "source": [
    "# Lables\n",
    "y = df['target_return']\n",
    "\n",
    "# Features\n",
    "X = df.drop(['Date', 'company', 'target_return'], axis=1)"
   ]
  },
  {
   "cell_type": "markdown",
   "metadata": {},
   "source": [
    "### Rescaling features"
   ]
  },
  {
   "cell_type": "code",
   "execution_count": 78,
   "metadata": {},
   "outputs": [],
   "source": [
    "from sklearn.preprocessing import StandardScaler"
   ]
  },
  {
   "cell_type": "code",
   "execution_count": 79,
   "metadata": {},
   "outputs": [],
   "source": [
    "scaler = StandardScaler()"
   ]
  },
  {
   "cell_type": "code",
   "execution_count": 80,
   "metadata": {},
   "outputs": [],
   "source": [
    "X_scaled = scaler.fit_transform(X)"
   ]
  },
  {
   "cell_type": "code",
   "execution_count": 81,
   "metadata": {},
   "outputs": [
    {
     "data": {
      "text/html": [
       "<div>\n",
       "<style scoped>\n",
       "    .dataframe tbody tr th:only-of-type {\n",
       "        vertical-align: middle;\n",
       "    }\n",
       "\n",
       "    .dataframe tbody tr th {\n",
       "        vertical-align: top;\n",
       "    }\n",
       "\n",
       "    .dataframe thead th {\n",
       "        text-align: right;\n",
       "    }\n",
       "</style>\n",
       "<table border=\"1\" class=\"dataframe\">\n",
       "  <thead>\n",
       "    <tr style=\"text-align: right;\">\n",
       "      <th></th>\n",
       "      <th>current_price</th>\n",
       "      <th>momentum</th>\n",
       "      <th>moving_average</th>\n",
       "      <th>moving_volatility</th>\n",
       "      <th>trading_range</th>\n",
       "      <th>exp_market_change</th>\n",
       "      <th>rates</th>\n",
       "      <th>Revenue</th>\n",
       "      <th>Cost_of_Sales</th>\n",
       "      <th>Gross_profit</th>\n",
       "      <th>...</th>\n",
       "      <th>net_cash_op_act</th>\n",
       "      <th>Debt_M</th>\n",
       "      <th>Debt_perc_GDP</th>\n",
       "      <th>Debt_Per_Capita</th>\n",
       "      <th>CPI_perc</th>\n",
       "      <th>GDP_Mill_dollars</th>\n",
       "      <th>GDP_Growth_perc</th>\n",
       "      <th>Unemployment_alt</th>\n",
       "      <th>Brent_Oil</th>\n",
       "      <th>Gold</th>\n",
       "    </tr>\n",
       "  </thead>\n",
       "  <tbody>\n",
       "    <tr>\n",
       "      <th>0</th>\n",
       "      <td>0.571183</td>\n",
       "      <td>-1.191752</td>\n",
       "      <td>0.665252</td>\n",
       "      <td>1.008415</td>\n",
       "      <td>0.816413</td>\n",
       "      <td>-0.752487</td>\n",
       "      <td>1.614377</td>\n",
       "      <td>-0.258862</td>\n",
       "      <td>-0.247648</td>\n",
       "      <td>-0.276560</td>\n",
       "      <td>...</td>\n",
       "      <td>-0.195021</td>\n",
       "      <td>-2.320115</td>\n",
       "      <td>-1.596218</td>\n",
       "      <td>-1.896766</td>\n",
       "      <td>0.001992</td>\n",
       "      <td>0.377860</td>\n",
       "      <td>1.004574</td>\n",
       "      <td>-0.913907</td>\n",
       "      <td>-0.868312</td>\n",
       "      <td>-1.692901</td>\n",
       "    </tr>\n",
       "    <tr>\n",
       "      <th>1</th>\n",
       "      <td>0.646429</td>\n",
       "      <td>0.771303</td>\n",
       "      <td>0.577312</td>\n",
       "      <td>0.295273</td>\n",
       "      <td>0.519675</td>\n",
       "      <td>0.497042</td>\n",
       "      <td>0.922660</td>\n",
       "      <td>-0.259293</td>\n",
       "      <td>-0.247743</td>\n",
       "      <td>-0.277666</td>\n",
       "      <td>...</td>\n",
       "      <td>-0.196623</td>\n",
       "      <td>-2.320115</td>\n",
       "      <td>-1.596218</td>\n",
       "      <td>-1.896766</td>\n",
       "      <td>0.001992</td>\n",
       "      <td>0.377860</td>\n",
       "      <td>1.004574</td>\n",
       "      <td>-0.913907</td>\n",
       "      <td>-0.827976</td>\n",
       "      <td>-1.447566</td>\n",
       "    </tr>\n",
       "    <tr>\n",
       "      <th>2</th>\n",
       "      <td>0.658742</td>\n",
       "      <td>-0.575385</td>\n",
       "      <td>0.716630</td>\n",
       "      <td>0.579326</td>\n",
       "      <td>0.844317</td>\n",
       "      <td>-0.240694</td>\n",
       "      <td>0.701310</td>\n",
       "      <td>-0.258698</td>\n",
       "      <td>-0.247720</td>\n",
       "      <td>-0.275918</td>\n",
       "      <td>...</td>\n",
       "      <td>-0.194535</td>\n",
       "      <td>-2.320115</td>\n",
       "      <td>-1.596218</td>\n",
       "      <td>-1.896766</td>\n",
       "      <td>0.001992</td>\n",
       "      <td>0.377860</td>\n",
       "      <td>1.004574</td>\n",
       "      <td>-0.913907</td>\n",
       "      <td>-0.965498</td>\n",
       "      <td>-1.612280</td>\n",
       "    </tr>\n",
       "    <tr>\n",
       "      <th>3</th>\n",
       "      <td>0.821409</td>\n",
       "      <td>0.422697</td>\n",
       "      <td>0.738470</td>\n",
       "      <td>0.023668</td>\n",
       "      <td>0.535077</td>\n",
       "      <td>2.370180</td>\n",
       "      <td>-0.363935</td>\n",
       "      <td>-0.258394</td>\n",
       "      <td>-0.247383</td>\n",
       "      <td>-0.275685</td>\n",
       "      <td>...</td>\n",
       "      <td>-0.193934</td>\n",
       "      <td>-2.320115</td>\n",
       "      <td>-1.596218</td>\n",
       "      <td>-1.896766</td>\n",
       "      <td>0.001992</td>\n",
       "      <td>0.377860</td>\n",
       "      <td>1.004574</td>\n",
       "      <td>-0.913907</td>\n",
       "      <td>-0.773607</td>\n",
       "      <td>-1.311821</td>\n",
       "    </tr>\n",
       "    <tr>\n",
       "      <th>4</th>\n",
       "      <td>0.741284</td>\n",
       "      <td>-0.419215</td>\n",
       "      <td>0.751188</td>\n",
       "      <td>0.345387</td>\n",
       "      <td>0.388110</td>\n",
       "      <td>1.155783</td>\n",
       "      <td>-0.529947</td>\n",
       "      <td>-0.258221</td>\n",
       "      <td>-0.247169</td>\n",
       "      <td>-0.275599</td>\n",
       "      <td>...</td>\n",
       "      <td>-0.193499</td>\n",
       "      <td>0.357897</td>\n",
       "      <td>-0.966469</td>\n",
       "      <td>0.850759</td>\n",
       "      <td>-1.699192</td>\n",
       "      <td>1.431649</td>\n",
       "      <td>1.319792</td>\n",
       "      <td>-0.913907</td>\n",
       "      <td>-0.722536</td>\n",
       "      <td>-1.211743</td>\n",
       "    </tr>\n",
       "  </tbody>\n",
       "</table>\n",
       "<p>5 rows × 28 columns</p>\n",
       "</div>"
      ],
      "text/plain": [
       "   current_price  momentum  moving_average  moving_volatility  trading_range  \\\n",
       "0       0.571183 -1.191752        0.665252           1.008415       0.816413   \n",
       "1       0.646429  0.771303        0.577312           0.295273       0.519675   \n",
       "2       0.658742 -0.575385        0.716630           0.579326       0.844317   \n",
       "3       0.821409  0.422697        0.738470           0.023668       0.535077   \n",
       "4       0.741284 -0.419215        0.751188           0.345387       0.388110   \n",
       "\n",
       "   exp_market_change     rates   Revenue  Cost_of_Sales  Gross_profit  \\\n",
       "0          -0.752487  1.614377 -0.258862      -0.247648     -0.276560   \n",
       "1           0.497042  0.922660 -0.259293      -0.247743     -0.277666   \n",
       "2          -0.240694  0.701310 -0.258698      -0.247720     -0.275918   \n",
       "3           2.370180 -0.363935 -0.258394      -0.247383     -0.275685   \n",
       "4           1.155783 -0.529947 -0.258221      -0.247169     -0.275599   \n",
       "\n",
       "     ...     net_cash_op_act    Debt_M  Debt_perc_GDP  Debt_Per_Capita  \\\n",
       "0    ...           -0.195021 -2.320115      -1.596218        -1.896766   \n",
       "1    ...           -0.196623 -2.320115      -1.596218        -1.896766   \n",
       "2    ...           -0.194535 -2.320115      -1.596218        -1.896766   \n",
       "3    ...           -0.193934 -2.320115      -1.596218        -1.896766   \n",
       "4    ...           -0.193499  0.357897      -0.966469         0.850759   \n",
       "\n",
       "   CPI_perc  GDP_Mill_dollars  GDP_Growth_perc  Unemployment_alt  Brent_Oil  \\\n",
       "0  0.001992          0.377860         1.004574         -0.913907  -0.868312   \n",
       "1  0.001992          0.377860         1.004574         -0.913907  -0.827976   \n",
       "2  0.001992          0.377860         1.004574         -0.913907  -0.965498   \n",
       "3  0.001992          0.377860         1.004574         -0.913907  -0.773607   \n",
       "4 -1.699192          1.431649         1.319792         -0.913907  -0.722536   \n",
       "\n",
       "       Gold  \n",
       "0 -1.692901  \n",
       "1 -1.447566  \n",
       "2 -1.612280  \n",
       "3 -1.311821  \n",
       "4 -1.211743  \n",
       "\n",
       "[5 rows x 28 columns]"
      ]
     },
     "execution_count": 81,
     "metadata": {},
     "output_type": "execute_result"
    }
   ],
   "source": [
    "X_standardize = pd.DataFrame(X_scaled,columns=X.columns)\n",
    "X_standardize.head()"
   ]
  },
  {
   "cell_type": "markdown",
   "metadata": {},
   "source": [
    "### Train/Test split"
   ]
  },
  {
   "cell_type": "code",
   "execution_count": 82,
   "metadata": {},
   "outputs": [],
   "source": [
    "from sklearn.model_selection import train_test_split"
   ]
  },
  {
   "cell_type": "code",
   "execution_count": 83,
   "metadata": {},
   "outputs": [],
   "source": [
    "X_train, X_test, y_train, y_test = train_test_split(X_standardize, y, test_size=0.3, random_state=101)"
   ]
  },
  {
   "cell_type": "markdown",
   "metadata": {},
   "source": [
    "### Training"
   ]
  },
  {
   "cell_type": "code",
   "execution_count": 84,
   "metadata": {},
   "outputs": [],
   "source": [
    "from sklearn.linear_model import LinearRegression\n",
    "from sklearn.linear_model import Ridge\n",
    "from sklearn.linear_model import Lasso\n",
    "from sklearn.linear_model import ElasticNet\n",
    "from sklearn.svm import SVR"
   ]
  },
  {
   "cell_type": "code",
   "execution_count": 85,
   "metadata": {},
   "outputs": [],
   "source": [
    "lm = LinearRegression()\n",
    "ridge = Ridge(alpha=1)\n",
    "lasso = Lasso(alpha=0.001)\n",
    "enet = ElasticNet(alpha=0.001,l1_ratio=0.8)\n",
    "svr_rbf = SVR(kernel='rbf', C=1, gamma=0.0000001 )\n",
    "svr_lin = SVR(kernel='linear', gamma=0.0000001, C=1)\n",
    "svr_poly = SVR(kernel='poly', C=1, gamma=0.0000001, degree=3)"
   ]
  },
  {
   "cell_type": "code",
   "execution_count": 86,
   "metadata": {},
   "outputs": [
    {
     "data": {
      "text/plain": [
       "SVR(C=1, cache_size=200, coef0=0.0, degree=3, epsilon=0.1, gamma=1e-07,\n",
       "  kernel='rbf', max_iter=-1, shrinking=True, tol=0.001, verbose=False)"
      ]
     },
     "execution_count": 86,
     "metadata": {},
     "output_type": "execute_result"
    }
   ],
   "source": [
    "svr_rbf.fit(X_train,y_train)"
   ]
  },
  {
   "cell_type": "code",
   "execution_count": 87,
   "metadata": {},
   "outputs": [
    {
     "data": {
      "text/plain": [
       "SVR(C=1, cache_size=200, coef0=0.0, degree=3, epsilon=0.1, gamma=1e-07,\n",
       "  kernel='linear', max_iter=-1, shrinking=True, tol=0.001, verbose=False)"
      ]
     },
     "execution_count": 87,
     "metadata": {},
     "output_type": "execute_result"
    }
   ],
   "source": [
    "svr_lin.fit(X_train,y_train)"
   ]
  },
  {
   "cell_type": "code",
   "execution_count": 88,
   "metadata": {},
   "outputs": [
    {
     "data": {
      "text/plain": [
       "SVR(C=1, cache_size=200, coef0=0.0, degree=3, epsilon=0.1, gamma=1e-07,\n",
       "  kernel='poly', max_iter=-1, shrinking=True, tol=0.001, verbose=False)"
      ]
     },
     "execution_count": 88,
     "metadata": {},
     "output_type": "execute_result"
    }
   ],
   "source": [
    "svr_poly.fit(X_train,y_train)"
   ]
  },
  {
   "cell_type": "code",
   "execution_count": 89,
   "metadata": {},
   "outputs": [
    {
     "data": {
      "text/plain": [
       "LinearRegression(copy_X=True, fit_intercept=True, n_jobs=1, normalize=False)"
      ]
     },
     "execution_count": 89,
     "metadata": {},
     "output_type": "execute_result"
    }
   ],
   "source": [
    "lm.fit(X_train,y_train)"
   ]
  },
  {
   "cell_type": "code",
   "execution_count": 90,
   "metadata": {},
   "outputs": [
    {
     "data": {
      "text/plain": [
       "Ridge(alpha=1, copy_X=True, fit_intercept=True, max_iter=None,\n",
       "   normalize=False, random_state=None, solver='auto', tol=0.001)"
      ]
     },
     "execution_count": 90,
     "metadata": {},
     "output_type": "execute_result"
    }
   ],
   "source": [
    "ridge.fit(X_train,y_train)"
   ]
  },
  {
   "cell_type": "code",
   "execution_count": 91,
   "metadata": {},
   "outputs": [
    {
     "data": {
      "text/plain": [
       "Lasso(alpha=0.001, copy_X=True, fit_intercept=True, max_iter=1000,\n",
       "   normalize=False, positive=False, precompute=False, random_state=None,\n",
       "   selection='cyclic', tol=0.0001, warm_start=False)"
      ]
     },
     "execution_count": 91,
     "metadata": {},
     "output_type": "execute_result"
    }
   ],
   "source": [
    "lasso.fit(X_train,y_train)"
   ]
  },
  {
   "cell_type": "code",
   "execution_count": 92,
   "metadata": {},
   "outputs": [
    {
     "data": {
      "text/plain": [
       "ElasticNet(alpha=0.001, copy_X=True, fit_intercept=True, l1_ratio=0.8,\n",
       "      max_iter=1000, normalize=False, positive=False, precompute=False,\n",
       "      random_state=None, selection='cyclic', tol=0.0001, warm_start=False)"
      ]
     },
     "execution_count": 92,
     "metadata": {},
     "output_type": "execute_result"
    }
   ],
   "source": [
    "enet.fit(X_train,y_train)"
   ]
  },
  {
   "cell_type": "code",
   "execution_count": 93,
   "metadata": {},
   "outputs": [
    {
     "data": {
      "text/html": [
       "<div>\n",
       "<style scoped>\n",
       "    .dataframe tbody tr th:only-of-type {\n",
       "        vertical-align: middle;\n",
       "    }\n",
       "\n",
       "    .dataframe tbody tr th {\n",
       "        vertical-align: top;\n",
       "    }\n",
       "\n",
       "    .dataframe thead th {\n",
       "        text-align: right;\n",
       "    }\n",
       "</style>\n",
       "<table border=\"1\" class=\"dataframe\">\n",
       "  <thead>\n",
       "    <tr style=\"text-align: right;\">\n",
       "      <th></th>\n",
       "      <th>Intercept</th>\n",
       "    </tr>\n",
       "  </thead>\n",
       "  <tbody>\n",
       "    <tr>\n",
       "      <th>Linear</th>\n",
       "      <td>0.025631</td>\n",
       "    </tr>\n",
       "    <tr>\n",
       "      <th>Ridge</th>\n",
       "      <td>0.023667</td>\n",
       "    </tr>\n",
       "    <tr>\n",
       "      <th>Lasso</th>\n",
       "      <td>0.025577</td>\n",
       "    </tr>\n",
       "    <tr>\n",
       "      <th>ElasticNet</th>\n",
       "      <td>0.025178</td>\n",
       "    </tr>\n",
       "    <tr>\n",
       "      <th>svr_rbf</th>\n",
       "      <td>0.026198</td>\n",
       "    </tr>\n",
       "    <tr>\n",
       "      <th>svr_lin</th>\n",
       "      <td>0.023907</td>\n",
       "    </tr>\n",
       "    <tr>\n",
       "      <th>svr_poly</th>\n",
       "      <td>0.026107</td>\n",
       "    </tr>\n",
       "  </tbody>\n",
       "</table>\n",
       "</div>"
      ],
      "text/plain": [
       "            Intercept\n",
       "Linear       0.025631\n",
       "Ridge        0.023667\n",
       "Lasso        0.025577\n",
       "ElasticNet   0.025178\n",
       "svr_rbf      0.026198\n",
       "svr_lin      0.023907\n",
       "svr_poly     0.026107"
      ]
     },
     "execution_count": 93,
     "metadata": {},
     "output_type": "execute_result"
    }
   ],
   "source": [
    "pd.DataFrame(np.array([lm.intercept_, ridge.intercept_, lasso.intercept_,enet.intercept_,svr_rbf.intercept_,svr_lin.intercept_,svr_poly.intercept_]),\n",
    "             columns=['Intercept'], \n",
    "             index=['Linear', 'Ridge', 'Lasso','ElasticNet','svr_rbf','svr_lin','svr_poly'])"
   ]
  },
  {
   "cell_type": "code",
   "execution_count": 94,
   "metadata": {},
   "outputs": [
    {
     "data": {
      "text/html": [
       "<div>\n",
       "<style scoped>\n",
       "    .dataframe tbody tr th:only-of-type {\n",
       "        vertical-align: middle;\n",
       "    }\n",
       "\n",
       "    .dataframe tbody tr th {\n",
       "        vertical-align: top;\n",
       "    }\n",
       "\n",
       "    .dataframe thead th {\n",
       "        text-align: right;\n",
       "    }\n",
       "</style>\n",
       "<table border=\"1\" class=\"dataframe\">\n",
       "  <thead>\n",
       "    <tr style=\"text-align: right;\">\n",
       "      <th></th>\n",
       "      <th>Linear</th>\n",
       "      <th>Ridge</th>\n",
       "      <th>Lasso</th>\n",
       "      <th>ElasticNet</th>\n",
       "    </tr>\n",
       "  </thead>\n",
       "  <tbody>\n",
       "    <tr>\n",
       "      <th>current_price</th>\n",
       "      <td>-0.173574</td>\n",
       "      <td>-0.032215</td>\n",
       "      <td>-0.006830</td>\n",
       "      <td>-0.007965</td>\n",
       "    </tr>\n",
       "    <tr>\n",
       "      <th>momentum</th>\n",
       "      <td>0.012863</td>\n",
       "      <td>0.005182</td>\n",
       "      <td>0.003588</td>\n",
       "      <td>0.003814</td>\n",
       "    </tr>\n",
       "    <tr>\n",
       "      <th>moving_average</th>\n",
       "      <td>0.162756</td>\n",
       "      <td>0.022383</td>\n",
       "      <td>-0.000000</td>\n",
       "      <td>-0.000000</td>\n",
       "    </tr>\n",
       "    <tr>\n",
       "      <th>moving_volatility</th>\n",
       "      <td>0.030609</td>\n",
       "      <td>0.022879</td>\n",
       "      <td>0.014218</td>\n",
       "      <td>0.015595</td>\n",
       "    </tr>\n",
       "    <tr>\n",
       "      <th>trading_range</th>\n",
       "      <td>-0.013323</td>\n",
       "      <td>-0.005943</td>\n",
       "      <td>-0.000000</td>\n",
       "      <td>-0.000000</td>\n",
       "    </tr>\n",
       "    <tr>\n",
       "      <th>exp_market_change</th>\n",
       "      <td>-0.035254</td>\n",
       "      <td>-0.033173</td>\n",
       "      <td>-0.026853</td>\n",
       "      <td>-0.027740</td>\n",
       "    </tr>\n",
       "    <tr>\n",
       "      <th>rates</th>\n",
       "      <td>-0.127628</td>\n",
       "      <td>-0.059727</td>\n",
       "      <td>-0.040086</td>\n",
       "      <td>-0.041456</td>\n",
       "    </tr>\n",
       "    <tr>\n",
       "      <th>Revenue</th>\n",
       "      <td>11.746539</td>\n",
       "      <td>-0.009294</td>\n",
       "      <td>-0.000000</td>\n",
       "      <td>-0.000000</td>\n",
       "    </tr>\n",
       "    <tr>\n",
       "      <th>Cost_of_Sales</th>\n",
       "      <td>-8.008796</td>\n",
       "      <td>-0.022337</td>\n",
       "      <td>-0.000000</td>\n",
       "      <td>-0.000000</td>\n",
       "    </tr>\n",
       "    <tr>\n",
       "      <th>Gross_profit</th>\n",
       "      <td>-3.835579</td>\n",
       "      <td>0.014967</td>\n",
       "      <td>-0.000000</td>\n",
       "      <td>-0.000000</td>\n",
       "    </tr>\n",
       "    <tr>\n",
       "      <th>Operating_profit</th>\n",
       "      <td>0.000529</td>\n",
       "      <td>-0.002431</td>\n",
       "      <td>-0.000000</td>\n",
       "      <td>-0.000000</td>\n",
       "    </tr>\n",
       "    <tr>\n",
       "      <th>Net_Profit</th>\n",
       "      <td>-0.173322</td>\n",
       "      <td>-0.101218</td>\n",
       "      <td>-0.031079</td>\n",
       "      <td>-0.044656</td>\n",
       "    </tr>\n",
       "    <tr>\n",
       "      <th>Issue_of_shares</th>\n",
       "      <td>0.074876</td>\n",
       "      <td>0.038296</td>\n",
       "      <td>0.003940</td>\n",
       "      <td>0.010336</td>\n",
       "    </tr>\n",
       "    <tr>\n",
       "      <th>Share_repurchase</th>\n",
       "      <td>0.021671</td>\n",
       "      <td>-0.004782</td>\n",
       "      <td>-0.000000</td>\n",
       "      <td>-0.000000</td>\n",
       "    </tr>\n",
       "    <tr>\n",
       "      <th>Non_current_assets</th>\n",
       "      <td>-0.188700</td>\n",
       "      <td>-0.005052</td>\n",
       "      <td>0.000000</td>\n",
       "      <td>0.000000</td>\n",
       "    </tr>\n",
       "    <tr>\n",
       "      <th>Current_assets</th>\n",
       "      <td>0.030281</td>\n",
       "      <td>0.000145</td>\n",
       "      <td>-0.000000</td>\n",
       "      <td>-0.000000</td>\n",
       "    </tr>\n",
       "    <tr>\n",
       "      <th>Non_current_liabilities</th>\n",
       "      <td>0.113071</td>\n",
       "      <td>0.048937</td>\n",
       "      <td>0.028596</td>\n",
       "      <td>0.033928</td>\n",
       "    </tr>\n",
       "    <tr>\n",
       "      <th>Current_liabilities</th>\n",
       "      <td>0.092473</td>\n",
       "      <td>0.005035</td>\n",
       "      <td>0.000000</td>\n",
       "      <td>0.000000</td>\n",
       "    </tr>\n",
       "    <tr>\n",
       "      <th>net_cash_op_act</th>\n",
       "      <td>0.041609</td>\n",
       "      <td>0.028623</td>\n",
       "      <td>-0.000000</td>\n",
       "      <td>-0.000000</td>\n",
       "    </tr>\n",
       "    <tr>\n",
       "      <th>Debt_M</th>\n",
       "      <td>-0.011966</td>\n",
       "      <td>-0.038141</td>\n",
       "      <td>-0.039309</td>\n",
       "      <td>-0.042877</td>\n",
       "    </tr>\n",
       "    <tr>\n",
       "      <th>Debt_perc_GDP</th>\n",
       "      <td>1.473809</td>\n",
       "      <td>0.026044</td>\n",
       "      <td>-0.000000</td>\n",
       "      <td>-0.000000</td>\n",
       "    </tr>\n",
       "    <tr>\n",
       "      <th>Debt_Per_Capita</th>\n",
       "      <td>-0.894845</td>\n",
       "      <td>-0.060262</td>\n",
       "      <td>-0.000000</td>\n",
       "      <td>-0.000000</td>\n",
       "    </tr>\n",
       "    <tr>\n",
       "      <th>CPI_perc</th>\n",
       "      <td>0.102970</td>\n",
       "      <td>-0.003946</td>\n",
       "      <td>0.012802</td>\n",
       "      <td>0.011457</td>\n",
       "    </tr>\n",
       "    <tr>\n",
       "      <th>GDP_Mill_dollars</th>\n",
       "      <td>1.340984</td>\n",
       "      <td>0.093459</td>\n",
       "      <td>0.011703</td>\n",
       "      <td>0.013157</td>\n",
       "    </tr>\n",
       "    <tr>\n",
       "      <th>GDP_Growth_perc</th>\n",
       "      <td>0.351007</td>\n",
       "      <td>-0.053969</td>\n",
       "      <td>0.000000</td>\n",
       "      <td>-0.000000</td>\n",
       "    </tr>\n",
       "    <tr>\n",
       "      <th>Unemployment_alt</th>\n",
       "      <td>0.082991</td>\n",
       "      <td>-0.004956</td>\n",
       "      <td>-0.000000</td>\n",
       "      <td>0.000000</td>\n",
       "    </tr>\n",
       "    <tr>\n",
       "      <th>Brent_Oil</th>\n",
       "      <td>0.031935</td>\n",
       "      <td>0.032717</td>\n",
       "      <td>0.011229</td>\n",
       "      <td>0.013186</td>\n",
       "    </tr>\n",
       "    <tr>\n",
       "      <th>Gold</th>\n",
       "      <td>-0.000419</td>\n",
       "      <td>0.032618</td>\n",
       "      <td>0.023591</td>\n",
       "      <td>0.027240</td>\n",
       "    </tr>\n",
       "  </tbody>\n",
       "</table>\n",
       "</div>"
      ],
      "text/plain": [
       "                            Linear     Ridge     Lasso  ElasticNet\n",
       "current_price            -0.173574 -0.032215 -0.006830   -0.007965\n",
       "momentum                  0.012863  0.005182  0.003588    0.003814\n",
       "moving_average            0.162756  0.022383 -0.000000   -0.000000\n",
       "moving_volatility         0.030609  0.022879  0.014218    0.015595\n",
       "trading_range            -0.013323 -0.005943 -0.000000   -0.000000\n",
       "exp_market_change        -0.035254 -0.033173 -0.026853   -0.027740\n",
       "rates                    -0.127628 -0.059727 -0.040086   -0.041456\n",
       "Revenue                  11.746539 -0.009294 -0.000000   -0.000000\n",
       "Cost_of_Sales            -8.008796 -0.022337 -0.000000   -0.000000\n",
       "Gross_profit             -3.835579  0.014967 -0.000000   -0.000000\n",
       "Operating_profit          0.000529 -0.002431 -0.000000   -0.000000\n",
       "Net_Profit               -0.173322 -0.101218 -0.031079   -0.044656\n",
       "Issue_of_shares           0.074876  0.038296  0.003940    0.010336\n",
       "Share_repurchase          0.021671 -0.004782 -0.000000   -0.000000\n",
       "Non_current_assets       -0.188700 -0.005052  0.000000    0.000000\n",
       "Current_assets            0.030281  0.000145 -0.000000   -0.000000\n",
       "Non_current_liabilities   0.113071  0.048937  0.028596    0.033928\n",
       "Current_liabilities       0.092473  0.005035  0.000000    0.000000\n",
       "net_cash_op_act           0.041609  0.028623 -0.000000   -0.000000\n",
       "Debt_M                   -0.011966 -0.038141 -0.039309   -0.042877\n",
       "Debt_perc_GDP             1.473809  0.026044 -0.000000   -0.000000\n",
       "Debt_Per_Capita          -0.894845 -0.060262 -0.000000   -0.000000\n",
       "CPI_perc                  0.102970 -0.003946  0.012802    0.011457\n",
       "GDP_Mill_dollars          1.340984  0.093459  0.011703    0.013157\n",
       "GDP_Growth_perc           0.351007 -0.053969  0.000000   -0.000000\n",
       "Unemployment_alt          0.082991 -0.004956 -0.000000    0.000000\n",
       "Brent_Oil                 0.031935  0.032717  0.011229    0.013186\n",
       "Gold                     -0.000419  0.032618  0.023591    0.027240"
      ]
     },
     "execution_count": 94,
     "metadata": {},
     "output_type": "execute_result"
    }
   ],
   "source": [
    "# Create dataframe for coefficents of linear model\n",
    "lm_coef = pd.DataFrame(lm.coef_,index=X.columns,columns=['Linear'])\n",
    "\n",
    "# Create dataframe for coefficents of ridge model\n",
    "ridge_coef = pd.DataFrame(ridge.coef_,index=X.columns,columns=['Ridge'])\n",
    "\n",
    "# Create dataframe for coefficents of lasso model\n",
    "lasso_coef = pd.DataFrame(lasso.coef_,index=X.columns,columns=['Lasso'])\n",
    "\n",
    "# Create dataframe for coefficents of ElasticNet model\n",
    "enet_coef = pd.DataFrame(enet.coef_,index=X.columns,columns=['ElasticNet'])\n",
    "\n",
    "# Create dataframe for coefficents of SVR models\n",
    "#svr_lin_coef = pd.DataFrame(svr_lin.coef_,index=X.columns,columns=['svr_lin'])\n",
    "#svr_rbf_coef = pd.DataFrame(svr_rbf.coef_,index=X.columns,columns=['svr_rbf'])\n",
    "#svr_poly_coef = pd.DataFrame(svr_poly.coef_,index=X.columns,columns=['svr_poly'])\n",
    "\n",
    "# Put dataframes together\n",
    "coefs = pd.concat([lm_coef, ridge_coef, lasso_coef,enet_coef], axis=1)\n",
    "coefs"
   ]
  },
  {
   "cell_type": "code",
   "execution_count": 95,
   "metadata": {},
   "outputs": [],
   "source": [
    "# Bar chart showing effects of L1 and L2 Regularization\n",
    "#coefs[['Ridge','Lasso','ElasticNet']].plot(kind='bar', figsize=(15,5))"
   ]
  },
  {
   "cell_type": "markdown",
   "metadata": {},
   "source": [
    "### Testing"
   ]
  },
  {
   "cell_type": "code",
   "execution_count": 96,
   "metadata": {},
   "outputs": [],
   "source": [
    "from sklearn import metrics"
   ]
  },
  {
   "cell_type": "code",
   "execution_count": 97,
   "metadata": {},
   "outputs": [],
   "source": [
    "# Get predictions for training data\n",
    "fit_lm = lm.predict(X_train)\n",
    "fit_ridge = ridge.predict(X_train)\n",
    "fit_lasso = lasso.predict(X_train)\n",
    "fit_enet = enet.predict(X_train)\n",
    "fit_svr_rbf = svr_rbf.predict(X_train)\n",
    "fit_svr_lin = svr_lin.predict(X_train)\n",
    "fit_svr_poly = svr_poly.predict(X_train)"
   ]
  },
  {
   "cell_type": "code",
   "execution_count": 98,
   "metadata": {},
   "outputs": [
    {
     "name": "stdout",
     "output_type": "stream",
     "text": [
      "MSE (train)\n",
      "Linear:      0.01327986725951413\n",
      "Ridge:       0.014136847317852695\n",
      "Lasso:       0.014544108501914609\n",
      "ElasticNet:  0.014472560831597862\n",
      "SVR_rbf:     0.01625899042620694\n",
      "SVR_lin:     0.014329328295032265\n",
      "SVR_poly:    0.01625950182338733\n"
     ]
    }
   ],
   "source": [
    "# Print MSE for models\n",
    "print('MSE (train)')\n",
    "print('Linear:     ', metrics.mean_squared_error(y_train, fit_lm))\n",
    "print('Ridge:      ', metrics.mean_squared_error(y_train, fit_ridge))\n",
    "print('Lasso:      ', metrics.mean_squared_error(y_train, fit_lasso))\n",
    "print('ElasticNet: ', metrics.mean_squared_error(y_train, fit_enet))\n",
    "print('SVR_rbf:    ', metrics.mean_squared_error(y_train, fit_svr_rbf)) \n",
    "print('SVR_lin:    ', metrics.mean_squared_error(y_train, fit_svr_lin)) \n",
    "print('SVR_poly:   ', metrics.mean_squared_error(y_train, fit_svr_poly))"
   ]
  },
  {
   "cell_type": "code",
   "execution_count": 99,
   "metadata": {},
   "outputs": [
    {
     "name": "stdout",
     "output_type": "stream",
     "text": [
      "MSE (train)\n",
      "Linear:      0.18325361494876324\n",
      "Ridge:       0.1305471118617263\n",
      "Lasso:       0.10549948952077659\n",
      "ElasticNet:  0.10989985738199703\n",
      "SVR_rbf:     2.9789780215061512e-05\n",
      "SVR_lin:     0.11870903101118813\n",
      "SVR_poly:    -1.6624768179873683e-06\n"
     ]
    }
   ],
   "source": [
    "print('MSE (train)')\n",
    "print('Linear:     ', lm.score(X_train, y_train))\n",
    "print('Ridge:      ', ridge.score(X_train, y_train))\n",
    "print('Lasso:      ', lasso.score(X_train, y_train))\n",
    "print('ElasticNet: ', enet.score(X_train, y_train))\n",
    "print('SVR_rbf:    ', svr_rbf.score(X_train, y_train))\n",
    "print('SVR_lin:    ', svr_lin.score(X_train, y_train)) \n",
    "print('SVR_poly:   ', svr_poly.score(X_train, y_train))"
   ]
  },
  {
   "cell_type": "code",
   "execution_count": 100,
   "metadata": {},
   "outputs": [
    {
     "name": "stdout",
     "output_type": "stream",
     "text": [
      "R-SQUARED SCORES\n",
      "Linear:      0.18325361494876324\n",
      "Ridge:       0.1305471118617263\n",
      "Lasso:       0.10549948952077659\n",
      "ElasticNet:  0.10989985738199703\n",
      "svr_lin:     0.11870903101118813\n"
     ]
    }
   ],
   "source": [
    "# r2_score(y_true, y_pred\n",
    "print('R-SQUARED SCORES')\n",
    "print('Linear:     ', metrics.r2_score(y_train, lm.predict(X_train)))\n",
    "print('Ridge:      ', metrics.r2_score(y_train, ridge.predict(X_train)))\n",
    "print('Lasso:      ', metrics.r2_score(y_train, lasso.predict(X_train)))\n",
    "print('ElasticNet: ', metrics.r2_score(y_train, enet.predict(X_train)))\n",
    "print('svr_lin:    ', metrics.r2_score(y_train, svr_lin.predict(X_train)))"
   ]
  },
  {
   "cell_type": "code",
   "execution_count": 101,
   "metadata": {},
   "outputs": [],
   "source": [
    "def adj_r2_score(model,y,yhat):\n",
    "    adj = 1 - (1 - metrics.r2_score(y,yhat)) * float(len(y)-1) / (len(y)-len(model.coef_)-1)\n",
    "    return adj"
   ]
  },
  {
   "cell_type": "code",
   "execution_count": 102,
   "metadata": {},
   "outputs": [
    {
     "name": "stdout",
     "output_type": "stream",
     "text": [
      "Adjusted R-SQUARED SCORES\n",
      "Linear:      0.08116031681735869\n",
      "Ridge:       0.021865500844442165\n",
      "Lasso:      -0.006313074289126197\n",
      "ElasticNet: -0.0013626604452532387\n",
      "svr_lin:     0.11519791161282633\n"
     ]
    }
   ],
   "source": [
    "print('Adjusted R-SQUARED SCORES')\n",
    "print('Linear:     ', adj_r2_score(lm, y_train, lm.predict(X_train)))\n",
    "print('Ridge:      ', adj_r2_score(ridge, y_train, ridge.predict(X_train)))\n",
    "print('Lasso:     ', adj_r2_score(lasso, y_train, lasso.predict(X_train)))\n",
    "print('ElasticNet:', adj_r2_score(enet, y_train, enet.predict(X_train)))\n",
    "print('svr_lin:    ', adj_r2_score(svr_lin, y_train, svr_lin.predict(X_train)))"
   ]
  },
  {
   "cell_type": "markdown",
   "metadata": {},
   "source": [
    "---\n",
    "### Predicting"
   ]
  },
  {
   "cell_type": "code",
   "execution_count": 103,
   "metadata": {},
   "outputs": [],
   "source": [
    "pred_lm = lm.predict(X_test)\n",
    "pred_ridge = ridge.predict(X_test)\n",
    "pred_lasso = lasso.predict(X_test)\n",
    "pred_enet = enet.predict(X_test)\n",
    "pred_svr_rbf = svr_rbf.predict(X_test) \n",
    "pred_svr_lin = svr_lin.predict(X_test)\n",
    "pred_svr_poly = svr_poly.predict(X_test)"
   ]
  },
  {
   "cell_type": "markdown",
   "metadata": {},
   "source": [
    "### Testing"
   ]
  },
  {
   "cell_type": "markdown",
   "metadata": {},
   "source": [
    "Firstly we plot the actual returns vs. the predictions by our models."
   ]
  },
  {
   "cell_type": "code",
   "execution_count": 104,
   "metadata": {},
   "outputs": [
    {
     "data": {
      "image/png": "[encoded data removed]",
      "text/plain": [
       "<matplotlib.figure.Figure at 0x1a38600bf98>"
      ]
     },
     "metadata": {},
     "output_type": "display_data"
    }
   ],
   "source": [
    "# Create figure and axes\n",
    "f, ax = plt.subplots(figsize=(20,5), nrows=1, ncols=6)\n",
    "\n",
    "# Create list of titles and predictions to use in for loop\n",
    "pred = [pred_lm, pred_ridge, pred_lasso, pred_enet,pred_svr_lin,pred_svr_poly]\n",
    "title = ['Linear Model', 'Ridge', 'Lasso', 'ElasticNet','svr_lin','pred_svr_poly']\n",
    "\n",
    "# Loop through all axes to plot each model's results \n",
    "for i in range(6):\n",
    "    ax[i].set_title(title[i])\n",
    "    ax[i].set_xlabel('Actual')\n",
    "    ax[i].set_ylabel('Predicted')\n",
    "    ax[i].set_xlim(0, 0.4)\n",
    "    ax[i].set_ylim(0, 0.4)\n",
    "    ax[i].scatter(y_test,pred[i]) "
   ]
  },
  {
   "cell_type": "markdown",
   "metadata": {},
   "source": [
    "Secondly we calculate the MSE for each model on our testing set. "
   ]
  },
  {
   "cell_type": "code",
   "execution_count": 105,
   "metadata": {},
   "outputs": [
    {
     "name": "stdout",
     "output_type": "stream",
     "text": [
      "MSE:\n",
      "Linear:      0.025352709490007192\n",
      "Ridge:       0.016104094449690708\n",
      "Lasso:       0.013834331665796\n",
      "ElasticNet:  0.014019389238475424\n",
      "SVR_rbf:     0.01566647972081681\n",
      "SVR_lin:     0.025270444829899034\n",
      "SVR_poly:    0.015667259026511313\n"
     ]
    }
   ],
   "source": [
    "print('MSE:')\n",
    "print('Linear:     ', metrics.mean_squared_error(y_test, pred_lm))\n",
    "print('Ridge:      ', metrics.mean_squared_error(y_test, pred_ridge))\n",
    "print('Lasso:      ', metrics.mean_squared_error(y_test, pred_lasso))\n",
    "print('ElasticNet: ', metrics.mean_squared_error(y_test, pred_enet))\n",
    "print('SVR_rbf:    ', metrics.mean_squared_error(y_test, pred_svr_rbf)) \n",
    "print('SVR_lin:    ', metrics.mean_squared_error(y_test, pred_svr_lin)) \n",
    "print('SVR_poly:   ', metrics.mean_squared_error(y_test, pred_svr_poly))"
   ]
  },
  {
   "cell_type": "code",
   "execution_count": 106,
   "metadata": {},
   "outputs": [
    {
     "name": "stdout",
     "output_type": "stream",
     "text": [
      "Adjusted R-SQUARED SCORES\n",
      "Linear:      -1.1911761246217867\n",
      "Ridge:       -0.39183968801144875\n",
      "Lasso:       -0.19566933302097111\n",
      "ElasticNet:  -0.21166343160421897\n",
      "svr_lin:  -0.6329466766755347\n"
     ]
    }
   ],
   "source": [
    "print('Adjusted R-SQUARED SCORES')\n",
    "print('Linear:     ', adj_r2_score(lm, y_test, lm.predict(X_test)))\n",
    "print('Ridge:      ', adj_r2_score(ridge, y_test, ridge.predict(X_test)))\n",
    "print('Lasso:      ', adj_r2_score(lasso, y_test, lasso.predict(X_test)))\n",
    "print('ElasticNet: ', adj_r2_score(enet, y_test, enet.predict(X_test)))\n",
    "print('svr_lin: ', adj_r2_score(svr_lin, y_test, svr_lin.predict(X_test)))"
   ]
  },
  {
   "cell_type": "code",
   "execution_count": null,
   "metadata": {},
   "outputs": [],
   "source": []
  }
 ],
 "metadata": {
  "kernelspec": {
   "display_name": "Python 3",
   "language": "python",
   "name": "python3"
  },
  "language_info": {
   "codemirror_mode": {
    "name": "ipython",
    "version": 3
   },
   "file_extension": ".py",
   "mimetype": "text/x-python",
   "name": "python",
   "nbconvert_exporter": "python",
   "pygments_lexer": "ipython3",
   "version": "3.6.4"
  }
 },
 "nbformat": 4,
 "nbformat_minor": 2
}
