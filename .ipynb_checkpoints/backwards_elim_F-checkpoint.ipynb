{
 "cells": [
  {
   "cell_type": "code",
   "execution_count": 18,
   "metadata": {},
   "outputs": [],
   "source": [
    "import numpy as np\n",
    "import pandas as pd"
   ]
  },
  {
   "cell_type": "code",
   "execution_count": 19,
   "metadata": {},
   "outputs": [],
   "source": [
    "data = pd.read_csv('data_source/Data_all_F.csv', parse_dates=True,infer_datetime_format= True)\\\n",
    "         .drop('Unnamed: 0', axis=1)"
   ]
  },
  {
   "cell_type": "code",
   "execution_count": 20,
   "metadata": {},
   "outputs": [
    {
     "data": {
      "text/html": [
       "<div>\n",
       "<style scoped>\n",
       "    .dataframe tbody tr th:only-of-type {\n",
       "        vertical-align: middle;\n",
       "    }\n",
       "\n",
       "    .dataframe tbody tr th {\n",
       "        vertical-align: top;\n",
       "    }\n",
       "\n",
       "    .dataframe thead th {\n",
       "        text-align: right;\n",
       "    }\n",
       "</style>\n",
       "<table border=\"1\" class=\"dataframe\">\n",
       "  <thead>\n",
       "    <tr style=\"text-align: right;\">\n",
       "      <th></th>\n",
       "      <th>Date</th>\n",
       "      <th>company</th>\n",
       "      <th>current_price</th>\n",
       "      <th>momentum</th>\n",
       "      <th>moving_average</th>\n",
       "      <th>moving_volatility</th>\n",
       "      <th>trading_range</th>\n",
       "      <th>target_return</th>\n",
       "      <th>exp_market_change</th>\n",
       "      <th>rates</th>\n",
       "      <th>...</th>\n",
       "      <th>net_cash_op_act</th>\n",
       "      <th>Debt_M</th>\n",
       "      <th>Debt_perc_GDP</th>\n",
       "      <th>Debt_Per_Capita</th>\n",
       "      <th>CPI_perc</th>\n",
       "      <th>GDP_Mill_dollars</th>\n",
       "      <th>GDP_Growth_perc</th>\n",
       "      <th>Unemployment_alt</th>\n",
       "      <th>Brent_Oil</th>\n",
       "      <th>Gold</th>\n",
       "    </tr>\n",
       "  </thead>\n",
       "  <tbody>\n",
       "    <tr>\n",
       "      <th>0</th>\n",
       "      <td>2010/02/17</td>\n",
       "      <td>Anglogold Ashanti Ltd</td>\n",
       "      <td>29500.0</td>\n",
       "      <td>-0.103343</td>\n",
       "      <td>30598.216667</td>\n",
       "      <td>1854.530002</td>\n",
       "      <td>850.55</td>\n",
       "      <td>0.090136</td>\n",
       "      <td>-0.016852</td>\n",
       "      <td>7.08</td>\n",
       "      <td>...</td>\n",
       "      <td>959.6</td>\n",
       "      <td>130020</td>\n",
       "      <td>34.68</td>\n",
       "      <td>2557.0</td>\n",
       "      <td>5.468</td>\n",
       "      <td>375.304</td>\n",
       "      <td>3.0</td>\n",
       "      <td>24.7</td>\n",
       "      <td>589.386061</td>\n",
       "      <td>8532.49315</td>\n",
       "    </tr>\n",
       "  </tbody>\n",
       "</table>\n",
       "<p>1 rows × 31 columns</p>\n",
       "</div>"
      ],
      "text/plain": [
       "         Date                 company  current_price  momentum  \\\n",
       "0  2010/02/17   Anglogold Ashanti Ltd        29500.0 -0.103343   \n",
       "\n",
       "   moving_average  moving_volatility  trading_range  target_return  \\\n",
       "0    30598.216667        1854.530002         850.55       0.090136   \n",
       "\n",
       "   exp_market_change  rates     ...      net_cash_op_act  Debt_M  \\\n",
       "0          -0.016852   7.08     ...                959.6  130020   \n",
       "\n",
       "   Debt_perc_GDP  Debt_Per_Capita  CPI_perc  GDP_Mill_dollars  \\\n",
       "0          34.68           2557.0     5.468           375.304   \n",
       "\n",
       "   GDP_Growth_perc  Unemployment_alt   Brent_Oil        Gold  \n",
       "0              3.0              24.7  589.386061  8532.49315  \n",
       "\n",
       "[1 rows x 31 columns]"
      ]
     },
     "execution_count": 20,
     "metadata": {},
     "output_type": "execute_result"
    }
   ],
   "source": [
    "data.head(1)"
   ]
  },
  {
   "cell_type": "code",
   "execution_count": 21,
   "metadata": {},
   "outputs": [],
   "source": [
    "# Lables\n",
    "y = data['target_return']\n",
    "\n",
    "# Features\n",
    "X = data.drop(['Date', 'company', 'target_return'], axis=1)"
   ]
  },
  {
   "cell_type": "markdown",
   "metadata": {},
   "source": [
    "#### Train, Test, Split"
   ]
  },
  {
   "cell_type": "code",
   "execution_count": 22,
   "metadata": {},
   "outputs": [],
   "source": [
    "from sklearn.model_selection import train_test_split"
   ]
  },
  {
   "cell_type": "code",
   "execution_count": 23,
   "metadata": {},
   "outputs": [],
   "source": [
    "X_train, X_test, y_train, y_test = train_test_split(X, y, test_size=0.3, random_state=50)"
   ]
  },
  {
   "cell_type": "markdown",
   "metadata": {},
   "source": [
    "---\n",
    "## Backwards Elimination using statsmodel\n",
    "using a Significance Level = 0.05"
   ]
  },
  {
   "cell_type": "code",
   "execution_count": 24,
   "metadata": {},
   "outputs": [],
   "source": [
    "from pandas.core import datetools\n",
    "import statsmodels.api as sm\n",
    "import statsmodels.formula.api as smf"
   ]
  },
  {
   "cell_type": "markdown",
   "metadata": {},
   "source": [
    "## All features"
   ]
  },
  {
   "cell_type": "code",
   "execution_count": 26,
   "metadata": {},
   "outputs": [
    {
     "name": "stdout",
     "output_type": "stream",
     "text": [
      "                            OLS Regression Results                            \n",
      "==============================================================================\n",
      "Dep. Variable:          target_return   R-squared:                       0.219\n",
      "Model:                            OLS   Adj. R-squared:                  0.126\n",
      "Method:                 Least Squares   F-statistic:                     2.342\n",
      "Date:                Wed, 25 Apr 2018   Prob (F-statistic):           0.000387\n",
      "Time:                        10:42:34   Log-Likelihood:                 226.62\n",
      "No. Observations:                 253   AIC:                            -397.2\n",
      "Df Residuals:                     225   BIC:                            -298.3\n",
      "Df Model:                          27                                         \n",
      "Covariance Type:            nonrobust                                         \n",
      "===========================================================================================\n",
      "                              coef    std err          t      P>|t|      [0.025      0.975]\n",
      "-------------------------------------------------------------------------------------------\n",
      "Intercept                   0.0020      0.001      2.036      0.043    6.38e-05       0.004\n",
      "current_price           -8.475e-07    7.1e-06     -0.119      0.905   -1.48e-05    1.31e-05\n",
      "momentum                   -0.0150      0.071     -0.212      0.833      -0.155       0.125\n",
      "moving_average            8.16e-07   7.09e-06      0.115      0.908   -1.32e-05    1.48e-05\n",
      "moving_volatility        7.464e-06    1.9e-05      0.392      0.696   -3.01e-05     4.5e-05\n",
      "trading_range           -8.227e-06   6.74e-05     -0.122      0.903      -0.000       0.000\n",
      "exp_market_change          -0.7911      0.193     -4.100      0.000      -1.171      -0.411\n",
      "rates                      -0.1869      0.035     -5.323      0.000      -0.256      -0.118\n",
      "Revenue                 -1.639e-05   3.91e-05     -0.419      0.675   -9.34e-05    6.06e-05\n",
      "Cost_of_Sales            1.641e-05   3.91e-05      0.420      0.675   -6.06e-05    9.35e-05\n",
      "Gross_profit             1.642e-05   3.91e-05      0.420      0.675   -6.07e-05    9.35e-05\n",
      "Operating_profit        -1.539e-07      5e-07     -0.308      0.759   -1.14e-06    8.32e-07\n",
      "Net_Profit              -1.609e-06   2.44e-06     -0.659      0.511   -6.42e-06     3.2e-06\n",
      "Issue_of_shares          6.399e-07   6.97e-07      0.918      0.360   -7.34e-07    2.01e-06\n",
      "Share_repurchase         1.216e-06   3.37e-06      0.361      0.718   -5.42e-06    7.85e-06\n",
      "Non_current_assets       1.057e-08   3.59e-08      0.295      0.768   -6.01e-08    8.12e-08\n",
      "Current_assets            2.87e-08   4.21e-08      0.682      0.496   -5.42e-08    1.12e-07\n",
      "Non_current_liabilities  1.687e-08   2.28e-08      0.741      0.460    -2.8e-08    6.17e-08\n",
      "Current_liabilities     -2.044e-08   4.68e-08     -0.437      0.663   -1.13e-07    7.18e-08\n",
      "net_cash_op_act          1.087e-07   1.02e-06      0.106      0.916   -1.91e-06    2.13e-06\n",
      "Debt_M                      0.0004      0.000      3.259      0.001       0.000       0.001\n",
      "Debt_perc_GDP              -0.1122      0.057     -1.954      0.052      -0.225       0.001\n",
      "Debt_Per_Capita            -0.0241      0.007     -3.464      0.001      -0.038      -0.010\n",
      "CPI_perc                    0.0651      0.022      2.939      0.004       0.021       0.109\n",
      "GDP_Mill_dollars            0.0276      0.007      4.060      0.000       0.014       0.041\n",
      "GDP_Growth_perc             0.2073      0.101      2.043      0.042       0.007       0.407\n",
      "Unemployment_alt            0.1062      0.061      1.750      0.081      -0.013       0.226\n",
      "Brent_Oil                   0.0001      0.000      1.294      0.197   -7.23e-05       0.000\n",
      "Gold                    -5.828e-06   9.14e-06     -0.637      0.524   -2.38e-05    1.22e-05\n",
      "==============================================================================\n",
      "Omnibus:                       14.150   Durbin-Watson:                   1.932\n",
      "Prob(Omnibus):                  0.001   Jarque-Bera (JB):               21.594\n",
      "Skew:                           0.362   Prob(JB):                     2.05e-05\n",
      "Kurtosis:                       4.234   Cond. No.                     8.73e+16\n",
      "==============================================================================\n",
      "\n",
      "Warnings:\n",
      "[1] Standard Errors assume that the covariance matrix of the errors is correctly specified.\n",
      "[2] The smallest eigenvalue is 2.02e-18. This might indicate that there are\n",
      "strong multicollinearity problems or that the design matrix is singular.\n"
     ]
    }
   ],
   "source": [
    "traindata = X_train.join(y_train)\n",
    "lm_sm = smf.ols( 'target_return~ current_price + momentum + moving_average\\\n",
    "             + moving_volatility + trading_range + exp_market_change\\\n",
    "             + rates + Revenue + Cost_of_Sales + Gross_profit\\\n",
    "             + Operating_profit + Net_Profit + Issue_of_shares\\\n",
    "             + Share_repurchase + Non_current_assets + Current_assets\\\n",
    "             + Non_current_liabilities + Current_liabilities + net_cash_op_act\\\n",
    "             + Debt_M + Debt_perc_GDP + Debt_Per_Capita + CPI_perc + GDP_Mill_dollars\\\n",
    "             + GDP_Growth_perc + Unemployment_alt + Brent_Oil + Gold',\n",
    "             data = traindata).fit()\n",
    "print(lm_sm.summary()) "
   ]
  },
  {
   "cell_type": "markdown",
   "metadata": {},
   "source": [
    "## Significant Features"
   ]
  },
  {
   "cell_type": "code",
   "execution_count": 46,
   "metadata": {},
   "outputs": [
    {
     "name": "stdout",
     "output_type": "stream",
     "text": [
      "                            OLS Regression Results                            \n",
      "==============================================================================\n",
      "Dep. Variable:          target_return   R-squared:                       0.186\n",
      "Model:                            OLS   Adj. R-squared:                  0.159\n",
      "Method:                 Least Squares   F-statistic:                     6.951\n",
      "Date:                Wed, 25 Apr 2018   Prob (F-statistic):           3.00e-08\n",
      "Time:                        10:50:06   Log-Likelihood:                 221.26\n",
      "No. Observations:                 253   AIC:                            -424.5\n",
      "Df Residuals:                     244   BIC:                            -392.7\n",
      "Df Model:                           8                                         \n",
      "Covariance Type:            nonrobust                                         \n",
      "=====================================================================================\n",
      "                        coef    std err          t      P>|t|      [0.025      0.975]\n",
      "-------------------------------------------------------------------------------------\n",
      "Intercept             0.0029      0.001      4.731      0.000       0.002       0.004\n",
      "exp_market_change    -0.6845      0.162     -4.224      0.000      -1.004      -0.365\n",
      "rates                -0.1698      0.031     -5.526      0.000      -0.230      -0.109\n",
      "Debt_M                0.0005      0.000      4.400      0.000       0.000       0.001\n",
      "Debt_perc_GDP        -0.1629      0.041     -3.955      0.000      -0.244      -0.082\n",
      "Debt_Per_Capita      -0.0268      0.006     -4.449      0.000      -0.039      -0.015\n",
      "CPI_perc              0.0790      0.014      5.530      0.000       0.051       0.107\n",
      "GDP_Mill_dollars      0.0257      0.006      4.354      0.000       0.014       0.037\n",
      "GDP_Growth_perc       0.2856      0.069      4.158      0.000       0.150       0.421\n",
      "Unemployment_alt      0.1620      0.041      3.904      0.000       0.080       0.244\n",
      "==============================================================================\n",
      "Omnibus:                       11.573   Durbin-Watson:                   1.970\n",
      "Prob(Omnibus):                  0.003   Jarque-Bera (JB):               15.330\n",
      "Skew:                           0.348   Prob(JB):                     0.000469\n",
      "Kurtosis:                       3.985   Cond. No.                     5.54e+20\n",
      "==============================================================================\n",
      "\n",
      "Warnings:\n",
      "[1] Standard Errors assume that the covariance matrix of the errors is correctly specified.\n",
      "[2] The smallest eigenvalue is  2e-29. This might indicate that there are\n",
      "strong multicollinearity problems or that the design matrix is singular.\n"
     ]
    }
   ],
   "source": [
    "traindata = X_train.join(y_train)\n",
    "lm_sm = smf.ols( 'target_return~ exp_market_change + rates + Debt_M + Debt_perc_GDP\\\n",
    "                  + Debt_Per_Capita + CPI_perc + GDP_Mill_dollars\\\n",
    "                  + GDP_Growth_perc + Unemployment_alt',\n",
    "                 data = traindata).fit()\n",
    "print(lm_sm.summary()) "
   ]
  },
  {
   "cell_type": "markdown",
   "metadata": {},
   "source": [
    "### Significant Features Dataset"
   ]
  },
  {
   "cell_type": "code",
   "execution_count": 49,
   "metadata": {},
   "outputs": [],
   "source": [
    "data_signif = data.drop(['Date', 'company', 'Revenue','Cost_of_Sales','Gross_profit','Operating_profit','Net_Profit','Issue_of_shares','Share_repurchase','Non_current_assets','Current_assets','Non_current_liabilities','Current_liabilities','net_cash_op_act',\\\n",
    "                'current_price','momentum','moving_average','moving_volatility','trading_range','Debt_perc_GDP','Brent_Oil','Gold'], axis=1)"
   ]
  },
  {
   "cell_type": "code",
   "execution_count": 50,
   "metadata": {},
   "outputs": [
    {
     "data": {
      "text/html": [
       "<div>\n",
       "<style scoped>\n",
       "    .dataframe tbody tr th:only-of-type {\n",
       "        vertical-align: middle;\n",
       "    }\n",
       "\n",
       "    .dataframe tbody tr th {\n",
       "        vertical-align: top;\n",
       "    }\n",
       "\n",
       "    .dataframe thead th {\n",
       "        text-align: right;\n",
       "    }\n",
       "</style>\n",
       "<table border=\"1\" class=\"dataframe\">\n",
       "  <thead>\n",
       "    <tr style=\"text-align: right;\">\n",
       "      <th></th>\n",
       "      <th>target_return</th>\n",
       "      <th>exp_market_change</th>\n",
       "      <th>rates</th>\n",
       "      <th>Debt_M</th>\n",
       "      <th>Debt_Per_Capita</th>\n",
       "      <th>CPI_perc</th>\n",
       "      <th>GDP_Mill_dollars</th>\n",
       "      <th>GDP_Growth_perc</th>\n",
       "      <th>Unemployment_alt</th>\n",
       "    </tr>\n",
       "  </thead>\n",
       "  <tbody>\n",
       "    <tr>\n",
       "      <th>0</th>\n",
       "      <td>0.090136</td>\n",
       "      <td>-0.016852</td>\n",
       "      <td>7.08</td>\n",
       "      <td>130020</td>\n",
       "      <td>2557.0</td>\n",
       "      <td>5.468</td>\n",
       "      <td>375.304</td>\n",
       "      <td>3.0</td>\n",
       "      <td>24.7</td>\n",
       "    </tr>\n",
       "    <tr>\n",
       "      <th>1</th>\n",
       "      <td>-0.053612</td>\n",
       "      <td>0.044321</td>\n",
       "      <td>6.58</td>\n",
       "      <td>130020</td>\n",
       "      <td>2557.0</td>\n",
       "      <td>5.468</td>\n",
       "      <td>375.304</td>\n",
       "      <td>3.0</td>\n",
       "      <td>24.7</td>\n",
       "    </tr>\n",
       "    <tr>\n",
       "      <th>2</th>\n",
       "      <td>0.050286</td>\n",
       "      <td>0.008204</td>\n",
       "      <td>6.42</td>\n",
       "      <td>130020</td>\n",
       "      <td>2557.0</td>\n",
       "      <td>5.468</td>\n",
       "      <td>375.304</td>\n",
       "      <td>3.0</td>\n",
       "      <td>24.7</td>\n",
       "    </tr>\n",
       "    <tr>\n",
       "      <th>3</th>\n",
       "      <td>-0.060365</td>\n",
       "      <td>0.136024</td>\n",
       "      <td>5.65</td>\n",
       "      <td>130020</td>\n",
       "      <td>2557.0</td>\n",
       "      <td>5.468</td>\n",
       "      <td>375.304</td>\n",
       "      <td>3.0</td>\n",
       "      <td>24.7</td>\n",
       "    </tr>\n",
       "    <tr>\n",
       "      <th>4</th>\n",
       "      <td>-0.061601</td>\n",
       "      <td>0.076571</td>\n",
       "      <td>5.53</td>\n",
       "      <td>159429</td>\n",
       "      <td>3091.0</td>\n",
       "      <td>3.571</td>\n",
       "      <td>416.879</td>\n",
       "      <td>3.3</td>\n",
       "      <td>24.7</td>\n",
       "    </tr>\n",
       "  </tbody>\n",
       "</table>\n",
       "</div>"
      ],
      "text/plain": [
       "   target_return  exp_market_change  rates  Debt_M  Debt_Per_Capita  CPI_perc  \\\n",
       "0       0.090136          -0.016852   7.08  130020           2557.0     5.468   \n",
       "1      -0.053612           0.044321   6.58  130020           2557.0     5.468   \n",
       "2       0.050286           0.008204   6.42  130020           2557.0     5.468   \n",
       "3      -0.060365           0.136024   5.65  130020           2557.0     5.468   \n",
       "4      -0.061601           0.076571   5.53  159429           3091.0     3.571   \n",
       "\n",
       "   GDP_Mill_dollars  GDP_Growth_perc  Unemployment_alt  \n",
       "0           375.304              3.0              24.7  \n",
       "1           375.304              3.0              24.7  \n",
       "2           375.304              3.0              24.7  \n",
       "3           375.304              3.0              24.7  \n",
       "4           416.879              3.3              24.7  "
      ]
     },
     "execution_count": 50,
     "metadata": {},
     "output_type": "execute_result"
    }
   ],
   "source": [
    "data_signif.head()"
   ]
  },
  {
   "cell_type": "code",
   "execution_count": 51,
   "metadata": {},
   "outputs": [],
   "source": [
    "data_signif.to_csv('data_source/data_signif_F.csv')"
   ]
  },
  {
   "cell_type": "code",
   "execution_count": null,
   "metadata": {},
   "outputs": [],
   "source": []
  }
 ],
 "metadata": {
  "kernelspec": {
   "display_name": "Python 3",
   "language": "python",
   "name": "python3"
  },
  "language_info": {
   "codemirror_mode": {
    "name": "ipython",
    "version": 3
   },
   "file_extension": ".py",
   "mimetype": "text/x-python",
   "name": "python",
   "nbconvert_exporter": "python",
   "pygments_lexer": "ipython3",
   "version": "3.6.4"
  }
 },
 "nbformat": 4,
 "nbformat_minor": 2
}
