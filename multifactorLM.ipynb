{
 "cells": [
  {
   "cell_type": "markdown",
   "metadata": {
    "colab_type": "text",
    "id": "ln2z4MZOwkTv"
   },
   "source": [
    "# Predict Stock Returns in Scikit Learn - Multifactor Linear Regression "
   ]
  },
  {
   "cell_type": "markdown",
   "metadata": {
    "colab_type": "text",
    "id": "yIkVbmudwkTx"
   },
   "source": [
    "In the previous notebook we prepared the stock data. Now we will use it to build a multifactor linear model to predict stock returns. \n",
    "\n",
    "A **multifactor linear model** has the form:\n",
    "\n",
    "$$Y~=~\\beta_0+\\beta_1X_1+\\beta_2X_2+...+\\beta_pX_p+error$$\n",
    "\n",
    "where $X_i$ is the i'th feature (predictor) and $\\beta_i$ is the coefficient of the i'th feature.\n",
    "\n",
    "We fit a model to predict $Y$ by estimating values for all the coefficients. \n",
    "\n",
    "The coefficients are estimated by minimizing the **least squares**:\n",
    "\n",
    "$$\\sum_{i=1}^n(y_i-\\hat{y}_i)^2$$\n",
    "\n",
    "We will use Scikit Learn to build our multifactor linear model to predict stock returns. Building a model in Scikit Learn consists of the following steps: \n",
    "* Preprocessing of the data\n",
    "* Training/fitting the model\n",
    "* Predicting results\n",
    "* Testing the output\n",
    "\n",
    "We will go through each of the steps above. Let's start by importing the libraries we will need and read in the data.csv file we created in the previous notebook."
   ]
  },
  {
   "cell_type": "code",
   "execution_count": null,
   "metadata": {
    "colab": {
     "autoexec": {
      "startup": false,
      "wait_interval": 0
     }
    },
    "colab_type": "code",
    "id": "l3F-J5FjwkTy"
   },
   "outputs": [],
   "source": [
    "import numpy as np\n",
    "import pandas as pd\n",
    "import matplotlib.pyplot as plt\n",
    "import seaborn as sns\n",
    "% matplotlib inline"
   ]
  },
  {
   "cell_type": "code",
   "execution_count": null,
   "metadata": {
    "colab": {
     "autoexec": {
      "startup": false,
      "wait_interval": 0
     }
    },
    "colab_type": "code",
    "id": "bh4SGSemwkT3"
   },
   "outputs": [],
   "source": [
    "df = pd.read_csv('data.csv').drop('Unnamed: 0', axis=1)"
   ]
  },
  {
   "cell_type": "code",
   "execution_count": null,
   "metadata": {
    "colab": {
     "autoexec": {
      "startup": false,
      "wait_interval": 0
     },
     "output_extras": [
      {},
      {}
     ]
    },
    "colab_type": "code",
    "id": "-fp8iYWSwkT6",
    "outputId": "9d4e467b-b515-457b-f4ee-2bbdbf4dc031"
   },
   "outputs": [
    {
     "name": "stdout",
     "output_type": "stream",
     "text": [
      "<class 'pandas.core.frame.DataFrame'>\n",
      "RangeIndex: 362 entries, 0 to 361\n",
      "Data columns (total 22 columns):\n",
      "Date                       362 non-null object\n",
      "company                    362 non-null object\n",
      "current_price              362 non-null float64\n",
      "momentum                   362 non-null float64\n",
      "moving_average             362 non-null float64\n",
      "moving_volatility          362 non-null float64\n",
      "trading_range              362 non-null float64\n",
      "target_return              362 non-null float64\n",
      "exp_market_change          362 non-null float64\n",
      "rates                      362 non-null float64\n",
      "Revenue                    362 non-null float64\n",
      "Cost_of_Sales              362 non-null float64\n",
      "Gross_profit               362 non-null float64\n",
      "Operating_profit           362 non-null float64\n",
      "Net_Profit                 362 non-null float64\n",
      "Issue_of_shares            362 non-null float64\n",
      "Share_repurchase           362 non-null float64\n",
      "Non_current_assets         362 non-null float64\n",
      "Current_assets             362 non-null float64\n",
      "Non_current_liabilities    362 non-null float64\n",
      "Current_liabilities        362 non-null float64\n",
      "net_cash_op_act            362 non-null float64\n",
      "dtypes: float64(20), object(2)\n",
      "memory usage: 62.3+ KB\n",
      "None\n"
     ]
    },
    {
     "data": {
      "text/html": [
       "<div>\n",
       "<style>\n",
       "    .dataframe thead tr:only-child th {\n",
       "        text-align: right;\n",
       "    }\n",
       "\n",
       "    .dataframe thead th {\n",
       "        text-align: left;\n",
       "    }\n",
       "\n",
       "    .dataframe tbody tr th {\n",
       "        vertical-align: top;\n",
       "    }\n",
       "</style>\n",
       "<table border=\"1\" class=\"dataframe\">\n",
       "  <thead>\n",
       "    <tr style=\"text-align: right;\">\n",
       "      <th></th>\n",
       "      <th>Date</th>\n",
       "      <th>company</th>\n",
       "      <th>current_price</th>\n",
       "      <th>momentum</th>\n",
       "      <th>moving_average</th>\n",
       "      <th>moving_volatility</th>\n",
       "      <th>trading_range</th>\n",
       "      <th>target_return</th>\n",
       "      <th>exp_market_change</th>\n",
       "      <th>rates</th>\n",
       "      <th>...</th>\n",
       "      <th>Gross_profit</th>\n",
       "      <th>Operating_profit</th>\n",
       "      <th>Net_Profit</th>\n",
       "      <th>Issue_of_shares</th>\n",
       "      <th>Share_repurchase</th>\n",
       "      <th>Non_current_assets</th>\n",
       "      <th>Current_assets</th>\n",
       "      <th>Non_current_liabilities</th>\n",
       "      <th>Current_liabilities</th>\n",
       "      <th>net_cash_op_act</th>\n",
       "    </tr>\n",
       "  </thead>\n",
       "  <tbody>\n",
       "    <tr>\n",
       "      <th>0</th>\n",
       "      <td>2010/02/17</td>\n",
       "      <td>Anglogold Ashanti Ltd</td>\n",
       "      <td>29500.0</td>\n",
       "      <td>-0.103343</td>\n",
       "      <td>30598.216667</td>\n",
       "      <td>1854.530002</td>\n",
       "      <td>850.550000</td>\n",
       "      <td>0.090136</td>\n",
       "      <td>-0.016852</td>\n",
       "      <td>7.08</td>\n",
       "      <td>...</td>\n",
       "      <td>329.5</td>\n",
       "      <td>431.7</td>\n",
       "      <td>317.9</td>\n",
       "      <td>3.9</td>\n",
       "      <td>3.9</td>\n",
       "      <td>732.8</td>\n",
       "      <td>237.2</td>\n",
       "      <td>220.7</td>\n",
       "      <td>454.3</td>\n",
       "      <td>959.6</td>\n",
       "    </tr>\n",
       "    <tr>\n",
       "      <th>1</th>\n",
       "      <td>2010/05/06</td>\n",
       "      <td>Anglogold Ashanti Ltd</td>\n",
       "      <td>31150.0</td>\n",
       "      <td>0.139982</td>\n",
       "      <td>28743.150000</td>\n",
       "      <td>1079.933674</td>\n",
       "      <td>697.066667</td>\n",
       "      <td>-0.053612</td>\n",
       "      <td>0.044321</td>\n",
       "      <td>6.58</td>\n",
       "      <td>...</td>\n",
       "      <td>239.3</td>\n",
       "      <td>141.3</td>\n",
       "      <td>115.0</td>\n",
       "      <td>0.3</td>\n",
       "      <td>0.0</td>\n",
       "      <td>741.4</td>\n",
       "      <td>188.0</td>\n",
       "      <td>221.0</td>\n",
       "      <td>396.3</td>\n",
       "      <td>816.6</td>\n",
       "    </tr>\n",
       "    <tr>\n",
       "      <th>2</th>\n",
       "      <td>2010/08/11</td>\n",
       "      <td>Anglogold Ashanti Ltd</td>\n",
       "      <td>31420.0</td>\n",
       "      <td>-0.026943</td>\n",
       "      <td>31682.016667</td>\n",
       "      <td>1388.464601</td>\n",
       "      <td>864.983333</td>\n",
       "      <td>0.050286</td>\n",
       "      <td>0.008204</td>\n",
       "      <td>6.42</td>\n",
       "      <td>...</td>\n",
       "      <td>381.9</td>\n",
       "      <td>-8.9</td>\n",
       "      <td>-136.0</td>\n",
       "      <td>2.6</td>\n",
       "      <td>0.0</td>\n",
       "      <td>719.6</td>\n",
       "      <td>203.3</td>\n",
       "      <td>306.8</td>\n",
       "      <td>328.0</td>\n",
       "      <td>1003.0</td>\n",
       "    </tr>\n",
       "    <tr>\n",
       "      <th>3</th>\n",
       "      <td>2010/11/10</td>\n",
       "      <td>Anglogold Ashanti Ltd</td>\n",
       "      <td>34987.0</td>\n",
       "      <td>0.096771</td>\n",
       "      <td>32142.716667</td>\n",
       "      <td>784.923382</td>\n",
       "      <td>705.033333</td>\n",
       "      <td>-0.060365</td>\n",
       "      <td>0.136024</td>\n",
       "      <td>5.65</td>\n",
       "      <td>...</td>\n",
       "      <td>400.9</td>\n",
       "      <td>138.2</td>\n",
       "      <td>44.3</td>\n",
       "      <td>559.6</td>\n",
       "      <td>0.0</td>\n",
       "      <td>753.0</td>\n",
       "      <td>248.5</td>\n",
       "      <td>412.7</td>\n",
       "      <td>197.5</td>\n",
       "      <td>1056.6</td>\n",
       "    </tr>\n",
       "    <tr>\n",
       "      <th>4</th>\n",
       "      <td>2011/02/16</td>\n",
       "      <td>Anglogold Ashanti Ltd</td>\n",
       "      <td>33230.0</td>\n",
       "      <td>-0.007586</td>\n",
       "      <td>32411.016667</td>\n",
       "      <td>1134.366223</td>\n",
       "      <td>629.016667</td>\n",
       "      <td>-0.061601</td>\n",
       "      <td>0.076571</td>\n",
       "      <td>5.53</td>\n",
       "      <td>...</td>\n",
       "      <td>407.9</td>\n",
       "      <td>197.8</td>\n",
       "      <td>40.4</td>\n",
       "      <td>3.1</td>\n",
       "      <td>3.1</td>\n",
       "      <td>779.3</td>\n",
       "      <td>172.3</td>\n",
       "      <td>444.2</td>\n",
       "      <td>97.4</td>\n",
       "      <td>1095.5</td>\n",
       "    </tr>\n",
       "  </tbody>\n",
       "</table>\n",
       "<p>5 rows × 22 columns</p>\n",
       "</div>"
      ],
      "text/plain": [
       "         Date                 company  current_price  momentum  \\\n",
       "0  2010/02/17   Anglogold Ashanti Ltd        29500.0 -0.103343   \n",
       "1  2010/05/06   Anglogold Ashanti Ltd        31150.0  0.139982   \n",
       "2  2010/08/11   Anglogold Ashanti Ltd        31420.0 -0.026943   \n",
       "3  2010/11/10   Anglogold Ashanti Ltd        34987.0  0.096771   \n",
       "4  2011/02/16   Anglogold Ashanti Ltd        33230.0 -0.007586   \n",
       "\n",
       "   moving_average  moving_volatility  trading_range  target_return  \\\n",
       "0    30598.216667        1854.530002     850.550000       0.090136   \n",
       "1    28743.150000        1079.933674     697.066667      -0.053612   \n",
       "2    31682.016667        1388.464601     864.983333       0.050286   \n",
       "3    32142.716667         784.923382     705.033333      -0.060365   \n",
       "4    32411.016667        1134.366223     629.016667      -0.061601   \n",
       "\n",
       "   exp_market_change  rates       ...         Gross_profit  Operating_profit  \\\n",
       "0          -0.016852   7.08       ...                329.5             431.7   \n",
       "1           0.044321   6.58       ...                239.3             141.3   \n",
       "2           0.008204   6.42       ...                381.9              -8.9   \n",
       "3           0.136024   5.65       ...                400.9             138.2   \n",
       "4           0.076571   5.53       ...                407.9             197.8   \n",
       "\n",
       "   Net_Profit  Issue_of_shares  Share_repurchase  Non_current_assets  \\\n",
       "0       317.9              3.9               3.9               732.8   \n",
       "1       115.0              0.3               0.0               741.4   \n",
       "2      -136.0              2.6               0.0               719.6   \n",
       "3        44.3            559.6               0.0               753.0   \n",
       "4        40.4              3.1               3.1               779.3   \n",
       "\n",
       "   Current_assets  Non_current_liabilities  Current_liabilities  \\\n",
       "0           237.2                    220.7                454.3   \n",
       "1           188.0                    221.0                396.3   \n",
       "2           203.3                    306.8                328.0   \n",
       "3           248.5                    412.7                197.5   \n",
       "4           172.3                    444.2                 97.4   \n",
       "\n",
       "   net_cash_op_act  \n",
       "0            959.6  \n",
       "1            816.6  \n",
       "2           1003.0  \n",
       "3           1056.6  \n",
       "4           1095.5  \n",
       "\n",
       "[5 rows x 22 columns]"
      ]
     },
     "execution_count": 46,
     "metadata": {
      "tags": []
     },
     "output_type": "execute_result"
    }
   ],
   "source": [
    "print(df.info())\n",
    "df.head()"
   ]
  },
  {
   "cell_type": "markdown",
   "metadata": {
    "colab_type": "text",
    "id": "AjEVi3tOwkT_"
   },
   "source": [
    "Let us take a look at the Anglogold Ashanti Ltd data and how some of the features relate to one another."
   ]
  },
  {
   "cell_type": "code",
   "execution_count": null,
   "metadata": {
    "colab": {
     "autoexec": {
      "startup": false,
      "wait_interval": 0
     },
     "output_extras": [
      {}
     ]
    },
    "colab_type": "code",
    "id": "gde_9IGiwkUA",
    "outputId": "9ace420b-a3fa-40f2-9e0e-9e7e6b76d29f"
   },
   "outputs": [
    {
     "data": {
      "text/html": [
       "<div>\n",
       "<style>\n",
       "    .dataframe thead tr:only-child th {\n",
       "        text-align: right;\n",
       "    }\n",
       "\n",
       "    .dataframe thead th {\n",
       "        text-align: left;\n",
       "    }\n",
       "\n",
       "    .dataframe tbody tr th {\n",
       "        vertical-align: top;\n",
       "    }\n",
       "</style>\n",
       "<table border=\"1\" class=\"dataframe\">\n",
       "  <thead>\n",
       "    <tr style=\"text-align: right;\">\n",
       "      <th></th>\n",
       "      <th>current_price</th>\n",
       "      <th>momentum</th>\n",
       "      <th>moving_average</th>\n",
       "      <th>moving_volatility</th>\n",
       "      <th>trading_range</th>\n",
       "      <th>target_return</th>\n",
       "      <th>exp_market_change</th>\n",
       "      <th>rates</th>\n",
       "      <th>Revenue</th>\n",
       "      <th>Cost_of_Sales</th>\n",
       "      <th>Gross_profit</th>\n",
       "      <th>Operating_profit</th>\n",
       "      <th>Net_Profit</th>\n",
       "      <th>Issue_of_shares</th>\n",
       "      <th>Share_repurchase</th>\n",
       "      <th>Non_current_assets</th>\n",
       "      <th>Current_assets</th>\n",
       "      <th>Non_current_liabilities</th>\n",
       "      <th>Current_liabilities</th>\n",
       "      <th>net_cash_op_act</th>\n",
       "    </tr>\n",
       "  </thead>\n",
       "  <tbody>\n",
       "    <tr>\n",
       "      <th>count</th>\n",
       "      <td>22.000000</td>\n",
       "      <td>22.000000</td>\n",
       "      <td>22.000000</td>\n",
       "      <td>22.000000</td>\n",
       "      <td>22.000000</td>\n",
       "      <td>22.000000</td>\n",
       "      <td>22.000000</td>\n",
       "      <td>22.000000</td>\n",
       "      <td>22.000000</td>\n",
       "      <td>22.000000</td>\n",
       "      <td>22.000000</td>\n",
       "      <td>22.000000</td>\n",
       "      <td>22.000000</td>\n",
       "      <td>22.000000</td>\n",
       "      <td>22.000000</td>\n",
       "      <td>22.000000</td>\n",
       "      <td>22.000000</td>\n",
       "      <td>22.000000</td>\n",
       "      <td>22.000000</td>\n",
       "      <td>22.000000</td>\n",
       "    </tr>\n",
       "    <tr>\n",
       "      <th>mean</th>\n",
       "      <td>22895.090909</td>\n",
       "      <td>0.023074</td>\n",
       "      <td>22671.212121</td>\n",
       "      <td>1513.233885</td>\n",
       "      <td>655.562879</td>\n",
       "      <td>0.022822</td>\n",
       "      <td>0.028107</td>\n",
       "      <td>5.821818</td>\n",
       "      <td>1239.131818</td>\n",
       "      <td>853.350000</td>\n",
       "      <td>385.781818</td>\n",
       "      <td>67.940909</td>\n",
       "      <td>-14.331818</td>\n",
       "      <td>25.954545</td>\n",
       "      <td>0.327273</td>\n",
       "      <td>4679.531818</td>\n",
       "      <td>1244.404545</td>\n",
       "      <td>3094.968182</td>\n",
       "      <td>737.645455</td>\n",
       "      <td>1227.854545</td>\n",
       "    </tr>\n",
       "    <tr>\n",
       "      <th>std</th>\n",
       "      <td>9740.582611</td>\n",
       "      <td>0.261238</td>\n",
       "      <td>9296.551968</td>\n",
       "      <td>667.385373</td>\n",
       "      <td>153.339698</td>\n",
       "      <td>0.235222</td>\n",
       "      <td>0.057288</td>\n",
       "      <td>0.568470</td>\n",
       "      <td>242.792850</td>\n",
       "      <td>177.947295</td>\n",
       "      <td>161.529787</td>\n",
       "      <td>711.657090</td>\n",
       "      <td>517.175758</td>\n",
       "      <td>119.196611</td>\n",
       "      <td>1.035182</td>\n",
       "      <td>3429.898491</td>\n",
       "      <td>952.797315</td>\n",
       "      <td>2355.319719</td>\n",
       "      <td>570.694592</td>\n",
       "      <td>237.082065</td>\n",
       "    </tr>\n",
       "    <tr>\n",
       "      <th>min</th>\n",
       "      <td>8059.000000</td>\n",
       "      <td>-0.497312</td>\n",
       "      <td>10046.700000</td>\n",
       "      <td>721.547853</td>\n",
       "      <td>423.550000</td>\n",
       "      <td>-0.448740</td>\n",
       "      <td>-0.073183</td>\n",
       "      <td>4.930000</td>\n",
       "      <td>845.300000</td>\n",
       "      <td>606.000000</td>\n",
       "      <td>157.000000</td>\n",
       "      <td>-3019.000000</td>\n",
       "      <td>-2165.000000</td>\n",
       "      <td>0.000000</td>\n",
       "      <td>0.000000</td>\n",
       "      <td>719.600000</td>\n",
       "      <td>172.300000</td>\n",
       "      <td>220.700000</td>\n",
       "      <td>86.600000</td>\n",
       "      <td>816.600000</td>\n",
       "    </tr>\n",
       "    <tr>\n",
       "      <th>25%</th>\n",
       "      <td>13978.500000</td>\n",
       "      <td>-0.092624</td>\n",
       "      <td>14045.416667</td>\n",
       "      <td>1083.834372</td>\n",
       "      <td>527.970833</td>\n",
       "      <td>-0.075428</td>\n",
       "      <td>-0.017566</td>\n",
       "      <td>5.492500</td>\n",
       "      <td>1059.500000</td>\n",
       "      <td>673.925000</td>\n",
       "      <td>268.500000</td>\n",
       "      <td>112.500000</td>\n",
       "      <td>-47.750000</td>\n",
       "      <td>0.000000</td>\n",
       "      <td>0.000000</td>\n",
       "      <td>778.625000</td>\n",
       "      <td>235.700000</td>\n",
       "      <td>442.450000</td>\n",
       "      <td>230.125000</td>\n",
       "      <td>1057.450000</td>\n",
       "    </tr>\n",
       "    <tr>\n",
       "      <th>50%</th>\n",
       "      <td>22623.000000</td>\n",
       "      <td>0.000902</td>\n",
       "      <td>23847.825000</td>\n",
       "      <td>1190.686861</td>\n",
       "      <td>641.641667</td>\n",
       "      <td>0.003986</td>\n",
       "      <td>0.037019</td>\n",
       "      <td>5.690000</td>\n",
       "      <td>1227.850000</td>\n",
       "      <td>850.000000</td>\n",
       "      <td>349.000000</td>\n",
       "      <td>162.000000</td>\n",
       "      <td>40.700000</td>\n",
       "      <td>0.000000</td>\n",
       "      <td>0.000000</td>\n",
       "      <td>6175.500000</td>\n",
       "      <td>1426.000000</td>\n",
       "      <td>4071.500000</td>\n",
       "      <td>711.000000</td>\n",
       "      <td>1200.350000</td>\n",
       "    </tr>\n",
       "    <tr>\n",
       "      <th>75%</th>\n",
       "      <td>31137.500000</td>\n",
       "      <td>0.137224</td>\n",
       "      <td>31411.066667</td>\n",
       "      <td>1819.833015</td>\n",
       "      <td>778.012500</td>\n",
       "      <td>0.152235</td>\n",
       "      <td>0.069563</td>\n",
       "      <td>6.122500</td>\n",
       "      <td>1358.750000</td>\n",
       "      <td>1034.500000</td>\n",
       "      <td>425.975000</td>\n",
       "      <td>292.175000</td>\n",
       "      <td>167.450000</td>\n",
       "      <td>0.450000</td>\n",
       "      <td>0.000000</td>\n",
       "      <td>7480.500000</td>\n",
       "      <td>1959.250000</td>\n",
       "      <td>5292.250000</td>\n",
       "      <td>1038.750000</td>\n",
       "      <td>1379.000000</td>\n",
       "    </tr>\n",
       "    <tr>\n",
       "      <th>max</th>\n",
       "      <td>38025.000000</td>\n",
       "      <td>0.790000</td>\n",
       "      <td>35793.566667</td>\n",
       "      <td>2994.741422</td>\n",
       "      <td>1010.150000</td>\n",
       "      <td>0.493613</td>\n",
       "      <td>0.136024</td>\n",
       "      <td>7.080000</td>\n",
       "      <td>1794.000000</td>\n",
       "      <td>1064.000000</td>\n",
       "      <td>805.000000</td>\n",
       "      <td>584.000000</td>\n",
       "      <td>563.000000</td>\n",
       "      <td>559.600000</td>\n",
       "      <td>3.900000</td>\n",
       "      <td>9887.000000</td>\n",
       "      <td>2961.000000</td>\n",
       "      <td>5450.000000</td>\n",
       "      <td>2254.000000</td>\n",
       "      <td>1758.000000</td>\n",
       "    </tr>\n",
       "  </tbody>\n",
       "</table>\n",
       "</div>"
      ],
      "text/plain": [
       "       current_price   momentum  moving_average  moving_volatility  \\\n",
       "count      22.000000  22.000000       22.000000          22.000000   \n",
       "mean    22895.090909   0.023074    22671.212121        1513.233885   \n",
       "std      9740.582611   0.261238     9296.551968         667.385373   \n",
       "min      8059.000000  -0.497312    10046.700000         721.547853   \n",
       "25%     13978.500000  -0.092624    14045.416667        1083.834372   \n",
       "50%     22623.000000   0.000902    23847.825000        1190.686861   \n",
       "75%     31137.500000   0.137224    31411.066667        1819.833015   \n",
       "max     38025.000000   0.790000    35793.566667        2994.741422   \n",
       "\n",
       "       trading_range  target_return  exp_market_change      rates  \\\n",
       "count      22.000000      22.000000          22.000000  22.000000   \n",
       "mean      655.562879       0.022822           0.028107   5.821818   \n",
       "std       153.339698       0.235222           0.057288   0.568470   \n",
       "min       423.550000      -0.448740          -0.073183   4.930000   \n",
       "25%       527.970833      -0.075428          -0.017566   5.492500   \n",
       "50%       641.641667       0.003986           0.037019   5.690000   \n",
       "75%       778.012500       0.152235           0.069563   6.122500   \n",
       "max      1010.150000       0.493613           0.136024   7.080000   \n",
       "\n",
       "           Revenue  Cost_of_Sales  Gross_profit  Operating_profit  \\\n",
       "count    22.000000      22.000000     22.000000         22.000000   \n",
       "mean   1239.131818     853.350000    385.781818         67.940909   \n",
       "std     242.792850     177.947295    161.529787        711.657090   \n",
       "min     845.300000     606.000000    157.000000      -3019.000000   \n",
       "25%    1059.500000     673.925000    268.500000        112.500000   \n",
       "50%    1227.850000     850.000000    349.000000        162.000000   \n",
       "75%    1358.750000    1034.500000    425.975000        292.175000   \n",
       "max    1794.000000    1064.000000    805.000000        584.000000   \n",
       "\n",
       "        Net_Profit  Issue_of_shares  Share_repurchase  Non_current_assets  \\\n",
       "count    22.000000        22.000000         22.000000           22.000000   \n",
       "mean    -14.331818        25.954545          0.327273         4679.531818   \n",
       "std     517.175758       119.196611          1.035182         3429.898491   \n",
       "min   -2165.000000         0.000000          0.000000          719.600000   \n",
       "25%     -47.750000         0.000000          0.000000          778.625000   \n",
       "50%      40.700000         0.000000          0.000000         6175.500000   \n",
       "75%     167.450000         0.450000          0.000000         7480.500000   \n",
       "max     563.000000       559.600000          3.900000         9887.000000   \n",
       "\n",
       "       Current_assets  Non_current_liabilities  Current_liabilities  \\\n",
       "count       22.000000                22.000000            22.000000   \n",
       "mean      1244.404545              3094.968182           737.645455   \n",
       "std        952.797315              2355.319719           570.694592   \n",
       "min        172.300000               220.700000            86.600000   \n",
       "25%        235.700000               442.450000           230.125000   \n",
       "50%       1426.000000              4071.500000           711.000000   \n",
       "75%       1959.250000              5292.250000          1038.750000   \n",
       "max       2961.000000              5450.000000          2254.000000   \n",
       "\n",
       "       net_cash_op_act  \n",
       "count        22.000000  \n",
       "mean       1227.854545  \n",
       "std         237.082065  \n",
       "min         816.600000  \n",
       "25%        1057.450000  \n",
       "50%        1200.350000  \n",
       "75%        1379.000000  \n",
       "max        1758.000000  "
      ]
     },
     "execution_count": 47,
     "metadata": {
      "tags": []
     },
     "output_type": "execute_result"
    }
   ],
   "source": [
    "df_anglo  = df[ df['company'].str.contains(\"Anglogold Ashanti Ltd\") ]\n",
    "df_anglo.describe()"
   ]
  },
  {
   "cell_type": "code",
   "execution_count": null,
   "metadata": {
    "colab": {
     "autoexec": {
      "startup": false,
      "wait_interval": 0
     },
     "output_extras": [
      {},
      {}
     ]
    },
    "colab_type": "code",
    "id": "Ezmn37orwkUC",
    "outputId": "b1e03275-168e-46e6-cb9d-358279c37ad2"
   },
   "outputs": [
    {
     "data": {
      "text/plain": [
       "<seaborn.axisgrid.PairGrid at 0x24aa4ccde48>"
      ]
     },
     "execution_count": 48,
     "metadata": {
      "tags": []
     },
     "output_type": "execute_result"
    },
    {
     "data": {
      "image/png": "[encoded data removed]",
      "text/plain": [
       "<matplotlib.figure.Figure at 0x24aa4ccd320>"
      ]
     },
     "metadata": {
      "tags": []
     },
     "output_type": "display_data"
    }
   ],
   "source": [
    "sns.pairplot(df_anglo[['momentum' ,\n",
    "                       'moving_volatility',\n",
    "                       'trading_range',\n",
    "                       'exp_market_change', \n",
    "                       'rates' , \n",
    "                       'Revenue', \n",
    "                       'Cost_of_Sales',\n",
    "                       'Net_Profit' ]])"
   ]
  },
  {
   "cell_type": "markdown",
   "metadata": {
    "colab_type": "text",
    "id": "NlZMURDPwkUF"
   },
   "source": [
    "From the pairplot above we can see a linear relationship between revenue and cost of sales, which were expected. But there also seems to be a linear relationship between the momentum (past quarter return) and the market expectation (future return). Are there any other realtionships that you can observe, or find by selecting other features?"
   ]
  },
  {
   "cell_type": "markdown",
   "metadata": {
    "colab_type": "text",
    "id": "qjj45oMXwkUG"
   },
   "source": [
    "Now that we have looked at how some of the features relate to one another for a subset of the data, lets go ahead with the model building. "
   ]
  },
  {
   "cell_type": "markdown",
   "metadata": {
    "colab_type": "text",
    "id": "uhyzvhhzwkUH"
   },
   "source": [
    "## Preprocessing"
   ]
  },
  {
   "cell_type": "markdown",
   "metadata": {
    "colab_type": "text",
    "id": "wi21eOSxwkUI"
   },
   "source": [
    "Preprocessing in sklearn involves:\n",
    "* Splitting the data into features and labels\n",
    "* Transforming the data \n",
    "* Splitting the data into training and testing data.\n",
    "\n",
    "Transforming the features (e.g. Normalizing/standardizing) is not always required for multifactor linear regression (although we will do so later, when we consider regularization techiniques to improve our model). So we will only split the data into features and labels and then into training and testing data. \n",
    "\n",
    "#### Features/Labels split"
   ]
  },
  {
   "cell_type": "markdown",
   "metadata": {
    "colab_type": "text",
    "id": "64L6FTqYwkUI"
   },
   "source": [
    "Features relate to the independent variables or predictors while labels relate to the dependent variable or target."
   ]
  },
  {
   "cell_type": "code",
   "execution_count": null,
   "metadata": {
    "colab": {
     "autoexec": {
      "startup": false,
      "wait_interval": 0
     }
    },
    "colab_type": "code",
    "id": "qzOPcBEuwkUI"
   },
   "outputs": [],
   "source": [
    "# Lables\n",
    "y = df['target_return']\n",
    "\n",
    "# Features\n",
    "X = df.drop(['Date', 'company', 'target_return'], axis=1)"
   ]
  },
  {
   "cell_type": "markdown",
   "metadata": {
    "colab_type": "text",
    "id": "bHTDl92-wkUL"
   },
   "source": [
    "We can use the shape method to see the number of rows and columns (features) in our features data."
   ]
  },
  {
   "cell_type": "code",
   "execution_count": null,
   "metadata": {
    "colab": {
     "autoexec": {
      "startup": false,
      "wait_interval": 0
     },
     "output_extras": [
      {}
     ]
    },
    "colab_type": "code",
    "id": "GOhc-kK0wkUM",
    "outputId": "aa71546c-54f7-46e7-a69b-bf21ab345bf0"
   },
   "outputs": [
    {
     "data": {
      "text/plain": [
       "(362, 19)"
      ]
     },
     "execution_count": 50,
     "metadata": {
      "tags": []
     },
     "output_type": "execute_result"
    }
   ],
   "source": [
    "X.shape"
   ]
  },
  {
   "cell_type": "markdown",
   "metadata": {
    "colab_type": "text",
    "id": "xlGWlcKuwkUP"
   },
   "source": [
    "#### Train/Test split"
   ]
  },
  {
   "cell_type": "markdown",
   "metadata": {
    "colab_type": "text",
    "id": "NwSY3y87wkUQ"
   },
   "source": [
    "Next we are going to split our data into training and testing data. We do this to fit our model using the training data while we test the output of our model on the testing (unseen) data. Ideally we want a model that has a good fit to both the training and the testing data, however this is rarely the case. The fit to the training data gives us an idea of the bias in the model while the fit to the testing data gives us an idea of the variance in the model.\n",
    "\n",
    "**Bias** relates to the degree to which our model is an accurate representation of reality: for example, if the relationships between variables are very non-linear and we're using a linear model (such as multiple linear regression), then our model will have high bias. **Variance**, on the other hand, relates to how well our model generalizes to unseen data: a model with high variance will be very sensitive to changes in the training data set. A large part of the modelling challenge lies in understanding and optimising the so-called **bias-variance tradeoff**."
   ]
  },
  {
   "cell_type": "markdown",
   "metadata": {
    "colab_type": "text",
    "id": "eTAvhXnnwkUR"
   },
   "source": [
    "Now let's import the train_test_split method from sklearn.model_selection:"
   ]
  },
  {
   "cell_type": "code",
   "execution_count": null,
   "metadata": {
    "colab": {
     "autoexec": {
      "startup": false,
      "wait_interval": 0
     }
    },
    "colab_type": "code",
    "collapsed": true,
    "id": "Wo6esOGFwkUR"
   },
   "outputs": [],
   "source": [
    "from sklearn.model_selection import train_test_split"
   ]
  },
  {
   "cell_type": "markdown",
   "metadata": {
    "colab_type": "text",
    "id": "4Go0yZFawkUT"
   },
   "source": [
    "Use the imported method to split the data:"
   ]
  },
  {
   "cell_type": "code",
   "execution_count": null,
   "metadata": {
    "colab": {
     "autoexec": {
      "startup": false,
      "wait_interval": 0
     }
    },
    "colab_type": "code",
    "collapsed": true,
    "id": "urcJrv_FwkUT"
   },
   "outputs": [],
   "source": [
    "X_train, X_test, y_train, y_test = train_test_split(X, y, test_size=0.3, random_state=50)"
   ]
  },
  {
   "cell_type": "markdown",
   "metadata": {
    "colab_type": "text",
    "id": "xW5GCwd8wkUX"
   },
   "source": [
    "## Training"
   ]
  },
  {
   "cell_type": "markdown",
   "metadata": {
    "colab_type": "text",
    "id": "efidEExawkUX"
   },
   "source": [
    "Now with the data split we can use the training data to train the model - i.e. learn the optimal parameters used to predict future results.\n",
    "\n",
    "We import LinearRegression from sklearn.linear_model."
   ]
  },
  {
   "cell_type": "code",
   "execution_count": null,
   "metadata": {
    "colab": {
     "autoexec": {
      "startup": false,
      "wait_interval": 0
     }
    },
    "colab_type": "code",
    "collapsed": true,
    "id": "K83q_a8wwkUX"
   },
   "outputs": [],
   "source": [
    "from sklearn.linear_model import LinearRegression"
   ]
  },
  {
   "cell_type": "markdown",
   "metadata": {
    "colab_type": "text",
    "id": "1IAXdItnwkUa"
   },
   "source": [
    "Create an instance of the LinearRegression object so that we can use methods on it."
   ]
  },
  {
   "cell_type": "code",
   "execution_count": null,
   "metadata": {
    "colab": {
     "autoexec": {
      "startup": false,
      "wait_interval": 0
     }
    },
    "colab_type": "code",
    "collapsed": true,
    "id": "QVLGGUgkwkUb"
   },
   "outputs": [],
   "source": [
    "lm = LinearRegression()"
   ]
  },
  {
   "cell_type": "markdown",
   "metadata": {
    "colab_type": "text",
    "id": "UCoPMPTjwkUc"
   },
   "source": [
    "Use the fit() method to train the model. Note that we only input the training data."
   ]
  },
  {
   "cell_type": "code",
   "execution_count": null,
   "metadata": {
    "colab": {
     "autoexec": {
      "startup": false,
      "wait_interval": 0
     },
     "output_extras": [
      {}
     ]
    },
    "colab_type": "code",
    "id": "K0B0PVZGwkUe",
    "outputId": "e075c91b-34a4-4d33-9317-6eba355b6add"
   },
   "outputs": [
    {
     "data": {
      "text/plain": [
       "LinearRegression(copy_X=True, fit_intercept=True, n_jobs=1, normalize=False)"
      ]
     },
     "execution_count": 110,
     "metadata": {
      "tags": []
     },
     "output_type": "execute_result"
    }
   ],
   "source": [
    "lm.fit(X_train,y_train)"
   ]
  },
  {
   "cell_type": "markdown",
   "metadata": {
    "colab_type": "text",
    "id": "7ZoueYYhwkUh"
   },
   "source": [
    "Now that the model is trained, we can extract the parameters. The parameters consist of the intercept and the coefficients related to the features. These parameters can be used to predict future share returns given the features."
   ]
  },
  {
   "cell_type": "markdown",
   "metadata": {
    "colab_type": "text",
    "id": "Q-c5ZO--wkUj"
   },
   "source": [
    "Intercept"
   ]
  },
  {
   "cell_type": "code",
   "execution_count": null,
   "metadata": {
    "colab": {
     "autoexec": {
      "startup": false,
      "wait_interval": 0
     },
     "output_extras": [
      {}
     ]
    },
    "colab_type": "code",
    "id": "McuhHSrEwkUj",
    "outputId": "387e9099-5a93-4eb3-9da5-d508ff80f734"
   },
   "outputs": [
    {
     "data": {
      "text/plain": [
       "0.23577102387826848"
      ]
     },
     "execution_count": 111,
     "metadata": {
      "tags": []
     },
     "output_type": "execute_result"
    }
   ],
   "source": [
    "lm.intercept_"
   ]
  },
  {
   "cell_type": "markdown",
   "metadata": {
    "colab_type": "text",
    "id": "PTmw7LaewkUn"
   },
   "source": [
    "The **intercept** above can be interpreted as the expected stock return if all of the feature values are zero."
   ]
  },
  {
   "cell_type": "markdown",
   "metadata": {
    "colab_type": "text",
    "id": "yJftElpgwkUn"
   },
   "source": [
    "Coefficients"
   ]
  },
  {
   "cell_type": "code",
   "execution_count": null,
   "metadata": {
    "colab": {
     "autoexec": {
      "startup": false,
      "wait_interval": 0
     },
     "output_extras": [
      {}
     ]
    },
    "colab_type": "code",
    "id": "ATQg5AufwkUo",
    "outputId": "f7ae082e-8202-44c2-e46f-fb0d0be262ff"
   },
   "outputs": [
    {
     "data": {
      "text/html": [
       "<div>\n",
       "<style>\n",
       "    .dataframe thead tr:only-child th {\n",
       "        text-align: right;\n",
       "    }\n",
       "\n",
       "    .dataframe thead th {\n",
       "        text-align: left;\n",
       "    }\n",
       "\n",
       "    .dataframe tbody tr th {\n",
       "        vertical-align: top;\n",
       "    }\n",
       "</style>\n",
       "<table border=\"1\" class=\"dataframe\">\n",
       "  <thead>\n",
       "    <tr style=\"text-align: right;\">\n",
       "      <th></th>\n",
       "      <th>Coefficient</th>\n",
       "    </tr>\n",
       "  </thead>\n",
       "  <tbody>\n",
       "    <tr>\n",
       "      <th>current_price</th>\n",
       "      <td>6.365389e-07</td>\n",
       "    </tr>\n",
       "    <tr>\n",
       "      <th>momentum</th>\n",
       "      <td>-2.155042e-02</td>\n",
       "    </tr>\n",
       "    <tr>\n",
       "      <th>moving_average</th>\n",
       "      <td>-5.965514e-07</td>\n",
       "    </tr>\n",
       "    <tr>\n",
       "      <th>moving_volatility</th>\n",
       "      <td>1.007698e-05</td>\n",
       "    </tr>\n",
       "    <tr>\n",
       "      <th>trading_range</th>\n",
       "      <td>-1.968718e-05</td>\n",
       "    </tr>\n",
       "    <tr>\n",
       "      <th>exp_market_change</th>\n",
       "      <td>-3.367112e-01</td>\n",
       "    </tr>\n",
       "    <tr>\n",
       "      <th>rates</th>\n",
       "      <td>-3.398462e-02</td>\n",
       "    </tr>\n",
       "    <tr>\n",
       "      <th>Revenue</th>\n",
       "      <td>-1.736386e-05</td>\n",
       "    </tr>\n",
       "    <tr>\n",
       "      <th>Cost_of_Sales</th>\n",
       "      <td>1.726277e-05</td>\n",
       "    </tr>\n",
       "    <tr>\n",
       "      <th>Gross_profit</th>\n",
       "      <td>1.727082e-05</td>\n",
       "    </tr>\n",
       "    <tr>\n",
       "      <th>Operating_profit</th>\n",
       "      <td>-2.677717e-07</td>\n",
       "    </tr>\n",
       "    <tr>\n",
       "      <th>Net_Profit</th>\n",
       "      <td>-1.644971e-06</td>\n",
       "    </tr>\n",
       "    <tr>\n",
       "      <th>Issue_of_shares</th>\n",
       "      <td>6.772340e-08</td>\n",
       "    </tr>\n",
       "    <tr>\n",
       "      <th>Share_repurchase</th>\n",
       "      <td>5.879247e-07</td>\n",
       "    </tr>\n",
       "    <tr>\n",
       "      <th>Non_current_assets</th>\n",
       "      <td>-2.912547e-09</td>\n",
       "    </tr>\n",
       "    <tr>\n",
       "      <th>Current_assets</th>\n",
       "      <td>6.251771e-09</td>\n",
       "    </tr>\n",
       "    <tr>\n",
       "      <th>Non_current_liabilities</th>\n",
       "      <td>2.428064e-08</td>\n",
       "    </tr>\n",
       "    <tr>\n",
       "      <th>Current_liabilities</th>\n",
       "      <td>3.047814e-09</td>\n",
       "    </tr>\n",
       "    <tr>\n",
       "      <th>net_cash_op_act</th>\n",
       "      <td>8.058685e-07</td>\n",
       "    </tr>\n",
       "  </tbody>\n",
       "</table>\n",
       "</div>"
      ],
      "text/plain": [
       "                          Coefficient\n",
       "current_price            6.365389e-07\n",
       "momentum                -2.155042e-02\n",
       "moving_average          -5.965514e-07\n",
       "moving_volatility        1.007698e-05\n",
       "trading_range           -1.968718e-05\n",
       "exp_market_change       -3.367112e-01\n",
       "rates                   -3.398462e-02\n",
       "Revenue                 -1.736386e-05\n",
       "Cost_of_Sales            1.726277e-05\n",
       "Gross_profit             1.727082e-05\n",
       "Operating_profit        -2.677717e-07\n",
       "Net_Profit              -1.644971e-06\n",
       "Issue_of_shares          6.772340e-08\n",
       "Share_repurchase         5.879247e-07\n",
       "Non_current_assets      -2.912547e-09\n",
       "Current_assets           6.251771e-09\n",
       "Non_current_liabilities  2.428064e-08\n",
       "Current_liabilities      3.047814e-09\n",
       "net_cash_op_act          8.058685e-07"
      ]
     },
     "execution_count": 112,
     "metadata": {
      "tags": []
     },
     "output_type": "execute_result"
    }
   ],
   "source": [
    "coeff_df = pd.DataFrame(lm.coef_,X.columns,columns=['Coefficient'])\n",
    "coeff_df"
   ]
  },
  {
   "cell_type": "markdown",
   "metadata": {
    "colab_type": "text",
    "id": "qywkaPKbwkUr"
   },
   "source": [
    "A **coefficient** can be interpreted as the expected change in the stock return if the feature value increases by 1. For example the stock return is expected to increase by 0.095 if the momentum increased by 1 (i.e. -0.1 => 0.9).\n",
    "\n",
    "The **sign of the coefficients** also gives us an indication of which way an increase or decrease in feature value affects our expected stock return. For example because the sign of revenue is positive it implies that we expect higher returns given higher revenue in the past quarter. Is this what we would expect?"
   ]
  },
  {
   "cell_type": "markdown",
   "metadata": {
    "colab_type": "text",
    "id": "cqi4XJA2wkUs"
   },
   "source": [
    "Now that we have estimated all the parameters, lets look how good the fit is to the training data. We will look at the mean squared error (MSE) and R squared for the training data to assess the goodness of fit.\n",
    "\n",
    "The **Mean Squared Error** is defined as:\n",
    "\n",
    "$$MSE~=~\\frac 1n\\sum_{i=1}^n(y_i-\\hat{y}_i)^2$$\n",
    "\n",
    "The **R Squared** is defined as:\n",
    "\n",
    "$$R^2~=~1-\\frac{\\sum_{i=1}^n(y_i-\\hat{y}_i)^2}{\\sum_{i=1}^n(y_i-\\bar{y}_i)^2}$$"
   ]
  },
  {
   "cell_type": "markdown",
   "metadata": {
    "colab_type": "text",
    "id": "XuUb09GYwkUs"
   },
   "source": [
    "We start by importing the metrics module from sklearn."
   ]
  },
  {
   "cell_type": "code",
   "execution_count": null,
   "metadata": {
    "colab": {
     "autoexec": {
      "startup": false,
      "wait_interval": 0
     }
    },
    "colab_type": "code",
    "collapsed": true,
    "id": "dvPK7HRTwkUs"
   },
   "outputs": [],
   "source": [
    "from sklearn import metrics"
   ]
  },
  {
   "cell_type": "markdown",
   "metadata": {
    "colab_type": "text",
    "id": "iXmchHuzwkUu"
   },
   "source": [
    "MSE"
   ]
  },
  {
   "cell_type": "code",
   "execution_count": null,
   "metadata": {
    "colab": {
     "autoexec": {
      "startup": false,
      "wait_interval": 0
     },
     "output_extras": [
      {}
     ]
    },
    "colab_type": "code",
    "id": "9PLZ-iOpwkUu",
    "outputId": "297228da-bb0c-4459-a684-9f487fb6bfa8"
   },
   "outputs": [
    {
     "name": "stdout",
     "output_type": "stream",
     "text": [
      "MSE (train)\n",
      "Linear: 0.0114570613511\n"
     ]
    }
   ],
   "source": [
    "# Get predictions for training data\n",
    "fit_lm = lm.predict(X_train)\n",
    "\n",
    "# Print MSE for models\n",
    "print('MSE (train)')\n",
    "print('Linear:', metrics.mean_squared_error(y_train, fit_lm))"
   ]
  },
  {
   "cell_type": "markdown",
   "metadata": {
    "colab_type": "text",
    "id": "xmbUZ9r5wkUx"
   },
   "source": [
    "R$^2$"
   ]
  },
  {
   "cell_type": "code",
   "execution_count": null,
   "metadata": {
    "colab": {
     "autoexec": {
      "startup": false,
      "wait_interval": 0
     },
     "output_extras": [
      {}
     ]
    },
    "colab_type": "code",
    "id": "opDibx1cwkUy",
    "outputId": "da6351d3-b655-458f-e9d1-46ee42b1644f"
   },
   "outputs": [
    {
     "name": "stdout",
     "output_type": "stream",
     "text": [
      "R SQUARED SCORE\n",
      "Linear: 0.0837699589315\n"
     ]
    }
   ],
   "source": [
    "print('R SQUARED SCORE')\n",
    "print('Linear:', lm.score(X_train, y_train))"
   ]
  },
  {
   "cell_type": "markdown",
   "metadata": {
    "colab_type": "text",
    "id": "coN3l2rPwkUz"
   },
   "source": [
    "## Using statsmodels rather than sklearn"
   ]
  },
  {
   "cell_type": "code",
   "execution_count": null,
   "metadata": {
    "colab": {
     "autoexec": {
      "startup": false,
      "wait_interval": 0
     }
    },
    "colab_type": "code",
    "collapsed": true,
    "id": "2AtQFNfRwkU0"
   },
   "outputs": [],
   "source": [
    "from pandas.core import datetools\n",
    "import statsmodels.api as sm\n",
    "import statsmodels.formula.api as smf"
   ]
  },
  {
   "cell_type": "code",
   "execution_count": null,
   "metadata": {
    "colab": {
     "autoexec": {
      "startup": false,
      "wait_interval": 0
     },
     "output_extras": [
      {}
     ]
    },
    "colab_type": "code",
    "id": "A0B7_F5EwkU2",
    "outputId": "f8e94cc3-e327-43f0-e4fe-75109ebbf439"
   },
   "outputs": [
    {
     "name": "stdout",
     "output_type": "stream",
     "text": [
      "                            OLS Regression Results                            \n",
      "==============================================================================\n",
      "Dep. Variable:          target_return   R-squared:                       0.084\n",
      "Model:                            OLS   Adj. R-squared:                  0.009\n",
      "Method:                 Least Squares   F-statistic:                     1.121\n",
      "Date:                Tue, 05 Dec 2017   Prob (F-statistic):              0.330\n",
      "Time:                        09:51:05   Log-Likelihood:                 206.36\n",
      "No. Observations:                 253   AIC:                            -372.7\n",
      "Df Residuals:                     233   BIC:                            -302.0\n",
      "Df Model:                          19                                         \n",
      "Covariance Type:            nonrobust                                         \n",
      "===========================================================================================\n",
      "                              coef    std err          t      P>|t|      [0.025      0.975]\n",
      "-------------------------------------------------------------------------------------------\n",
      "Intercept                   0.2358      0.068      3.492      0.001       0.103       0.369\n",
      "current_price            6.365e-07   7.42e-06      0.086      0.932    -1.4e-05    1.53e-05\n",
      "momentum                   -0.0216      0.074     -0.290      0.772      -0.168       0.125\n",
      "moving_average          -5.966e-07   7.43e-06     -0.080      0.936   -1.52e-05     1.4e-05\n",
      "moving_volatility        1.008e-05      2e-05      0.503      0.615   -2.94e-05    4.95e-05\n",
      "trading_range           -1.969e-05   6.89e-05     -0.286      0.775      -0.000       0.000\n",
      "exp_market_change          -0.3367      0.169     -1.995      0.047      -0.669      -0.004\n",
      "rates                      -0.0340      0.011     -3.076      0.002      -0.056      -0.012\n",
      "Revenue                 -1.736e-05   4.12e-05     -0.422      0.674   -9.85e-05    6.37e-05\n",
      "Cost_of_Sales            1.726e-05   4.12e-05      0.419      0.676   -6.39e-05    9.84e-05\n",
      "Gross_profit             1.727e-05   4.12e-05      0.419      0.676    -6.4e-05    9.85e-05\n",
      "Operating_profit        -2.678e-07   5.29e-07     -0.506      0.613   -1.31e-06    7.75e-07\n",
      "Net_Profit              -1.645e-06   2.56e-06     -0.644      0.520   -6.68e-06    3.39e-06\n",
      "Issue_of_shares          6.772e-08   7.24e-07      0.094      0.926   -1.36e-06    1.49e-06\n",
      "Share_repurchase         5.879e-07    3.5e-06      0.168      0.867   -6.31e-06    7.49e-06\n",
      "Non_current_assets      -2.913e-09   3.74e-08     -0.078      0.938   -7.66e-08    7.08e-08\n",
      "Current_assets           6.252e-09   4.39e-08      0.142      0.887   -8.03e-08    9.28e-08\n",
      "Non_current_liabilities  2.428e-08   2.39e-08      1.015      0.311   -2.29e-08    7.14e-08\n",
      "Current_liabilities      3.048e-09   4.85e-08      0.063      0.950   -9.25e-08    9.86e-08\n",
      "net_cash_op_act          8.059e-07   1.06e-06      0.763      0.446   -1.28e-06    2.89e-06\n",
      "==============================================================================\n",
      "Omnibus:                       12.286   Durbin-Watson:                   1.933\n",
      "Prob(Omnibus):                  0.002   Jarque-Bera (JB):               17.842\n",
      "Skew:                           0.331   Prob(JB):                     0.000134\n",
      "Kurtosis:                       4.120   Cond. No.                     1.91e+08\n",
      "==============================================================================\n",
      "\n",
      "Warnings:\n",
      "[1] Standard Errors assume that the covariance matrix of the errors is correctly specified.\n",
      "[2] The condition number is large, 1.91e+08. This might indicate that there are\n",
      "strong multicollinearity or other numerical problems.\n"
     ]
    }
   ],
   "source": [
    "traindata = X_train.join(y_train)\n",
    "lm_sm = smf.ols( 'target_return~ current_price + momentum + moving_average\\\n",
    "             + moving_volatility + trading_range + exp_market_change\\\n",
    "             + rates + Revenue + Cost_of_Sales + Gross_profit\\\n",
    "             + Operating_profit + Net_Profit + Issue_of_shares\\\n",
    "             + Share_repurchase + Non_current_assets + Current_assets\\\n",
    "             + Non_current_liabilities + Current_liabilities + net_cash_op_act',\n",
    "             data = traindata).fit()\n",
    "print(lm_sm.summary()) "
   ]
  },
  {
   "cell_type": "markdown",
   "metadata": {
    "colab_type": "text",
    "id": "Bkxc6GV0wkU5"
   },
   "source": [
    "## Predicting"
   ]
  },
  {
   "cell_type": "markdown",
   "metadata": {
    "colab_type": "text",
    "id": "f0P9wb9xwkU6"
   },
   "source": [
    "The trained model can now be used to predict future stock returns. We use the predict() method on our model instance. Note that now we input the testing data => only the features since our model is already trained and now needs to predict the returns (labels)."
   ]
  },
  {
   "cell_type": "code",
   "execution_count": null,
   "metadata": {
    "colab": {
     "autoexec": {
      "startup": false,
      "wait_interval": 0
     }
    },
    "colab_type": "code",
    "collapsed": true,
    "id": "1uD2hFbWwkU6"
   },
   "outputs": [],
   "source": [
    "predictions = lm.predict(X_test)"
   ]
  },
  {
   "cell_type": "markdown",
   "metadata": {
    "colab_type": "text",
    "id": "JJGIafm7wkU8"
   },
   "source": [
    "## Testing"
   ]
  },
  {
   "cell_type": "markdown",
   "metadata": {
    "colab_type": "text",
    "id": "AG2Ujo1hwkU8"
   },
   "source": [
    "Finally we test the accuracy of our predictions. To do this we compare our predictions with the labels of the testing dataset. Let's look at a graph of our predicted results vs. actual results."
   ]
  },
  {
   "cell_type": "code",
   "execution_count": null,
   "metadata": {
    "colab": {
     "autoexec": {
      "startup": false,
      "wait_interval": 0
     },
     "output_extras": [
      {},
      {}
     ]
    },
    "colab_type": "code",
    "id": "q4D43qEewkU8",
    "outputId": "ac48c5b3-dae6-4b3e-ad8d-a481e2ee3cfa"
   },
   "outputs": [
    {
     "data": {
      "text/plain": [
       "<matplotlib.collections.PathCollection at 0x24aa9c26208>"
      ]
     },
     "execution_count": 119,
     "metadata": {
      "tags": []
     },
     "output_type": "execute_result"
    },
    {
     "data": {
      "image/png": "[encoded data removed]",
      "text/plain": [
       "<matplotlib.figure.Figure at 0x24aa9cab9e8>"
      ]
     },
     "metadata": {
      "tags": []
     },
     "output_type": "display_data"
    }
   ],
   "source": [
    "# Create figure and axes\n",
    "f, ax = plt.subplots(figsize=(5,5))\n",
    "\n",
    "# Plot on axes\n",
    "ax.set_title('Actual vs Predicted')\n",
    "ax.set_xlabel('Actual')\n",
    "ax.set_ylabel('Predicted')\n",
    "ax.set_xlim(0, 0.4)\n",
    "ax.set_ylim(0, 0.4)\n",
    "ax.scatter(y_test,predictions)"
   ]
  },
  {
   "cell_type": "markdown",
   "metadata": {
    "colab_type": "text",
    "id": "UVWH3nOjwkU-"
   },
   "source": [
    "Next we look at some statistical measures to test our output. In this case we use MSE. A low MSE means that our model generalizes well to unseen data."
   ]
  },
  {
   "cell_type": "code",
   "execution_count": null,
   "metadata": {
    "colab": {
     "autoexec": {
      "startup": false,
      "wait_interval": 0
     },
     "output_extras": [
      {}
     ]
    },
    "colab_type": "code",
    "id": "9Sx02pK3wkU-",
    "outputId": "2d501ed9-0e0a-4963-ec4d-9a2a4a5bcfdf"
   },
   "outputs": [
    {
     "name": "stdout",
     "output_type": "stream",
     "text": [
      "MSE: 0.0244668917227\n"
     ]
    }
   ],
   "source": [
    "print('MSE:', metrics.mean_squared_error(y_test, predictions))"
   ]
  },
  {
   "cell_type": "markdown",
   "metadata": {
    "colab_type": "text",
    "id": "c0wW5vT7wkVA"
   },
   "source": [
    "## Comparing two models"
   ]
  },
  {
   "cell_type": "markdown",
   "metadata": {
    "colab_type": "text",
    "id": "HRrLVBBtwkVA"
   },
   "source": [
    "To illustrate how we can compare two linear models, let us build a second model which is almost identical to the model run above, but excludes 'net_cash_op_act' from the predictors. We will then look at three metrics for comparing models, namely adjusted $R^2$, AIC and BIC. "
   ]
  },
  {
   "cell_type": "code",
   "execution_count": null,
   "metadata": {
    "colab": {
     "autoexec": {
      "startup": false,
      "wait_interval": 0
     },
     "output_extras": [
      {}
     ]
    },
    "colab_type": "code",
    "id": "Y9DzcuojwkVB",
    "outputId": "70509711-baf8-4602-d243-ccf6bd5ecba3"
   },
   "outputs": [
    {
     "data": {
      "text/plain": [
       "LinearRegression(copy_X=True, fit_intercept=True, n_jobs=1, normalize=False)"
      ]
     },
     "execution_count": 121,
     "metadata": {
      "tags": []
     },
     "output_type": "execute_result"
    }
   ],
   "source": [
    "# Lables\n",
    "y2 = df['target_return']\n",
    "\n",
    "# Features\n",
    "X2 = df.drop(['Date', 'company', 'target_return','net_cash_op_act'], axis=1)\n",
    "\n",
    "# Train/Test Split\n",
    "X_train2, X_test2, y_train2, y_test2 = train_test_split(X2, y2, test_size=0.3, random_state=50)\n",
    "\n",
    "# Fitting linear regression to training data\n",
    "lm2 = LinearRegression()\n",
    "lm2.fit(X_train2,y_train2)\n"
   ]
  },
  {
   "cell_type": "code",
   "execution_count": null,
   "metadata": {
    "colab": {
     "autoexec": {
      "startup": false,
      "wait_interval": 0
     },
     "output_extras": [
      {}
     ]
    },
    "colab_type": "code",
    "id": "fPE0YljdwkVC",
    "outputId": "9ca73171-a3aa-43ee-d7e2-f93cde5b1346"
   },
   "outputs": [
    {
     "name": "stdout",
     "output_type": "stream",
     "text": [
      "Intercept:               0.241654317677\n",
      "\n",
      "\n",
      "                          Coefficient\n",
      "current_price            4.465901e-07\n",
      "momentum                -1.985497e-02\n",
      "moving_average          -3.233334e-07\n",
      "moving_volatility        1.070858e-05\n",
      "trading_range           -2.330393e-05\n",
      "exp_market_change       -3.550128e-01\n",
      "rates                   -3.527479e-02\n",
      "Revenue                 -2.017030e-05\n",
      "Cost_of_Sales            2.023262e-05\n",
      "Gross_profit             2.019402e-05\n",
      "Operating_profit        -8.856042e-08\n",
      "Net_Profit              -1.758764e-06\n",
      "Issue_of_shares          8.152830e-08\n",
      "Share_repurchase         9.587784e-07\n",
      "Non_current_assets       1.028664e-09\n",
      "Current_assets           1.029827e-08\n",
      "Non_current_liabilities  2.478594e-08\n",
      "Current_liabilities     -4.328677e-09\n"
     ]
    }
   ],
   "source": [
    "print('Intercept:              ', lm2.intercept_)\n",
    "print('\\n')\n",
    "coeff_df = pd.DataFrame(lm2.coef_,X2.columns,columns=['Coefficient'])\n",
    "print( coeff_df)"
   ]
  },
  {
   "cell_type": "code",
   "execution_count": null,
   "metadata": {
    "colab": {
     "autoexec": {
      "startup": false,
      "wait_interval": 0
     },
     "output_extras": [
      {}
     ]
    },
    "colab_type": "code",
    "id": "4dgXxE6KwkVF",
    "outputId": "ce1d4231-9054-4d22-98df-335050209413"
   },
   "outputs": [
    {
     "name": "stdout",
     "output_type": "stream",
     "text": [
      "                            OLS Regression Results                            \n",
      "==============================================================================\n",
      "Dep. Variable:          target_return   R-squared:                       0.081\n",
      "Model:                            OLS   Adj. R-squared:                  0.011\n",
      "Method:                 Least Squares   F-statistic:                     1.153\n",
      "Date:                Tue, 05 Dec 2017   Prob (F-statistic):              0.302\n",
      "Time:                        09:51:24   Log-Likelihood:                 206.04\n",
      "No. Observations:                 253   AIC:                            -374.1\n",
      "Df Residuals:                     234   BIC:                            -306.9\n",
      "Df Model:                          18                                         \n",
      "Covariance Type:            nonrobust                                         \n",
      "===========================================================================================\n",
      "                              coef    std err          t      P>|t|      [0.025      0.975]\n",
      "-------------------------------------------------------------------------------------------\n",
      "Intercept                   0.2417      0.067      3.606      0.000       0.110       0.374\n",
      "current_price            4.466e-07   7.41e-06      0.060      0.952   -1.42e-05    1.51e-05\n",
      "momentum                   -0.0199      0.074     -0.267      0.790      -0.166       0.127\n",
      "moving_average          -3.233e-07   7.42e-06     -0.044      0.965   -1.49e-05    1.43e-05\n",
      "moving_volatility        1.071e-05      2e-05      0.535      0.593   -2.87e-05    5.01e-05\n",
      "trading_range            -2.33e-05   6.87e-05     -0.339      0.735      -0.000       0.000\n",
      "exp_market_change          -0.3550      0.167     -2.127      0.034      -0.684      -0.026\n",
      "rates                      -0.0353      0.011     -3.234      0.001      -0.057      -0.014\n",
      "Revenue                 -2.017e-05    4.1e-05     -0.492      0.623      -0.000    6.05e-05\n",
      "Cost_of_Sales            2.023e-05    4.1e-05      0.494      0.622   -6.05e-05       0.000\n",
      "Gross_profit             2.019e-05    4.1e-05      0.492      0.623   -6.06e-05       0.000\n",
      "Operating_profit        -8.856e-08   4.74e-07     -0.187      0.852   -1.02e-06    8.45e-07\n",
      "Net_Profit              -1.759e-06   2.55e-06     -0.690      0.491   -6.78e-06    3.26e-06\n",
      "Issue_of_shares          8.153e-08   7.23e-07      0.113      0.910   -1.34e-06    1.51e-06\n",
      "Share_repurchase         9.588e-07   3.46e-06      0.277      0.782   -5.87e-06    7.78e-06\n",
      "Non_current_assets       1.029e-09    3.7e-08      0.028      0.978   -7.19e-08    7.39e-08\n",
      "Current_assets            1.03e-08   4.36e-08      0.236      0.813   -7.55e-08    9.61e-08\n",
      "Non_current_liabilities  2.479e-08   2.39e-08      1.037      0.301   -2.23e-08    7.19e-08\n",
      "Current_liabilities     -4.329e-09   4.75e-08     -0.091      0.927   -9.79e-08    8.93e-08\n",
      "==============================================================================\n",
      "Omnibus:                       12.391   Durbin-Watson:                   1.920\n",
      "Prob(Omnibus):                  0.002   Jarque-Bera (JB):               18.065\n",
      "Skew:                           0.333   Prob(JB):                     0.000119\n",
      "Kurtosis:                       4.128   Cond. No.                     1.89e+08\n",
      "==============================================================================\n",
      "\n",
      "Warnings:\n",
      "[1] Standard Errors assume that the covariance matrix of the errors is correctly specified.\n",
      "[2] The condition number is large, 1.89e+08. This might indicate that there are\n",
      "strong multicollinearity or other numerical problems.\n"
     ]
    }
   ],
   "source": [
    "traindata2 = X_train2.join(y_train2)\n",
    "lm2_sm = smf.ols( 'target_return~ current_price + momentum + moving_average\\\n",
    "             + moving_volatility + trading_range + exp_market_change\\\n",
    "             + rates + Revenue + Cost_of_Sales + Gross_profit\\\n",
    "             + Operating_profit + Net_Profit + Issue_of_shares\\\n",
    "             + Share_repurchase + Non_current_assets + Current_assets\\\n",
    "             + Non_current_liabilities + Current_liabilities',\n",
    "             data = traindata2).fit()\n",
    "print(lm2_sm.summary()) "
   ]
  },
  {
   "cell_type": "markdown",
   "metadata": {
    "colab_type": "text",
    "id": "RjodaxGhwkVI"
   },
   "source": [
    "Let us compare the $R^2$ from the two models"
   ]
  },
  {
   "cell_type": "code",
   "execution_count": null,
   "metadata": {
    "colab": {
     "autoexec": {
      "startup": false,
      "wait_interval": 0
     },
     "output_extras": [
      {}
     ]
    },
    "colab_type": "code",
    "id": "az0mTEWlwkVJ",
    "outputId": "fc24d9d6-fedc-4afb-f282-46684f58cb95"
   },
   "outputs": [
    {
     "name": "stdout",
     "output_type": "stream",
     "text": [
      "R squared SCORE\n",
      "Model 1: 0.0837699589315\n",
      "Model 2: 0.0814820736495\n"
     ]
    }
   ],
   "source": [
    "print('R squared SCORE')\n",
    "print('Model 1:', lm.score(X_train, y_train)) \n",
    "print('Model 2:', lm2.score(X_train2, y_train2))\n"
   ]
  },
  {
   "cell_type": "markdown",
   "metadata": {
    "colab_type": "text",
    "id": "IXDrz4MmwkVL"
   },
   "source": [
    "If we only used the $R^2$ statistic to compare the two models, we would assume that model 1 provides a better fit. However, model 1 also has 19 parameters compared to model 2 which only has 18. One of the disadvantages with $R^2$ is that it does not adjust for using different parameters, and as you add more and more parameters to your model, you will generally increase the $R^2$ value. To overcome this problem, we can rather look at $$ Adjusted R^2 = 1 - (1-R^2) \\times \\frac{n-1}{n - p -1} $$ "
   ]
  },
  {
   "cell_type": "code",
   "execution_count": null,
   "metadata": {
    "colab": {
     "autoexec": {
      "startup": false,
      "wait_interval": 0
     },
     "output_extras": [
      {}
     ]
    },
    "colab_type": "code",
    "id": "g6e2pASnwkVL",
    "outputId": "ec474c68-99ad-41cc-d14c-3b748640d9f7"
   },
   "outputs": [
    {
     "name": "stdout",
     "output_type": "stream",
     "text": [
      "Adjusted R squared SCORE\n",
      "Model 1: 0.00905592124781\n",
      "Model 2: 0.0108268485457\n"
     ]
    }
   ],
   "source": [
    "print('Adjusted R squared SCORE')\n",
    "print('Model 1:', lm_sm.rsquared_adj) \n",
    "print('Model 2:', lm2_sm.rsquared_adj)\n"
   ]
  },
  {
   "cell_type": "markdown",
   "metadata": {
    "colab_type": "text",
    "id": "JXlWct5EwkVO"
   },
   "source": [
    "We can see that with the adjusted $R^2$ values, model 2 is a better fit. Two alternative methods for comparing model selection is to look at information criteria e.g Akaike's information criterion (AIC) or Bayesian information criterion(BIC). The aim is to choose a model with the lowest AIC or BIC. For further information you can read up  http://scott.fortmann-roe.com/docs/MeasuringError.html."
   ]
  },
  {
   "cell_type": "code",
   "execution_count": null,
   "metadata": {
    "colab": {
     "autoexec": {
      "startup": false,
      "wait_interval": 0
     },
     "output_extras": [
      {}
     ]
    },
    "colab_type": "code",
    "id": "6e8rBt-vwkVP",
    "outputId": "7707994e-11c1-46d0-d027-a57e575a27b9"
   },
   "outputs": [
    {
     "name": "stdout",
     "output_type": "stream",
     "text": [
      "AIC\n",
      "Model 1: -372.711806076\n",
      "Model 2: -374.080836279\n",
      "BIC\n",
      "Model 1: -302.044016301\n",
      "Model 2: -306.946435993\n"
     ]
    }
   ],
   "source": [
    "print('AIC')\n",
    "print('Model 1:', lm_sm.aic) \n",
    "print('Model 2:', lm2_sm.aic)\n",
    "print('BIC')\n",
    "print('Model 1:', lm_sm.bic) \n",
    "print('Model 2:', lm2_sm.bic)\n"
   ]
  },
  {
   "cell_type": "markdown",
   "metadata": {
    "colab_type": "text",
    "id": "swm7eKRZwkVQ"
   },
   "source": [
    "Based on both AIC and BIC model 2 appears to give a better fit. However, let us compare the two models on the test data set and compare the MSE to see which model gives the best fit on the test data."
   ]
  },
  {
   "cell_type": "code",
   "execution_count": null,
   "metadata": {
    "colab": {
     "autoexec": {
      "startup": false,
      "wait_interval": 0
     },
     "output_extras": [
      {}
     ]
    },
    "colab_type": "code",
    "id": "KC4WecQawkVR",
    "outputId": "069742dc-8275-44d0-8254-4a56a81c0c44"
   },
   "outputs": [
    {
     "name": "stdout",
     "output_type": "stream",
     "text": [
      "Test MSE\n",
      "Model 1: 0.0244668917227\n",
      "Model 2: 0.0246023224392\n"
     ]
    }
   ],
   "source": [
    "predictions2 = lm2.predict(X_test2)\n",
    "print('Test MSE')\n",
    "print('Model 1:', metrics.mean_squared_error(y_test, predictions))\n",
    "print('Model 2:', metrics.mean_squared_error(y_test2, predictions2))\n"
   ]
  },
  {
   "cell_type": "markdown",
   "metadata": {
    "colab_type": "text",
    "id": "yHpzvGtNwkVU"
   },
   "source": [
    "In this scenario we can see that the Test MSE are almost identical. Thus to avoid overfitting, it would be better to choose the model with 18 parameters."
   ]
  },
  {
   "cell_type": "markdown",
   "metadata": {
    "colab_type": "text",
    "id": "EfhmkDefwkVV"
   },
   "source": [
    "In the next notebook we will look at techniques to improve a multifactor linear regression model."
   ]
  },
  {
   "cell_type": "code",
   "execution_count": null,
   "metadata": {
    "colab": {
     "autoexec": {
      "startup": false,
      "wait_interval": 0
     }
    },
    "colab_type": "code",
    "id": "kNpmESuZwkVW"
   },
   "outputs": [],
   "source": []
  }
 ],
 "metadata": {
  "colab": {
   "collapsed_sections": [
    "xlGWlcKuwkUP",
    "xW5GCwd8wkUX",
    "coN3l2rPwkUz",
    "Bkxc6GV0wkU5",
    "JJGIafm7wkU8"
   ],
   "default_view": {},
   "name": "3. Building a multifactor linear model (Predicting Stock Returns in Scikit Learn) v2.ipynb",
   "provenance": [],
   "version": "0.3.2",
   "views": {}
  },
  "kernelspec": {
   "display_name": "Python 3",
   "language": "python",
   "name": "python3"
  },
  "language_info": {
   "codemirror_mode": {
    "name": "ipython",
    "version": 3
   },
   "file_extension": ".py",
   "mimetype": "text/x-python",
   "name": "python",
   "nbconvert_exporter": "python",
   "pygments_lexer": "ipython3",
   "version": "3.6.2"
  }
 },
 "nbformat": 4,
 "nbformat_minor": 2
}
