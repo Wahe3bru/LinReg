{
 "cells": [
  {
   "cell_type": "markdown",
   "metadata": {},
   "source": [
    "# Model analysis of _Multivareate Linear Regression_"
   ]
  },
  {
   "cell_type": "markdown",
   "metadata": {},
   "source": [
    "$$Y~=~\\beta_0+\\beta_1X_1+\\beta_2X_2+...+\\beta_pX_p+error$$"
   ]
  },
  {
   "cell_type": "markdown",
   "metadata": {},
   "source": [
    " "
   ]
  },
  {
   "cell_type": "markdown",
   "metadata": {},
   "source": [
    "### Import Data to be Trained and Tested on"
   ]
  },
  {
   "cell_type": "code",
   "execution_count": 2,
   "metadata": {},
   "outputs": [],
   "source": [
    "#imports\n",
    "import pandas as pd"
   ]
  },
  {
   "cell_type": "code",
   "execution_count": 3,
   "metadata": {},
   "outputs": [
    {
     "data": {
      "text/html": [
       "<div>\n",
       "<style>\n",
       "    .dataframe thead tr:only-child th {\n",
       "        text-align: right;\n",
       "    }\n",
       "\n",
       "    .dataframe thead th {\n",
       "        text-align: left;\n",
       "    }\n",
       "\n",
       "    .dataframe tbody tr th {\n",
       "        vertical-align: top;\n",
       "    }\n",
       "</style>\n",
       "<table border=\"1\" class=\"dataframe\">\n",
       "  <thead>\n",
       "    <tr style=\"text-align: right;\">\n",
       "      <th></th>\n",
       "      <th>current_price</th>\n",
       "      <th>momentum</th>\n",
       "      <th>moving_average</th>\n",
       "      <th>moving_volatility</th>\n",
       "      <th>trading_range</th>\n",
       "      <th>target_return</th>\n",
       "      <th>exp_market_change</th>\n",
       "      <th>rates</th>\n",
       "      <th>Revenue</th>\n",
       "      <th>Cost_of_Sales</th>\n",
       "      <th>...</th>\n",
       "      <th>Non_current_liabilities</th>\n",
       "      <th>Current_liabilities</th>\n",
       "      <th>net_cash_op_act</th>\n",
       "      <th>Debt_M</th>\n",
       "      <th>Debt(perc_GDP)</th>\n",
       "      <th>Debt_Per_Capita</th>\n",
       "      <th>CPI_perc</th>\n",
       "      <th>GDP_Mill_dollars</th>\n",
       "      <th>GDP_Growth_perc</th>\n",
       "      <th>Unemployment_alt</th>\n",
       "    </tr>\n",
       "  </thead>\n",
       "  <tbody>\n",
       "    <tr>\n",
       "      <th>0</th>\n",
       "      <td>29500.0</td>\n",
       "      <td>-0.103343</td>\n",
       "      <td>30598.216667</td>\n",
       "      <td>1854.530002</td>\n",
       "      <td>850.550000</td>\n",
       "      <td>0.090136</td>\n",
       "      <td>-0.016852</td>\n",
       "      <td>7.08</td>\n",
       "      <td>951.4</td>\n",
       "      <td>621.9</td>\n",
       "      <td>...</td>\n",
       "      <td>220.7</td>\n",
       "      <td>454.3</td>\n",
       "      <td>959.6</td>\n",
       "      <td>130020</td>\n",
       "      <td>34.68</td>\n",
       "      <td>2557.0</td>\n",
       "      <td>5.468</td>\n",
       "      <td>375.304</td>\n",
       "      <td>3.0</td>\n",
       "      <td>24.7</td>\n",
       "    </tr>\n",
       "    <tr>\n",
       "      <th>1</th>\n",
       "      <td>31150.0</td>\n",
       "      <td>0.139982</td>\n",
       "      <td>28743.150000</td>\n",
       "      <td>1079.933674</td>\n",
       "      <td>697.066667</td>\n",
       "      <td>-0.053612</td>\n",
       "      <td>0.044321</td>\n",
       "      <td>6.58</td>\n",
       "      <td>845.3</td>\n",
       "      <td>606.0</td>\n",
       "      <td>...</td>\n",
       "      <td>221.0</td>\n",
       "      <td>396.3</td>\n",
       "      <td>816.6</td>\n",
       "      <td>130020</td>\n",
       "      <td>34.68</td>\n",
       "      <td>2557.0</td>\n",
       "      <td>5.468</td>\n",
       "      <td>375.304</td>\n",
       "      <td>3.0</td>\n",
       "      <td>24.7</td>\n",
       "    </tr>\n",
       "    <tr>\n",
       "      <th>2</th>\n",
       "      <td>31420.0</td>\n",
       "      <td>-0.026943</td>\n",
       "      <td>31682.016667</td>\n",
       "      <td>1388.464601</td>\n",
       "      <td>864.983333</td>\n",
       "      <td>0.050286</td>\n",
       "      <td>0.008204</td>\n",
       "      <td>6.42</td>\n",
       "      <td>991.8</td>\n",
       "      <td>609.9</td>\n",
       "      <td>...</td>\n",
       "      <td>306.8</td>\n",
       "      <td>328.0</td>\n",
       "      <td>1003.0</td>\n",
       "      <td>130020</td>\n",
       "      <td>34.68</td>\n",
       "      <td>2557.0</td>\n",
       "      <td>5.468</td>\n",
       "      <td>375.304</td>\n",
       "      <td>3.0</td>\n",
       "      <td>24.7</td>\n",
       "    </tr>\n",
       "    <tr>\n",
       "      <th>3</th>\n",
       "      <td>34987.0</td>\n",
       "      <td>0.096771</td>\n",
       "      <td>32142.716667</td>\n",
       "      <td>784.923382</td>\n",
       "      <td>705.033333</td>\n",
       "      <td>-0.060365</td>\n",
       "      <td>0.136024</td>\n",
       "      <td>5.65</td>\n",
       "      <td>1066.8</td>\n",
       "      <td>665.9</td>\n",
       "      <td>...</td>\n",
       "      <td>412.7</td>\n",
       "      <td>197.5</td>\n",
       "      <td>1056.6</td>\n",
       "      <td>130020</td>\n",
       "      <td>34.68</td>\n",
       "      <td>2557.0</td>\n",
       "      <td>5.468</td>\n",
       "      <td>375.304</td>\n",
       "      <td>3.0</td>\n",
       "      <td>24.7</td>\n",
       "    </tr>\n",
       "    <tr>\n",
       "      <th>4</th>\n",
       "      <td>33230.0</td>\n",
       "      <td>-0.007586</td>\n",
       "      <td>32411.016667</td>\n",
       "      <td>1134.366223</td>\n",
       "      <td>629.016667</td>\n",
       "      <td>-0.061601</td>\n",
       "      <td>0.076571</td>\n",
       "      <td>5.53</td>\n",
       "      <td>1109.5</td>\n",
       "      <td>701.6</td>\n",
       "      <td>...</td>\n",
       "      <td>444.2</td>\n",
       "      <td>97.4</td>\n",
       "      <td>1095.5</td>\n",
       "      <td>159429</td>\n",
       "      <td>38.23</td>\n",
       "      <td>3091.0</td>\n",
       "      <td>3.571</td>\n",
       "      <td>416.879</td>\n",
       "      <td>3.3</td>\n",
       "      <td>24.7</td>\n",
       "    </tr>\n",
       "  </tbody>\n",
       "</table>\n",
       "<p>5 rows × 27 columns</p>\n",
       "</div>"
      ],
      "text/plain": [
       "   current_price  momentum  moving_average  moving_volatility  trading_range  \\\n",
       "0        29500.0 -0.103343    30598.216667        1854.530002     850.550000   \n",
       "1        31150.0  0.139982    28743.150000        1079.933674     697.066667   \n",
       "2        31420.0 -0.026943    31682.016667        1388.464601     864.983333   \n",
       "3        34987.0  0.096771    32142.716667         784.923382     705.033333   \n",
       "4        33230.0 -0.007586    32411.016667        1134.366223     629.016667   \n",
       "\n",
       "   target_return  exp_market_change  rates  Revenue  Cost_of_Sales  \\\n",
       "0       0.090136          -0.016852   7.08    951.4          621.9   \n",
       "1      -0.053612           0.044321   6.58    845.3          606.0   \n",
       "2       0.050286           0.008204   6.42    991.8          609.9   \n",
       "3      -0.060365           0.136024   5.65   1066.8          665.9   \n",
       "4      -0.061601           0.076571   5.53   1109.5          701.6   \n",
       "\n",
       "         ...         Non_current_liabilities  Current_liabilities  \\\n",
       "0        ...                           220.7                454.3   \n",
       "1        ...                           221.0                396.3   \n",
       "2        ...                           306.8                328.0   \n",
       "3        ...                           412.7                197.5   \n",
       "4        ...                           444.2                 97.4   \n",
       "\n",
       "   net_cash_op_act  Debt_M  Debt(perc_GDP)  Debt_Per_Capita  CPI_perc  \\\n",
       "0            959.6  130020           34.68           2557.0     5.468   \n",
       "1            816.6  130020           34.68           2557.0     5.468   \n",
       "2           1003.0  130020           34.68           2557.0     5.468   \n",
       "3           1056.6  130020           34.68           2557.0     5.468   \n",
       "4           1095.5  159429           38.23           3091.0     3.571   \n",
       "\n",
       "   GDP_Mill_dollars  GDP_Growth_perc  Unemployment_alt  \n",
       "0           375.304              3.0              24.7  \n",
       "1           375.304              3.0              24.7  \n",
       "2           375.304              3.0              24.7  \n",
       "3           375.304              3.0              24.7  \n",
       "4           416.879              3.3              24.7  \n",
       "\n",
       "[5 rows x 27 columns]"
      ]
     },
     "execution_count": 3,
     "metadata": {},
     "output_type": "execute_result"
    }
   ],
   "source": [
    "# af_ data with all the features\n",
    "df_all_feat = pd.read_csv('data_all.csv').drop(['Unnamed: 0','Date', 'company'], axis=1)\n",
    "df_all_feat.head()"
   ]
  },
  {
   "cell_type": "code",
   "execution_count": 38,
   "metadata": {},
   "outputs": [
    {
     "data": {
      "text/html": [
       "<div>\n",
       "<style>\n",
       "    .dataframe thead tr:only-child th {\n",
       "        text-align: right;\n",
       "    }\n",
       "\n",
       "    .dataframe thead th {\n",
       "        text-align: left;\n",
       "    }\n",
       "\n",
       "    .dataframe tbody tr th {\n",
       "        vertical-align: top;\n",
       "    }\n",
       "</style>\n",
       "<table border=\"1\" class=\"dataframe\">\n",
       "  <thead>\n",
       "    <tr style=\"text-align: right;\">\n",
       "      <th></th>\n",
       "      <th>target_return</th>\n",
       "      <th>exp_market_change</th>\n",
       "      <th>rates</th>\n",
       "      <th>Debt_M</th>\n",
       "      <th>Debt_Per_Capita</th>\n",
       "      <th>CPI_perc</th>\n",
       "      <th>GDP_Mill_dollars</th>\n",
       "      <th>GDP_Growth_perc</th>\n",
       "      <th>Unemployment_alt</th>\n",
       "    </tr>\n",
       "  </thead>\n",
       "  <tbody>\n",
       "    <tr>\n",
       "      <th>0</th>\n",
       "      <td>0.090136</td>\n",
       "      <td>-0.016852</td>\n",
       "      <td>7.08</td>\n",
       "      <td>130020</td>\n",
       "      <td>2557.0</td>\n",
       "      <td>5.468</td>\n",
       "      <td>375.304</td>\n",
       "      <td>3.0</td>\n",
       "      <td>24.7</td>\n",
       "    </tr>\n",
       "    <tr>\n",
       "      <th>1</th>\n",
       "      <td>-0.053612</td>\n",
       "      <td>0.044321</td>\n",
       "      <td>6.58</td>\n",
       "      <td>130020</td>\n",
       "      <td>2557.0</td>\n",
       "      <td>5.468</td>\n",
       "      <td>375.304</td>\n",
       "      <td>3.0</td>\n",
       "      <td>24.7</td>\n",
       "    </tr>\n",
       "    <tr>\n",
       "      <th>2</th>\n",
       "      <td>0.050286</td>\n",
       "      <td>0.008204</td>\n",
       "      <td>6.42</td>\n",
       "      <td>130020</td>\n",
       "      <td>2557.0</td>\n",
       "      <td>5.468</td>\n",
       "      <td>375.304</td>\n",
       "      <td>3.0</td>\n",
       "      <td>24.7</td>\n",
       "    </tr>\n",
       "    <tr>\n",
       "      <th>3</th>\n",
       "      <td>-0.060365</td>\n",
       "      <td>0.136024</td>\n",
       "      <td>5.65</td>\n",
       "      <td>130020</td>\n",
       "      <td>2557.0</td>\n",
       "      <td>5.468</td>\n",
       "      <td>375.304</td>\n",
       "      <td>3.0</td>\n",
       "      <td>24.7</td>\n",
       "    </tr>\n",
       "    <tr>\n",
       "      <th>4</th>\n",
       "      <td>-0.061601</td>\n",
       "      <td>0.076571</td>\n",
       "      <td>5.53</td>\n",
       "      <td>159429</td>\n",
       "      <td>3091.0</td>\n",
       "      <td>3.571</td>\n",
       "      <td>416.879</td>\n",
       "      <td>3.3</td>\n",
       "      <td>24.7</td>\n",
       "    </tr>\n",
       "  </tbody>\n",
       "</table>\n",
       "</div>"
      ],
      "text/plain": [
       "   target_return  exp_market_change  rates  Debt_M  Debt_Per_Capita  CPI_perc  \\\n",
       "0       0.090136          -0.016852   7.08  130020           2557.0     5.468   \n",
       "1      -0.053612           0.044321   6.58  130020           2557.0     5.468   \n",
       "2       0.050286           0.008204   6.42  130020           2557.0     5.468   \n",
       "3      -0.060365           0.136024   5.65  130020           2557.0     5.468   \n",
       "4      -0.061601           0.076571   5.53  159429           3091.0     3.571   \n",
       "\n",
       "   GDP_Mill_dollars  GDP_Growth_perc  Unemployment_alt  \n",
       "0           375.304              3.0              24.7  \n",
       "1           375.304              3.0              24.7  \n",
       "2           375.304              3.0              24.7  \n",
       "3           375.304              3.0              24.7  \n",
       "4           416.879              3.3              24.7  "
      ]
     },
     "execution_count": 38,
     "metadata": {},
     "output_type": "execute_result"
    }
   ],
   "source": [
    "# sf_ data with only significant features\n",
    "df_sig_feat = pd.read_csv('data_signif.csv').drop('Unnamed: 0', axis=1)\n",
    "df_sig_feat.head()"
   ]
  },
  {
   "cell_type": "code",
   "execution_count": 39,
   "metadata": {},
   "outputs": [],
   "source": [
    "af_y = df_all_feat['target_return']\n",
    "af_X = df_all_feat.drop('target_return',axis=1)"
   ]
  },
  {
   "cell_type": "code",
   "execution_count": 40,
   "metadata": {},
   "outputs": [],
   "source": [
    "sf_y = df_sig_feat['target_return']\n",
    "sf_X = df_sig_feat.drop('target_return',axis=1)"
   ]
  },
  {
   "cell_type": "markdown",
   "metadata": {},
   "source": [
    "### Train, Test, Split"
   ]
  },
  {
   "cell_type": "code",
   "execution_count": 41,
   "metadata": {},
   "outputs": [],
   "source": [
    "from sklearn.model_selection import train_test_split"
   ]
  },
  {
   "cell_type": "code",
   "execution_count": 42,
   "metadata": {},
   "outputs": [],
   "source": [
    "# af_\n",
    "af_X_train, af_X_test, af_y_train, af_y_test = train_test_split(af_X, af_y, test_size=0.3, random_state=42)"
   ]
  },
  {
   "cell_type": "code",
   "execution_count": 43,
   "metadata": {},
   "outputs": [],
   "source": [
    "# sf_\n",
    "sf_X_train, sf_X_test, sf_y_train, sf_y_test = train_test_split(sf_X, sf_y, test_size=0.3, random_state=42)"
   ]
  },
  {
   "cell_type": "markdown",
   "metadata": {},
   "source": [
    " "
   ]
  },
  {
   "cell_type": "markdown",
   "metadata": {},
   "source": [
    "### Model/ Regression Analysis Tool:\n",
    "__model1:__ using all the columns\n",
    "\n",
    "__model2:__ using _best features_\n"
   ]
  },
  {
   "cell_type": "code",
   "execution_count": 45,
   "metadata": {},
   "outputs": [],
   "source": [
    "from sklearn.linear_model import LinearRegression"
   ]
  },
  {
   "cell_type": "code",
   "execution_count": 46,
   "metadata": {},
   "outputs": [],
   "source": [
    "af_lm = LinearRegression()\n",
    "\n",
    "sf_lm = LinearRegression()"
   ]
  },
  {
   "cell_type": "code",
   "execution_count": 48,
   "metadata": {},
   "outputs": [],
   "source": [
    "# train\n",
    "af_lm.fit(af_X_train, af_y_train)\n",
    "\n",
    "sf_lm.fit(sf_X_train, sf_y_train)"
   ]
  },
  {
   "cell_type": "code",
   "execution_count": 107,
   "metadata": {},
   "outputs": [
    {
     "name": "stdout",
     "output_type": "stream",
     "text": [
      "Intercept\n",
      "af_ data with all the features:            3.6676436106798143\n",
      "sf_ data with only significant features:  -7.830813629934605\n"
     ]
    }
   ],
   "source": [
    "print('Intercept')\n",
    "print('af_ data with all the features:            {}'.format(af_lm.intercept_))\n",
    "print('sf_ data with only significant features:  {}'.format(sf_lm.intercept_))"
   ]
  },
  {
   "cell_type": "code",
   "execution_count": 52,
   "metadata": {},
   "outputs": [
    {
     "data": {
      "text/html": [
       "<div>\n",
       "<style>\n",
       "    .dataframe thead tr:only-child th {\n",
       "        text-align: right;\n",
       "    }\n",
       "\n",
       "    .dataframe thead th {\n",
       "        text-align: left;\n",
       "    }\n",
       "\n",
       "    .dataframe tbody tr th {\n",
       "        vertical-align: top;\n",
       "    }\n",
       "</style>\n",
       "<table border=\"1\" class=\"dataframe\">\n",
       "  <thead>\n",
       "    <tr style=\"text-align: right;\">\n",
       "      <th></th>\n",
       "      <th>af_Coefficient</th>\n",
       "    </tr>\n",
       "  </thead>\n",
       "  <tbody>\n",
       "    <tr>\n",
       "      <th>current_price</th>\n",
       "      <td>-8.886334e-06</td>\n",
       "    </tr>\n",
       "    <tr>\n",
       "      <th>momentum</th>\n",
       "      <td>3.244438e-02</td>\n",
       "    </tr>\n",
       "    <tr>\n",
       "      <th>moving_average</th>\n",
       "      <td>8.923288e-06</td>\n",
       "    </tr>\n",
       "    <tr>\n",
       "      <th>moving_volatility</th>\n",
       "      <td>4.199535e-05</td>\n",
       "    </tr>\n",
       "    <tr>\n",
       "      <th>trading_range</th>\n",
       "      <td>-5.790419e-05</td>\n",
       "    </tr>\n",
       "    <tr>\n",
       "      <th>exp_market_change</th>\n",
       "      <td>-7.091349e-01</td>\n",
       "    </tr>\n",
       "    <tr>\n",
       "      <th>rates</th>\n",
       "      <td>-1.500951e-01</td>\n",
       "    </tr>\n",
       "    <tr>\n",
       "      <th>Revenue</th>\n",
       "      <td>-4.013521e-05</td>\n",
       "    </tr>\n",
       "    <tr>\n",
       "      <th>Cost_of_Sales</th>\n",
       "      <td>4.032370e-05</td>\n",
       "    </tr>\n",
       "    <tr>\n",
       "      <th>Gross_profit</th>\n",
       "      <td>4.028782e-05</td>\n",
       "    </tr>\n",
       "    <tr>\n",
       "      <th>Operating_profit</th>\n",
       "      <td>5.949328e-08</td>\n",
       "    </tr>\n",
       "    <tr>\n",
       "      <th>Net_Profit</th>\n",
       "      <td>-1.212344e-06</td>\n",
       "    </tr>\n",
       "    <tr>\n",
       "      <th>Issue_of_shares</th>\n",
       "      <td>2.887598e-07</td>\n",
       "    </tr>\n",
       "    <tr>\n",
       "      <th>Share_repurchase</th>\n",
       "      <td>1.566063e-07</td>\n",
       "    </tr>\n",
       "    <tr>\n",
       "      <th>Non_current_assets</th>\n",
       "      <td>-2.365478e-08</td>\n",
       "    </tr>\n",
       "    <tr>\n",
       "      <th>Current_assets</th>\n",
       "      <td>1.243364e-09</td>\n",
       "    </tr>\n",
       "    <tr>\n",
       "      <th>Non_current_liabilities</th>\n",
       "      <td>1.418489e-08</td>\n",
       "    </tr>\n",
       "    <tr>\n",
       "      <th>Current_liabilities</th>\n",
       "      <td>2.991941e-08</td>\n",
       "    </tr>\n",
       "    <tr>\n",
       "      <th>net_cash_op_act</th>\n",
       "      <td>-4.331156e-07</td>\n",
       "    </tr>\n",
       "    <tr>\n",
       "      <th>Debt_M</th>\n",
       "      <td>4.342574e-04</td>\n",
       "    </tr>\n",
       "    <tr>\n",
       "      <th>Debt(perc_GDP)</th>\n",
       "      <td>-1.896904e-01</td>\n",
       "    </tr>\n",
       "    <tr>\n",
       "      <th>Debt_Per_Capita</th>\n",
       "      <td>-2.447616e-02</td>\n",
       "    </tr>\n",
       "    <tr>\n",
       "      <th>CPI_perc</th>\n",
       "      <td>5.580163e-02</td>\n",
       "    </tr>\n",
       "    <tr>\n",
       "      <th>GDP_Mill_dollars</th>\n",
       "      <td>1.963401e-02</td>\n",
       "    </tr>\n",
       "    <tr>\n",
       "      <th>GDP_Growth_perc</th>\n",
       "      <td>1.892448e-01</td>\n",
       "    </tr>\n",
       "    <tr>\n",
       "      <th>Unemployment_alt</th>\n",
       "      <td>7.450793e-02</td>\n",
       "    </tr>\n",
       "  </tbody>\n",
       "</table>\n",
       "</div>"
      ],
      "text/plain": [
       "                         af_Coefficient\n",
       "current_price             -8.886334e-06\n",
       "momentum                   3.244438e-02\n",
       "moving_average             8.923288e-06\n",
       "moving_volatility          4.199535e-05\n",
       "trading_range             -5.790419e-05\n",
       "exp_market_change         -7.091349e-01\n",
       "rates                     -1.500951e-01\n",
       "Revenue                   -4.013521e-05\n",
       "Cost_of_Sales              4.032370e-05\n",
       "Gross_profit               4.028782e-05\n",
       "Operating_profit           5.949328e-08\n",
       "Net_Profit                -1.212344e-06\n",
       "Issue_of_shares            2.887598e-07\n",
       "Share_repurchase           1.566063e-07\n",
       "Non_current_assets        -2.365478e-08\n",
       "Current_assets             1.243364e-09\n",
       "Non_current_liabilities    1.418489e-08\n",
       "Current_liabilities        2.991941e-08\n",
       "net_cash_op_act           -4.331156e-07\n",
       "Debt_M                     4.342574e-04\n",
       "Debt(perc_GDP)            -1.896904e-01\n",
       "Debt_Per_Capita           -2.447616e-02\n",
       "CPI_perc                   5.580163e-02\n",
       "GDP_Mill_dollars           1.963401e-02\n",
       "GDP_Growth_perc            1.892448e-01\n",
       "Unemployment_alt           7.450793e-02"
      ]
     },
     "execution_count": 52,
     "metadata": {},
     "output_type": "execute_result"
    }
   ],
   "source": [
    "af_coeff_df = pd.DataFrame(af_lm.coef_,af_X.columns,columns=['af_Coefficient'])\n",
    "af_coeff_df"
   ]
  },
  {
   "cell_type": "code",
   "execution_count": 53,
   "metadata": {},
   "outputs": [
    {
     "data": {
      "text/html": [
       "<div>\n",
       "<style>\n",
       "    .dataframe thead tr:only-child th {\n",
       "        text-align: right;\n",
       "    }\n",
       "\n",
       "    .dataframe thead th {\n",
       "        text-align: left;\n",
       "    }\n",
       "\n",
       "    .dataframe tbody tr th {\n",
       "        vertical-align: top;\n",
       "    }\n",
       "</style>\n",
       "<table border=\"1\" class=\"dataframe\">\n",
       "  <thead>\n",
       "    <tr style=\"text-align: right;\">\n",
       "      <th></th>\n",
       "      <th>sf_Coefficient</th>\n",
       "    </tr>\n",
       "  </thead>\n",
       "  <tbody>\n",
       "    <tr>\n",
       "      <th>exp_market_change</th>\n",
       "      <td>-0.755018</td>\n",
       "    </tr>\n",
       "    <tr>\n",
       "      <th>rates</th>\n",
       "      <td>-0.146550</td>\n",
       "    </tr>\n",
       "    <tr>\n",
       "      <th>Debt_M</th>\n",
       "      <td>0.000223</td>\n",
       "    </tr>\n",
       "    <tr>\n",
       "      <th>Debt_Per_Capita</th>\n",
       "      <td>-0.014213</td>\n",
       "    </tr>\n",
       "    <tr>\n",
       "      <th>CPI_perc</th>\n",
       "      <td>0.079574</td>\n",
       "    </tr>\n",
       "    <tr>\n",
       "      <th>GDP_Mill_dollars</th>\n",
       "      <td>0.021879</td>\n",
       "    </tr>\n",
       "    <tr>\n",
       "      <th>GDP_Growth_perc</th>\n",
       "      <td>0.284082</td>\n",
       "    </tr>\n",
       "    <tr>\n",
       "      <th>Unemployment_alt</th>\n",
       "      <td>0.273447</td>\n",
       "    </tr>\n",
       "  </tbody>\n",
       "</table>\n",
       "</div>"
      ],
      "text/plain": [
       "                   sf_Coefficient\n",
       "exp_market_change       -0.755018\n",
       "rates                   -0.146550\n",
       "Debt_M                   0.000223\n",
       "Debt_Per_Capita         -0.014213\n",
       "CPI_perc                 0.079574\n",
       "GDP_Mill_dollars         0.021879\n",
       "GDP_Growth_perc          0.284082\n",
       "Unemployment_alt         0.273447"
      ]
     },
     "execution_count": 53,
     "metadata": {},
     "output_type": "execute_result"
    }
   ],
   "source": [
    "sf_coeff_df = pd.DataFrame(sf_lm.coef_,sf_X.columns,columns=['sf_Coefficient'])\n",
    "sf_coeff_df"
   ]
  },
  {
   "cell_type": "markdown",
   "metadata": {},
   "source": [
    " "
   ]
  },
  {
   "cell_type": "markdown",
   "metadata": {},
   "source": [
    "## Performance\n",
    "R2, F - Tests, Adjusted R2, AIC, BIC "
   ]
  },
  {
   "cell_type": "code",
   "execution_count": 54,
   "metadata": {},
   "outputs": [],
   "source": [
    "# get model predictions\n",
    "# Get predictions for training data\n",
    "af_fit_lm = af_lm.predict(af_X_train)\n",
    "sf_fit_lm = sf_lm.predict(sf_X_train)\n",
    "\n",
    "# get model predictions\n",
    "# Get predictions for testing data\n",
    "af_fit_test_lm = af_lm.predict(af_X_test)\n",
    "sf_fit_test_lm = sf_lm.predict(sf_X_test)"
   ]
  },
  {
   "cell_type": "code",
   "execution_count": 55,
   "metadata": {},
   "outputs": [],
   "source": [
    "from sklearn import metrics"
   ]
  },
  {
   "cell_type": "code",
   "execution_count": 78,
   "metadata": {},
   "outputs": [],
   "source": [
    "#'MSE (train)')\n",
    "af_mse_train =  metrics.mean_squared_error(af_y_train, af_fit_lm)\n",
    "sf_mse_train =  metrics.mean_squared_error(sf_y_train, sf_fit_lm)\n",
    "\n",
    "#MSE (test)')\n",
    "af_mse_test = metrics.mean_squared_error(af_y_test, af_fit_test_lm)\n",
    "sf_mse_test = metrics.mean_squared_error(sf_y_test, sf_fit_test_lm)"
   ]
  },
  {
   "cell_type": "code",
   "execution_count": 93,
   "metadata": {},
   "outputs": [
    {
     "name": "stdout",
     "output_type": "stream",
     "text": [
      "MEAN SQUARED ERROR                       MSE (train)               MSE (test)\n",
      "af_ data with all the features:          0.013257051340309297      0.014914183378949565\n",
      "sf_ data with only significant features: 0.013964740553623118      0.01400770930792062\n"
     ]
    }
   ],
   "source": [
    "print('MEAN SQUARED ERROR                       MSE (train)               MSE (test)')\n",
    "print('af_ data with all the features:          {}      {}'.format(af_mse_train, af_mse_test))\n",
    "print('sf_ data with only significant features: {}      {}'.format(sf_mse_train, sf_mse_test))"
   ]
  },
  {
   "cell_type": "markdown",
   "metadata": {},
   "source": [
    " "
   ]
  },
  {
   "cell_type": "code",
   "execution_count": 97,
   "metadata": {},
   "outputs": [],
   "source": [
    "# R^2 train\n",
    "af_R2_train = af_lm.score(af_X_train, af_y_train)\n",
    "sf_R2_train = sf_lm.score(sf_X_train, sf_y_train)\n",
    "\n",
    "# R^2 (test)\n",
    "af_R2_test = af_lm.score(af_X_test, af_y_test)\n",
    "sf_R2_test = sf_lm.score(sf_X_test, sf_y_test)"
   ]
  },
  {
   "cell_type": "code",
   "execution_count": 104,
   "metadata": {},
   "outputs": [
    {
     "name": "stdout",
     "output_type": "stream",
     "text": [
      "R SQUARED SCORE                          R^2(train)               R^2(test)\n",
      "af_ data with all the features:          0.16884159444470093      0.08761309621561031\n",
      "sf_ data with only significant features: 0.12447261501877714      0.14306736079132054\n"
     ]
    }
   ],
   "source": [
    "print('R SQUARED SCORE                          R^2(train)               R^2(test)')\n",
    "print('af_ data with all the features:          {}      {}'.format(af_R2_train, af_R2_test))\n",
    "print('sf_ data with only significant features: {}      {}'.format(sf_R2_train, sf_R2_test))"
   ]
  },
  {
   "cell_type": "markdown",
   "metadata": {},
   "source": [
    " "
   ]
  },
  {
   "cell_type": "markdown",
   "metadata": {},
   "source": [
    "### Pros"
   ]
  },
  {
   "cell_type": "code",
   "execution_count": null,
   "metadata": {},
   "outputs": [],
   "source": []
  },
  {
   "cell_type": "markdown",
   "metadata": {},
   "source": [
    " "
   ]
  },
  {
   "cell_type": "markdown",
   "metadata": {},
   "source": [
    "### Cons"
   ]
  },
  {
   "cell_type": "code",
   "execution_count": null,
   "metadata": {},
   "outputs": [],
   "source": []
  }
 ],
 "metadata": {
  "kernelspec": {
   "display_name": "Python 3",
   "language": "python",
   "name": "python3"
  },
  "language_info": {
   "codemirror_mode": {
    "name": "ipython",
    "version": 3
   },
   "file_extension": ".py",
   "mimetype": "text/x-python",
   "name": "python",
   "nbconvert_exporter": "python",
   "pygments_lexer": "ipython3",
   "version": "3.6.2"
  }
 },
 "nbformat": 4,
 "nbformat_minor": 2
}
