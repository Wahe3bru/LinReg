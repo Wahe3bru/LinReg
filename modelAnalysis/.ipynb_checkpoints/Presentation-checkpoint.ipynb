{
 "cells": [
  {
   "cell_type": "code",
   "execution_count": 1,
   "metadata": {},
   "outputs": [],
   "source": [
    "import pandas as pd"
   ]
  },
  {
   "cell_type": "markdown",
   "metadata": {},
   "source": [
    "# Linear Regression"
   ]
  },
  {
   "cell_type": "markdown",
   "metadata": {},
   "source": [
    "## Data"
   ]
  },
  {
   "cell_type": "markdown",
   "metadata": {},
   "source": [
    "Using: \n",
    "- Company fundementals \n",
    "- futures prices\n",
    "- history of stock prices\n",
    "- interest rates\n",
    "- CPI\n",
    "- GDP\n",
    "- SA Debt \n",
    "- unemployment"
   ]
  },
  {
   "cell_type": "code",
   "execution_count": 21,
   "metadata": {},
   "outputs": [],
   "source": [
    "data_all = pd.read_csv('data_all.csv').drop('Unnamed: 0',axis=1)\n",
    "data_signif = pd.read_csv('data_signif.csv').drop('Unnamed: 0',axis=1)"
   ]
  },
  {
   "cell_type": "markdown",
   "metadata": {},
   "source": [
    "#### Created Features"
   ]
  },
  {
   "cell_type": "code",
   "execution_count": 13,
   "metadata": {},
   "outputs": [
    {
     "data": {
      "text/html": [
       "<div>\n",
       "<style>\n",
       "    .dataframe thead tr:only-child th {\n",
       "        text-align: right;\n",
       "    }\n",
       "\n",
       "    .dataframe thead th {\n",
       "        text-align: left;\n",
       "    }\n",
       "\n",
       "    .dataframe tbody tr th {\n",
       "        vertical-align: top;\n",
       "    }\n",
       "</style>\n",
       "<table border=\"1\" class=\"dataframe\">\n",
       "  <thead>\n",
       "    <tr style=\"text-align: right;\">\n",
       "      <th></th>\n",
       "      <th>current_price</th>\n",
       "      <th>moving_average</th>\n",
       "      <th>moving_volatility</th>\n",
       "      <th>trading_range</th>\n",
       "      <th>momentum</th>\n",
       "    </tr>\n",
       "  </thead>\n",
       "  <tbody>\n",
       "    <tr>\n",
       "      <th>0</th>\n",
       "      <td>29500.0</td>\n",
       "      <td>30598.216667</td>\n",
       "      <td>1854.530002</td>\n",
       "      <td>850.550000</td>\n",
       "      <td>-0.103343</td>\n",
       "    </tr>\n",
       "    <tr>\n",
       "      <th>1</th>\n",
       "      <td>31150.0</td>\n",
       "      <td>28743.150000</td>\n",
       "      <td>1079.933674</td>\n",
       "      <td>697.066667</td>\n",
       "      <td>0.139982</td>\n",
       "    </tr>\n",
       "    <tr>\n",
       "      <th>2</th>\n",
       "      <td>31420.0</td>\n",
       "      <td>31682.016667</td>\n",
       "      <td>1388.464601</td>\n",
       "      <td>864.983333</td>\n",
       "      <td>-0.026943</td>\n",
       "    </tr>\n",
       "    <tr>\n",
       "      <th>3</th>\n",
       "      <td>34987.0</td>\n",
       "      <td>32142.716667</td>\n",
       "      <td>784.923382</td>\n",
       "      <td>705.033333</td>\n",
       "      <td>0.096771</td>\n",
       "    </tr>\n",
       "    <tr>\n",
       "      <th>4</th>\n",
       "      <td>33230.0</td>\n",
       "      <td>32411.016667</td>\n",
       "      <td>1134.366223</td>\n",
       "      <td>629.016667</td>\n",
       "      <td>-0.007586</td>\n",
       "    </tr>\n",
       "  </tbody>\n",
       "</table>\n",
       "</div>"
      ],
      "text/plain": [
       "   current_price  moving_average  moving_volatility  trading_range  momentum\n",
       "0        29500.0    30598.216667        1854.530002     850.550000 -0.103343\n",
       "1        31150.0    28743.150000        1079.933674     697.066667  0.139982\n",
       "2        31420.0    31682.016667        1388.464601     864.983333 -0.026943\n",
       "3        34987.0    32142.716667         784.923382     705.033333  0.096771\n",
       "4        33230.0    32411.016667        1134.366223     629.016667 -0.007586"
      ]
     },
     "execution_count": 13,
     "metadata": {},
     "output_type": "execute_result"
    }
   ],
   "source": [
    "data_all[['current_price','moving_average', 'moving_volatility', 'trading_range','momentum']].head()"
   ]
  },
  {
   "cell_type": "markdown",
   "metadata": {},
   "source": [
    "#### Added Extra Features from External Data"
   ]
  },
  {
   "cell_type": "code",
   "execution_count": 19,
   "metadata": {},
   "outputs": [
    {
     "data": {
      "text/html": [
       "<div>\n",
       "<style>\n",
       "    .dataframe thead tr:only-child th {\n",
       "        text-align: right;\n",
       "    }\n",
       "\n",
       "    .dataframe thead th {\n",
       "        text-align: left;\n",
       "    }\n",
       "\n",
       "    .dataframe tbody tr th {\n",
       "        vertical-align: top;\n",
       "    }\n",
       "</style>\n",
       "<table border=\"1\" class=\"dataframe\">\n",
       "  <thead>\n",
       "    <tr style=\"text-align: right;\">\n",
       "      <th></th>\n",
       "      <th>Debt_M</th>\n",
       "      <th>Debt(perc_GDP)</th>\n",
       "      <th>Debt_Per_Capita</th>\n",
       "      <th>CPI_perc</th>\n",
       "      <th>GDP_Mill_dollars</th>\n",
       "      <th>GDP_Growth_perc</th>\n",
       "      <th>Unemployment_alt</th>\n",
       "    </tr>\n",
       "  </thead>\n",
       "  <tbody>\n",
       "    <tr>\n",
       "      <th>0</th>\n",
       "      <td>130020</td>\n",
       "      <td>34.68</td>\n",
       "      <td>2557.0</td>\n",
       "      <td>5.468</td>\n",
       "      <td>375.304</td>\n",
       "      <td>3.0</td>\n",
       "      <td>24.7</td>\n",
       "    </tr>\n",
       "    <tr>\n",
       "      <th>1</th>\n",
       "      <td>130020</td>\n",
       "      <td>34.68</td>\n",
       "      <td>2557.0</td>\n",
       "      <td>5.468</td>\n",
       "      <td>375.304</td>\n",
       "      <td>3.0</td>\n",
       "      <td>24.7</td>\n",
       "    </tr>\n",
       "    <tr>\n",
       "      <th>2</th>\n",
       "      <td>130020</td>\n",
       "      <td>34.68</td>\n",
       "      <td>2557.0</td>\n",
       "      <td>5.468</td>\n",
       "      <td>375.304</td>\n",
       "      <td>3.0</td>\n",
       "      <td>24.7</td>\n",
       "    </tr>\n",
       "    <tr>\n",
       "      <th>3</th>\n",
       "      <td>130020</td>\n",
       "      <td>34.68</td>\n",
       "      <td>2557.0</td>\n",
       "      <td>5.468</td>\n",
       "      <td>375.304</td>\n",
       "      <td>3.0</td>\n",
       "      <td>24.7</td>\n",
       "    </tr>\n",
       "    <tr>\n",
       "      <th>4</th>\n",
       "      <td>159429</td>\n",
       "      <td>38.23</td>\n",
       "      <td>3091.0</td>\n",
       "      <td>3.571</td>\n",
       "      <td>416.879</td>\n",
       "      <td>3.3</td>\n",
       "      <td>24.7</td>\n",
       "    </tr>\n",
       "  </tbody>\n",
       "</table>\n",
       "</div>"
      ],
      "text/plain": [
       "   Debt_M  Debt(perc_GDP)  Debt_Per_Capita  CPI_perc  GDP_Mill_dollars  \\\n",
       "0  130020           34.68           2557.0     5.468           375.304   \n",
       "1  130020           34.68           2557.0     5.468           375.304   \n",
       "2  130020           34.68           2557.0     5.468           375.304   \n",
       "3  130020           34.68           2557.0     5.468           375.304   \n",
       "4  159429           38.23           3091.0     3.571           416.879   \n",
       "\n",
       "   GDP_Growth_perc  Unemployment_alt  \n",
       "0              3.0              24.7  \n",
       "1              3.0              24.7  \n",
       "2              3.0              24.7  \n",
       "3              3.0              24.7  \n",
       "4              3.3              24.7  "
      ]
     },
     "execution_count": 19,
     "metadata": {},
     "output_type": "execute_result"
    }
   ],
   "source": [
    "data_all[['Debt_M', 'Debt(perc_GDP)', 'Debt_Per_Capita', 'CPI_perc',\n",
    "       'GDP_Mill_dollars', 'GDP_Growth_perc', 'Unemployment_alt']].head()"
   ]
  },
  {
   "cell_type": "code",
   "execution_count": 15,
   "metadata": {},
   "outputs": [
    {
     "data": {
      "text/plain": [
       "Index(['Date', 'company', 'current_price', 'momentum', 'moving_average',\n",
       "       'moving_volatility', 'trading_range', 'target_return',\n",
       "       'exp_market_change', 'rates', 'Revenue', 'Cost_of_Sales',\n",
       "       'Gross_profit', 'Operating_profit', 'Net_Profit', 'Issue_of_shares',\n",
       "       'Share_repurchase', 'Non_current_assets', 'Current_assets',\n",
       "       'Non_current_liabilities', 'Current_liabilities', 'net_cash_op_act',\n",
       "       'Debt_M', 'Debt(perc_GDP)', 'Debt_Per_Capita', 'CPI_perc',\n",
       "       'GDP_Mill_dollars', 'GDP_Growth_perc', 'Unemployment_alt'],\n",
       "      dtype='object')"
      ]
     },
     "execution_count": 15,
     "metadata": {},
     "output_type": "execute_result"
    }
   ],
   "source": [
    "#28 Features\n",
    "data_all.columns"
   ]
  },
  {
   "cell_type": "markdown",
   "metadata": {},
   "source": [
    "### Using Backward Elimination with a SL = 0.05"
   ]
  },
  {
   "cell_type": "code",
   "execution_count": 33,
   "metadata": {},
   "outputs": [
    {
     "data": {
      "text/html": [
       "<div>\n",
       "<style>\n",
       "    .dataframe thead tr:only-child th {\n",
       "        text-align: right;\n",
       "    }\n",
       "\n",
       "    .dataframe thead th {\n",
       "        text-align: left;\n",
       "    }\n",
       "\n",
       "    .dataframe tbody tr th {\n",
       "        vertical-align: top;\n",
       "    }\n",
       "</style>\n",
       "<table border=\"1\" class=\"dataframe\">\n",
       "  <thead>\n",
       "    <tr style=\"text-align: right;\">\n",
       "      <th></th>\n",
       "      <th>exp_market_change</th>\n",
       "      <th>rates</th>\n",
       "      <th>Debt_M</th>\n",
       "      <th>Debt_Per_Capita</th>\n",
       "      <th>CPI_perc</th>\n",
       "      <th>GDP_Mill_dollars</th>\n",
       "      <th>GDP_Growth_perc</th>\n",
       "      <th>Unemployment_alt</th>\n",
       "    </tr>\n",
       "  </thead>\n",
       "  <tbody>\n",
       "    <tr>\n",
       "      <th>0</th>\n",
       "      <td>-0.016852</td>\n",
       "      <td>7.08</td>\n",
       "      <td>130020</td>\n",
       "      <td>2557.0</td>\n",
       "      <td>5.468</td>\n",
       "      <td>375.304</td>\n",
       "      <td>3.0</td>\n",
       "      <td>24.7</td>\n",
       "    </tr>\n",
       "    <tr>\n",
       "      <th>1</th>\n",
       "      <td>0.044321</td>\n",
       "      <td>6.58</td>\n",
       "      <td>130020</td>\n",
       "      <td>2557.0</td>\n",
       "      <td>5.468</td>\n",
       "      <td>375.304</td>\n",
       "      <td>3.0</td>\n",
       "      <td>24.7</td>\n",
       "    </tr>\n",
       "    <tr>\n",
       "      <th>2</th>\n",
       "      <td>0.008204</td>\n",
       "      <td>6.42</td>\n",
       "      <td>130020</td>\n",
       "      <td>2557.0</td>\n",
       "      <td>5.468</td>\n",
       "      <td>375.304</td>\n",
       "      <td>3.0</td>\n",
       "      <td>24.7</td>\n",
       "    </tr>\n",
       "    <tr>\n",
       "      <th>3</th>\n",
       "      <td>0.136024</td>\n",
       "      <td>5.65</td>\n",
       "      <td>130020</td>\n",
       "      <td>2557.0</td>\n",
       "      <td>5.468</td>\n",
       "      <td>375.304</td>\n",
       "      <td>3.0</td>\n",
       "      <td>24.7</td>\n",
       "    </tr>\n",
       "    <tr>\n",
       "      <th>4</th>\n",
       "      <td>0.076571</td>\n",
       "      <td>5.53</td>\n",
       "      <td>159429</td>\n",
       "      <td>3091.0</td>\n",
       "      <td>3.571</td>\n",
       "      <td>416.879</td>\n",
       "      <td>3.3</td>\n",
       "      <td>24.7</td>\n",
       "    </tr>\n",
       "  </tbody>\n",
       "</table>\n",
       "</div>"
      ],
      "text/plain": [
       "   exp_market_change  rates  Debt_M  Debt_Per_Capita  CPI_perc  \\\n",
       "0          -0.016852   7.08  130020           2557.0     5.468   \n",
       "1           0.044321   6.58  130020           2557.0     5.468   \n",
       "2           0.008204   6.42  130020           2557.0     5.468   \n",
       "3           0.136024   5.65  130020           2557.0     5.468   \n",
       "4           0.076571   5.53  159429           3091.0     3.571   \n",
       "\n",
       "   GDP_Mill_dollars  GDP_Growth_perc  Unemployment_alt  \n",
       "0           375.304              3.0              24.7  \n",
       "1           375.304              3.0              24.7  \n",
       "2           375.304              3.0              24.7  \n",
       "3           375.304              3.0              24.7  \n",
       "4           416.879              3.3              24.7  "
      ]
     },
     "execution_count": 33,
     "metadata": {},
     "output_type": "execute_result"
    }
   ],
   "source": [
    "# 8 columns\n",
    "data_signif.head().drop(['target_return'],axis=1)"
   ]
  },
  {
   "cell_type": "markdown",
   "metadata": {},
   "source": [
    "---"
   ]
  },
  {
   "cell_type": "markdown",
   "metadata": {},
   "source": [
    "## Training Models on All the features \n",
    "### note all features were scaled using StandardScaler"
   ]
  },
  {
   "cell_type": "markdown",
   "metadata": {},
   "source": [
    "> bar chart of coef_\n",
    "\n",
    "highlighting difference between Lasso and Ridge"
   ]
  },
  {
   "cell_type": "markdown",
   "metadata": {},
   "source": [
    "> Table of\n",
    "\n",
    ">MSE train   vs MSE test"
   ]
  },
  {
   "cell_type": "code",
   "execution_count": null,
   "metadata": {},
   "outputs": [],
   "source": []
  }
 ],
 "metadata": {
  "kernelspec": {
   "display_name": "Python 3",
   "language": "python",
   "name": "python3"
  },
  "language_info": {
   "codemirror_mode": {
    "name": "ipython",
    "version": 3
   },
   "file_extension": ".py",
   "mimetype": "text/x-python",
   "name": "python",
   "nbconvert_exporter": "python",
   "pygments_lexer": "ipython3",
   "version": "3.6.2"
  }
 },
 "nbformat": 4,
 "nbformat_minor": 2
}
