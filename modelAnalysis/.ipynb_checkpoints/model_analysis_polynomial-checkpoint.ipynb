{
 "cells": [
  {
   "cell_type": "markdown",
   "metadata": {},
   "source": [
    "# Model analysis of _Polynomial Regressions_"
   ]
  },
  {
   "cell_type": "markdown",
   "metadata": {},
   "source": [
    "\n",
    "\n",
    "$$Y=\\beta_0+\\beta_1x^1+\\beta_2x^2+\\beta_3x^3+...+\\beta_nx^n$$"
   ]
  },
  {
   "cell_type": "markdown",
   "metadata": {},
   "source": [
    " "
   ]
  },
  {
   "cell_type": "markdown",
   "metadata": {},
   "source": [
    "### Import Data to be Trained and Tested on"
   ]
  },
  {
   "cell_type": "code",
   "execution_count": 44,
   "metadata": {},
   "outputs": [],
   "source": [
    "#imports\n",
    "import pandas as pd"
   ]
  },
  {
   "cell_type": "code",
   "execution_count": 45,
   "metadata": {},
   "outputs": [
    {
     "data": {
      "text/html": [
       "<div>\n",
       "<style scoped>\n",
       "    .dataframe tbody tr th:only-of-type {\n",
       "        vertical-align: middle;\n",
       "    }\n",
       "\n",
       "    .dataframe tbody tr th {\n",
       "        vertical-align: top;\n",
       "    }\n",
       "\n",
       "    .dataframe thead th {\n",
       "        text-align: right;\n",
       "    }\n",
       "</style>\n",
       "<table border=\"1\" class=\"dataframe\">\n",
       "  <thead>\n",
       "    <tr style=\"text-align: right;\">\n",
       "      <th></th>\n",
       "      <th>current_price</th>\n",
       "      <th>momentum</th>\n",
       "      <th>moving_average</th>\n",
       "      <th>moving_volatility</th>\n",
       "      <th>trading_range</th>\n",
       "      <th>target_return</th>\n",
       "      <th>exp_market_change</th>\n",
       "      <th>rates</th>\n",
       "      <th>Revenue</th>\n",
       "      <th>Cost_of_Sales</th>\n",
       "      <th>...</th>\n",
       "      <th>Non_current_liabilities</th>\n",
       "      <th>Current_liabilities</th>\n",
       "      <th>net_cash_op_act</th>\n",
       "      <th>Debt_M</th>\n",
       "      <th>Debt(perc_GDP)</th>\n",
       "      <th>Debt_Per_Capita</th>\n",
       "      <th>CPI_perc</th>\n",
       "      <th>GDP_Mill_dollars</th>\n",
       "      <th>GDP_Growth_perc</th>\n",
       "      <th>Unemployment_alt</th>\n",
       "    </tr>\n",
       "  </thead>\n",
       "  <tbody>\n",
       "    <tr>\n",
       "      <th>0</th>\n",
       "      <td>29500.0</td>\n",
       "      <td>-0.103343</td>\n",
       "      <td>30598.216667</td>\n",
       "      <td>1854.530002</td>\n",
       "      <td>850.550000</td>\n",
       "      <td>0.090136</td>\n",
       "      <td>-0.016852</td>\n",
       "      <td>7.08</td>\n",
       "      <td>951.4</td>\n",
       "      <td>621.9</td>\n",
       "      <td>...</td>\n",
       "      <td>220.7</td>\n",
       "      <td>454.3</td>\n",
       "      <td>959.6</td>\n",
       "      <td>130020</td>\n",
       "      <td>34.68</td>\n",
       "      <td>2557.0</td>\n",
       "      <td>5.468</td>\n",
       "      <td>375.304</td>\n",
       "      <td>3.0</td>\n",
       "      <td>24.7</td>\n",
       "    </tr>\n",
       "    <tr>\n",
       "      <th>1</th>\n",
       "      <td>31150.0</td>\n",
       "      <td>0.139982</td>\n",
       "      <td>28743.150000</td>\n",
       "      <td>1079.933674</td>\n",
       "      <td>697.066667</td>\n",
       "      <td>-0.053612</td>\n",
       "      <td>0.044321</td>\n",
       "      <td>6.58</td>\n",
       "      <td>845.3</td>\n",
       "      <td>606.0</td>\n",
       "      <td>...</td>\n",
       "      <td>221.0</td>\n",
       "      <td>396.3</td>\n",
       "      <td>816.6</td>\n",
       "      <td>130020</td>\n",
       "      <td>34.68</td>\n",
       "      <td>2557.0</td>\n",
       "      <td>5.468</td>\n",
       "      <td>375.304</td>\n",
       "      <td>3.0</td>\n",
       "      <td>24.7</td>\n",
       "    </tr>\n",
       "    <tr>\n",
       "      <th>2</th>\n",
       "      <td>31420.0</td>\n",
       "      <td>-0.026943</td>\n",
       "      <td>31682.016667</td>\n",
       "      <td>1388.464601</td>\n",
       "      <td>864.983333</td>\n",
       "      <td>0.050286</td>\n",
       "      <td>0.008204</td>\n",
       "      <td>6.42</td>\n",
       "      <td>991.8</td>\n",
       "      <td>609.9</td>\n",
       "      <td>...</td>\n",
       "      <td>306.8</td>\n",
       "      <td>328.0</td>\n",
       "      <td>1003.0</td>\n",
       "      <td>130020</td>\n",
       "      <td>34.68</td>\n",
       "      <td>2557.0</td>\n",
       "      <td>5.468</td>\n",
       "      <td>375.304</td>\n",
       "      <td>3.0</td>\n",
       "      <td>24.7</td>\n",
       "    </tr>\n",
       "    <tr>\n",
       "      <th>3</th>\n",
       "      <td>34987.0</td>\n",
       "      <td>0.096771</td>\n",
       "      <td>32142.716667</td>\n",
       "      <td>784.923382</td>\n",
       "      <td>705.033333</td>\n",
       "      <td>-0.060365</td>\n",
       "      <td>0.136024</td>\n",
       "      <td>5.65</td>\n",
       "      <td>1066.8</td>\n",
       "      <td>665.9</td>\n",
       "      <td>...</td>\n",
       "      <td>412.7</td>\n",
       "      <td>197.5</td>\n",
       "      <td>1056.6</td>\n",
       "      <td>130020</td>\n",
       "      <td>34.68</td>\n",
       "      <td>2557.0</td>\n",
       "      <td>5.468</td>\n",
       "      <td>375.304</td>\n",
       "      <td>3.0</td>\n",
       "      <td>24.7</td>\n",
       "    </tr>\n",
       "    <tr>\n",
       "      <th>4</th>\n",
       "      <td>33230.0</td>\n",
       "      <td>-0.007586</td>\n",
       "      <td>32411.016667</td>\n",
       "      <td>1134.366223</td>\n",
       "      <td>629.016667</td>\n",
       "      <td>-0.061601</td>\n",
       "      <td>0.076571</td>\n",
       "      <td>5.53</td>\n",
       "      <td>1109.5</td>\n",
       "      <td>701.6</td>\n",
       "      <td>...</td>\n",
       "      <td>444.2</td>\n",
       "      <td>97.4</td>\n",
       "      <td>1095.5</td>\n",
       "      <td>159429</td>\n",
       "      <td>38.23</td>\n",
       "      <td>3091.0</td>\n",
       "      <td>3.571</td>\n",
       "      <td>416.879</td>\n",
       "      <td>3.3</td>\n",
       "      <td>24.7</td>\n",
       "    </tr>\n",
       "  </tbody>\n",
       "</table>\n",
       "<p>5 rows × 27 columns</p>\n",
       "</div>"
      ],
      "text/plain": [
       "   current_price  momentum  moving_average  moving_volatility  trading_range  \\\n",
       "0        29500.0 -0.103343    30598.216667        1854.530002     850.550000   \n",
       "1        31150.0  0.139982    28743.150000        1079.933674     697.066667   \n",
       "2        31420.0 -0.026943    31682.016667        1388.464601     864.983333   \n",
       "3        34987.0  0.096771    32142.716667         784.923382     705.033333   \n",
       "4        33230.0 -0.007586    32411.016667        1134.366223     629.016667   \n",
       "\n",
       "   target_return  exp_market_change  rates  Revenue  Cost_of_Sales  \\\n",
       "0       0.090136          -0.016852   7.08    951.4          621.9   \n",
       "1      -0.053612           0.044321   6.58    845.3          606.0   \n",
       "2       0.050286           0.008204   6.42    991.8          609.9   \n",
       "3      -0.060365           0.136024   5.65   1066.8          665.9   \n",
       "4      -0.061601           0.076571   5.53   1109.5          701.6   \n",
       "\n",
       "         ...         Non_current_liabilities  Current_liabilities  \\\n",
       "0        ...                           220.7                454.3   \n",
       "1        ...                           221.0                396.3   \n",
       "2        ...                           306.8                328.0   \n",
       "3        ...                           412.7                197.5   \n",
       "4        ...                           444.2                 97.4   \n",
       "\n",
       "   net_cash_op_act  Debt_M  Debt(perc_GDP)  Debt_Per_Capita  CPI_perc  \\\n",
       "0            959.6  130020           34.68           2557.0     5.468   \n",
       "1            816.6  130020           34.68           2557.0     5.468   \n",
       "2           1003.0  130020           34.68           2557.0     5.468   \n",
       "3           1056.6  130020           34.68           2557.0     5.468   \n",
       "4           1095.5  159429           38.23           3091.0     3.571   \n",
       "\n",
       "   GDP_Mill_dollars  GDP_Growth_perc  Unemployment_alt  \n",
       "0           375.304              3.0              24.7  \n",
       "1           375.304              3.0              24.7  \n",
       "2           375.304              3.0              24.7  \n",
       "3           375.304              3.0              24.7  \n",
       "4           416.879              3.3              24.7  \n",
       "\n",
       "[5 rows x 27 columns]"
      ]
     },
     "execution_count": 45,
     "metadata": {},
     "output_type": "execute_result"
    }
   ],
   "source": [
    "# af_ data with all the features\n",
    "df_all_feat = pd.read_csv('data_all.csv').drop(['Unnamed: 0','Date', 'company'], axis=1)\n",
    "df_all_feat.head()"
   ]
  },
  {
   "cell_type": "code",
   "execution_count": 46,
   "metadata": {},
   "outputs": [
    {
     "data": {
      "text/html": [
       "<div>\n",
       "<style scoped>\n",
       "    .dataframe tbody tr th:only-of-type {\n",
       "        vertical-align: middle;\n",
       "    }\n",
       "\n",
       "    .dataframe tbody tr th {\n",
       "        vertical-align: top;\n",
       "    }\n",
       "\n",
       "    .dataframe thead th {\n",
       "        text-align: right;\n",
       "    }\n",
       "</style>\n",
       "<table border=\"1\" class=\"dataframe\">\n",
       "  <thead>\n",
       "    <tr style=\"text-align: right;\">\n",
       "      <th></th>\n",
       "      <th>target_return</th>\n",
       "      <th>exp_market_change</th>\n",
       "      <th>rates</th>\n",
       "      <th>Debt_M</th>\n",
       "      <th>Debt_Per_Capita</th>\n",
       "      <th>CPI_perc</th>\n",
       "      <th>GDP_Mill_dollars</th>\n",
       "      <th>GDP_Growth_perc</th>\n",
       "      <th>Unemployment_alt</th>\n",
       "    </tr>\n",
       "  </thead>\n",
       "  <tbody>\n",
       "    <tr>\n",
       "      <th>0</th>\n",
       "      <td>0.090136</td>\n",
       "      <td>-0.016852</td>\n",
       "      <td>7.08</td>\n",
       "      <td>130020</td>\n",
       "      <td>2557.0</td>\n",
       "      <td>5.468</td>\n",
       "      <td>375.304</td>\n",
       "      <td>3.0</td>\n",
       "      <td>24.7</td>\n",
       "    </tr>\n",
       "    <tr>\n",
       "      <th>1</th>\n",
       "      <td>-0.053612</td>\n",
       "      <td>0.044321</td>\n",
       "      <td>6.58</td>\n",
       "      <td>130020</td>\n",
       "      <td>2557.0</td>\n",
       "      <td>5.468</td>\n",
       "      <td>375.304</td>\n",
       "      <td>3.0</td>\n",
       "      <td>24.7</td>\n",
       "    </tr>\n",
       "    <tr>\n",
       "      <th>2</th>\n",
       "      <td>0.050286</td>\n",
       "      <td>0.008204</td>\n",
       "      <td>6.42</td>\n",
       "      <td>130020</td>\n",
       "      <td>2557.0</td>\n",
       "      <td>5.468</td>\n",
       "      <td>375.304</td>\n",
       "      <td>3.0</td>\n",
       "      <td>24.7</td>\n",
       "    </tr>\n",
       "    <tr>\n",
       "      <th>3</th>\n",
       "      <td>-0.060365</td>\n",
       "      <td>0.136024</td>\n",
       "      <td>5.65</td>\n",
       "      <td>130020</td>\n",
       "      <td>2557.0</td>\n",
       "      <td>5.468</td>\n",
       "      <td>375.304</td>\n",
       "      <td>3.0</td>\n",
       "      <td>24.7</td>\n",
       "    </tr>\n",
       "    <tr>\n",
       "      <th>4</th>\n",
       "      <td>-0.061601</td>\n",
       "      <td>0.076571</td>\n",
       "      <td>5.53</td>\n",
       "      <td>159429</td>\n",
       "      <td>3091.0</td>\n",
       "      <td>3.571</td>\n",
       "      <td>416.879</td>\n",
       "      <td>3.3</td>\n",
       "      <td>24.7</td>\n",
       "    </tr>\n",
       "  </tbody>\n",
       "</table>\n",
       "</div>"
      ],
      "text/plain": [
       "   target_return  exp_market_change  rates  Debt_M  Debt_Per_Capita  CPI_perc  \\\n",
       "0       0.090136          -0.016852   7.08  130020           2557.0     5.468   \n",
       "1      -0.053612           0.044321   6.58  130020           2557.0     5.468   \n",
       "2       0.050286           0.008204   6.42  130020           2557.0     5.468   \n",
       "3      -0.060365           0.136024   5.65  130020           2557.0     5.468   \n",
       "4      -0.061601           0.076571   5.53  159429           3091.0     3.571   \n",
       "\n",
       "   GDP_Mill_dollars  GDP_Growth_perc  Unemployment_alt  \n",
       "0           375.304              3.0              24.7  \n",
       "1           375.304              3.0              24.7  \n",
       "2           375.304              3.0              24.7  \n",
       "3           375.304              3.0              24.7  \n",
       "4           416.879              3.3              24.7  "
      ]
     },
     "execution_count": 46,
     "metadata": {},
     "output_type": "execute_result"
    }
   ],
   "source": [
    "# sf_ data with only significant features\n",
    "df_sig_feat = pd.read_csv('data_signif.csv').drop('Unnamed: 0', axis=1)\n",
    "df_sig_feat.head()"
   ]
  },
  {
   "cell_type": "code",
   "execution_count": 47,
   "metadata": {},
   "outputs": [],
   "source": [
    "af_y = df_all_feat['target_return']\n",
    "af_X = df_all_feat.drop('target_return',axis=1)"
   ]
  },
  {
   "cell_type": "code",
   "execution_count": 48,
   "metadata": {},
   "outputs": [],
   "source": [
    "sf_y = df_sig_feat['target_return']\n",
    "sf_X = df_sig_feat.drop('target_return',axis=1)"
   ]
  },
  {
   "cell_type": "markdown",
   "metadata": {},
   "source": [
    "### Train, Test, Split"
   ]
  },
  {
   "cell_type": "code",
   "execution_count": 49,
   "metadata": {},
   "outputs": [],
   "source": [
    "from sklearn.model_selection import train_test_split"
   ]
  },
  {
   "cell_type": "code",
   "execution_count": 50,
   "metadata": {},
   "outputs": [],
   "source": [
    "# af_\n",
    "af_X_train, af_X_test, af_y_train, af_y_test = train_test_split(af_X, af_y, test_size=0.3, random_state=42)"
   ]
  },
  {
   "cell_type": "code",
   "execution_count": 51,
   "metadata": {},
   "outputs": [],
   "source": [
    "# sf_\n",
    "sf_X_train, sf_X_test, sf_y_train, sf_y_test = train_test_split(sf_X, sf_y, test_size=0.3, random_state=42)"
   ]
  },
  {
   "cell_type": "markdown",
   "metadata": {},
   "source": [
    " "
   ]
  },
  {
   "cell_type": "markdown",
   "metadata": {},
   "source": [
    "### Model/ Regression Analysis Tool:\n",
    "__model1:__ using all the columns\n",
    "\n",
    "__model2:__ using _best features_\n"
   ]
  },
  {
   "cell_type": "code",
   "execution_count": 14,
   "metadata": {},
   "outputs": [
    {
     "ename": "NameError",
     "evalue": "name 'X' is not defined",
     "output_type": "error",
     "traceback": [
      "\u001b[1;31m--------------------------------------------------------------------\u001b[0m",
      "\u001b[1;31mNameError\u001b[0m                          Traceback (most recent call last)",
      "\u001b[1;32m<ipython-input-14-92cf355c8173>\u001b[0m in \u001b[0;36m<module>\u001b[1;34m()\u001b[0m\n\u001b[0;32m      1\u001b[0m \u001b[1;32mfrom\u001b[0m \u001b[0msklearn\u001b[0m\u001b[1;33m.\u001b[0m\u001b[0mpreprocessing\u001b[0m \u001b[1;32mimport\u001b[0m \u001b[0mPolynomialFeatures\u001b[0m\u001b[1;33m\u001b[0m\u001b[0m\n\u001b[0;32m      2\u001b[0m \u001b[0mpoly_features\u001b[0m \u001b[1;33m=\u001b[0m \u001b[0mPolynomialFeatures\u001b[0m\u001b[1;33m(\u001b[0m\u001b[0mdegree\u001b[0m \u001b[1;33m=\u001b[0m \u001b[1;36m3\u001b[0m\u001b[1;33m)\u001b[0m\u001b[1;33m\u001b[0m\u001b[0m\n\u001b[1;32m----> 3\u001b[1;33m \u001b[0mX_poly\u001b[0m \u001b[1;33m=\u001b[0m \u001b[0mpoly_features\u001b[0m\u001b[1;33m.\u001b[0m\u001b[0mfit_transform\u001b[0m\u001b[1;33m(\u001b[0m\u001b[0mX\u001b[0m\u001b[1;33m)\u001b[0m\u001b[1;33m\u001b[0m\u001b[0m\n\u001b[0m\u001b[0;32m      4\u001b[0m \u001b[0mpoly_model\u001b[0m \u001b[1;33m=\u001b[0m \u001b[0mLinearRegression\u001b[0m\u001b[1;33m(\u001b[0m\u001b[1;33m)\u001b[0m\u001b[1;33m\u001b[0m\u001b[0m\n\u001b[0;32m      5\u001b[0m \u001b[0mpoly_model\u001b[0m\u001b[1;33m.\u001b[0m\u001b[0mfit\u001b[0m\u001b[1;33m(\u001b[0m\u001b[0mX_poly\u001b[0m\u001b[1;33m,\u001b[0m \u001b[0my2\u001b[0m\u001b[1;33m)\u001b[0m\u001b[1;33m\u001b[0m\u001b[0m\n",
      "\u001b[1;31mNameError\u001b[0m: name 'X' is not defined"
     ]
    }
   ],
   "source": [
    "from sklearn.preprocessing import PolynomialFeatures  \n",
    "poly_features = PolynomialFeatures(degree = 3)  \n",
    "X_poly = poly_features.fit_transform(X)\n",
    "poly_model = LinearRegression()  \n",
    "poly_model.fit(X_poly, y2)\n",
    "\n",
    "pred = poly_model.predict(X_poly)"
   ]
  },
  {
   "cell_type": "code",
   "execution_count": 52,
   "metadata": {},
   "outputs": [],
   "source": [
    "# Import library\n",
    "from sklearn.preprocessing import PolynomialFeatures  \n",
    "from sklearn.linear_model import LinearRegression"
   ]
  },
  {
   "cell_type": "code",
   "execution_count": 54,
   "metadata": {},
   "outputs": [
    {
     "data": {
      "text/plain": [
       "LinearRegression(copy_X=True, fit_intercept=True, n_jobs=1, normalize=False)"
      ]
     },
     "execution_count": 54,
     "metadata": {},
     "output_type": "execute_result"
    }
   ],
   "source": [
    "# initialize\n",
    "poly_reg = PolynomialFeatures(degree = 2)  \n",
    "\n",
    "# train\n",
    "af_X_poly = poly_reg.fit_transform(af_X_train)\n",
    "poly_reg.fit(af_X_poly, af_y_train)\n",
    "af_poly_model = LinearRegression() \n",
    "af_poly_model.fit(af_X_poly, af_y_train)"
   ]
  },
  {
   "cell_type": "code",
   "execution_count": 55,
   "metadata": {},
   "outputs": [
    {
     "name": "stdout",
     "output_type": "stream",
     "text": [
      "Wall time: 1.01 ms\n"
     ]
    },
    {
     "data": {
      "text/plain": [
       "LinearRegression(copy_X=True, fit_intercept=True, n_jobs=1, normalize=False)"
      ]
     },
     "execution_count": 55,
     "metadata": {},
     "output_type": "execute_result"
    }
   ],
   "source": [
    "%time\n",
    "sf_X_poly = poly_reg.fit_transform(sf_X_train)\n",
    "poly_reg.fit(sf_X_poly, sf_y_train)\n",
    "sf_poly_model = LinearRegression() \n",
    "sf_poly_model.fit(sf_X_poly, sf_y_train)"
   ]
  },
  {
   "cell_type": "code",
   "execution_count": 24,
   "metadata": {},
   "outputs": [],
   "source": [
    "# train\n"
   ]
  },
  {
   "cell_type": "code",
   "execution_count": null,
   "metadata": {},
   "outputs": [],
   "source": [
    "print('Intercept')\n",
    "print('af_ data with all the features:            {}'.format(af_poly_model.intercept_))\n",
    "print('sf_ data with only significant features:  {}'.format(sf_poly_model.intercept_))"
   ]
  },
  {
   "cell_type": "code",
   "execution_count": 30,
   "metadata": {},
   "outputs": [],
   "source": [
    "# Coefficient\n"
   ]
  },
  {
   "cell_type": "code",
   "execution_count": null,
   "metadata": {},
   "outputs": [],
   "source": []
  },
  {
   "cell_type": "markdown",
   "metadata": {},
   "source": [
    " "
   ]
  },
  {
   "cell_type": "markdown",
   "metadata": {},
   "source": [
    "## Performance\n",
    "R2, F - Tests, Adjusted R2, AIC, BIC "
   ]
  },
  {
   "cell_type": "code",
   "execution_count": 34,
   "metadata": {},
   "outputs": [],
   "source": [
    "# get model predictions\n",
    "# Get predictions for training data\n",
    "af_fit_poly_model = af_poly_model.predict(poly_reg.fit_transform(af_X_train))\n",
    "sf_fit_poly_model = sf_poly_model.predict(poly_reg.fit_transform(sf_X_train))\n",
    "\n",
    "# get model predictions\n",
    "# Get predictions for testing data\n",
    "af_fit_test_poly_model = af_poly_model.predict(poly_reg.fit_transform(af_X_test))\n",
    "sf_fit_test_poly_model = sf_poly_model.predict(poly_reg.fit_transform(sf_X_test))"
   ]
  },
  {
   "cell_type": "code",
   "execution_count": 35,
   "metadata": {},
   "outputs": [],
   "source": [
    "from sklearn import metrics"
   ]
  },
  {
   "cell_type": "code",
   "execution_count": 38,
   "metadata": {},
   "outputs": [],
   "source": [
    "#'MSE (train)')\n",
    "af_mse_train =  metrics.mean_squared_error(af_y_train, af_fit_poly_model)\n",
    "sf_mse_train =  metrics.mean_squared_error(sf_y_train, sf_fit_poly_model)\n",
    "\n",
    "#MSE (test)')\n",
    "af_mse_test = metrics.mean_squared_error(af_y_test, af_fit_test_poly_model)\n",
    "sf_mse_test = metrics.mean_squared_error(sf_y_test, sf_fit_test_poly_model)"
   ]
  },
  {
   "cell_type": "code",
   "execution_count": 39,
   "metadata": {},
   "outputs": [
    {
     "name": "stdout",
     "output_type": "stream",
     "text": [
      "MEAN SQUARED ERROR                       MSE (train)               MSE (test)\n",
      "af_ data with all the features:          3.2776202209965676e-06      1915425129.5504744\n",
      "sf_ data with only significant features: 0.01262933209067245      0.016905793639576394\n"
     ]
    }
   ],
   "source": [
    "print('MEAN SQUARED ERROR                       MSE (train)               MSE (test)')\n",
    "print('af_ data with all the features:          {}      {}'.format(af_mse_train, af_mse_test))\n",
    "print('sf_ data with only significant features: {}      {}'.format(sf_mse_train, sf_mse_test))"
   ]
  },
  {
   "cell_type": "markdown",
   "metadata": {},
   "source": [
    " "
   ]
  },
  {
   "cell_type": "code",
   "execution_count": 42,
   "metadata": {},
   "outputs": [],
   "source": [
    "# R^2 train\n",
    "af_R2_train = af_poly_model.score(poly_reg.fit_transform(af_X_train), af_y_train)\n",
    "sf_R2_train = sf_poly_model.score(poly_reg.fit_transform(sf_X_train), sf_y_train)\n",
    "\n",
    "# R^2 (test)\n",
    "af_R2_test = af_poly_model.score(poly_reg.fit_transform(af_X_test), af_y_test)\n",
    "sf_R2_test = sf_poly_model.score(poly_reg.fit_transform(sf_X_test), sf_y_test)"
   ]
  },
  {
   "cell_type": "code",
   "execution_count": 104,
   "metadata": {},
   "outputs": [
    {
     "name": "stdout",
     "output_type": "stream",
     "text": [
      "R SQUARED SCORE                          R^2(train)               R^2(test)\n",
      "af_ data with all the features:          0.16884159444470093      0.08761309621561031\n",
      "sf_ data with only significant features: 0.12447261501877714      0.14306736079132054\n"
     ]
    }
   ],
   "source": [
    "print('R SQUARED SCORE                          R^2(train)               R^2(test)')\n",
    "print('af_ data with all the features:          {}      {}'.format(af_R2_train, af_R2_test))\n",
    "print('sf_ data with only significant features: {}      {}'.format(sf_R2_train, sf_R2_test))"
   ]
  },
  {
   "cell_type": "markdown",
   "metadata": {},
   "source": [
    " "
   ]
  },
  {
   "cell_type": "markdown",
   "metadata": {},
   "source": [
    "### Pros"
   ]
  },
  {
   "cell_type": "code",
   "execution_count": null,
   "metadata": {},
   "outputs": [],
   "source": []
  },
  {
   "cell_type": "markdown",
   "metadata": {},
   "source": [
    " "
   ]
  },
  {
   "cell_type": "markdown",
   "metadata": {},
   "source": [
    "### Cons"
   ]
  },
  {
   "cell_type": "code",
   "execution_count": null,
   "metadata": {},
   "outputs": [],
   "source": []
  }
 ],
 "metadata": {
  "kernelspec": {
   "display_name": "Python 3",
   "language": "python",
   "name": "python3"
  },
  "language_info": {
   "codemirror_mode": {
    "name": "ipython",
    "version": 3
   },
   "file_extension": ".py",
   "mimetype": "text/x-python",
   "name": "python",
   "nbconvert_exporter": "python",
   "pygments_lexer": "ipython3",
   "version": "3.6.4"
  }
 },
 "nbformat": 4,
 "nbformat_minor": 2
}
