{
 "cells": [
  {
   "cell_type": "markdown",
   "metadata": {},
   "source": [
    "# Model Analysis\n",
    "using the data with all the features"
   ]
  },
  {
   "cell_type": "code",
   "execution_count": 215,
   "metadata": {},
   "outputs": [],
   "source": [
    "import numpy as np\n",
    "import pandas as pd\n",
    "import matplotlib.pyplot as plt\n",
    "import seaborn as sns\n",
    "% matplotlib inline"
   ]
  },
  {
   "cell_type": "code",
   "execution_count": 216,
   "metadata": {},
   "outputs": [],
   "source": [
    "df = pd.read_csv('data_all.csv').drop('Unnamed: 0', axis=1)"
   ]
  },
  {
   "cell_type": "markdown",
   "metadata": {},
   "source": [
    "### Features/Labels split"
   ]
  },
  {
   "cell_type": "code",
   "execution_count": 217,
   "metadata": {},
   "outputs": [],
   "source": [
    "# Lables\n",
    "y = df['target_return']\n",
    "\n",
    "# Features\n",
    "X = df.drop(['Date', 'company', 'target_return'], axis=1)"
   ]
  },
  {
   "cell_type": "markdown",
   "metadata": {},
   "source": [
    "### Rescaling features"
   ]
  },
  {
   "cell_type": "code",
   "execution_count": 218,
   "metadata": {},
   "outputs": [],
   "source": [
    "from sklearn.preprocessing import StandardScaler"
   ]
  },
  {
   "cell_type": "code",
   "execution_count": 219,
   "metadata": {},
   "outputs": [],
   "source": [
    "scaler = StandardScaler()"
   ]
  },
  {
   "cell_type": "code",
   "execution_count": 220,
   "metadata": {},
   "outputs": [],
   "source": [
    "X_scaled = scaler.fit_transform(X)"
   ]
  },
  {
   "cell_type": "code",
   "execution_count": 221,
   "metadata": {},
   "outputs": [
    {
     "data": {
      "text/html": [
       "<div>\n",
       "<style>\n",
       "    .dataframe thead tr:only-child th {\n",
       "        text-align: right;\n",
       "    }\n",
       "\n",
       "    .dataframe thead th {\n",
       "        text-align: left;\n",
       "    }\n",
       "\n",
       "    .dataframe tbody tr th {\n",
       "        vertical-align: top;\n",
       "    }\n",
       "</style>\n",
       "<table border=\"1\" class=\"dataframe\">\n",
       "  <thead>\n",
       "    <tr style=\"text-align: right;\">\n",
       "      <th></th>\n",
       "      <th>current_price</th>\n",
       "      <th>momentum</th>\n",
       "      <th>moving_average</th>\n",
       "      <th>moving_volatility</th>\n",
       "      <th>trading_range</th>\n",
       "      <th>exp_market_change</th>\n",
       "      <th>rates</th>\n",
       "      <th>Revenue</th>\n",
       "      <th>Cost_of_Sales</th>\n",
       "      <th>Gross_profit</th>\n",
       "      <th>...</th>\n",
       "      <th>Non_current_liabilities</th>\n",
       "      <th>Current_liabilities</th>\n",
       "      <th>net_cash_op_act</th>\n",
       "      <th>Debt_M</th>\n",
       "      <th>Debt(perc_GDP)</th>\n",
       "      <th>Debt_Per_Capita</th>\n",
       "      <th>CPI_perc</th>\n",
       "      <th>GDP_Mill_dollars</th>\n",
       "      <th>GDP_Growth_perc</th>\n",
       "      <th>Unemployment_alt</th>\n",
       "    </tr>\n",
       "  </thead>\n",
       "  <tbody>\n",
       "    <tr>\n",
       "      <th>0</th>\n",
       "      <td>0.571183</td>\n",
       "      <td>-1.191752</td>\n",
       "      <td>0.665252</td>\n",
       "      <td>1.008415</td>\n",
       "      <td>0.816413</td>\n",
       "      <td>-0.752487</td>\n",
       "      <td>1.614377</td>\n",
       "      <td>-0.258862</td>\n",
       "      <td>-0.247648</td>\n",
       "      <td>-0.276560</td>\n",
       "      <td>...</td>\n",
       "      <td>-0.191939</td>\n",
       "      <td>-0.183768</td>\n",
       "      <td>-0.195021</td>\n",
       "      <td>-2.320115</td>\n",
       "      <td>-1.596218</td>\n",
       "      <td>-1.896766</td>\n",
       "      <td>0.001992</td>\n",
       "      <td>0.377860</td>\n",
       "      <td>1.004574</td>\n",
       "      <td>-0.913907</td>\n",
       "    </tr>\n",
       "    <tr>\n",
       "      <th>1</th>\n",
       "      <td>0.646429</td>\n",
       "      <td>0.771303</td>\n",
       "      <td>0.577312</td>\n",
       "      <td>0.295273</td>\n",
       "      <td>0.519675</td>\n",
       "      <td>0.497042</td>\n",
       "      <td>0.922660</td>\n",
       "      <td>-0.259293</td>\n",
       "      <td>-0.247743</td>\n",
       "      <td>-0.277666</td>\n",
       "      <td>...</td>\n",
       "      <td>-0.191938</td>\n",
       "      <td>-0.183781</td>\n",
       "      <td>-0.196623</td>\n",
       "      <td>-2.320115</td>\n",
       "      <td>-1.596218</td>\n",
       "      <td>-1.896766</td>\n",
       "      <td>0.001992</td>\n",
       "      <td>0.377860</td>\n",
       "      <td>1.004574</td>\n",
       "      <td>-0.913907</td>\n",
       "    </tr>\n",
       "    <tr>\n",
       "      <th>2</th>\n",
       "      <td>0.658742</td>\n",
       "      <td>-0.575385</td>\n",
       "      <td>0.716630</td>\n",
       "      <td>0.579326</td>\n",
       "      <td>0.844317</td>\n",
       "      <td>-0.240694</td>\n",
       "      <td>0.701310</td>\n",
       "      <td>-0.258698</td>\n",
       "      <td>-0.247720</td>\n",
       "      <td>-0.275918</td>\n",
       "      <td>...</td>\n",
       "      <td>-0.191906</td>\n",
       "      <td>-0.183797</td>\n",
       "      <td>-0.194535</td>\n",
       "      <td>-2.320115</td>\n",
       "      <td>-1.596218</td>\n",
       "      <td>-1.896766</td>\n",
       "      <td>0.001992</td>\n",
       "      <td>0.377860</td>\n",
       "      <td>1.004574</td>\n",
       "      <td>-0.913907</td>\n",
       "    </tr>\n",
       "    <tr>\n",
       "      <th>3</th>\n",
       "      <td>0.821409</td>\n",
       "      <td>0.422697</td>\n",
       "      <td>0.738470</td>\n",
       "      <td>0.023668</td>\n",
       "      <td>0.535077</td>\n",
       "      <td>2.370180</td>\n",
       "      <td>-0.363935</td>\n",
       "      <td>-0.258394</td>\n",
       "      <td>-0.247383</td>\n",
       "      <td>-0.275685</td>\n",
       "      <td>...</td>\n",
       "      <td>-0.191866</td>\n",
       "      <td>-0.183827</td>\n",
       "      <td>-0.193934</td>\n",
       "      <td>-2.320115</td>\n",
       "      <td>-1.596218</td>\n",
       "      <td>-1.896766</td>\n",
       "      <td>0.001992</td>\n",
       "      <td>0.377860</td>\n",
       "      <td>1.004574</td>\n",
       "      <td>-0.913907</td>\n",
       "    </tr>\n",
       "    <tr>\n",
       "      <th>4</th>\n",
       "      <td>0.741284</td>\n",
       "      <td>-0.419215</td>\n",
       "      <td>0.751188</td>\n",
       "      <td>0.345387</td>\n",
       "      <td>0.388110</td>\n",
       "      <td>1.155783</td>\n",
       "      <td>-0.529947</td>\n",
       "      <td>-0.258221</td>\n",
       "      <td>-0.247169</td>\n",
       "      <td>-0.275599</td>\n",
       "      <td>...</td>\n",
       "      <td>-0.191854</td>\n",
       "      <td>-0.183850</td>\n",
       "      <td>-0.193499</td>\n",
       "      <td>0.357897</td>\n",
       "      <td>-0.966469</td>\n",
       "      <td>0.850759</td>\n",
       "      <td>-1.699192</td>\n",
       "      <td>1.431649</td>\n",
       "      <td>1.319792</td>\n",
       "      <td>-0.913907</td>\n",
       "    </tr>\n",
       "  </tbody>\n",
       "</table>\n",
       "<p>5 rows × 26 columns</p>\n",
       "</div>"
      ],
      "text/plain": [
       "   current_price  momentum  moving_average  moving_volatility  trading_range  \\\n",
       "0       0.571183 -1.191752        0.665252           1.008415       0.816413   \n",
       "1       0.646429  0.771303        0.577312           0.295273       0.519675   \n",
       "2       0.658742 -0.575385        0.716630           0.579326       0.844317   \n",
       "3       0.821409  0.422697        0.738470           0.023668       0.535077   \n",
       "4       0.741284 -0.419215        0.751188           0.345387       0.388110   \n",
       "\n",
       "   exp_market_change     rates   Revenue  Cost_of_Sales  Gross_profit  \\\n",
       "0          -0.752487  1.614377 -0.258862      -0.247648     -0.276560   \n",
       "1           0.497042  0.922660 -0.259293      -0.247743     -0.277666   \n",
       "2          -0.240694  0.701310 -0.258698      -0.247720     -0.275918   \n",
       "3           2.370180 -0.363935 -0.258394      -0.247383     -0.275685   \n",
       "4           1.155783 -0.529947 -0.258221      -0.247169     -0.275599   \n",
       "\n",
       "         ...         Non_current_liabilities  Current_liabilities  \\\n",
       "0        ...                       -0.191939            -0.183768   \n",
       "1        ...                       -0.191938            -0.183781   \n",
       "2        ...                       -0.191906            -0.183797   \n",
       "3        ...                       -0.191866            -0.183827   \n",
       "4        ...                       -0.191854            -0.183850   \n",
       "\n",
       "   net_cash_op_act    Debt_M  Debt(perc_GDP)  Debt_Per_Capita  CPI_perc  \\\n",
       "0        -0.195021 -2.320115       -1.596218        -1.896766  0.001992   \n",
       "1        -0.196623 -2.320115       -1.596218        -1.896766  0.001992   \n",
       "2        -0.194535 -2.320115       -1.596218        -1.896766  0.001992   \n",
       "3        -0.193934 -2.320115       -1.596218        -1.896766  0.001992   \n",
       "4        -0.193499  0.357897       -0.966469         0.850759 -1.699192   \n",
       "\n",
       "   GDP_Mill_dollars  GDP_Growth_perc  Unemployment_alt  \n",
       "0          0.377860         1.004574         -0.913907  \n",
       "1          0.377860         1.004574         -0.913907  \n",
       "2          0.377860         1.004574         -0.913907  \n",
       "3          0.377860         1.004574         -0.913907  \n",
       "4          1.431649         1.319792         -0.913907  \n",
       "\n",
       "[5 rows x 26 columns]"
      ]
     },
     "execution_count": 221,
     "metadata": {},
     "output_type": "execute_result"
    }
   ],
   "source": [
    "X_standardize = pd.DataFrame(X_scaled,columns=X.columns)\n",
    "X_standardize.head()"
   ]
  },
  {
   "cell_type": "markdown",
   "metadata": {},
   "source": [
    "### Train/Test split"
   ]
  },
  {
   "cell_type": "code",
   "execution_count": 222,
   "metadata": {},
   "outputs": [],
   "source": [
    "from sklearn.model_selection import train_test_split"
   ]
  },
  {
   "cell_type": "code",
   "execution_count": 223,
   "metadata": {},
   "outputs": [],
   "source": [
    "X_train, X_test, y_train, y_test = train_test_split(X_standardize, y, test_size=0.3, random_state=101)"
   ]
  },
  {
   "cell_type": "markdown",
   "metadata": {},
   "source": [
    "### Training"
   ]
  },
  {
   "cell_type": "code",
   "execution_count": 224,
   "metadata": {},
   "outputs": [],
   "source": [
    "from sklearn.linear_model import LinearRegression\n",
    "from sklearn.linear_model import Ridge\n",
    "from sklearn.linear_model import Lasso\n",
    "from sklearn.linear_model import ElasticNet\n",
    "from sklearn.svm import SVR"
   ]
  },
  {
   "cell_type": "code",
   "execution_count": 225,
   "metadata": {},
   "outputs": [],
   "source": [
    "svr_rbf = SVR(kernel='rbf', C=1, gamma=0.1)\n",
    "svr_lin = SVR(kernel='linear', C=1)\n",
    "svr_poly = SVR(kernel='poly', C=1, degree=2)"
   ]
  },
  {
   "cell_type": "code",
   "execution_count": 226,
   "metadata": {},
   "outputs": [],
   "source": [
    "from sklearn.preprocessing import PolynomialFeatures  \n",
    "from sklearn.linear_model import LinearRegression"
   ]
  },
  {
   "cell_type": "code",
   "execution_count": 227,
   "metadata": {},
   "outputs": [
    {
     "data": {
      "text/plain": [
       "LinearRegression(copy_X=True, fit_intercept=True, n_jobs=1, normalize=False)"
      ]
     },
     "execution_count": 227,
     "metadata": {},
     "output_type": "execute_result"
    }
   ],
   "source": [
    "poly_features = PolynomialFeatures(include_bias=True)  \n",
    "X_poly = poly_features.fit_transform(X_train)\n",
    "X_poly_test = poly_features.fit_transform(X_test)\n",
    "poly_model = LinearRegression()  \n",
    "poly_model.fit(X_poly, y_train)\n"
   ]
  },
  {
   "cell_type": "code",
   "execution_count": 228,
   "metadata": {},
   "outputs": [],
   "source": [
    "lm = LinearRegression()\n",
    "ridge = Ridge(alpha=1)\n",
    "lasso = Lasso(alpha=0.001)\n",
    "enet = ElasticNet(alpha=0.001,l1_ratio=0.8)"
   ]
  },
  {
   "cell_type": "code",
   "execution_count": 229,
   "metadata": {},
   "outputs": [
    {
     "data": {
      "text/plain": [
       "SVR(C=1, cache_size=200, coef0=0.0, degree=2, epsilon=0.1, gamma='auto',\n",
       "  kernel='poly', max_iter=-1, shrinking=True, tol=0.001, verbose=False)"
      ]
     },
     "execution_count": 229,
     "metadata": {},
     "output_type": "execute_result"
    }
   ],
   "source": [
    "svr_poly.fit(X_train,y_train)"
   ]
  },
  {
   "cell_type": "code",
   "execution_count": 230,
   "metadata": {},
   "outputs": [
    {
     "data": {
      "text/plain": [
       "SVR(C=1, cache_size=200, coef0=0.0, degree=3, epsilon=0.1, gamma='auto',\n",
       "  kernel='linear', max_iter=-1, shrinking=True, tol=0.001, verbose=False)"
      ]
     },
     "execution_count": 230,
     "metadata": {},
     "output_type": "execute_result"
    }
   ],
   "source": [
    "svr_lin.fit(X_train,y_train)"
   ]
  },
  {
   "cell_type": "code",
   "execution_count": 231,
   "metadata": {},
   "outputs": [
    {
     "data": {
      "text/plain": [
       "SVR(C=1, cache_size=200, coef0=0.0, degree=3, epsilon=0.1, gamma=0.1,\n",
       "  kernel='rbf', max_iter=-1, shrinking=True, tol=0.001, verbose=False)"
      ]
     },
     "execution_count": 231,
     "metadata": {},
     "output_type": "execute_result"
    }
   ],
   "source": [
    "svr_rbf.fit(X_train,y_train)"
   ]
  },
  {
   "cell_type": "code",
   "execution_count": 232,
   "metadata": {},
   "outputs": [
    {
     "data": {
      "text/plain": [
       "LinearRegression(copy_X=True, fit_intercept=True, n_jobs=1, normalize=False)"
      ]
     },
     "execution_count": 232,
     "metadata": {},
     "output_type": "execute_result"
    }
   ],
   "source": [
    "lm.fit(X_train,y_train)"
   ]
  },
  {
   "cell_type": "code",
   "execution_count": 233,
   "metadata": {},
   "outputs": [
    {
     "data": {
      "text/plain": [
       "Ridge(alpha=1, copy_X=True, fit_intercept=True, max_iter=None,\n",
       "   normalize=False, random_state=None, solver='auto', tol=0.001)"
      ]
     },
     "execution_count": 233,
     "metadata": {},
     "output_type": "execute_result"
    }
   ],
   "source": [
    "ridge.fit(X_train,y_train)"
   ]
  },
  {
   "cell_type": "code",
   "execution_count": 234,
   "metadata": {},
   "outputs": [
    {
     "data": {
      "text/plain": [
       "Lasso(alpha=0.001, copy_X=True, fit_intercept=True, max_iter=1000,\n",
       "   normalize=False, positive=False, precompute=False, random_state=None,\n",
       "   selection='cyclic', tol=0.0001, warm_start=False)"
      ]
     },
     "execution_count": 234,
     "metadata": {},
     "output_type": "execute_result"
    }
   ],
   "source": [
    "lasso.fit(X_train,y_train)"
   ]
  },
  {
   "cell_type": "code",
   "execution_count": 235,
   "metadata": {},
   "outputs": [
    {
     "data": {
      "text/plain": [
       "ElasticNet(alpha=0.001, copy_X=True, fit_intercept=True, l1_ratio=0.8,\n",
       "      max_iter=1000, normalize=False, positive=False, precompute=False,\n",
       "      random_state=None, selection='cyclic', tol=0.0001, warm_start=False)"
      ]
     },
     "execution_count": 235,
     "metadata": {},
     "output_type": "execute_result"
    }
   ],
   "source": [
    "enet.fit(X_train,y_train)"
   ]
  },
  {
   "cell_type": "code",
   "execution_count": 251,
   "metadata": {},
   "outputs": [
    {
     "data": {
      "text/html": [
       "<div>\n",
       "<style>\n",
       "    .dataframe thead tr:only-child th {\n",
       "        text-align: right;\n",
       "    }\n",
       "\n",
       "    .dataframe thead th {\n",
       "        text-align: left;\n",
       "    }\n",
       "\n",
       "    .dataframe tbody tr th {\n",
       "        vertical-align: top;\n",
       "    }\n",
       "</style>\n",
       "<table border=\"1\" class=\"dataframe\">\n",
       "  <thead>\n",
       "    <tr style=\"text-align: right;\">\n",
       "      <th></th>\n",
       "      <th>Intercept</th>\n",
       "    </tr>\n",
       "  </thead>\n",
       "  <tbody>\n",
       "    <tr>\n",
       "      <th>Linear</th>\n",
       "      <td>0.026327</td>\n",
       "    </tr>\n",
       "    <tr>\n",
       "      <th>Ridge</th>\n",
       "      <td>0.023940</td>\n",
       "    </tr>\n",
       "    <tr>\n",
       "      <th>Lasso</th>\n",
       "      <td>0.025472</td>\n",
       "    </tr>\n",
       "    <tr>\n",
       "      <th>ElasticNet</th>\n",
       "      <td>0.025054</td>\n",
       "    </tr>\n",
       "    <tr>\n",
       "      <th>Polynomial</th>\n",
       "      <td>-4.477189</td>\n",
       "    </tr>\n",
       "    <tr>\n",
       "      <th>svr_rbf</th>\n",
       "      <td>0.078357</td>\n",
       "    </tr>\n",
       "  </tbody>\n",
       "</table>\n",
       "</div>"
      ],
      "text/plain": [
       "            Intercept\n",
       "Linear       0.026327\n",
       "Ridge        0.023940\n",
       "Lasso        0.025472\n",
       "ElasticNet   0.025054\n",
       "Polynomial  -4.477189\n",
       "svr_rbf      0.078357"
      ]
     },
     "execution_count": 251,
     "metadata": {},
     "output_type": "execute_result"
    }
   ],
   "source": [
    "pd.DataFrame(np.array([lm.intercept_, ridge.intercept_, lasso.intercept_,enet.intercept_,poly_model.intercept_,svr_rbf.intercept_]),\n",
    "             columns=['Intercept'], \n",
    "             index=['Linear', 'Ridge', 'Lasso','ElasticNet','Polynomial','svr_rbf'])"
   ]
  },
  {
   "cell_type": "code",
   "execution_count": 237,
   "metadata": {},
   "outputs": [
    {
     "data": {
      "text/html": [
       "<div>\n",
       "<style>\n",
       "    .dataframe thead tr:only-child th {\n",
       "        text-align: right;\n",
       "    }\n",
       "\n",
       "    .dataframe thead th {\n",
       "        text-align: left;\n",
       "    }\n",
       "\n",
       "    .dataframe tbody tr th {\n",
       "        vertical-align: top;\n",
       "    }\n",
       "</style>\n",
       "<table border=\"1\" class=\"dataframe\">\n",
       "  <thead>\n",
       "    <tr style=\"text-align: right;\">\n",
       "      <th></th>\n",
       "      <th>Linear</th>\n",
       "      <th>Ridge</th>\n",
       "      <th>Lasso</th>\n",
       "      <th>ElasticNet</th>\n",
       "    </tr>\n",
       "  </thead>\n",
       "  <tbody>\n",
       "    <tr>\n",
       "      <th>current_price</th>\n",
       "      <td>-0.173379</td>\n",
       "      <td>-0.030485</td>\n",
       "      <td>-0.007082</td>\n",
       "      <td>-0.008359</td>\n",
       "    </tr>\n",
       "    <tr>\n",
       "      <th>momentum</th>\n",
       "      <td>0.013896</td>\n",
       "      <td>0.005502</td>\n",
       "      <td>0.003563</td>\n",
       "      <td>0.003810</td>\n",
       "    </tr>\n",
       "    <tr>\n",
       "      <th>moving_average</th>\n",
       "      <td>0.162553</td>\n",
       "      <td>0.016215</td>\n",
       "      <td>-0.000000</td>\n",
       "      <td>-0.000000</td>\n",
       "    </tr>\n",
       "    <tr>\n",
       "      <th>moving_volatility</th>\n",
       "      <td>0.032811</td>\n",
       "      <td>0.023150</td>\n",
       "      <td>0.015220</td>\n",
       "      <td>0.016882</td>\n",
       "    </tr>\n",
       "    <tr>\n",
       "      <th>trading_range</th>\n",
       "      <td>-0.013813</td>\n",
       "      <td>0.000698</td>\n",
       "      <td>-0.000000</td>\n",
       "      <td>-0.000000</td>\n",
       "    </tr>\n",
       "    <tr>\n",
       "      <th>exp_market_change</th>\n",
       "      <td>-0.030075</td>\n",
       "      <td>-0.027029</td>\n",
       "      <td>-0.024587</td>\n",
       "      <td>-0.025117</td>\n",
       "    </tr>\n",
       "    <tr>\n",
       "      <th>rates</th>\n",
       "      <td>-0.118476</td>\n",
       "      <td>-0.049283</td>\n",
       "      <td>-0.036396</td>\n",
       "      <td>-0.037475</td>\n",
       "    </tr>\n",
       "    <tr>\n",
       "      <th>Revenue</th>\n",
       "      <td>11.040063</td>\n",
       "      <td>-0.009656</td>\n",
       "      <td>-0.000000</td>\n",
       "      <td>-0.000000</td>\n",
       "    </tr>\n",
       "    <tr>\n",
       "      <th>Cost_of_Sales</th>\n",
       "      <td>-7.527556</td>\n",
       "      <td>-0.020876</td>\n",
       "      <td>-0.000000</td>\n",
       "      <td>-0.000000</td>\n",
       "    </tr>\n",
       "    <tr>\n",
       "      <th>Gross_profit</th>\n",
       "      <td>-3.596501</td>\n",
       "      <td>0.010862</td>\n",
       "      <td>-0.000000</td>\n",
       "      <td>-0.000000</td>\n",
       "    </tr>\n",
       "    <tr>\n",
       "      <th>Operating_profit</th>\n",
       "      <td>-0.012916</td>\n",
       "      <td>-0.005775</td>\n",
       "      <td>-0.000000</td>\n",
       "      <td>-0.000000</td>\n",
       "    </tr>\n",
       "    <tr>\n",
       "      <th>Net_Profit</th>\n",
       "      <td>-0.179659</td>\n",
       "      <td>-0.099521</td>\n",
       "      <td>-0.031442</td>\n",
       "      <td>-0.045062</td>\n",
       "    </tr>\n",
       "    <tr>\n",
       "      <th>Issue_of_shares</th>\n",
       "      <td>0.067817</td>\n",
       "      <td>0.031547</td>\n",
       "      <td>0.003468</td>\n",
       "      <td>0.009783</td>\n",
       "    </tr>\n",
       "    <tr>\n",
       "      <th>Share_repurchase</th>\n",
       "      <td>0.034739</td>\n",
       "      <td>0.002845</td>\n",
       "      <td>-0.000000</td>\n",
       "      <td>-0.000000</td>\n",
       "    </tr>\n",
       "    <tr>\n",
       "      <th>Non_current_assets</th>\n",
       "      <td>-0.180775</td>\n",
       "      <td>-0.003807</td>\n",
       "      <td>0.000000</td>\n",
       "      <td>0.000000</td>\n",
       "    </tr>\n",
       "    <tr>\n",
       "      <th>Current_assets</th>\n",
       "      <td>0.041320</td>\n",
       "      <td>0.008200</td>\n",
       "      <td>0.000000</td>\n",
       "      <td>0.000000</td>\n",
       "    </tr>\n",
       "    <tr>\n",
       "      <th>Non_current_liabilities</th>\n",
       "      <td>0.114003</td>\n",
       "      <td>0.055664</td>\n",
       "      <td>0.030241</td>\n",
       "      <td>0.035724</td>\n",
       "    </tr>\n",
       "    <tr>\n",
       "      <th>Current_liabilities</th>\n",
       "      <td>0.085613</td>\n",
       "      <td>0.001019</td>\n",
       "      <td>0.000000</td>\n",
       "      <td>0.000000</td>\n",
       "    </tr>\n",
       "    <tr>\n",
       "      <th>net_cash_op_act</th>\n",
       "      <td>0.037302</td>\n",
       "      <td>0.024928</td>\n",
       "      <td>-0.000000</td>\n",
       "      <td>-0.000000</td>\n",
       "    </tr>\n",
       "    <tr>\n",
       "      <th>Debt_M</th>\n",
       "      <td>0.013900</td>\n",
       "      <td>-0.013095</td>\n",
       "      <td>-0.018505</td>\n",
       "      <td>-0.018930</td>\n",
       "    </tr>\n",
       "    <tr>\n",
       "      <th>Debt(perc_GDP)</th>\n",
       "      <td>1.628198</td>\n",
       "      <td>0.057514</td>\n",
       "      <td>-0.000000</td>\n",
       "      <td>-0.000000</td>\n",
       "    </tr>\n",
       "    <tr>\n",
       "      <th>Debt_Per_Capita</th>\n",
       "      <td>-0.959276</td>\n",
       "      <td>-0.049710</td>\n",
       "      <td>-0.000000</td>\n",
       "      <td>-0.000268</td>\n",
       "    </tr>\n",
       "    <tr>\n",
       "      <th>CPI_perc</th>\n",
       "      <td>0.141893</td>\n",
       "      <td>0.023596</td>\n",
       "      <td>0.022202</td>\n",
       "      <td>0.022378</td>\n",
       "    </tr>\n",
       "    <tr>\n",
       "      <th>GDP_Mill_dollars</th>\n",
       "      <td>1.397901</td>\n",
       "      <td>0.068409</td>\n",
       "      <td>0.000000</td>\n",
       "      <td>0.000000</td>\n",
       "    </tr>\n",
       "    <tr>\n",
       "      <th>GDP_Growth_perc</th>\n",
       "      <td>0.502009</td>\n",
       "      <td>-0.004020</td>\n",
       "      <td>-0.000000</td>\n",
       "      <td>-0.000000</td>\n",
       "    </tr>\n",
       "    <tr>\n",
       "      <th>Unemployment_alt</th>\n",
       "      <td>0.110011</td>\n",
       "      <td>-0.001959</td>\n",
       "      <td>-0.002801</td>\n",
       "      <td>-0.002523</td>\n",
       "    </tr>\n",
       "  </tbody>\n",
       "</table>\n",
       "</div>"
      ],
      "text/plain": [
       "                            Linear     Ridge     Lasso  ElasticNet\n",
       "current_price            -0.173379 -0.030485 -0.007082   -0.008359\n",
       "momentum                  0.013896  0.005502  0.003563    0.003810\n",
       "moving_average            0.162553  0.016215 -0.000000   -0.000000\n",
       "moving_volatility         0.032811  0.023150  0.015220    0.016882\n",
       "trading_range            -0.013813  0.000698 -0.000000   -0.000000\n",
       "exp_market_change        -0.030075 -0.027029 -0.024587   -0.025117\n",
       "rates                    -0.118476 -0.049283 -0.036396   -0.037475\n",
       "Revenue                  11.040063 -0.009656 -0.000000   -0.000000\n",
       "Cost_of_Sales            -7.527556 -0.020876 -0.000000   -0.000000\n",
       "Gross_profit             -3.596501  0.010862 -0.000000   -0.000000\n",
       "Operating_profit         -0.012916 -0.005775 -0.000000   -0.000000\n",
       "Net_Profit               -0.179659 -0.099521 -0.031442   -0.045062\n",
       "Issue_of_shares           0.067817  0.031547  0.003468    0.009783\n",
       "Share_repurchase          0.034739  0.002845 -0.000000   -0.000000\n",
       "Non_current_assets       -0.180775 -0.003807  0.000000    0.000000\n",
       "Current_assets            0.041320  0.008200  0.000000    0.000000\n",
       "Non_current_liabilities   0.114003  0.055664  0.030241    0.035724\n",
       "Current_liabilities       0.085613  0.001019  0.000000    0.000000\n",
       "net_cash_op_act           0.037302  0.024928 -0.000000   -0.000000\n",
       "Debt_M                    0.013900 -0.013095 -0.018505   -0.018930\n",
       "Debt(perc_GDP)            1.628198  0.057514 -0.000000   -0.000000\n",
       "Debt_Per_Capita          -0.959276 -0.049710 -0.000000   -0.000268\n",
       "CPI_perc                  0.141893  0.023596  0.022202    0.022378\n",
       "GDP_Mill_dollars          1.397901  0.068409  0.000000    0.000000\n",
       "GDP_Growth_perc           0.502009 -0.004020 -0.000000   -0.000000\n",
       "Unemployment_alt          0.110011 -0.001959 -0.002801   -0.002523"
      ]
     },
     "execution_count": 237,
     "metadata": {},
     "output_type": "execute_result"
    }
   ],
   "source": [
    "# Create dataframe for coefficents of linear model\n",
    "lm_coef = pd.DataFrame(lm.coef_,index=X.columns,columns=['Linear'])\n",
    "\n",
    "# Create dataframe for coefficents of ridge model\n",
    "ridge_coef = pd.DataFrame(ridge.coef_,index=X.columns,columns=['Ridge'])\n",
    "\n",
    "# Create dataframe for coefficents of lasso model\n",
    "lasso_coef = pd.DataFrame(lasso.coef_,index=X.columns,columns=['Lasso'])\n",
    "\n",
    "# Create dataframe for coefficents of ElasticNet model\n",
    "enet_coef = pd.DataFrame(enet.coef_,index=X.columns,columns=['ElasticNet'])\n",
    "\n",
    "# Put dataframes together\n",
    "coefs = pd.concat([lm_coef, ridge_coef, lasso_coef,enet_coef], axis=1)\n",
    "coefs"
   ]
  },
  {
   "cell_type": "code",
   "execution_count": 238,
   "metadata": {},
   "outputs": [
    {
     "data": {
      "text/plain": [
       "<matplotlib.axes._subplots.AxesSubplot at 0x1a16ff78d0>"
      ]
     },
     "execution_count": 238,
     "metadata": {},
     "output_type": "execute_result"
    },
    {
     "data": {
      "image/png": "[encoded data removed]",
      "text/plain": [
       "<matplotlib.figure.Figure at 0x1a16ef2160>"
      ]
     },
     "metadata": {},
     "output_type": "display_data"
    }
   ],
   "source": [
    "coefs.plot(kind='bar')"
   ]
  },
  {
   "cell_type": "code",
   "execution_count": 239,
   "metadata": {},
   "outputs": [
    {
     "data": {
      "text/plain": [
       "<matplotlib.axes._subplots.AxesSubplot at 0x1a172dff28>"
      ]
     },
     "execution_count": 239,
     "metadata": {},
     "output_type": "execute_result"
    },
    {
     "data": {
      "image/png": "[encoded data removed]",
      "text/plain": [
       "<matplotlib.figure.Figure at 0x1a1633efd0>"
      ]
     },
     "metadata": {},
     "output_type": "display_data"
    }
   ],
   "source": [
    "coefs[['Ridge','Lasso','ElasticNet']].plot(kind='bar')"
   ]
  },
  {
   "cell_type": "markdown",
   "metadata": {},
   "source": [
    "### Testing"
   ]
  },
  {
   "cell_type": "code",
   "execution_count": 240,
   "metadata": {},
   "outputs": [],
   "source": [
    "from sklearn import metrics"
   ]
  },
  {
   "cell_type": "code",
   "execution_count": 241,
   "metadata": {},
   "outputs": [
    {
     "name": "stdout",
     "output_type": "stream",
     "text": [
      "MSE (train)\n",
      "Linear:      0.0133862631582\n",
      "Ridge:       0.0144211573205\n",
      "Lasso:       0.0147235888857\n",
      "ElasticNet:  0.014667936032\n",
      "Polynomial:  1.47794561512e-24\n"
     ]
    }
   ],
   "source": [
    "# Get predictions for training data\n",
    "fit_lm = lm.predict(X_train)\n",
    "fit_ridge = ridge.predict(X_train)\n",
    "fit_lasso = lasso.predict(X_train)\n",
    "fit_enet = enet.predict(X_train)\n",
    "fit_poly = poly_model.predict(X_poly)\n",
    "fit_svr_rbf = svr_rbf.predict(X_train)\n",
    "fit_svr_lin = svr_lin.predict(X_train)\n",
    "fit_svr_poly = svr_poly.predict(X_train)\n",
    "\n",
    "# Print MSE for models\n",
    "print('MSE (train)')\n",
    "print('Linear:     ', metrics.mean_squared_error(y_train, fit_lm))\n",
    "print('Ridge:      ', metrics.mean_squared_error(y_train, fit_ridge))\n",
    "print('Lasso:      ', metrics.mean_squared_error(y_train, fit_lasso))\n",
    "print('ElasticNet: ', metrics.mean_squared_error(y_train, fit_enet))\n",
    "print('Polynomial: ', metrics.mean_squared_error(y_train, fit_poly))"
   ]
  },
  {
   "cell_type": "code",
   "execution_count": 249,
   "metadata": {},
   "outputs": [
    {
     "name": "stdout",
     "output_type": "stream",
     "text": [
      "MSE (train)\n",
      "Linear:      0.176709990385\n",
      "Ridge:       0.113061307044\n",
      "Lasso:       0.0944609789861\n",
      "ElasticNet:  0.0978837742749\n",
      "Polynomial:  1.0\n",
      "SVR_rbf:     0.466777839081\n",
      "SVR_lin:     0.107749807018\n",
      "SVR_poly:    0.225191346968\n"
     ]
    }
   ],
   "source": [
    "print('MSE (train)')\n",
    "print('Linear:     ', lm.score(X_train, y_train))\n",
    "print('Ridge:      ', ridge.score(X_train, y_train))\n",
    "print('Lasso:      ', lasso.score(X_train, y_train))\n",
    "print('ElasticNet: ', enet.score(X_train, y_train))\n",
    "print('Polynomial: ', poly_model.score(X_poly, y_train))\n",
    "print('SVR_rbf:    ', svr_rbf.score(X_train, y_train))\n",
    "print('SVR_lin:    ', svr_lin.score(X_train, y_train)) \n",
    "print('SVR_poly:   ', svr_poly.score(X_train, y_train))"
   ]
  },
  {
   "cell_type": "code",
   "execution_count": null,
   "metadata": {},
   "outputs": [],
   "source": []
  },
  {
   "cell_type": "code",
   "execution_count": 243,
   "metadata": {},
   "outputs": [],
   "source": [
    "def adj_r2_score(model,y,yhat):\n",
    "    adj = 1 - (1 - metrics.r2_score(y,yhat)) * float(len(y)-1) / (len(y)-len(model.coef_)-1)\n",
    "    return adj"
   ]
  },
  {
   "cell_type": "code",
   "execution_count": 252,
   "metadata": {},
   "outputs": [
    {
     "name": "stdout",
     "output_type": "stream",
     "text": [
      "Adjusted R-SQUARED SCORES\n",
      "Linear:      0.0819952105183\n",
      "Ridge:       0.0110241122792\n",
      "Lasso:       -0.00971607652874\n",
      "ElasticNet:  -0.00589950833063\n",
      "Polynomial:  1.0\n",
      "svr_lin:  0.104195025373\n",
      "svr_rbf:  0.104195025373\n",
      "svr_poly:  0.104195025373\n"
     ]
    }
   ],
   "source": [
    "print('Adjusted R-SQUARED SCORES')\n",
    "print('Linear:     ', adj_r2_score(lm, y_train, lm.predict(X_train)))\n",
    "print('Ridge:      ', adj_r2_score(ridge, y_train, ridge.predict(X_train)))\n",
    "print('Lasso:      ', adj_r2_score(lasso, y_train, lasso.predict(X_train)))\n",
    "print('ElasticNet: ', adj_r2_score(enet, y_train, enet.predict(X_train)))\n",
    "print('Polynomial: ', adj_r2_score(poly_model, y_train, poly_model.predict(X_poly)))\n",
    "print('svr_lin: ', adj_r2_score(svr_lin, y_train, svr_lin.predict(X_train)))\n",
    "print('svr_rbf: ', adj_r2_score(svr_lin, y_train, svr_lin.predict(X_train)))\n",
    "print('svr_poly: ', adj_r2_score(svr_lin, y_train, svr_lin.predict(X_train)))"
   ]
  },
  {
   "cell_type": "markdown",
   "metadata": {},
   "source": [
    "### Predicting"
   ]
  },
  {
   "cell_type": "code",
   "execution_count": 245,
   "metadata": {},
   "outputs": [],
   "source": [
    "pred_lm = lm.predict(X_test)\n",
    "pred_ridge = ridge.predict(X_test)\n",
    "pred_lasso = lasso.predict(X_test)\n",
    "pred_enet = enet.predict(X_test)\n",
    "pred_poly = poly_model.predict(X_poly_test)\n",
    "pred_svr_rbf = svr_rbf.predict(X_test) \n",
    "pred_svr_lin = svr_lin.predict(X_test)\n",
    "pred_svr_poly = svr_poly.predict(X_test)"
   ]
  },
  {
   "cell_type": "markdown",
   "metadata": {},
   "source": [
    "### Testing"
   ]
  },
  {
   "cell_type": "markdown",
   "metadata": {},
   "source": [
    "Firstly we plot the actual returns vs. the predictions by our models."
   ]
  },
  {
   "cell_type": "code",
   "execution_count": 246,
   "metadata": {},
   "outputs": [
    {
     "data": {
      "image/png": "[encoded data removed]",
      "text/plain": [
       "<matplotlib.figure.Figure at 0x1a16917358>"
      ]
     },
     "metadata": {},
     "output_type": "display_data"
    }
   ],
   "source": [
    "# Create figure and axes\n",
    "f, ax = plt.subplots(figsize=(20,5), nrows=1, ncols=5)\n",
    "\n",
    "# Create list of titles and predictions to use in for loop\n",
    "pred = [pred_lm, pred_ridge, pred_lasso, pred_enet, pred_svr_lin]\n",
    "title = ['Linear Model', 'Ridge', 'Lasso', 'ElasticNet','pred_svr_lin']\n",
    "\n",
    "# Loop through all axes to plot each model's results \n",
    "for i in range(5):\n",
    "    ax[i].set_title(title[i])\n",
    "    ax[i].set_xlabel('Actual')\n",
    "    ax[i].set_ylabel('Predicted')\n",
    "    ax[i].set_xlim(0, 0.4)\n",
    "    ax[i].set_ylim(0, 0.4)\n",
    "    ax[i].scatter(y_test,pred[i]) "
   ]
  },
  {
   "cell_type": "markdown",
   "metadata": {},
   "source": [
    "Secondly we calculate the MSE for each model on our testing set. "
   ]
  },
  {
   "cell_type": "code",
   "execution_count": 250,
   "metadata": {},
   "outputs": [
    {
     "name": "stdout",
     "output_type": "stream",
     "text": [
      "MSE:\n",
      "Linear:      0.0261507085023\n",
      "Ridge:       0.0159922145243\n",
      "Lasso:       0.0137990760816\n",
      "ElasticNet:  0.0139815628094\n",
      "Polynomial:  361593.770117\n",
      "SVR_rbf:     0.0148489196683\n",
      "SVR_lin:     0.0323803515629\n",
      "SVR_poly:    0.0509231040626\n"
     ]
    }
   ],
   "source": [
    "print('MSE:')\n",
    "print('Linear:     ', metrics.mean_squared_error(y_test, pred_lm))\n",
    "print('Ridge:      ', metrics.mean_squared_error(y_test, pred_ridge))\n",
    "print('Lasso:      ', metrics.mean_squared_error(y_test, pred_lasso))\n",
    "print('ElasticNet: ', metrics.mean_squared_error(y_test, pred_enet))\n",
    "print('Polynomial: ', metrics.mean_squared_error(y_test, pred_poly))\n",
    "print('SVR_rbf:    ', metrics.mean_squared_error(y_test, pred_svr_rbf)) \n",
    "print('SVR_lin:    ', metrics.mean_squared_error(y_test, pred_svr_lin)) \n",
    "print('SVR_poly:   ', metrics.mean_squared_error(y_test, pred_svr_poly))"
   ]
  },
  {
   "cell_type": "code",
   "execution_count": 248,
   "metadata": {},
   "outputs": [
    {
     "name": "stdout",
     "output_type": "stream",
     "text": [
      "Adjusted R-SQUARED SCORES\n",
      "Linear:      -1.20501984013\n",
      "Ridge:       -0.348458697045\n",
      "Lasso:       -0.163533926152\n",
      "ElasticNet:  -0.178921151912\n",
      "svr_lin:  -1.0923805588\n"
     ]
    }
   ],
   "source": [
    "print('Adjusted R-SQUARED SCORES')\n",
    "print('Linear:     ', adj_r2_score(lm, y_test, lm.predict(X_test)))\n",
    "print('Ridge:      ', adj_r2_score(ridge, y_test, ridge.predict(X_test)))\n",
    "print('Lasso:      ', adj_r2_score(lasso, y_test, lasso.predict(X_test)))\n",
    "print('ElasticNet: ', adj_r2_score(enet, y_test, enet.predict(X_test)))\n",
    "#print('Polynomial: ', adj_r2_score(poly_model, y_test, poly_model.predict(X_poly)))\n",
    "print('svr_lin: ', adj_r2_score(svr_lin, y_test, svr_lin.predict(X_test)))"
   ]
  },
  {
   "cell_type": "code",
   "execution_count": null,
   "metadata": {},
   "outputs": [],
   "source": []
  }
 ],
 "metadata": {
  "kernelspec": {
   "display_name": "Python 3",
   "language": "python",
   "name": "python3"
  },
  "language_info": {
   "codemirror_mode": {
    "name": "ipython",
    "version": 3
   },
   "file_extension": ".py",
   "mimetype": "text/x-python",
   "name": "python",
   "nbconvert_exporter": "python",
   "pygments_lexer": "ipython3",
   "version": "3.6.2"
  }
 },
 "nbformat": 4,
 "nbformat_minor": 2
}
