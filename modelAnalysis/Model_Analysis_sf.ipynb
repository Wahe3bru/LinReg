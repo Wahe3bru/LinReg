{
 "cells": [
  {
   "cell_type": "markdown",
   "metadata": {},
   "source": [
    "# Model Analysis\n",
    "using the data with only the significant features"
   ]
  },
  {
   "cell_type": "code",
   "execution_count": 57,
   "metadata": {},
   "outputs": [],
   "source": [
    "import numpy as np\n",
    "import pandas as pd\n",
    "import matplotlib.pyplot as plt\n",
    "import seaborn as sns\n",
    "% matplotlib inline"
   ]
  },
  {
   "cell_type": "code",
   "execution_count": 58,
   "metadata": {},
   "outputs": [],
   "source": [
    "df = pd.read_csv('data_signif.csv').drop('Unnamed: 0', axis=1)"
   ]
  },
  {
   "cell_type": "markdown",
   "metadata": {},
   "source": [
    "### Features/Labels split"
   ]
  },
  {
   "cell_type": "code",
   "execution_count": 59,
   "metadata": {},
   "outputs": [],
   "source": [
    "# Lables\n",
    "y = df['target_return']\n",
    "\n",
    "# Features\n",
    "X = df.drop(['target_return'], axis=1)"
   ]
  },
  {
   "cell_type": "markdown",
   "metadata": {},
   "source": [
    "### Rescaling features"
   ]
  },
  {
   "cell_type": "code",
   "execution_count": 60,
   "metadata": {},
   "outputs": [],
   "source": [
    "from sklearn.preprocessing import StandardScaler"
   ]
  },
  {
   "cell_type": "code",
   "execution_count": 61,
   "metadata": {},
   "outputs": [],
   "source": [
    "scaler = StandardScaler()"
   ]
  },
  {
   "cell_type": "code",
   "execution_count": 62,
   "metadata": {},
   "outputs": [],
   "source": [
    "X_scaled = scaler.fit_transform(X)"
   ]
  },
  {
   "cell_type": "code",
   "execution_count": 63,
   "metadata": {},
   "outputs": [
    {
     "data": {
      "text/html": [
       "<div>\n",
       "<style>\n",
       "    .dataframe thead tr:only-child th {\n",
       "        text-align: right;\n",
       "    }\n",
       "\n",
       "    .dataframe thead th {\n",
       "        text-align: left;\n",
       "    }\n",
       "\n",
       "    .dataframe tbody tr th {\n",
       "        vertical-align: top;\n",
       "    }\n",
       "</style>\n",
       "<table border=\"1\" class=\"dataframe\">\n",
       "  <thead>\n",
       "    <tr style=\"text-align: right;\">\n",
       "      <th></th>\n",
       "      <th>exp_market_change</th>\n",
       "      <th>rates</th>\n",
       "      <th>Debt_M</th>\n",
       "      <th>Debt_Per_Capita</th>\n",
       "      <th>CPI_perc</th>\n",
       "      <th>GDP_Mill_dollars</th>\n",
       "      <th>GDP_Growth_perc</th>\n",
       "      <th>Unemployment_alt</th>\n",
       "    </tr>\n",
       "  </thead>\n",
       "  <tbody>\n",
       "    <tr>\n",
       "      <th>0</th>\n",
       "      <td>-0.752487</td>\n",
       "      <td>1.614377</td>\n",
       "      <td>-2.320115</td>\n",
       "      <td>-1.896766</td>\n",
       "      <td>0.001992</td>\n",
       "      <td>0.377860</td>\n",
       "      <td>1.004574</td>\n",
       "      <td>-0.913907</td>\n",
       "    </tr>\n",
       "    <tr>\n",
       "      <th>1</th>\n",
       "      <td>0.497042</td>\n",
       "      <td>0.922660</td>\n",
       "      <td>-2.320115</td>\n",
       "      <td>-1.896766</td>\n",
       "      <td>0.001992</td>\n",
       "      <td>0.377860</td>\n",
       "      <td>1.004574</td>\n",
       "      <td>-0.913907</td>\n",
       "    </tr>\n",
       "    <tr>\n",
       "      <th>2</th>\n",
       "      <td>-0.240694</td>\n",
       "      <td>0.701310</td>\n",
       "      <td>-2.320115</td>\n",
       "      <td>-1.896766</td>\n",
       "      <td>0.001992</td>\n",
       "      <td>0.377860</td>\n",
       "      <td>1.004574</td>\n",
       "      <td>-0.913907</td>\n",
       "    </tr>\n",
       "    <tr>\n",
       "      <th>3</th>\n",
       "      <td>2.370180</td>\n",
       "      <td>-0.363935</td>\n",
       "      <td>-2.320115</td>\n",
       "      <td>-1.896766</td>\n",
       "      <td>0.001992</td>\n",
       "      <td>0.377860</td>\n",
       "      <td>1.004574</td>\n",
       "      <td>-0.913907</td>\n",
       "    </tr>\n",
       "    <tr>\n",
       "      <th>4</th>\n",
       "      <td>1.155783</td>\n",
       "      <td>-0.529947</td>\n",
       "      <td>0.357897</td>\n",
       "      <td>0.850759</td>\n",
       "      <td>-1.699192</td>\n",
       "      <td>1.431649</td>\n",
       "      <td>1.319792</td>\n",
       "      <td>-0.913907</td>\n",
       "    </tr>\n",
       "  </tbody>\n",
       "</table>\n",
       "</div>"
      ],
      "text/plain": [
       "   exp_market_change     rates    Debt_M  Debt_Per_Capita  CPI_perc  \\\n",
       "0          -0.752487  1.614377 -2.320115        -1.896766  0.001992   \n",
       "1           0.497042  0.922660 -2.320115        -1.896766  0.001992   \n",
       "2          -0.240694  0.701310 -2.320115        -1.896766  0.001992   \n",
       "3           2.370180 -0.363935 -2.320115        -1.896766  0.001992   \n",
       "4           1.155783 -0.529947  0.357897         0.850759 -1.699192   \n",
       "\n",
       "   GDP_Mill_dollars  GDP_Growth_perc  Unemployment_alt  \n",
       "0          0.377860         1.004574         -0.913907  \n",
       "1          0.377860         1.004574         -0.913907  \n",
       "2          0.377860         1.004574         -0.913907  \n",
       "3          0.377860         1.004574         -0.913907  \n",
       "4          1.431649         1.319792         -0.913907  "
      ]
     },
     "execution_count": 63,
     "metadata": {},
     "output_type": "execute_result"
    }
   ],
   "source": [
    "X_standardize = pd.DataFrame(X_scaled,columns=X.columns)\n",
    "X_standardize.head()"
   ]
  },
  {
   "cell_type": "markdown",
   "metadata": {},
   "source": [
    "### Train/Test split"
   ]
  },
  {
   "cell_type": "code",
   "execution_count": 64,
   "metadata": {},
   "outputs": [],
   "source": [
    "from sklearn.model_selection import train_test_split"
   ]
  },
  {
   "cell_type": "code",
   "execution_count": 65,
   "metadata": {},
   "outputs": [],
   "source": [
    "X_train, X_test, y_train, y_test = train_test_split(X_standardize, y, test_size=0.3, random_state=101)"
   ]
  },
  {
   "cell_type": "markdown",
   "metadata": {},
   "source": [
    "### Training"
   ]
  },
  {
   "cell_type": "code",
   "execution_count": 66,
   "metadata": {},
   "outputs": [],
   "source": [
    "from sklearn.linear_model import LinearRegression\n",
    "from sklearn.linear_model import Ridge\n",
    "from sklearn.linear_model import Lasso\n",
    "from sklearn.linear_model import ElasticNet"
   ]
  },
  {
   "cell_type": "code",
   "execution_count": 67,
   "metadata": {},
   "outputs": [],
   "source": [
    "from sklearn.preprocessing import PolynomialFeatures  \n",
    "from sklearn.linear_model import LinearRegression"
   ]
  },
  {
   "cell_type": "code",
   "execution_count": 68,
   "metadata": {},
   "outputs": [
    {
     "data": {
      "text/plain": [
       "LinearRegression(copy_X=True, fit_intercept=True, n_jobs=1, normalize=False)"
      ]
     },
     "execution_count": 68,
     "metadata": {},
     "output_type": "execute_result"
    }
   ],
   "source": [
    "poly_features = PolynomialFeatures(include_bias=True)  \n",
    "X_poly = poly_features.fit_transform(X_train)\n",
    "X_poly_test = poly_features.fit_transform(X_test)\n",
    "poly_model = LinearRegression()  \n",
    "poly_model.fit(X_poly, y_train)"
   ]
  },
  {
   "cell_type": "code",
   "execution_count": 69,
   "metadata": {},
   "outputs": [],
   "source": [
    "lm = LinearRegression()\n",
    "ridge = Ridge(alpha=1)\n",
    "lasso = Lasso(alpha=0.001)\n",
    "enet = ElasticNet(alpha=0.001,l1_ratio=0.6)\n"
   ]
  },
  {
   "cell_type": "code",
   "execution_count": 70,
   "metadata": {},
   "outputs": [
    {
     "data": {
      "text/plain": [
       "LinearRegression(copy_X=True, fit_intercept=True, n_jobs=1, normalize=False)"
      ]
     },
     "execution_count": 70,
     "metadata": {},
     "output_type": "execute_result"
    }
   ],
   "source": [
    "lm.fit(X_train,y_train)"
   ]
  },
  {
   "cell_type": "code",
   "execution_count": 71,
   "metadata": {},
   "outputs": [
    {
     "data": {
      "text/plain": [
       "Ridge(alpha=1, copy_X=True, fit_intercept=True, max_iter=None,\n",
       "   normalize=False, random_state=None, solver='auto', tol=0.001)"
      ]
     },
     "execution_count": 71,
     "metadata": {},
     "output_type": "execute_result"
    }
   ],
   "source": [
    "ridge.fit(X_train,y_train)"
   ]
  },
  {
   "cell_type": "code",
   "execution_count": 72,
   "metadata": {},
   "outputs": [
    {
     "data": {
      "text/plain": [
       "Lasso(alpha=0.001, copy_X=True, fit_intercept=True, max_iter=1000,\n",
       "   normalize=False, positive=False, precompute=False, random_state=None,\n",
       "   selection='cyclic', tol=0.0001, warm_start=False)"
      ]
     },
     "execution_count": 72,
     "metadata": {},
     "output_type": "execute_result"
    }
   ],
   "source": [
    "lasso.fit(X_train,y_train)"
   ]
  },
  {
   "cell_type": "code",
   "execution_count": 73,
   "metadata": {},
   "outputs": [
    {
     "data": {
      "text/plain": [
       "ElasticNet(alpha=0.001, copy_X=True, fit_intercept=True, l1_ratio=0.6,\n",
       "      max_iter=1000, normalize=False, positive=False, precompute=False,\n",
       "      random_state=None, selection='cyclic', tol=0.0001, warm_start=False)"
      ]
     },
     "execution_count": 73,
     "metadata": {},
     "output_type": "execute_result"
    }
   ],
   "source": [
    "enet.fit(X_train,y_train)"
   ]
  },
  {
   "cell_type": "code",
   "execution_count": 74,
   "metadata": {},
   "outputs": [
    {
     "data": {
      "text/html": [
       "<div>\n",
       "<style>\n",
       "    .dataframe thead tr:only-child th {\n",
       "        text-align: right;\n",
       "    }\n",
       "\n",
       "    .dataframe thead th {\n",
       "        text-align: left;\n",
       "    }\n",
       "\n",
       "    .dataframe tbody tr th {\n",
       "        vertical-align: top;\n",
       "    }\n",
       "</style>\n",
       "<table border=\"1\" class=\"dataframe\">\n",
       "  <thead>\n",
       "    <tr style=\"text-align: right;\">\n",
       "      <th></th>\n",
       "      <th>Intercept</th>\n",
       "    </tr>\n",
       "  </thead>\n",
       "  <tbody>\n",
       "    <tr>\n",
       "      <th>Linear</th>\n",
       "      <td>2.854212e-02</td>\n",
       "    </tr>\n",
       "    <tr>\n",
       "      <th>Ridge</th>\n",
       "      <td>2.502360e-02</td>\n",
       "    </tr>\n",
       "    <tr>\n",
       "      <th>Lasso</th>\n",
       "      <td>2.522622e-02</td>\n",
       "    </tr>\n",
       "    <tr>\n",
       "      <th>ElasticNet</th>\n",
       "      <td>2.514335e-02</td>\n",
       "    </tr>\n",
       "    <tr>\n",
       "      <th>Polynomial</th>\n",
       "      <td>-1.959411e+11</td>\n",
       "    </tr>\n",
       "  </tbody>\n",
       "</table>\n",
       "</div>"
      ],
      "text/plain": [
       "               Intercept\n",
       "Linear      2.854212e-02\n",
       "Ridge       2.502360e-02\n",
       "Lasso       2.522622e-02\n",
       "ElasticNet  2.514335e-02\n",
       "Polynomial -1.959411e+11"
      ]
     },
     "execution_count": 74,
     "metadata": {},
     "output_type": "execute_result"
    }
   ],
   "source": [
    "pd.DataFrame(np.array([lm.intercept_, ridge.intercept_, lasso.intercept_,enet.intercept_,poly_model.intercept_]),\n",
    "             columns=['Intercept'], \n",
    "             index=['Linear', 'Ridge', 'Lasso','ElasticNet','Polynomial'])"
   ]
  },
  {
   "cell_type": "code",
   "execution_count": 75,
   "metadata": {},
   "outputs": [
    {
     "data": {
      "text/html": [
       "<div>\n",
       "<style>\n",
       "    .dataframe thead tr:only-child th {\n",
       "        text-align: right;\n",
       "    }\n",
       "\n",
       "    .dataframe thead th {\n",
       "        text-align: left;\n",
       "    }\n",
       "\n",
       "    .dataframe tbody tr th {\n",
       "        vertical-align: top;\n",
       "    }\n",
       "</style>\n",
       "<table border=\"1\" class=\"dataframe\">\n",
       "  <thead>\n",
       "    <tr style=\"text-align: right;\">\n",
       "      <th></th>\n",
       "      <th>Linear</th>\n",
       "      <th>Ridge</th>\n",
       "      <th>Lasso</th>\n",
       "      <th>ElasticNet</th>\n",
       "    </tr>\n",
       "  </thead>\n",
       "  <tbody>\n",
       "    <tr>\n",
       "      <th>exp_market_change</th>\n",
       "      <td>-0.032147</td>\n",
       "      <td>-0.026801</td>\n",
       "      <td>-0.024900</td>\n",
       "      <td>-0.026058</td>\n",
       "    </tr>\n",
       "    <tr>\n",
       "      <th>rates</th>\n",
       "      <td>-0.110166</td>\n",
       "      <td>-0.048012</td>\n",
       "      <td>-0.036083</td>\n",
       "      <td>-0.039457</td>\n",
       "    </tr>\n",
       "    <tr>\n",
       "      <th>Debt_M</th>\n",
       "      <td>3.072819</td>\n",
       "      <td>0.008018</td>\n",
       "      <td>-0.017712</td>\n",
       "      <td>-0.001837</td>\n",
       "    </tr>\n",
       "    <tr>\n",
       "      <th>Debt_Per_Capita</th>\n",
       "      <td>-3.457955</td>\n",
       "      <td>-0.043383</td>\n",
       "      <td>-0.000000</td>\n",
       "      <td>-0.020268</td>\n",
       "    </tr>\n",
       "    <tr>\n",
       "      <th>CPI_perc</th>\n",
       "      <td>0.096454</td>\n",
       "      <td>0.021529</td>\n",
       "      <td>0.024228</td>\n",
       "      <td>0.025176</td>\n",
       "    </tr>\n",
       "    <tr>\n",
       "      <th>GDP_Mill_dollars</th>\n",
       "      <td>1.106572</td>\n",
       "      <td>0.034258</td>\n",
       "      <td>0.000000</td>\n",
       "      <td>0.006834</td>\n",
       "    </tr>\n",
       "    <tr>\n",
       "      <th>GDP_Growth_perc</th>\n",
       "      <td>0.302552</td>\n",
       "      <td>-0.027855</td>\n",
       "      <td>-0.000000</td>\n",
       "      <td>-0.000000</td>\n",
       "    </tr>\n",
       "    <tr>\n",
       "      <th>Unemployment_alt</th>\n",
       "      <td>0.044277</td>\n",
       "      <td>-0.008027</td>\n",
       "      <td>-0.003316</td>\n",
       "      <td>-0.003140</td>\n",
       "    </tr>\n",
       "  </tbody>\n",
       "</table>\n",
       "</div>"
      ],
      "text/plain": [
       "                     Linear     Ridge     Lasso  ElasticNet\n",
       "exp_market_change -0.032147 -0.026801 -0.024900   -0.026058\n",
       "rates             -0.110166 -0.048012 -0.036083   -0.039457\n",
       "Debt_M             3.072819  0.008018 -0.017712   -0.001837\n",
       "Debt_Per_Capita   -3.457955 -0.043383 -0.000000   -0.020268\n",
       "CPI_perc           0.096454  0.021529  0.024228    0.025176\n",
       "GDP_Mill_dollars   1.106572  0.034258  0.000000    0.006834\n",
       "GDP_Growth_perc    0.302552 -0.027855 -0.000000   -0.000000\n",
       "Unemployment_alt   0.044277 -0.008027 -0.003316   -0.003140"
      ]
     },
     "execution_count": 75,
     "metadata": {},
     "output_type": "execute_result"
    }
   ],
   "source": [
    "# Create dataframe for coefficents of linear model\n",
    "lm_coef = pd.DataFrame(lm.coef_,index=X.columns,columns=['Linear'])\n",
    "\n",
    "# Create dataframe for coefficents of ridge model\n",
    "ridge_coef = pd.DataFrame(ridge.coef_,index=X.columns,columns=['Ridge'])\n",
    "\n",
    "# Create dataframe for coefficents of lasso model\n",
    "lasso_coef = pd.DataFrame(lasso.coef_,index=X.columns,columns=['Lasso'])\n",
    "\n",
    "# Create dataframe for coefficents of ElasticNet model\n",
    "enet_coef = pd.DataFrame(enet.coef_,index=X.columns,columns=['ElasticNet'])\n",
    "\n",
    "# Put dataframes together\n",
    "pd.concat([lm_coef, ridge_coef, lasso_coef,enet_coef], axis=1)"
   ]
  },
  {
   "cell_type": "markdown",
   "metadata": {},
   "source": [
    "### Testing"
   ]
  },
  {
   "cell_type": "code",
   "execution_count": 76,
   "metadata": {},
   "outputs": [],
   "source": [
    "from sklearn import metrics"
   ]
  },
  {
   "cell_type": "code",
   "execution_count": 77,
   "metadata": {},
   "outputs": [
    {
     "name": "stdout",
     "output_type": "stream",
     "text": [
      "MSE (train)\n",
      "Linear:      0.0141504263244\n",
      "Ridge:       0.0149589653371\n",
      "Lasso:       0.0150386098807\n",
      "ElasticNet:  0.0150155065799\n"
     ]
    },
    {
     "ename": "ValueError",
     "evalue": "Found input variables with inconsistent numbers of samples: [253, 109]",
     "output_type": "error",
     "traceback": [
      "\u001b[0;31m---------------------------------------------------------------------------\u001b[0m",
      "\u001b[0;31mValueError\u001b[0m                                Traceback (most recent call last)",
      "\u001b[0;32m<ipython-input-77-3d45c6290309>\u001b[0m in \u001b[0;36m<module>\u001b[0;34m()\u001b[0m\n\u001b[1;32m     12\u001b[0m \u001b[0mprint\u001b[0m\u001b[0;34m(\u001b[0m\u001b[0;34m'Lasso:      '\u001b[0m\u001b[0;34m,\u001b[0m \u001b[0mmetrics\u001b[0m\u001b[0;34m.\u001b[0m\u001b[0mmean_squared_error\u001b[0m\u001b[0;34m(\u001b[0m\u001b[0my_train\u001b[0m\u001b[0;34m,\u001b[0m \u001b[0mfit_lasso\u001b[0m\u001b[0;34m)\u001b[0m\u001b[0;34m)\u001b[0m\u001b[0;34m\u001b[0m\u001b[0m\n\u001b[1;32m     13\u001b[0m \u001b[0mprint\u001b[0m\u001b[0;34m(\u001b[0m\u001b[0;34m'ElasticNet: '\u001b[0m\u001b[0;34m,\u001b[0m \u001b[0mmetrics\u001b[0m\u001b[0;34m.\u001b[0m\u001b[0mmean_squared_error\u001b[0m\u001b[0;34m(\u001b[0m\u001b[0my_train\u001b[0m\u001b[0;34m,\u001b[0m \u001b[0mfit_enet\u001b[0m\u001b[0;34m)\u001b[0m\u001b[0;34m)\u001b[0m\u001b[0;34m\u001b[0m\u001b[0m\n\u001b[0;32m---> 14\u001b[0;31m \u001b[0mprint\u001b[0m\u001b[0;34m(\u001b[0m\u001b[0;34m'Polynomial: '\u001b[0m\u001b[0;34m,\u001b[0m \u001b[0mmetrics\u001b[0m\u001b[0;34m.\u001b[0m\u001b[0mmean_squared_error\u001b[0m\u001b[0;34m(\u001b[0m\u001b[0my_train\u001b[0m\u001b[0;34m,\u001b[0m \u001b[0mfit_poly_model\u001b[0m\u001b[0;34m)\u001b[0m\u001b[0;34m)\u001b[0m\u001b[0;34m\u001b[0m\u001b[0m\n\u001b[0m",
      "\u001b[0;32m~/anaconda3/lib/python3.6/site-packages/sklearn/metrics/regression.py\u001b[0m in \u001b[0;36mmean_squared_error\u001b[0;34m(y_true, y_pred, sample_weight, multioutput)\u001b[0m\n\u001b[1;32m    236\u001b[0m     \"\"\"\n\u001b[1;32m    237\u001b[0m     y_type, y_true, y_pred, multioutput = _check_reg_targets(\n\u001b[0;32m--> 238\u001b[0;31m         y_true, y_pred, multioutput)\n\u001b[0m\u001b[1;32m    239\u001b[0m     output_errors = np.average((y_true - y_pred) ** 2, axis=0,\n\u001b[1;32m    240\u001b[0m                                weights=sample_weight)\n",
      "\u001b[0;32m~/anaconda3/lib/python3.6/site-packages/sklearn/metrics/regression.py\u001b[0m in \u001b[0;36m_check_reg_targets\u001b[0;34m(y_true, y_pred, multioutput)\u001b[0m\n\u001b[1;32m     73\u001b[0m \u001b[0;34m\u001b[0m\u001b[0m\n\u001b[1;32m     74\u001b[0m     \"\"\"\n\u001b[0;32m---> 75\u001b[0;31m     \u001b[0mcheck_consistent_length\u001b[0m\u001b[0;34m(\u001b[0m\u001b[0my_true\u001b[0m\u001b[0;34m,\u001b[0m \u001b[0my_pred\u001b[0m\u001b[0;34m)\u001b[0m\u001b[0;34m\u001b[0m\u001b[0m\n\u001b[0m\u001b[1;32m     76\u001b[0m     \u001b[0my_true\u001b[0m \u001b[0;34m=\u001b[0m \u001b[0mcheck_array\u001b[0m\u001b[0;34m(\u001b[0m\u001b[0my_true\u001b[0m\u001b[0;34m,\u001b[0m \u001b[0mensure_2d\u001b[0m\u001b[0;34m=\u001b[0m\u001b[0;32mFalse\u001b[0m\u001b[0;34m)\u001b[0m\u001b[0;34m\u001b[0m\u001b[0m\n\u001b[1;32m     77\u001b[0m     \u001b[0my_pred\u001b[0m \u001b[0;34m=\u001b[0m \u001b[0mcheck_array\u001b[0m\u001b[0;34m(\u001b[0m\u001b[0my_pred\u001b[0m\u001b[0;34m,\u001b[0m \u001b[0mensure_2d\u001b[0m\u001b[0;34m=\u001b[0m\u001b[0;32mFalse\u001b[0m\u001b[0;34m)\u001b[0m\u001b[0;34m\u001b[0m\u001b[0m\n",
      "\u001b[0;32m~/anaconda3/lib/python3.6/site-packages/sklearn/utils/validation.py\u001b[0m in \u001b[0;36mcheck_consistent_length\u001b[0;34m(*arrays)\u001b[0m\n\u001b[1;32m    171\u001b[0m     \u001b[0;32mif\u001b[0m \u001b[0mlen\u001b[0m\u001b[0;34m(\u001b[0m\u001b[0muniques\u001b[0m\u001b[0;34m)\u001b[0m \u001b[0;34m>\u001b[0m \u001b[0;36m1\u001b[0m\u001b[0;34m:\u001b[0m\u001b[0;34m\u001b[0m\u001b[0m\n\u001b[1;32m    172\u001b[0m         raise ValueError(\"Found input variables with inconsistent numbers of\"\n\u001b[0;32m--> 173\u001b[0;31m                          \" samples: %r\" % [int(l) for l in lengths])\n\u001b[0m\u001b[1;32m    174\u001b[0m \u001b[0;34m\u001b[0m\u001b[0m\n\u001b[1;32m    175\u001b[0m \u001b[0;34m\u001b[0m\u001b[0m\n",
      "\u001b[0;31mValueError\u001b[0m: Found input variables with inconsistent numbers of samples: [253, 109]"
     ]
    }
   ],
   "source": [
    "# Get predictions for training data\n",
    "fit_lm = lm.predict(X_train)\n",
    "fit_ridge = ridge.predict(X_train)\n",
    "fit_lasso = lasso.predict(X_train)\n",
    "fit_enet = enet.predict(X_train)\n",
    "fit_poly_model = poly_model.predict(X_poly_test)\n",
    "\n",
    "# Print MSE for models\n",
    "print('MSE (train)')\n",
    "print('Linear:     ', metrics.mean_squared_error(y_train, fit_lm))\n",
    "print('Ridge:      ', metrics.mean_squared_error(y_train, fit_ridge))\n",
    "print('Lasso:      ', metrics.mean_squared_error(y_train, fit_lasso))\n",
    "print('ElasticNet: ', metrics.mean_squared_error(y_train, fit_enet))\n",
    "print('Polynomial: ', metrics.mean_squared_error(y_train, fit_poly_model))"
   ]
  },
  {
   "cell_type": "code",
   "execution_count": 78,
   "metadata": {},
   "outputs": [
    {
     "name": "stdout",
     "output_type": "stream",
     "text": [
      "MSE (train)\n",
      "Linear:      0.129711967634\n",
      "Ridge:       0.0799847148776\n",
      "Lasso:       0.0750863682429\n",
      "ElasticNet:  0.0765072813477\n",
      "Polynomial:  0.216275460488\n"
     ]
    }
   ],
   "source": [
    "print('MSE (train)')\n",
    "print('Linear:     ', lm.score(X_train, y_train))\n",
    "print('Ridge:      ', ridge.score(X_train, y_train))\n",
    "print('Lasso:      ', lasso.score(X_train, y_train))\n",
    "print('ElasticNet: ', enet.score(X_train, y_train))\n",
    "print('Polynomial: ', poly_model.score(X_poly, y_train))"
   ]
  },
  {
   "cell_type": "code",
   "execution_count": null,
   "metadata": {},
   "outputs": [],
   "source": []
  },
  {
   "cell_type": "code",
   "execution_count": 79,
   "metadata": {},
   "outputs": [],
   "source": [
    "def adj_r2_score(model,y,yhat):\n",
    "    adj = 1 - (1 - metrics.r2_score(y,yhat)) * float(len(y)-1) / (len(y)-len(model.coef_)-1)\n",
    "    return adj"
   ]
  },
  {
   "cell_type": "code",
   "execution_count": 80,
   "metadata": {},
   "outputs": [
    {
     "name": "stdout",
     "output_type": "stream",
     "text": [
      "Adjusted R-SQUARED SCORES\n",
      "Linear:      0.101177933786\n",
      "Ridge:       0.0498202792999\n",
      "Lasso:       0.0447613311361\n",
      "ElasticNet:  0.0462288315558\n",
      "Polynomial:  0.0459005605941\n"
     ]
    }
   ],
   "source": [
    "print('Adjusted R-SQUARED SCORES')\n",
    "print('Linear:     ', adj_r2_score(lm, y_train, lm.predict(X_train)))\n",
    "print('Ridge:      ', adj_r2_score(ridge, y_train, ridge.predict(X_train)))\n",
    "print('Lasso:      ', adj_r2_score(lasso, y_train, lasso.predict(X_train)))\n",
    "print('ElasticNet: ', adj_r2_score(enet, y_train, enet.predict(X_train)))\n",
    "print('Polynomial: ', adj_r2_score(poly_model, y_train, poly_model.predict(X_poly)))"
   ]
  },
  {
   "cell_type": "markdown",
   "metadata": {},
   "source": [
    "### Predicting"
   ]
  },
  {
   "cell_type": "code",
   "execution_count": 81,
   "metadata": {},
   "outputs": [],
   "source": [
    "pred_lm = lm.predict(X_test)\n",
    "pred_ridge = ridge.predict(X_test)\n",
    "pred_lasso = lasso.predict(X_test)\n",
    "pred_enet = enet.predict(X_test)\n",
    "pred_poly_model = poly_model.predict(X_poly_test)"
   ]
  },
  {
   "cell_type": "markdown",
   "metadata": {},
   "source": [
    "### Testing"
   ]
  },
  {
   "cell_type": "markdown",
   "metadata": {},
   "source": [
    "Firstly we plot the actual returns vs. the predictions by our models."
   ]
  },
  {
   "cell_type": "code",
   "execution_count": 84,
   "metadata": {},
   "outputs": [
    {
     "data": {
      "image/png": "[encoded data removed]",
      "text/plain": [
       "<matplotlib.figure.Figure at 0x1a16b3c128>"
      ]
     },
     "metadata": {},
     "output_type": "display_data"
    }
   ],
   "source": [
    "# Create figure and axes\n",
    "f, ax = plt.subplots(figsize=(20,5), nrows=1, ncols=5)\n",
    "\n",
    "# Create list of titles and predictions to use in for loop\n",
    "pred = [pred_lm, pred_ridge, pred_lasso, pred_enet, pred_poly_model]\n",
    "title = ['Linear Model', 'Ridge', 'Lasso', 'ElasticNet','Polynomial']\n",
    "\n",
    "# Loop through all axes to plot each model's results \n",
    "for i in range(5):\n",
    "    ax[i].set_title(title[i])\n",
    "    ax[i].set_xlabel('Actual')\n",
    "    ax[i].set_ylabel('Predicted')\n",
    "    ax[i].set_xlim(0, 0.4)\n",
    "    ax[i].set_ylim(0, 0.4)\n",
    "    ax[i].scatter(y_test,pred[i]) "
   ]
  },
  {
   "cell_type": "markdown",
   "metadata": {},
   "source": [
    "Secondly we calculate the MSE for each model on our testing set. "
   ]
  },
  {
   "cell_type": "code",
   "execution_count": 83,
   "metadata": {},
   "outputs": [
    {
     "name": "stdout",
     "output_type": "stream",
     "text": [
      "MSE:\n",
      "Linear:      0.013642763897\n",
      "Ridge:       0.0137450066885\n",
      "Lasso:       0.013647294791\n",
      "ElasticNet:  0.0136107473914\n",
      "Polynomial:  0.0149141085889\n"
     ]
    }
   ],
   "source": [
    "print('MSE:')\n",
    "print('Linear:     ', metrics.mean_squared_error(y_test, pred_lm))\n",
    "print('Ridge:      ', metrics.mean_squared_error(y_test, pred_ridge))\n",
    "print('Lasso:      ', metrics.mean_squared_error(y_test, pred_lasso))\n",
    "print('ElasticNet: ', metrics.mean_squared_error(y_test, pred_enet))\n",
    "print('Polynomial: ', metrics.mean_squared_error(y_test, pred_poly_model))"
   ]
  },
  {
   "cell_type": "code",
   "execution_count": null,
   "metadata": {},
   "outputs": [],
   "source": []
  },
  {
   "cell_type": "code",
   "execution_count": null,
   "metadata": {},
   "outputs": [],
   "source": []
  }
 ],
 "metadata": {
  "kernelspec": {
   "display_name": "Python 3",
   "language": "python",
   "name": "python3"
  },
  "language_info": {
   "codemirror_mode": {
    "name": "ipython",
    "version": 3
   },
   "file_extension": ".py",
   "mimetype": "text/x-python",
   "name": "python",
   "nbconvert_exporter": "python",
   "pygments_lexer": "ipython3",
   "version": "3.6.2"
  }
 },
 "nbformat": 4,
 "nbformat_minor": 2
}
