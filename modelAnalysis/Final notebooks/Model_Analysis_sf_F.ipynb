{
 "cells": [
  {
   "cell_type": "markdown",
   "metadata": {},
   "source": [
    "# Model Analysis\n",
    "using the data with only the significant features"
   ]
  },
  {
   "cell_type": "code",
   "execution_count": 1,
   "metadata": {},
   "outputs": [],
   "source": [
    "import numpy as np\n",
    "import pandas as pd\n",
    "import matplotlib.pyplot as plt\n",
    "import seaborn as sns\n",
    "% matplotlib inline"
   ]
  },
  {
   "cell_type": "code",
   "execution_count": 2,
   "metadata": {},
   "outputs": [],
   "source": [
    "df = pd.read_csv('data_signif.csv').drop('Unnamed: 0', axis=1)"
   ]
  },
  {
   "cell_type": "markdown",
   "metadata": {},
   "source": [
    "### Features/Labels split"
   ]
  },
  {
   "cell_type": "code",
   "execution_count": 3,
   "metadata": {},
   "outputs": [],
   "source": [
    "# Lables\n",
    "y = df['target_return']\n",
    "\n",
    "# Features\n",
    "X = df.drop(['target_return'], axis=1)"
   ]
  },
  {
   "cell_type": "markdown",
   "metadata": {},
   "source": [
    "### Rescaling features"
   ]
  },
  {
   "cell_type": "code",
   "execution_count": 4,
   "metadata": {},
   "outputs": [],
   "source": [
    "from sklearn.preprocessing import StandardScaler"
   ]
  },
  {
   "cell_type": "code",
   "execution_count": 5,
   "metadata": {},
   "outputs": [],
   "source": [
    "scaler = StandardScaler()"
   ]
  },
  {
   "cell_type": "code",
   "execution_count": 6,
   "metadata": {},
   "outputs": [],
   "source": [
    "X_scaled = scaler.fit_transform(X)"
   ]
  },
  {
   "cell_type": "code",
   "execution_count": 7,
   "metadata": {},
   "outputs": [
    {
     "data": {
      "text/html": [
       "<div>\n",
       "<style scoped>\n",
       "    .dataframe tbody tr th:only-of-type {\n",
       "        vertical-align: middle;\n",
       "    }\n",
       "\n",
       "    .dataframe tbody tr th {\n",
       "        vertical-align: top;\n",
       "    }\n",
       "\n",
       "    .dataframe thead th {\n",
       "        text-align: right;\n",
       "    }\n",
       "</style>\n",
       "<table border=\"1\" class=\"dataframe\">\n",
       "  <thead>\n",
       "    <tr style=\"text-align: right;\">\n",
       "      <th></th>\n",
       "      <th>exp_market_change</th>\n",
       "      <th>rates</th>\n",
       "      <th>Debt_M</th>\n",
       "      <th>Debt_Per_Capita</th>\n",
       "      <th>CPI_perc</th>\n",
       "      <th>GDP_Mill_dollars</th>\n",
       "      <th>GDP_Growth_perc</th>\n",
       "      <th>Unemployment_alt</th>\n",
       "    </tr>\n",
       "  </thead>\n",
       "  <tbody>\n",
       "    <tr>\n",
       "      <th>0</th>\n",
       "      <td>-0.752487</td>\n",
       "      <td>1.614377</td>\n",
       "      <td>-2.320115</td>\n",
       "      <td>-1.896766</td>\n",
       "      <td>0.001992</td>\n",
       "      <td>0.377860</td>\n",
       "      <td>1.004574</td>\n",
       "      <td>-0.913907</td>\n",
       "    </tr>\n",
       "    <tr>\n",
       "      <th>1</th>\n",
       "      <td>0.497042</td>\n",
       "      <td>0.922660</td>\n",
       "      <td>-2.320115</td>\n",
       "      <td>-1.896766</td>\n",
       "      <td>0.001992</td>\n",
       "      <td>0.377860</td>\n",
       "      <td>1.004574</td>\n",
       "      <td>-0.913907</td>\n",
       "    </tr>\n",
       "    <tr>\n",
       "      <th>2</th>\n",
       "      <td>-0.240694</td>\n",
       "      <td>0.701310</td>\n",
       "      <td>-2.320115</td>\n",
       "      <td>-1.896766</td>\n",
       "      <td>0.001992</td>\n",
       "      <td>0.377860</td>\n",
       "      <td>1.004574</td>\n",
       "      <td>-0.913907</td>\n",
       "    </tr>\n",
       "    <tr>\n",
       "      <th>3</th>\n",
       "      <td>2.370180</td>\n",
       "      <td>-0.363935</td>\n",
       "      <td>-2.320115</td>\n",
       "      <td>-1.896766</td>\n",
       "      <td>0.001992</td>\n",
       "      <td>0.377860</td>\n",
       "      <td>1.004574</td>\n",
       "      <td>-0.913907</td>\n",
       "    </tr>\n",
       "    <tr>\n",
       "      <th>4</th>\n",
       "      <td>1.155783</td>\n",
       "      <td>-0.529947</td>\n",
       "      <td>0.357897</td>\n",
       "      <td>0.850759</td>\n",
       "      <td>-1.699192</td>\n",
       "      <td>1.431649</td>\n",
       "      <td>1.319792</td>\n",
       "      <td>-0.913907</td>\n",
       "    </tr>\n",
       "  </tbody>\n",
       "</table>\n",
       "</div>"
      ],
      "text/plain": [
       "   exp_market_change     rates    Debt_M  Debt_Per_Capita  CPI_perc  \\\n",
       "0          -0.752487  1.614377 -2.320115        -1.896766  0.001992   \n",
       "1           0.497042  0.922660 -2.320115        -1.896766  0.001992   \n",
       "2          -0.240694  0.701310 -2.320115        -1.896766  0.001992   \n",
       "3           2.370180 -0.363935 -2.320115        -1.896766  0.001992   \n",
       "4           1.155783 -0.529947  0.357897         0.850759 -1.699192   \n",
       "\n",
       "   GDP_Mill_dollars  GDP_Growth_perc  Unemployment_alt  \n",
       "0          0.377860         1.004574         -0.913907  \n",
       "1          0.377860         1.004574         -0.913907  \n",
       "2          0.377860         1.004574         -0.913907  \n",
       "3          0.377860         1.004574         -0.913907  \n",
       "4          1.431649         1.319792         -0.913907  "
      ]
     },
     "execution_count": 7,
     "metadata": {},
     "output_type": "execute_result"
    }
   ],
   "source": [
    "X_standardize = pd.DataFrame(X_scaled,columns=X.columns)\n",
    "X_standardize.head()"
   ]
  },
  {
   "cell_type": "markdown",
   "metadata": {},
   "source": [
    "### Train/Test split"
   ]
  },
  {
   "cell_type": "code",
   "execution_count": 8,
   "metadata": {},
   "outputs": [],
   "source": [
    "from sklearn.model_selection import train_test_split"
   ]
  },
  {
   "cell_type": "code",
   "execution_count": 9,
   "metadata": {},
   "outputs": [],
   "source": [
    "X_train, X_test, y_train, y_test = train_test_split(X_standardize, y, test_size=0.3, random_state=101)"
   ]
  },
  {
   "cell_type": "markdown",
   "metadata": {},
   "source": [
    "### Training"
   ]
  },
  {
   "cell_type": "code",
   "execution_count": 10,
   "metadata": {},
   "outputs": [],
   "source": [
    "from sklearn.linear_model import LinearRegression\n",
    "from sklearn.linear_model import Ridge\n",
    "from sklearn.linear_model import Lasso\n",
    "from sklearn.linear_model import ElasticNet"
   ]
  },
  {
   "cell_type": "code",
   "execution_count": 11,
   "metadata": {},
   "outputs": [],
   "source": [
    "from sklearn.preprocessing import PolynomialFeatures  \n",
    "from sklearn.linear_model import LinearRegression"
   ]
  },
  {
   "cell_type": "code",
   "execution_count": 12,
   "metadata": {},
   "outputs": [],
   "source": [
    "lm = LinearRegression()\n",
    "ridge = Ridge(alpha=1)\n",
    "lasso = Lasso(alpha=0.001)\n",
    "enet = ElasticNet(alpha=0.001,l1_ratio=0.6)\n"
   ]
  },
  {
   "cell_type": "code",
   "execution_count": 13,
   "metadata": {},
   "outputs": [
    {
     "data": {
      "text/plain": [
       "LinearRegression(copy_X=True, fit_intercept=True, n_jobs=1, normalize=False)"
      ]
     },
     "execution_count": 13,
     "metadata": {},
     "output_type": "execute_result"
    }
   ],
   "source": [
    "lm.fit(X_train,y_train)"
   ]
  },
  {
   "cell_type": "code",
   "execution_count": 14,
   "metadata": {},
   "outputs": [
    {
     "data": {
      "text/plain": [
       "Ridge(alpha=1, copy_X=True, fit_intercept=True, max_iter=None,\n",
       "   normalize=False, random_state=None, solver='auto', tol=0.001)"
      ]
     },
     "execution_count": 14,
     "metadata": {},
     "output_type": "execute_result"
    }
   ],
   "source": [
    "ridge.fit(X_train,y_train)"
   ]
  },
  {
   "cell_type": "code",
   "execution_count": 15,
   "metadata": {},
   "outputs": [
    {
     "data": {
      "text/plain": [
       "Lasso(alpha=0.001, copy_X=True, fit_intercept=True, max_iter=1000,\n",
       "   normalize=False, positive=False, precompute=False, random_state=None,\n",
       "   selection='cyclic', tol=0.0001, warm_start=False)"
      ]
     },
     "execution_count": 15,
     "metadata": {},
     "output_type": "execute_result"
    }
   ],
   "source": [
    "lasso.fit(X_train,y_train)"
   ]
  },
  {
   "cell_type": "code",
   "execution_count": 16,
   "metadata": {},
   "outputs": [
    {
     "data": {
      "text/plain": [
       "ElasticNet(alpha=0.001, copy_X=True, fit_intercept=True, l1_ratio=0.6,\n",
       "      max_iter=1000, normalize=False, positive=False, precompute=False,\n",
       "      random_state=None, selection='cyclic', tol=0.0001, warm_start=False)"
      ]
     },
     "execution_count": 16,
     "metadata": {},
     "output_type": "execute_result"
    }
   ],
   "source": [
    "enet.fit(X_train,y_train)"
   ]
  },
  {
   "cell_type": "code",
   "execution_count": 18,
   "metadata": {},
   "outputs": [
    {
     "data": {
      "text/html": [
       "<div>\n",
       "<style scoped>\n",
       "    .dataframe tbody tr th:only-of-type {\n",
       "        vertical-align: middle;\n",
       "    }\n",
       "\n",
       "    .dataframe tbody tr th {\n",
       "        vertical-align: top;\n",
       "    }\n",
       "\n",
       "    .dataframe thead th {\n",
       "        text-align: right;\n",
       "    }\n",
       "</style>\n",
       "<table border=\"1\" class=\"dataframe\">\n",
       "  <thead>\n",
       "    <tr style=\"text-align: right;\">\n",
       "      <th></th>\n",
       "      <th>Intercept</th>\n",
       "    </tr>\n",
       "  </thead>\n",
       "  <tbody>\n",
       "    <tr>\n",
       "      <th>Linear</th>\n",
       "      <td>0.028542</td>\n",
       "    </tr>\n",
       "    <tr>\n",
       "      <th>Ridge</th>\n",
       "      <td>0.025024</td>\n",
       "    </tr>\n",
       "    <tr>\n",
       "      <th>Lasso</th>\n",
       "      <td>0.025226</td>\n",
       "    </tr>\n",
       "    <tr>\n",
       "      <th>ElasticNet</th>\n",
       "      <td>0.025143</td>\n",
       "    </tr>\n",
       "  </tbody>\n",
       "</table>\n",
       "</div>"
      ],
      "text/plain": [
       "            Intercept\n",
       "Linear       0.028542\n",
       "Ridge        0.025024\n",
       "Lasso        0.025226\n",
       "ElasticNet   0.025143"
      ]
     },
     "execution_count": 18,
     "metadata": {},
     "output_type": "execute_result"
    }
   ],
   "source": [
    "pd.DataFrame(np.array([lm.intercept_, ridge.intercept_, lasso.intercept_,enet.intercept_]),\n",
    "             columns=['Intercept'], \n",
    "             index=['Linear', 'Ridge', 'Lasso','ElasticNet'])"
   ]
  },
  {
   "cell_type": "code",
   "execution_count": 29,
   "metadata": {},
   "outputs": [
    {
     "data": {
      "text/html": [
       "<div>\n",
       "<style scoped>\n",
       "    .dataframe tbody tr th:only-of-type {\n",
       "        vertical-align: middle;\n",
       "    }\n",
       "\n",
       "    .dataframe tbody tr th {\n",
       "        vertical-align: top;\n",
       "    }\n",
       "\n",
       "    .dataframe thead th {\n",
       "        text-align: right;\n",
       "    }\n",
       "</style>\n",
       "<table border=\"1\" class=\"dataframe\">\n",
       "  <thead>\n",
       "    <tr style=\"text-align: right;\">\n",
       "      <th></th>\n",
       "      <th>Linear</th>\n",
       "      <th>Ridge</th>\n",
       "      <th>Lasso</th>\n",
       "      <th>ElasticNet a=00.1</th>\n",
       "    </tr>\n",
       "  </thead>\n",
       "  <tbody>\n",
       "    <tr>\n",
       "      <th>exp_market_change</th>\n",
       "      <td>-0.032147</td>\n",
       "      <td>-0.026801</td>\n",
       "      <td>-0.024900</td>\n",
       "      <td>-0.026058</td>\n",
       "    </tr>\n",
       "    <tr>\n",
       "      <th>rates</th>\n",
       "      <td>-0.110166</td>\n",
       "      <td>-0.048012</td>\n",
       "      <td>-0.036083</td>\n",
       "      <td>-0.039457</td>\n",
       "    </tr>\n",
       "    <tr>\n",
       "      <th>Debt_M</th>\n",
       "      <td>3.072819</td>\n",
       "      <td>0.008018</td>\n",
       "      <td>-0.017712</td>\n",
       "      <td>-0.001837</td>\n",
       "    </tr>\n",
       "    <tr>\n",
       "      <th>Debt_Per_Capita</th>\n",
       "      <td>-3.457955</td>\n",
       "      <td>-0.043383</td>\n",
       "      <td>-0.000000</td>\n",
       "      <td>-0.020268</td>\n",
       "    </tr>\n",
       "    <tr>\n",
       "      <th>CPI_perc</th>\n",
       "      <td>0.096454</td>\n",
       "      <td>0.021529</td>\n",
       "      <td>0.024228</td>\n",
       "      <td>0.025176</td>\n",
       "    </tr>\n",
       "    <tr>\n",
       "      <th>GDP_Mill_dollars</th>\n",
       "      <td>1.106572</td>\n",
       "      <td>0.034258</td>\n",
       "      <td>0.000000</td>\n",
       "      <td>0.006834</td>\n",
       "    </tr>\n",
       "    <tr>\n",
       "      <th>GDP_Growth_perc</th>\n",
       "      <td>0.302552</td>\n",
       "      <td>-0.027855</td>\n",
       "      <td>-0.000000</td>\n",
       "      <td>-0.000000</td>\n",
       "    </tr>\n",
       "    <tr>\n",
       "      <th>Unemployment_alt</th>\n",
       "      <td>0.044277</td>\n",
       "      <td>-0.008027</td>\n",
       "      <td>-0.003316</td>\n",
       "      <td>-0.003140</td>\n",
       "    </tr>\n",
       "  </tbody>\n",
       "</table>\n",
       "</div>"
      ],
      "text/plain": [
       "                     Linear     Ridge     Lasso  ElasticNet a=00.1\n",
       "exp_market_change -0.032147 -0.026801 -0.024900          -0.026058\n",
       "rates             -0.110166 -0.048012 -0.036083          -0.039457\n",
       "Debt_M             3.072819  0.008018 -0.017712          -0.001837\n",
       "Debt_Per_Capita   -3.457955 -0.043383 -0.000000          -0.020268\n",
       "CPI_perc           0.096454  0.021529  0.024228           0.025176\n",
       "GDP_Mill_dollars   1.106572  0.034258  0.000000           0.006834\n",
       "GDP_Growth_perc    0.302552 -0.027855 -0.000000          -0.000000\n",
       "Unemployment_alt   0.044277 -0.008027 -0.003316          -0.003140"
      ]
     },
     "execution_count": 29,
     "metadata": {},
     "output_type": "execute_result"
    }
   ],
   "source": [
    "# Create dataframe for coefficents of linear model\n",
    "lm_coef = pd.DataFrame(lm.coef_,index=X.columns,columns=['Linear'])\n",
    "\n",
    "# Create dataframe for coefficents of ridge model\n",
    "ridge_coef = pd.DataFrame(ridge.coef_,index=X.columns,columns=['Ridge'])\n",
    "\n",
    "# Create dataframe for coefficents of lasso model\n",
    "lasso_coef = pd.DataFrame(lasso.coef_,index=X.columns,columns=['Lasso'])\n",
    "\n",
    "# Create dataframe for coefficents of ElasticNet model\n",
    "enet_coef = pd.DataFrame(enet.coef_,index=X.columns,columns=['ElasticNet'])\n",
    "\n",
    "# Put dataframes together\n",
    "pd.concat([lm_coef, ridge_coef, lasso_coef,enet_coef], axis=1)"
   ]
  },
  {
   "cell_type": "markdown",
   "metadata": {},
   "source": [
    "### Testing"
   ]
  },
  {
   "cell_type": "code",
   "execution_count": 20,
   "metadata": {},
   "outputs": [],
   "source": [
    "from sklearn import metrics"
   ]
  },
  {
   "cell_type": "code",
   "execution_count": 21,
   "metadata": {},
   "outputs": [
    {
     "name": "stdout",
     "output_type": "stream",
     "text": [
      "MSE (train)\n",
      "Linear:      0.014150426324373088\n",
      "Ridge:       0.014958965337058134\n",
      "Lasso:       0.015038609880689849\n",
      "ElasticNet:  0.015015506579880027\n"
     ]
    }
   ],
   "source": [
    "# Get predictions for training data\n",
    "fit_lm = lm.predict(X_train)\n",
    "fit_ridge = ridge.predict(X_train)\n",
    "fit_lasso = lasso.predict(X_train)\n",
    "fit_enet = enet.predict(X_train)\n",
    "\n",
    "\n",
    "# Print MSE for models\n",
    "print('MSE (train)')\n",
    "print('Linear:     ', metrics.mean_squared_error(y_train, fit_lm))\n",
    "print('Ridge:      ', metrics.mean_squared_error(y_train, fit_ridge))\n",
    "print('Lasso:      ', metrics.mean_squared_error(y_train, fit_lasso))\n",
    "print('ElasticNet: ', metrics.mean_squared_error(y_train, fit_enet))\n"
   ]
  },
  {
   "cell_type": "code",
   "execution_count": 22,
   "metadata": {},
   "outputs": [
    {
     "name": "stdout",
     "output_type": "stream",
     "text": [
      "MSE (train)\n",
      "Linear:      0.12971196763389758\n",
      "Ridge:       0.07998471487764014\n",
      "Lasso:       0.07508636824291348\n",
      "ElasticNet:  0.07650728134772278\n"
     ]
    }
   ],
   "source": [
    "print('MSE (train)')\n",
    "print('Linear:     ', lm.score(X_train, y_train))\n",
    "print('Ridge:      ', ridge.score(X_train, y_train))\n",
    "print('Lasso:      ', lasso.score(X_train, y_train))\n",
    "print('ElasticNet: ', enet.score(X_train, y_train))"
   ]
  },
  {
   "cell_type": "code",
   "execution_count": null,
   "metadata": {},
   "outputs": [],
   "source": []
  },
  {
   "cell_type": "code",
   "execution_count": 23,
   "metadata": {},
   "outputs": [],
   "source": [
    "def adj_r2_score(model,y,yhat):\n",
    "    adj = 1 - (1 - metrics.r2_score(y,yhat)) * float(len(y)-1) / (len(y)-len(model.coef_)-1)\n",
    "    return adj"
   ]
  },
  {
   "cell_type": "code",
   "execution_count": 24,
   "metadata": {},
   "outputs": [
    {
     "name": "stdout",
     "output_type": "stream",
     "text": [
      "Adjusted R-SQUARED SCORES\n",
      "Linear:      0.10117793378582873\n",
      "Ridge:       0.049820279299857884\n",
      "Lasso:       0.044761331136123794\n",
      "ElasticNet:  0.046228831555844785\n"
     ]
    }
   ],
   "source": [
    "print('Adjusted R-SQUARED SCORES')\n",
    "print('Linear:     ', adj_r2_score(lm, y_train, lm.predict(X_train)))\n",
    "print('Ridge:      ', adj_r2_score(ridge, y_train, ridge.predict(X_train)))\n",
    "print('Lasso:      ', adj_r2_score(lasso, y_train, lasso.predict(X_train)))\n",
    "print('ElasticNet: ', adj_r2_score(enet, y_train, enet.predict(X_train)))"
   ]
  },
  {
   "cell_type": "markdown",
   "metadata": {},
   "source": [
    "---\n",
    "### Predicting"
   ]
  },
  {
   "cell_type": "code",
   "execution_count": 25,
   "metadata": {},
   "outputs": [],
   "source": [
    "pred_lm = lm.predict(X_test)\n",
    "pred_ridge = ridge.predict(X_test)\n",
    "pred_lasso = lasso.predict(X_test)\n",
    "pred_enet = enet.predict(X_test)"
   ]
  },
  {
   "cell_type": "markdown",
   "metadata": {},
   "source": [
    "### Testing"
   ]
  },
  {
   "cell_type": "markdown",
   "metadata": {},
   "source": [
    "Firstly we plot the actual returns vs. the predictions by our models."
   ]
  },
  {
   "cell_type": "code",
   "execution_count": 26,
   "metadata": {},
   "outputs": [
    {
     "data": {
      "image/png": "[encoded data removed]",
      "text/plain": [
       "<matplotlib.figure.Figure at 0x2b10f9ba240>"
      ]
     },
     "metadata": {},
     "output_type": "display_data"
    }
   ],
   "source": [
    "# Create figure and axes\n",
    "f, ax = plt.subplots(figsize=(20,5), nrows=1, ncols=4)\n",
    "\n",
    "# Create list of titles and predictions to use in for loop\n",
    "pred = [pred_lm, pred_ridge, pred_lasso, pred_enet]\n",
    "title = ['Linear Model', 'Ridge', 'Lasso', 'ElasticNet']\n",
    "\n",
    "# Loop through all axes to plot each model's results \n",
    "for i in range(4):\n",
    "    ax[i].set_title(title[i])\n",
    "    ax[i].set_xlabel('Actual')\n",
    "    ax[i].set_ylabel('Predicted')\n",
    "    ax[i].set_xlim(0, 0.4)\n",
    "    ax[i].set_ylim(0, 0.4)\n",
    "    ax[i].scatter(y_test,pred[i]) "
   ]
  },
  {
   "cell_type": "markdown",
   "metadata": {},
   "source": [
    "Secondly we calculate the MSE for each model on our testing set. "
   ]
  },
  {
   "cell_type": "code",
   "execution_count": 27,
   "metadata": {},
   "outputs": [
    {
     "name": "stdout",
     "output_type": "stream",
     "text": [
      "MSE:\n",
      "Linear:      0.013642763896953482\n",
      "Ridge:       0.013745006688510317\n",
      "Lasso:       0.013647294790990708\n",
      "ElasticNet:  0.013610747391380462\n"
     ]
    }
   ],
   "source": [
    "print('MSE:')\n",
    "print('Linear:     ', metrics.mean_squared_error(y_test, pred_lm))\n",
    "print('Ridge:      ', metrics.mean_squared_error(y_test, pred_ridge))\n",
    "print('Lasso:      ', metrics.mean_squared_error(y_test, pred_lasso))\n",
    "print('ElasticNet: ', metrics.mean_squared_error(y_test, pred_enet))"
   ]
  },
  {
   "cell_type": "code",
   "execution_count": 28,
   "metadata": {},
   "outputs": [
    {
     "name": "stdout",
     "output_type": "stream",
     "text": [
      "Adjusted R-SQUARED SCORES\n",
      "Linear:      0.056709941424155974\n",
      "Ridge:       0.04964065476310464\n",
      "Lasso:       0.05639666565877155\n",
      "ElasticNet:  0.05892363152723756\n"
     ]
    }
   ],
   "source": [
    "print('Adjusted R-SQUARED SCORES')\n",
    "print('Linear:     ', adj_r2_score(lm, y_test, lm.predict(X_test)))\n",
    "print('Ridge:      ', adj_r2_score(ridge, y_test, ridge.predict(X_test)))\n",
    "print('Lasso:      ', adj_r2_score(lasso, y_test, lasso.predict(X_test)))\n",
    "print('ElasticNet: ', adj_r2_score(enet, y_test, enet.predict(X_test)))"
   ]
  },
  {
   "cell_type": "code",
   "execution_count": null,
   "metadata": {},
   "outputs": [],
   "source": []
  }
 ],
 "metadata": {
  "kernelspec": {
   "display_name": "Python 3",
   "language": "python",
   "name": "python3"
  },
  "language_info": {
   "codemirror_mode": {
    "name": "ipython",
    "version": 3
   },
   "file_extension": ".py",
   "mimetype": "text/x-python",
   "name": "python",
   "nbconvert_exporter": "python",
   "pygments_lexer": "ipython3",
   "version": "3.6.4"
  }
 },
 "nbformat": 4,
 "nbformat_minor": 2
}
