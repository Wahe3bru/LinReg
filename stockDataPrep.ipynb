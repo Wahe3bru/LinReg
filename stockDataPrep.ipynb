{
 "cells": [
  {
   "cell_type": "markdown",
   "metadata": {
    "colab_type": "text",
    "id": "q6MsT-F3Tnzd"
   },
   "source": [
    "# Stock Data Preparation"
   ]
  },
  {
   "cell_type": "markdown",
   "metadata": {
    "colab_type": "text",
    "id": "TYs1VVOKTnzf"
   },
   "source": [
    "This is probably the least glamorous step in model building, but definitely one of the most important.\n",
    "\n",
    "It involves getting the raw real-world data into a format compatible for modelling. It consists of exploring and manipulating the data. This desired format is a dataset with independent variables (predictors) and a dependent variable (target).\n",
    "\n",
    "So let's start by importing the libraries we will need."
   ]
  },
  {
   "cell_type": "code",
   "execution_count": 1,
   "metadata": {
    "colab": {
     "autoexec": {
      "startup": false,
      "wait_interval": 0
     }
    },
    "colab_type": "code",
    "collapsed": true,
    "id": "1QKA88ACTnzh"
   },
   "outputs": [],
   "source": [
    "import numpy as np\n",
    "import pandas as pd\n",
    "import matplotlib.pyplot as plt\n",
    "import seaborn as sns\n",
    "% matplotlib inline"
   ]
  },
  {
   "cell_type": "markdown",
   "metadata": {
    "colab_type": "text",
    "id": "8CPyYdDLTnzo"
   },
   "source": [
    "## Exploring\n",
    "\n",
    "\n",
    "We have information on:\n",
    "\n",
    "* Daily stock price movements for 34 of the largest companies in SA\n",
    "* Daily price movements in the SA Top 40 Futures index\n",
    "* Quarterly fundamental information on the the same 34 companies\n",
    "* Monthly interest rates in SA\n",
    "\n",
    "Let's read the above data in."
   ]
  },
  {
   "cell_type": "code",
   "execution_count": 2,
   "metadata": {
    "colab": {
     "autoexec": {
      "startup": false,
      "wait_interval": 0
     },
     "base_uri": "https://localhost:8080/",
     "height": 229,
     "output_extras": [
      {
       "item_id": 1
      }
     ]
    },
    "colab_type": "code",
    "executionInfo": {
     "elapsed": 2808,
     "status": "error",
     "timestamp": 1517921710629,
     "user": {
      "displayName": "Rayno Mostert",
      "photoUrl": "https://lh3.googleusercontent.com/a/default-user=s128",
      "userId": "107056986412592388577"
     },
     "user_tz": -120
    },
    "id": "VZhXofzvTnzq",
    "outputId": "7e9f1ead-54b9-489e-c0f8-b99c5504631c"
   },
   "outputs": [],
   "source": [
    "# Fundamental information\n",
    "fn = pd.read_csv('fundamentals.csv', parse_dates=True,infer_datetime_format= True)\n",
    "\n",
    "# Stock price movements\n",
    "sp = pd.read_csv('stock_prices.csv', parse_dates=True,infer_datetime_format= True)\n",
    "\n",
    "# Interest rates\n",
    "ir = pd.read_csv('interest_rates.csv', parse_dates=True,infer_datetime_format= True)\n",
    "\n",
    "# Futures prices\n",
    "fp = pd.read_csv('futures_prices.csv', parse_dates=True,infer_datetime_format= True)\n",
    "\n",
    "# Company lookup table\n",
    "cl = pd.read_csv('comp_lookup.csv')"
   ]
  },
  {
   "cell_type": "markdown",
   "metadata": {
    "colab_type": "text",
    "id": "sXxTh_boTnzw"
   },
   "source": [
    "We look at the head of each dataset to see what the data looks like."
   ]
  },
  {
   "cell_type": "code",
   "execution_count": 3,
   "metadata": {
    "colab": {
     "autoexec": {
      "startup": false,
      "wait_interval": 0
     },
     "output_extras": [
      {}
     ]
    },
    "colab_type": "code",
    "id": "9EC45n5uTnzy",
    "outputId": "ce2d6295-7584-4205-cc5d-a096ad3716a1"
   },
   "outputs": [
    {
     "data": {
      "text/html": [
       "<div>\n",
       "<style>\n",
       "    .dataframe thead tr:only-child th {\n",
       "        text-align: right;\n",
       "    }\n",
       "\n",
       "    .dataframe thead th {\n",
       "        text-align: left;\n",
       "    }\n",
       "\n",
       "    .dataframe tbody tr th {\n",
       "        vertical-align: top;\n",
       "    }\n",
       "</style>\n",
       "<table border=\"1\" class=\"dataframe\">\n",
       "  <thead>\n",
       "    <tr style=\"text-align: right;\">\n",
       "      <th></th>\n",
       "      <th>company_index</th>\n",
       "      <th>Date</th>\n",
       "      <th>Revenue</th>\n",
       "      <th>Cost_of_Sales</th>\n",
       "      <th>Gross_profit</th>\n",
       "      <th>Operating_profit</th>\n",
       "      <th>Net_Profit</th>\n",
       "      <th>Issue_of_shares</th>\n",
       "      <th>Share_repurchase</th>\n",
       "      <th>Non_current_assets</th>\n",
       "      <th>Current_assets</th>\n",
       "      <th>Non_current_liabilities</th>\n",
       "      <th>Current_liabilities</th>\n",
       "      <th>net_cash_op_act</th>\n",
       "    </tr>\n",
       "  </thead>\n",
       "  <tbody>\n",
       "    <tr>\n",
       "      <th>0</th>\n",
       "      <td>1</td>\n",
       "      <td>2009/07/30</td>\n",
       "      <td>681.7</td>\n",
       "      <td>521.2</td>\n",
       "      <td>160.5</td>\n",
       "      <td>317.1</td>\n",
       "      <td>230.4</td>\n",
       "      <td>1.5</td>\n",
       "      <td>0.6</td>\n",
       "      <td>578.0</td>\n",
       "      <td>396.3</td>\n",
       "      <td>324.1</td>\n",
       "      <td>336.8</td>\n",
       "      <td>692.8</td>\n",
       "    </tr>\n",
       "    <tr>\n",
       "      <th>1</th>\n",
       "      <td>1</td>\n",
       "      <td>2009/10/31</td>\n",
       "      <td>880.6</td>\n",
       "      <td>616.8</td>\n",
       "      <td>263.8</td>\n",
       "      <td>-973.8</td>\n",
       "      <td>-824.5</td>\n",
       "      <td>221.5</td>\n",
       "      <td>0.0</td>\n",
       "      <td>604.5</td>\n",
       "      <td>270.3</td>\n",
       "      <td>305.4</td>\n",
       "      <td>324.1</td>\n",
       "      <td>854.5</td>\n",
       "    </tr>\n",
       "    <tr>\n",
       "      <th>2</th>\n",
       "      <td>1</td>\n",
       "      <td>2010/02/17</td>\n",
       "      <td>951.4</td>\n",
       "      <td>621.9</td>\n",
       "      <td>329.5</td>\n",
       "      <td>431.7</td>\n",
       "      <td>317.9</td>\n",
       "      <td>3.9</td>\n",
       "      <td>3.9</td>\n",
       "      <td>732.8</td>\n",
       "      <td>237.2</td>\n",
       "      <td>220.7</td>\n",
       "      <td>454.3</td>\n",
       "      <td>959.6</td>\n",
       "    </tr>\n",
       "    <tr>\n",
       "      <th>3</th>\n",
       "      <td>1</td>\n",
       "      <td>2010/05/06</td>\n",
       "      <td>845.3</td>\n",
       "      <td>606.0</td>\n",
       "      <td>239.3</td>\n",
       "      <td>141.3</td>\n",
       "      <td>115.0</td>\n",
       "      <td>0.3</td>\n",
       "      <td>0.0</td>\n",
       "      <td>741.4</td>\n",
       "      <td>188.0</td>\n",
       "      <td>221.0</td>\n",
       "      <td>396.3</td>\n",
       "      <td>816.6</td>\n",
       "    </tr>\n",
       "    <tr>\n",
       "      <th>4</th>\n",
       "      <td>1</td>\n",
       "      <td>2010/08/11</td>\n",
       "      <td>991.8</td>\n",
       "      <td>609.9</td>\n",
       "      <td>381.9</td>\n",
       "      <td>-8.9</td>\n",
       "      <td>-136.0</td>\n",
       "      <td>2.6</td>\n",
       "      <td>0.0</td>\n",
       "      <td>719.6</td>\n",
       "      <td>203.3</td>\n",
       "      <td>306.8</td>\n",
       "      <td>328.0</td>\n",
       "      <td>1003.0</td>\n",
       "    </tr>\n",
       "  </tbody>\n",
       "</table>\n",
       "</div>"
      ],
      "text/plain": [
       "   company_index        Date  Revenue  Cost_of_Sales  Gross_profit  \\\n",
       "0              1  2009/07/30    681.7          521.2         160.5   \n",
       "1              1  2009/10/31    880.6          616.8         263.8   \n",
       "2              1  2010/02/17    951.4          621.9         329.5   \n",
       "3              1  2010/05/06    845.3          606.0         239.3   \n",
       "4              1  2010/08/11    991.8          609.9         381.9   \n",
       "\n",
       "   Operating_profit  Net_Profit  Issue_of_shares  Share_repurchase  \\\n",
       "0             317.1       230.4              1.5               0.6   \n",
       "1            -973.8      -824.5            221.5               0.0   \n",
       "2             431.7       317.9              3.9               3.9   \n",
       "3             141.3       115.0              0.3               0.0   \n",
       "4              -8.9      -136.0              2.6               0.0   \n",
       "\n",
       "   Non_current_assets  Current_assets  Non_current_liabilities  \\\n",
       "0               578.0           396.3                    324.1   \n",
       "1               604.5           270.3                    305.4   \n",
       "2               732.8           237.2                    220.7   \n",
       "3               741.4           188.0                    221.0   \n",
       "4               719.6           203.3                    306.8   \n",
       "\n",
       "   Current_liabilities  net_cash_op_act  \n",
       "0                336.8            692.8  \n",
       "1                324.1            854.5  \n",
       "2                454.3            959.6  \n",
       "3                396.3            816.6  \n",
       "4                328.0           1003.0  "
      ]
     },
     "execution_count": 3,
     "metadata": {},
     "output_type": "execute_result"
    }
   ],
   "source": [
    "fn.head()"
   ]
  },
  {
   "cell_type": "code",
   "execution_count": 4,
   "metadata": {
    "colab": {
     "autoexec": {
      "startup": false,
      "wait_interval": 0
     },
     "output_extras": [
      {}
     ]
    },
    "colab_type": "code",
    "id": "yOMnnFtHTnz_",
    "outputId": "2a3c5c88-c957-4f24-f516-d7381584b81c"
   },
   "outputs": [
    {
     "data": {
      "text/html": [
       "<div>\n",
       "<style>\n",
       "    .dataframe thead tr:only-child th {\n",
       "        text-align: right;\n",
       "    }\n",
       "\n",
       "    .dataframe thead th {\n",
       "        text-align: left;\n",
       "    }\n",
       "\n",
       "    .dataframe tbody tr th {\n",
       "        vertical-align: top;\n",
       "    }\n",
       "</style>\n",
       "<table border=\"1\" class=\"dataframe\">\n",
       "  <thead>\n",
       "    <tr style=\"text-align: right;\">\n",
       "      <th></th>\n",
       "      <th>company_index</th>\n",
       "      <th>Date</th>\n",
       "      <th>Close</th>\n",
       "      <th>Open</th>\n",
       "      <th>High</th>\n",
       "      <th>Low</th>\n",
       "      <th>Vol</th>\n",
       "      <th>Change</th>\n",
       "    </tr>\n",
       "  </thead>\n",
       "  <tbody>\n",
       "    <tr>\n",
       "      <th>0</th>\n",
       "      <td>1</td>\n",
       "      <td>2009/10/14</td>\n",
       "      <td>33403.0</td>\n",
       "      <td>33817.0</td>\n",
       "      <td>34000.0</td>\n",
       "      <td>33213.0</td>\n",
       "      <td>979600.0</td>\n",
       "      <td>-0.0044</td>\n",
       "    </tr>\n",
       "    <tr>\n",
       "      <th>1</th>\n",
       "      <td>1</td>\n",
       "      <td>2009/10/15</td>\n",
       "      <td>32499.0</td>\n",
       "      <td>33095.0</td>\n",
       "      <td>33494.0</td>\n",
       "      <td>32101.0</td>\n",
       "      <td>1050000.0</td>\n",
       "      <td>-0.0271</td>\n",
       "    </tr>\n",
       "    <tr>\n",
       "      <th>2</th>\n",
       "      <td>1</td>\n",
       "      <td>2009/10/16</td>\n",
       "      <td>33200.0</td>\n",
       "      <td>32500.0</td>\n",
       "      <td>33490.0</td>\n",
       "      <td>32350.0</td>\n",
       "      <td>1160000.0</td>\n",
       "      <td>0.0216</td>\n",
       "    </tr>\n",
       "    <tr>\n",
       "      <th>3</th>\n",
       "      <td>1</td>\n",
       "      <td>2009/10/19</td>\n",
       "      <td>32950.0</td>\n",
       "      <td>33000.0</td>\n",
       "      <td>33780.0</td>\n",
       "      <td>32610.0</td>\n",
       "      <td>734160.0</td>\n",
       "      <td>-0.0075</td>\n",
       "    </tr>\n",
       "    <tr>\n",
       "      <th>4</th>\n",
       "      <td>1</td>\n",
       "      <td>2009/10/20</td>\n",
       "      <td>32563.0</td>\n",
       "      <td>33450.0</td>\n",
       "      <td>33681.0</td>\n",
       "      <td>32300.0</td>\n",
       "      <td>1020000.0</td>\n",
       "      <td>-0.0117</td>\n",
       "    </tr>\n",
       "  </tbody>\n",
       "</table>\n",
       "</div>"
      ],
      "text/plain": [
       "   company_index        Date    Close     Open     High      Low        Vol  \\\n",
       "0              1  2009/10/14  33403.0  33817.0  34000.0  33213.0   979600.0   \n",
       "1              1  2009/10/15  32499.0  33095.0  33494.0  32101.0  1050000.0   \n",
       "2              1  2009/10/16  33200.0  32500.0  33490.0  32350.0  1160000.0   \n",
       "3              1  2009/10/19  32950.0  33000.0  33780.0  32610.0   734160.0   \n",
       "4              1  2009/10/20  32563.0  33450.0  33681.0  32300.0  1020000.0   \n",
       "\n",
       "   Change  \n",
       "0 -0.0044  \n",
       "1 -0.0271  \n",
       "2  0.0216  \n",
       "3 -0.0075  \n",
       "4 -0.0117  "
      ]
     },
     "execution_count": 4,
     "metadata": {},
     "output_type": "execute_result"
    }
   ],
   "source": [
    "sp.head()"
   ]
  },
  {
   "cell_type": "code",
   "execution_count": 5,
   "metadata": {
    "colab": {
     "autoexec": {
      "startup": false,
      "wait_interval": 0
     },
     "output_extras": [
      {}
     ]
    },
    "colab_type": "code",
    "id": "e3_Ppoj2Tn0H",
    "outputId": "13a566c4-0463-413f-c093-bf8ed8454e6c"
   },
   "outputs": [
    {
     "data": {
      "text/html": [
       "<div>\n",
       "<style>\n",
       "    .dataframe thead tr:only-child th {\n",
       "        text-align: right;\n",
       "    }\n",
       "\n",
       "    .dataframe thead th {\n",
       "        text-align: left;\n",
       "    }\n",
       "\n",
       "    .dataframe tbody tr th {\n",
       "        vertical-align: top;\n",
       "    }\n",
       "</style>\n",
       "<table border=\"1\" class=\"dataframe\">\n",
       "  <thead>\n",
       "    <tr style=\"text-align: right;\">\n",
       "      <th></th>\n",
       "      <th>Date</th>\n",
       "      <th>rates</th>\n",
       "    </tr>\n",
       "  </thead>\n",
       "  <tbody>\n",
       "    <tr>\n",
       "      <th>0</th>\n",
       "      <td>2009/10/01</td>\n",
       "      <td>6.95</td>\n",
       "    </tr>\n",
       "    <tr>\n",
       "      <th>1</th>\n",
       "      <td>2009/11/01</td>\n",
       "      <td>7.01</td>\n",
       "    </tr>\n",
       "    <tr>\n",
       "      <th>2</th>\n",
       "      <td>2009/12/01</td>\n",
       "      <td>7.07</td>\n",
       "    </tr>\n",
       "    <tr>\n",
       "      <th>3</th>\n",
       "      <td>2010/01/01</td>\n",
       "      <td>7.11</td>\n",
       "    </tr>\n",
       "    <tr>\n",
       "      <th>4</th>\n",
       "      <td>2010/02/01</td>\n",
       "      <td>7.08</td>\n",
       "    </tr>\n",
       "  </tbody>\n",
       "</table>\n",
       "</div>"
      ],
      "text/plain": [
       "         Date  rates\n",
       "0  2009/10/01   6.95\n",
       "1  2009/11/01   7.01\n",
       "2  2009/12/01   7.07\n",
       "3  2010/01/01   7.11\n",
       "4  2010/02/01   7.08"
      ]
     },
     "execution_count": 5,
     "metadata": {},
     "output_type": "execute_result"
    }
   ],
   "source": [
    "ir.head()"
   ]
  },
  {
   "cell_type": "code",
   "execution_count": 6,
   "metadata": {
    "colab": {
     "autoexec": {
      "startup": false,
      "wait_interval": 0
     },
     "output_extras": [
      {}
     ]
    },
    "colab_type": "code",
    "id": "o1K_IwgRTn0N",
    "outputId": "f6585c56-a032-4a65-91a1-089d55283f00"
   },
   "outputs": [
    {
     "data": {
      "text/html": [
       "<div>\n",
       "<style>\n",
       "    .dataframe thead tr:only-child th {\n",
       "        text-align: right;\n",
       "    }\n",
       "\n",
       "    .dataframe thead th {\n",
       "        text-align: left;\n",
       "    }\n",
       "\n",
       "    .dataframe tbody tr th {\n",
       "        vertical-align: top;\n",
       "    }\n",
       "</style>\n",
       "<table border=\"1\" class=\"dataframe\">\n",
       "  <thead>\n",
       "    <tr style=\"text-align: right;\">\n",
       "      <th></th>\n",
       "      <th>Date</th>\n",
       "      <th>Close</th>\n",
       "      <th>Open</th>\n",
       "      <th>High</th>\n",
       "      <th>Low</th>\n",
       "      <th>Change</th>\n",
       "    </tr>\n",
       "  </thead>\n",
       "  <tbody>\n",
       "    <tr>\n",
       "      <th>0</th>\n",
       "      <td>2009/10/14</td>\n",
       "      <td>23656</td>\n",
       "      <td>23215</td>\n",
       "      <td>23678</td>\n",
       "      <td>23215</td>\n",
       "      <td>0.0193</td>\n",
       "    </tr>\n",
       "    <tr>\n",
       "      <th>1</th>\n",
       "      <td>2009/10/15</td>\n",
       "      <td>23758</td>\n",
       "      <td>23659</td>\n",
       "      <td>23792</td>\n",
       "      <td>23422</td>\n",
       "      <td>0.0043</td>\n",
       "    </tr>\n",
       "    <tr>\n",
       "      <th>2</th>\n",
       "      <td>2009/10/16</td>\n",
       "      <td>23663</td>\n",
       "      <td>23770</td>\n",
       "      <td>23894</td>\n",
       "      <td>23508</td>\n",
       "      <td>-0.0040</td>\n",
       "    </tr>\n",
       "    <tr>\n",
       "      <th>3</th>\n",
       "      <td>2009/10/19</td>\n",
       "      <td>23989</td>\n",
       "      <td>23659</td>\n",
       "      <td>24033</td>\n",
       "      <td>23641</td>\n",
       "      <td>0.0138</td>\n",
       "    </tr>\n",
       "    <tr>\n",
       "      <th>4</th>\n",
       "      <td>2009/10/20</td>\n",
       "      <td>23978</td>\n",
       "      <td>23993</td>\n",
       "      <td>24166</td>\n",
       "      <td>23873</td>\n",
       "      <td>-0.0005</td>\n",
       "    </tr>\n",
       "  </tbody>\n",
       "</table>\n",
       "</div>"
      ],
      "text/plain": [
       "         Date  Close   Open   High    Low  Change\n",
       "0  2009/10/14  23656  23215  23678  23215  0.0193\n",
       "1  2009/10/15  23758  23659  23792  23422  0.0043\n",
       "2  2009/10/16  23663  23770  23894  23508 -0.0040\n",
       "3  2009/10/19  23989  23659  24033  23641  0.0138\n",
       "4  2009/10/20  23978  23993  24166  23873 -0.0005"
      ]
     },
     "execution_count": 6,
     "metadata": {},
     "output_type": "execute_result"
    }
   ],
   "source": [
    "fp.head()"
   ]
  },
  {
   "cell_type": "code",
   "execution_count": 7,
   "metadata": {
    "colab": {
     "autoexec": {
      "startup": false,
      "wait_interval": 0
     },
     "output_extras": [
      {}
     ]
    },
    "colab_type": "code",
    "id": "V3hvTvXYTn0V",
    "outputId": "12a57046-c572-499c-c6cf-7c7b496d6926"
   },
   "outputs": [
    {
     "data": {
      "text/html": [
       "<div>\n",
       "<style>\n",
       "    .dataframe thead tr:only-child th {\n",
       "        text-align: right;\n",
       "    }\n",
       "\n",
       "    .dataframe thead th {\n",
       "        text-align: left;\n",
       "    }\n",
       "\n",
       "    .dataframe tbody tr th {\n",
       "        vertical-align: top;\n",
       "    }\n",
       "</style>\n",
       "<table border=\"1\" class=\"dataframe\">\n",
       "  <thead>\n",
       "    <tr style=\"text-align: right;\">\n",
       "      <th></th>\n",
       "      <th>index</th>\n",
       "      <th>symbol</th>\n",
       "      <th>company</th>\n",
       "    </tr>\n",
       "  </thead>\n",
       "  <tbody>\n",
       "    <tr>\n",
       "      <th>0</th>\n",
       "      <td>1</td>\n",
       "      <td>ANGJ</td>\n",
       "      <td>Anglogold Ashanti Ltd</td>\n",
       "    </tr>\n",
       "    <tr>\n",
       "      <th>1</th>\n",
       "      <td>2</td>\n",
       "      <td>APNJ</td>\n",
       "      <td>Aspen Pharmacare Holdings Ltd</td>\n",
       "    </tr>\n",
       "    <tr>\n",
       "      <th>2</th>\n",
       "      <td>3</td>\n",
       "      <td>ARIJ</td>\n",
       "      <td>African Rainbow Minerals Ltd</td>\n",
       "    </tr>\n",
       "    <tr>\n",
       "      <th>3</th>\n",
       "      <td>4</td>\n",
       "      <td>BGAJ</td>\n",
       "      <td>Barclays Africa Group Ltd</td>\n",
       "    </tr>\n",
       "    <tr>\n",
       "      <th>4</th>\n",
       "      <td>5</td>\n",
       "      <td>BILJ</td>\n",
       "      <td>BHP Billiton PLC</td>\n",
       "    </tr>\n",
       "  </tbody>\n",
       "</table>\n",
       "</div>"
      ],
      "text/plain": [
       "   index symbol                         company\n",
       "0      1  ANGJ            Anglogold Ashanti Ltd\n",
       "1      2  APNJ    Aspen Pharmacare Holdings Ltd\n",
       "2      3  ARIJ     African Rainbow Minerals Ltd\n",
       "3      4  BGAJ        Barclays Africa Group Ltd\n",
       "4      5  BILJ                 BHP Billiton PLC"
      ]
     },
     "execution_count": 7,
     "metadata": {},
     "output_type": "execute_result"
    }
   ],
   "source": [
    "cl.head()"
   ]
  },
  {
   "cell_type": "markdown",
   "metadata": {
    "colab_type": "text",
    "id": "-Fi8RwDVTn0k"
   },
   "source": [
    "The fundamentals and stock price data has a company index but no company name. We should use the company lookup table to add the name to the datasets."
   ]
  },
  {
   "cell_type": "code",
   "execution_count": 8,
   "metadata": {
    "colab": {
     "autoexec": {
      "startup": false,
      "wait_interval": 0
     }
    },
    "colab_type": "code",
    "collapsed": true,
    "id": "oen1dhXtTn0m"
   },
   "outputs": [],
   "source": [
    "# Merge fundamentals and company lookup and drop the unnecessary columns\n",
    "fn = pd.merge(left=fn, right=cl, how='left', left_on='company_index', right_on='index')\\\n",
    ".drop(['company_index', 'index', 'symbol'], axis=1)\n",
    "\n",
    "# Merge stock prices and company lookup and drop the unnecessary columns\n",
    "sp = pd.merge(left=sp, right=cl, how='left', left_on='company_index', right_on='index')\\\n",
    ".drop(['company_index', 'index', 'symbol'], axis=1)"
   ]
  },
  {
   "cell_type": "markdown",
   "metadata": {
    "colab_type": "text",
    "id": "ne4FeIyRTn0t"
   },
   "source": [
    "Let's look at some graphs and tables of the different datasets to get an idea what we are working with.\n",
    "\n",
    "A plot of the futures prices over time."
   ]
  },
  {
   "cell_type": "code",
   "execution_count": 9,
   "metadata": {
    "colab": {
     "autoexec": {
      "startup": false,
      "wait_interval": 0
     },
     "output_extras": [
      {},
      {}
     ]
    },
    "colab_type": "code",
    "id": "lH6C8uGdTn0u",
    "outputId": "10232dba-0677-47ff-863b-1b0b2d74025f"
   },
   "outputs": [
    {
     "data": {
      "text/plain": [
       "<matplotlib.text.Text at 0x110618160>"
      ]
     },
     "execution_count": 9,
     "metadata": {},
     "output_type": "execute_result"
    },
    {
     "data": {
      "image/png": "[encoded data removed]",
      "text/plain": [
       "<matplotlib.figure.Figure at 0x10fd7f9e8>"
      ]
     },
     "metadata": {},
     "output_type": "display_data"
    }
   ],
   "source": [
    "# Create date index to plot over time\n",
    "fp['Date_time'] = fp['Date'].apply(lambda x: pd.to_datetime(x))\n",
    "fp = fp.set_index('Date_time')\n",
    "\n",
    "# Create figure and axes and set figure size\n",
    "f, ax = plt.subplots(figsize=(10,5))\n",
    "\n",
    "# Plot\n",
    "ax.plot(fp['Close'])               \n",
    "ax.set_title(\"Top 40 Futures Index Price over time\") \n",
    "ax.set_xlabel('Date')                  \n",
    "ax.set_ylabel('Price')         "
   ]
  },
  {
   "cell_type": "markdown",
   "metadata": {
    "colab_type": "text",
    "id": "lmk28p1STn02"
   },
   "source": [
    "A plot of interest rates over time."
   ]
  },
  {
   "cell_type": "code",
   "execution_count": 10,
   "metadata": {
    "colab": {
     "autoexec": {
      "startup": false,
      "wait_interval": 0
     },
     "output_extras": [
      {},
      {}
     ]
    },
    "colab_type": "code",
    "id": "kdyG-eKHTn05",
    "outputId": "6ba14062-fcb6-4a09-be4a-a116f214df44"
   },
   "outputs": [
    {
     "data": {
      "text/plain": [
       "<matplotlib.text.Text at 0x108a094a8>"
      ]
     },
     "execution_count": 10,
     "metadata": {},
     "output_type": "execute_result"
    },
    {
     "data": {
      "image/png": "[encoded data removed]",
      "text/plain": [
       "<matplotlib.figure.Figure at 0x110691358>"
      ]
     },
     "metadata": {},
     "output_type": "display_data"
    }
   ],
   "source": [
    "# Create date index to plot over time\n",
    "ir['Date_time'] = ir['Date'].apply(lambda x: pd.to_datetime(x))\n",
    "ir = ir.set_index('Date_time')\n",
    "\n",
    "# Create figure and axes and set figure size\n",
    "f, ax = plt.subplots(figsize=(10,5))\n",
    "\n",
    "# Plot\n",
    "ax.plot(ir['rates'])               \n",
    "ax.set_title(\"Interest rates over time\") \n",
    "ax.set_xlabel('Date')                  \n",
    "ax.set_ylabel('Rates')  "
   ]
  },
  {
   "cell_type": "markdown",
   "metadata": {
    "colab_type": "text",
    "id": "EklrWxaXTn1B"
   },
   "source": [
    "A barplot of the average share price for each company."
   ]
  },
  {
   "cell_type": "code",
   "execution_count": 11,
   "metadata": {
    "colab": {
     "autoexec": {
      "startup": false,
      "wait_interval": 0
     },
     "output_extras": [
      {},
      {}
     ]
    },
    "colab_type": "code",
    "id": "Bk8MFFeITn1D",
    "outputId": "08adc326-0c23-4c1a-900e-6bfaa1c7ff45"
   },
   "outputs": [
    {
     "data": {
      "text/plain": [
       "<matplotlib.text.Text at 0x110d65ba8>"
      ]
     },
     "execution_count": 11,
     "metadata": {},
     "output_type": "execute_result"
    },
    {
     "data": {
      "image/png": "[encoded data removed]",
      "text/plain": [
       "<matplotlib.figure.Figure at 0x11069bda0>"
      ]
     },
     "metadata": {},
     "output_type": "display_data"
    }
   ],
   "source": [
    "# Create figure and axes and set figure size\n",
    "f, ax = plt.subplots(figsize=(10,10))\n",
    "\n",
    "# Create sorted average share prices per company\n",
    "a = sp.groupby('company').mean()['Close'].sort_values(ascending=False)\n",
    "\n",
    "# Barplot\n",
    "sns.barplot(x=a, y=a.index)\n",
    "ax.set_title('Average Share Price', fontsize=20)\n",
    "ax.set_ylabel('Company', fontsize=15)"
   ]
  },
  {
   "cell_type": "markdown",
   "metadata": {
    "colab_type": "text",
    "id": "UKmrkaMSTn1K"
   },
   "source": [
    "A table to look at the summary statistics of the fundamentals info."
   ]
  },
  {
   "cell_type": "code",
   "execution_count": 12,
   "metadata": {
    "colab": {
     "autoexec": {
      "startup": false,
      "wait_interval": 0
     },
     "output_extras": [
      {}
     ]
    },
    "colab_type": "code",
    "id": "hBHb_tCKTn1M",
    "outputId": "690de7b2-62ce-467c-c302-fb4a858a5258"
   },
   "outputs": [
    {
     "data": {
      "text/html": [
       "<div>\n",
       "<style>\n",
       "    .dataframe thead tr:only-child th {\n",
       "        text-align: right;\n",
       "    }\n",
       "\n",
       "    .dataframe thead th {\n",
       "        text-align: left;\n",
       "    }\n",
       "\n",
       "    .dataframe tbody tr th {\n",
       "        vertical-align: top;\n",
       "    }\n",
       "</style>\n",
       "<table border=\"1\" class=\"dataframe\">\n",
       "  <thead>\n",
       "    <tr style=\"text-align: right;\">\n",
       "      <th></th>\n",
       "      <th>Revenue</th>\n",
       "      <th>Cost_of_Sales</th>\n",
       "      <th>Gross_profit</th>\n",
       "      <th>Operating_profit</th>\n",
       "      <th>Net_Profit</th>\n",
       "      <th>Issue_of_shares</th>\n",
       "      <th>Share_repurchase</th>\n",
       "      <th>Non_current_assets</th>\n",
       "      <th>Current_assets</th>\n",
       "      <th>Non_current_liabilities</th>\n",
       "      <th>Current_liabilities</th>\n",
       "      <th>net_cash_op_act</th>\n",
       "    </tr>\n",
       "  </thead>\n",
       "  <tbody>\n",
       "    <tr>\n",
       "      <th>count</th>\n",
       "      <td>5.020000e+02</td>\n",
       "      <td>5.020000e+02</td>\n",
       "      <td>502.000000</td>\n",
       "      <td>5.020000e+02</td>\n",
       "      <td>502.000000</td>\n",
       "      <td>502.000000</td>\n",
       "      <td>502.000000</td>\n",
       "      <td>5.020000e+02</td>\n",
       "      <td>5.020000e+02</td>\n",
       "      <td>5.020000e+02</td>\n",
       "      <td>5.020000e+02</td>\n",
       "      <td>501.000000</td>\n",
       "    </tr>\n",
       "    <tr>\n",
       "      <th>mean</th>\n",
       "      <td>7.605861e+04</td>\n",
       "      <td>5.017630e+04</td>\n",
       "      <td>25858.566243</td>\n",
       "      <td>4.698520e+04</td>\n",
       "      <td>11809.722500</td>\n",
       "      <td>7707.670777</td>\n",
       "      <td>2694.866625</td>\n",
       "      <td>1.330621e+06</td>\n",
       "      <td>2.302707e+05</td>\n",
       "      <td>6.182714e+05</td>\n",
       "      <td>8.404268e+05</td>\n",
       "      <td>23092.332555</td>\n",
       "    </tr>\n",
       "    <tr>\n",
       "      <th>std</th>\n",
       "      <td>2.990052e+05</td>\n",
       "      <td>2.102294e+05</td>\n",
       "      <td>91063.199971</td>\n",
       "      <td>2.300834e+05</td>\n",
       "      <td>46531.007601</td>\n",
       "      <td>42884.180812</td>\n",
       "      <td>17988.106241</td>\n",
       "      <td>6.669606e+06</td>\n",
       "      <td>1.158695e+06</td>\n",
       "      <td>3.320928e+06</td>\n",
       "      <td>4.390989e+06</td>\n",
       "      <td>103825.203948</td>\n",
       "    </tr>\n",
       "    <tr>\n",
       "      <th>min</th>\n",
       "      <td>3.400000e+01</td>\n",
       "      <td>0.000000e+00</td>\n",
       "      <td>-6286.000000</td>\n",
       "      <td>-7.030000e+03</td>\n",
       "      <td>-6385.000000</td>\n",
       "      <td>0.000000</td>\n",
       "      <td>0.000000</td>\n",
       "      <td>-5.960800e+04</td>\n",
       "      <td>0.000000e+00</td>\n",
       "      <td>-4.071000e+03</td>\n",
       "      <td>0.000000e+00</td>\n",
       "      <td>-13213.000000</td>\n",
       "    </tr>\n",
       "    <tr>\n",
       "      <th>25%</th>\n",
       "      <td>5.880962e+03</td>\n",
       "      <td>2.321677e+03</td>\n",
       "      <td>1700.350000</td>\n",
       "      <td>7.845000e+02</td>\n",
       "      <td>602.750000</td>\n",
       "      <td>10.175000</td>\n",
       "      <td>0.000000</td>\n",
       "      <td>7.967075e+03</td>\n",
       "      <td>3.452000e+03</td>\n",
       "      <td>2.271650e+03</td>\n",
       "      <td>2.954250e+03</td>\n",
       "      <td>986.000000</td>\n",
       "    </tr>\n",
       "    <tr>\n",
       "      <th>50%</th>\n",
       "      <td>1.706550e+04</td>\n",
       "      <td>1.053050e+04</td>\n",
       "      <td>5188.000000</td>\n",
       "      <td>2.916500e+03</td>\n",
       "      <td>2396.000000</td>\n",
       "      <td>97.800000</td>\n",
       "      <td>52.000000</td>\n",
       "      <td>2.918200e+04</td>\n",
       "      <td>1.100430e+04</td>\n",
       "      <td>8.740000e+03</td>\n",
       "      <td>6.254000e+03</td>\n",
       "      <td>2562.605000</td>\n",
       "    </tr>\n",
       "    <tr>\n",
       "      <th>75%</th>\n",
       "      <td>4.015400e+04</td>\n",
       "      <td>2.298825e+04</td>\n",
       "      <td>14451.250000</td>\n",
       "      <td>8.992500e+03</td>\n",
       "      <td>6391.750000</td>\n",
       "      <td>544.000000</td>\n",
       "      <td>351.750000</td>\n",
       "      <td>9.729425e+04</td>\n",
       "      <td>3.140817e+04</td>\n",
       "      <td>4.056350e+04</td>\n",
       "      <td>2.498775e+04</td>\n",
       "      <td>7225.000000</td>\n",
       "    </tr>\n",
       "    <tr>\n",
       "      <th>max</th>\n",
       "      <td>2.726011e+06</td>\n",
       "      <td>2.112925e+06</td>\n",
       "      <td>702526.000000</td>\n",
       "      <td>1.829980e+06</td>\n",
       "      <td>420516.000000</td>\n",
       "      <td>413035.000000</td>\n",
       "      <td>305388.000000</td>\n",
       "      <td>4.732510e+07</td>\n",
       "      <td>1.074799e+07</td>\n",
       "      <td>4.414573e+07</td>\n",
       "      <td>3.084121e+07</td>\n",
       "      <td>854779.000000</td>\n",
       "    </tr>\n",
       "  </tbody>\n",
       "</table>\n",
       "</div>"
      ],
      "text/plain": [
       "            Revenue  Cost_of_Sales   Gross_profit  Operating_profit  \\\n",
       "count  5.020000e+02   5.020000e+02     502.000000      5.020000e+02   \n",
       "mean   7.605861e+04   5.017630e+04   25858.566243      4.698520e+04   \n",
       "std    2.990052e+05   2.102294e+05   91063.199971      2.300834e+05   \n",
       "min    3.400000e+01   0.000000e+00   -6286.000000     -7.030000e+03   \n",
       "25%    5.880962e+03   2.321677e+03    1700.350000      7.845000e+02   \n",
       "50%    1.706550e+04   1.053050e+04    5188.000000      2.916500e+03   \n",
       "75%    4.015400e+04   2.298825e+04   14451.250000      8.992500e+03   \n",
       "max    2.726011e+06   2.112925e+06  702526.000000      1.829980e+06   \n",
       "\n",
       "          Net_Profit  Issue_of_shares  Share_repurchase  Non_current_assets  \\\n",
       "count     502.000000       502.000000        502.000000        5.020000e+02   \n",
       "mean    11809.722500      7707.670777       2694.866625        1.330621e+06   \n",
       "std     46531.007601     42884.180812      17988.106241        6.669606e+06   \n",
       "min     -6385.000000         0.000000          0.000000       -5.960800e+04   \n",
       "25%       602.750000        10.175000          0.000000        7.967075e+03   \n",
       "50%      2396.000000        97.800000         52.000000        2.918200e+04   \n",
       "75%      6391.750000       544.000000        351.750000        9.729425e+04   \n",
       "max    420516.000000    413035.000000     305388.000000        4.732510e+07   \n",
       "\n",
       "       Current_assets  Non_current_liabilities  Current_liabilities  \\\n",
       "count    5.020000e+02             5.020000e+02         5.020000e+02   \n",
       "mean     2.302707e+05             6.182714e+05         8.404268e+05   \n",
       "std      1.158695e+06             3.320928e+06         4.390989e+06   \n",
       "min      0.000000e+00            -4.071000e+03         0.000000e+00   \n",
       "25%      3.452000e+03             2.271650e+03         2.954250e+03   \n",
       "50%      1.100430e+04             8.740000e+03         6.254000e+03   \n",
       "75%      3.140817e+04             4.056350e+04         2.498775e+04   \n",
       "max      1.074799e+07             4.414573e+07         3.084121e+07   \n",
       "\n",
       "       net_cash_op_act  \n",
       "count       501.000000  \n",
       "mean      23092.332555  \n",
       "std      103825.203948  \n",
       "min      -13213.000000  \n",
       "25%         986.000000  \n",
       "50%        2562.605000  \n",
       "75%        7225.000000  \n",
       "max      854779.000000  "
      ]
     },
     "execution_count": 12,
     "metadata": {},
     "output_type": "execute_result"
    }
   ],
   "source": [
    "fn.describe()"
   ]
  },
  {
   "cell_type": "markdown",
   "metadata": {
    "colab_type": "text",
    "id": "gl5Kt3ouTn1R"
   },
   "source": [
    "## Manipulation\n",
    "\n",
    "Now that we have an idea what the data looks like, we need to create one dataset with predictors and a target variable.\n",
    "\n",
    "### Target Variable\n",
    "We want to predict the stock return of a company in 60 trading days (~ 1 quarter) - so this will be the target variable.\n",
    "\n",
    "### Predictors\n",
    "We have the following data that can be used as predictors:\n",
    "* Price history (stock data),\n",
    "* Market expectations (SA Top 40 futures), \n",
    "* Interest rates  \n",
    "* Company fundamentals  \n",
    "\n",
    "The fundamental info is per quarter so we will have one row per company per quarter. The number of columns will be the number of predictors.\n",
    "\n",
    "#### Return target\n",
    "\n",
    "We will start by creating the target variable. To do this we create a function that, given a dataset, returns the stock return in 60 trading days for every day and company. We create a function so that we can get the future return for every company separately and then afterwards append all the companies together."
   ]
  },
  {
   "cell_type": "code",
   "execution_count": 13,
   "metadata": {
    "colab": {
     "autoexec": {
      "startup": false,
      "wait_interval": 0
     }
    },
    "colab_type": "code",
    "collapsed": true,
    "id": "WUIekkOoTn1T"
   },
   "outputs": [],
   "source": [
    "def target_creator(df):\n",
    "    \n",
    "    # Date\n",
    "    date = df['Date']\n",
    "    \n",
    "    # Company\n",
    "    company = df['company']\n",
    "    \n",
    "    # Target\n",
    "    target_return = df['Close'].shift(-60) / df['Close'] - 1\n",
    "    \n",
    "    # Add the columns together to create a dataframe\n",
    "    target_all = [date, company, target_return]\n",
    "    target_all = pd.concat(target_all, axis=1)\n",
    "    target_all.columns = ['Date', 'company', 'target_return']\n",
    "    \n",
    "    return target_all"
   ]
  },
  {
   "cell_type": "markdown",
   "metadata": {
    "colab_type": "text",
    "id": "pM268W1KTn1Z"
   },
   "source": [
    "Now we append target returns for all companies."
   ]
  },
  {
   "cell_type": "code",
   "execution_count": 14,
   "metadata": {
    "colab": {
     "autoexec": {
      "startup": false,
      "wait_interval": 0
     }
    },
    "colab_type": "code",
    "collapsed": true,
    "id": "zuXsLX7JTn1c"
   },
   "outputs": [],
   "source": [
    "# Create column names\n",
    "cols = ['company',\n",
    "        'Date',\n",
    "        'target_return']\n",
    "\n",
    "# Initiate empty dataframe which we will append all the data into\n",
    "return_target = pd.DataFrame(data=[], columns=cols)\n",
    "\n",
    "# Create list of all companies\n",
    "company = list(cl['company'])\n",
    "\n",
    "# Loop through list of all companies\n",
    "for c in company:\n",
    "    temp = target_creator(sp[sp['company'] == c])\n",
    "    return_target = return_target.append(temp)"
   ]
  },
  {
   "cell_type": "markdown",
   "metadata": {
    "colab_type": "text",
    "id": "lOfUwV2PTn1g"
   },
   "source": [
    "#### Price features\n",
    "\n",
    "Now for the features. We have price history that can be engineered into features. Here we also create a function to return the features separately for each company which we append together afterwards."
   ]
  },
  {
   "cell_type": "code",
   "execution_count": 15,
   "metadata": {
    "colab": {
     "autoexec": {
      "startup": false,
      "wait_interval": 0
     }
    },
    "colab_type": "code",
    "collapsed": true,
    "id": "pcFp-fFLTn1h"
   },
   "outputs": [],
   "source": [
    "def feature_creator(df):   \n",
    "    \n",
    "    # Date\n",
    "    date = df['Date']\n",
    "    \n",
    "    # Company\n",
    "    company = df['company']\n",
    "    \n",
    "    # Current Price\n",
    "    current = df['Close']\n",
    "    \n",
    "    # Moving average\n",
    "    moving_ave = df['Close'].rolling(window=60).mean()\n",
    "\n",
    "    # Moving volatility\n",
    "    moving_vol = df['Close'].rolling(window=60).std()\n",
    "\n",
    "    # Moving trading range\n",
    "    temp = (df['High'] - df['Low']) \n",
    "    t_range = temp.rolling(window=60).mean()\n",
    "\n",
    "    # Momentum - past quarter's return\n",
    "    mom = (df['Close'] - df['Close'].shift(60)) / df['Close'].shift(60)\n",
    "    \n",
    "    # Add the columns together to create a dataframe\n",
    "    features = [date, company, current, moving_ave, moving_vol, t_range, mom]\n",
    "    features = pd.concat(features, axis=1)\n",
    "    features.columns = ['Date',\n",
    "                        'company',\n",
    "                        'current_price',\n",
    "                        'moving_average', \n",
    "                        'moving_volatility', \n",
    "                        'trading_range', \n",
    "                        'momentum']\n",
    "    \n",
    "    return features"
   ]
  },
  {
   "cell_type": "markdown",
   "metadata": {
    "colab_type": "text",
    "id": "vAHpmH1YTn1k"
   },
   "source": [
    "Append price features for all companies."
   ]
  },
  {
   "cell_type": "code",
   "execution_count": 16,
   "metadata": {
    "colab": {
     "autoexec": {
      "startup": false,
      "wait_interval": 0
     }
    },
    "colab_type": "code",
    "collapsed": true,
    "id": "iW9c5isWTn1l"
   },
   "outputs": [],
   "source": [
    "# Create column names\n",
    "cols = ['company',\n",
    "        'Date',\n",
    "        'current_price',\n",
    "        'moving_average', \n",
    "        'moving_volatility', \n",
    "        'trading_range', \n",
    "        'momentum']\n",
    "\n",
    "# Initiate empty dataframe which we will append all the data into\n",
    "price_features = pd.DataFrame(data=[], columns=cols)\n",
    "\n",
    "# Create list of all companies\n",
    "company = list(cl['company'])\n",
    "\n",
    "# Loop through list of all companies\n",
    "for c in company:\n",
    "    temp = feature_creator(sp[sp['company'] == c])\n",
    "    price_features = price_features.append(temp)"
   ]
  },
  {
   "cell_type": "markdown",
   "metadata": {
    "colab_type": "text",
    "id": "SIaW7aLeTn1q"
   },
   "source": [
    "Now let's merge the price features and the return target together and call it price_info. We merge on date and company."
   ]
  },
  {
   "cell_type": "code",
   "execution_count": 17,
   "metadata": {
    "colab": {
     "autoexec": {
      "startup": false,
      "wait_interval": 0
     }
    },
    "colab_type": "code",
    "collapsed": true,
    "id": "ovwkn-9ETn1s"
   },
   "outputs": [],
   "source": [
    "price_info = price_features.merge(return_target, left_on=['Date', 'company'], right_on=['Date', 'company'])"
   ]
  },
  {
   "cell_type": "markdown",
   "metadata": {
    "colab_type": "text",
    "id": "QQIvrtTKTn11"
   },
   "source": [
    "#### Market Expectation\n",
    "\n",
    "Next we need to create the market expectation feature using the futures prices. This will give an estimate of the total market movement over the next 60 trading days. The futures price dataset has closing price info, so we need to transform that into a return. We then merge this dataset with price_info and call it df_1."
   ]
  },
  {
   "cell_type": "code",
   "execution_count": 18,
   "metadata": {
    "colab": {
     "autoexec": {
      "startup": false,
      "wait_interval": 0
     }
    },
    "colab_type": "code",
    "collapsed": true,
    "id": "MBqME48QTn13"
   },
   "outputs": [],
   "source": [
    "# Transform closing prices into return\n",
    "fp['exp_market_change'] = (fp['Close'] - fp['Close'].shift(60)) / fp['Close'].shift(60)\n",
    "\n",
    "# Merge with price info and drop unnecessary columns\n",
    "df_1 = price_info.merge(fp, how='left', left_on='Date', right_on='Date', suffixes=('', '_y'))\\\n",
    ".drop(['Open', 'High', 'Low', 'Close', 'Change'], axis=1)"
   ]
  },
  {
   "cell_type": "markdown",
   "metadata": {
    "colab_type": "text",
    "id": "EJeV1W0oTn1-"
   },
   "source": [
    "#### Interest rates\n",
    "\n",
    "Now we merge the interest rates with df_1 and call it df_2. Note that we merge on the year and month and not the total date. We do this since interest rate data is only monthly and we need to ensure there is interest data for every day. Otherwise when we merge the fundamentals hereafter and the date differs to that of the interest rate entry, we won't have a match and lose data."
   ]
  },
  {
   "cell_type": "code",
   "execution_count": 19,
   "metadata": {},
   "outputs": [
    {
     "data": {
      "text/html": [
       "<div>\n",
       "<style>\n",
       "    .dataframe thead tr:only-child th {\n",
       "        text-align: right;\n",
       "    }\n",
       "\n",
       "    .dataframe thead th {\n",
       "        text-align: left;\n",
       "    }\n",
       "\n",
       "    .dataframe tbody tr th {\n",
       "        vertical-align: top;\n",
       "    }\n",
       "</style>\n",
       "<table border=\"1\" class=\"dataframe\">\n",
       "  <thead>\n",
       "    <tr style=\"text-align: right;\">\n",
       "      <th></th>\n",
       "      <th>Date</th>\n",
       "      <th>company</th>\n",
       "      <th>current_price</th>\n",
       "      <th>momentum</th>\n",
       "      <th>moving_average</th>\n",
       "      <th>moving_volatility</th>\n",
       "      <th>trading_range</th>\n",
       "      <th>target_return</th>\n",
       "      <th>exp_market_change</th>\n",
       "    </tr>\n",
       "  </thead>\n",
       "  <tbody>\n",
       "    <tr>\n",
       "      <th>0</th>\n",
       "      <td>2009/10/14</td>\n",
       "      <td>Anglogold Ashanti Ltd</td>\n",
       "      <td>33403.0</td>\n",
       "      <td>NaN</td>\n",
       "      <td>NaN</td>\n",
       "      <td>NaN</td>\n",
       "      <td>NaN</td>\n",
       "      <td>-0.028500</td>\n",
       "      <td>NaN</td>\n",
       "    </tr>\n",
       "    <tr>\n",
       "      <th>1</th>\n",
       "      <td>2009/10/15</td>\n",
       "      <td>Anglogold Ashanti Ltd</td>\n",
       "      <td>32499.0</td>\n",
       "      <td>NaN</td>\n",
       "      <td>NaN</td>\n",
       "      <td>NaN</td>\n",
       "      <td>NaN</td>\n",
       "      <td>-0.024585</td>\n",
       "      <td>NaN</td>\n",
       "    </tr>\n",
       "    <tr>\n",
       "      <th>2</th>\n",
       "      <td>2009/10/16</td>\n",
       "      <td>Anglogold Ashanti Ltd</td>\n",
       "      <td>33200.0</td>\n",
       "      <td>NaN</td>\n",
       "      <td>NaN</td>\n",
       "      <td>NaN</td>\n",
       "      <td>NaN</td>\n",
       "      <td>-0.066114</td>\n",
       "      <td>NaN</td>\n",
       "    </tr>\n",
       "    <tr>\n",
       "      <th>3</th>\n",
       "      <td>2009/10/19</td>\n",
       "      <td>Anglogold Ashanti Ltd</td>\n",
       "      <td>32950.0</td>\n",
       "      <td>NaN</td>\n",
       "      <td>NaN</td>\n",
       "      <td>NaN</td>\n",
       "      <td>NaN</td>\n",
       "      <td>-0.060395</td>\n",
       "      <td>NaN</td>\n",
       "    </tr>\n",
       "    <tr>\n",
       "      <th>4</th>\n",
       "      <td>2009/10/20</td>\n",
       "      <td>Anglogold Ashanti Ltd</td>\n",
       "      <td>32563.0</td>\n",
       "      <td>NaN</td>\n",
       "      <td>NaN</td>\n",
       "      <td>NaN</td>\n",
       "      <td>NaN</td>\n",
       "      <td>-0.077173</td>\n",
       "      <td>NaN</td>\n",
       "    </tr>\n",
       "  </tbody>\n",
       "</table>\n",
       "</div>"
      ],
      "text/plain": [
       "         Date                 company  current_price  momentum  \\\n",
       "0  2009/10/14   Anglogold Ashanti Ltd        33403.0       NaN   \n",
       "1  2009/10/15   Anglogold Ashanti Ltd        32499.0       NaN   \n",
       "2  2009/10/16   Anglogold Ashanti Ltd        33200.0       NaN   \n",
       "3  2009/10/19   Anglogold Ashanti Ltd        32950.0       NaN   \n",
       "4  2009/10/20   Anglogold Ashanti Ltd        32563.0       NaN   \n",
       "\n",
       "   moving_average  moving_volatility  trading_range  target_return  \\\n",
       "0             NaN                NaN            NaN      -0.028500   \n",
       "1             NaN                NaN            NaN      -0.024585   \n",
       "2             NaN                NaN            NaN      -0.066114   \n",
       "3             NaN                NaN            NaN      -0.060395   \n",
       "4             NaN                NaN            NaN      -0.077173   \n",
       "\n",
       "   exp_market_change  \n",
       "0                NaN  \n",
       "1                NaN  \n",
       "2                NaN  \n",
       "3                NaN  \n",
       "4                NaN  "
      ]
     },
     "execution_count": 19,
     "metadata": {},
     "output_type": "execute_result"
    }
   ],
   "source": [
    "df_1.head()"
   ]
  },
  {
   "cell_type": "code",
   "execution_count": 20,
   "metadata": {
    "colab": {
     "autoexec": {
      "startup": false,
      "wait_interval": 0
     }
    },
    "colab_type": "code",
    "id": "wyeyazG7Tn1_"
   },
   "outputs": [],
   "source": [
    "# Merge with df_1 info and drop unnecessary columns\n",
    "df_2 = df_1.merge(ir, how='left',\n",
    "                 left_on=df_1['Date'].apply(lambda x: x[0:7]),\n",
    "                 right_on=ir['Date'].apply(lambda x: x[0:7]),\n",
    "                 suffixes=('', '_y')).drop('Date_y', axis=1)"
   ]
  },
  {
   "cell_type": "markdown",
   "metadata": {
    "colab_type": "text",
    "id": "ASj7pXgGTn2C"
   },
   "source": [
    "#### Company Fundamentals\n",
    "\n",
    "Finally we merge the company fundamentals onto df_2 by date and company to create our final dataset called df_final."
   ]
  },
  {
   "cell_type": "code",
   "execution_count": 99,
   "metadata": {
    "colab": {
     "autoexec": {
      "startup": false,
      "wait_interval": 0
     }
    },
    "colab_type": "code",
    "id": "1-ngabxSTn2D"
   },
   "outputs": [],
   "source": [
    "df_final = df_2.merge(fn, how='left', \n",
    "                      left_on=['Date', 'company'], \n",
    "                      right_on=['Date', 'company']).dropna()"
   ]
  },
  {
   "cell_type": "markdown",
   "metadata": {
    "colab_type": "text",
    "id": "Wj0AlF6VTn2H"
   },
   "source": [
    "Lets see what the data looks like."
   ]
  },
  {
   "cell_type": "code",
   "execution_count": 103,
   "metadata": {
    "colab": {
     "autoexec": {
      "startup": false,
      "wait_interval": 0
     },
     "output_extras": [
      {}
     ]
    },
    "colab_type": "code",
    "id": "eI3udvCmTn2K",
    "outputId": "25b1291c-a3fc-4a70-d8a6-3d3e6003d99a"
   },
   "outputs": [
    {
     "data": {
      "text/html": [
       "<div>\n",
       "<table border=\"1\" class=\"dataframe\">\n",
       "  <thead>\n",
       "    <tr style=\"text-align: right;\">\n",
       "      <th></th>\n",
       "      <th>Date</th>\n",
       "      <th>company</th>\n",
       "      <th>current_price</th>\n",
       "      <th>momentum</th>\n",
       "      <th>moving_average</th>\n",
       "      <th>moving_volatility</th>\n",
       "      <th>trading_range</th>\n",
       "      <th>target_return</th>\n",
       "      <th>exp_market_change</th>\n",
       "      <th>rates</th>\n",
       "      <th>...</th>\n",
       "      <th>Gross_profit</th>\n",
       "      <th>Operating_profit</th>\n",
       "      <th>Net_Profit</th>\n",
       "      <th>Issue_of_shares</th>\n",
       "      <th>Share_repurchase</th>\n",
       "      <th>Non_current_assets</th>\n",
       "      <th>Current_assets</th>\n",
       "      <th>Non_current_liabilities</th>\n",
       "      <th>Current_liabilities</th>\n",
       "      <th>net_cash_op_act</th>\n",
       "    </tr>\n",
       "  </thead>\n",
       "  <tbody>\n",
       "    <tr>\n",
       "      <th>87</th>\n",
       "      <td>2010/02/17</td>\n",
       "      <td>Anglogold Ashanti Ltd</td>\n",
       "      <td>29500.0</td>\n",
       "      <td>-0.103343</td>\n",
       "      <td>30598.216667</td>\n",
       "      <td>1854.530002</td>\n",
       "      <td>850.550000</td>\n",
       "      <td>0.090136</td>\n",
       "      <td>-0.016852</td>\n",
       "      <td>7.08</td>\n",
       "      <td>...</td>\n",
       "      <td>329.5</td>\n",
       "      <td>431.7</td>\n",
       "      <td>317.9</td>\n",
       "      <td>3.9</td>\n",
       "      <td>3.9</td>\n",
       "      <td>732.8</td>\n",
       "      <td>237.2</td>\n",
       "      <td>220.7</td>\n",
       "      <td>454.3</td>\n",
       "      <td>959.6</td>\n",
       "    </tr>\n",
       "    <tr>\n",
       "      <th>139</th>\n",
       "      <td>2010/05/06</td>\n",
       "      <td>Anglogold Ashanti Ltd</td>\n",
       "      <td>31150.0</td>\n",
       "      <td>0.139982</td>\n",
       "      <td>28743.150000</td>\n",
       "      <td>1079.933674</td>\n",
       "      <td>697.066667</td>\n",
       "      <td>-0.053612</td>\n",
       "      <td>0.044321</td>\n",
       "      <td>6.58</td>\n",
       "      <td>...</td>\n",
       "      <td>239.3</td>\n",
       "      <td>141.3</td>\n",
       "      <td>115.0</td>\n",
       "      <td>0.3</td>\n",
       "      <td>0.0</td>\n",
       "      <td>741.4</td>\n",
       "      <td>188.0</td>\n",
       "      <td>221.0</td>\n",
       "      <td>396.3</td>\n",
       "      <td>816.6</td>\n",
       "    </tr>\n",
       "    <tr>\n",
       "      <th>206</th>\n",
       "      <td>2010/08/11</td>\n",
       "      <td>Anglogold Ashanti Ltd</td>\n",
       "      <td>31420.0</td>\n",
       "      <td>-0.026943</td>\n",
       "      <td>31682.016667</td>\n",
       "      <td>1388.464601</td>\n",
       "      <td>864.983333</td>\n",
       "      <td>0.050286</td>\n",
       "      <td>0.008204</td>\n",
       "      <td>6.42</td>\n",
       "      <td>...</td>\n",
       "      <td>381.9</td>\n",
       "      <td>-8.9</td>\n",
       "      <td>-136.0</td>\n",
       "      <td>2.6</td>\n",
       "      <td>0.0</td>\n",
       "      <td>719.6</td>\n",
       "      <td>203.3</td>\n",
       "      <td>306.8</td>\n",
       "      <td>328.0</td>\n",
       "      <td>1003.0</td>\n",
       "    </tr>\n",
       "    <tr>\n",
       "      <th>270</th>\n",
       "      <td>2010/11/10</td>\n",
       "      <td>Anglogold Ashanti Ltd</td>\n",
       "      <td>34987.0</td>\n",
       "      <td>0.096771</td>\n",
       "      <td>32142.716667</td>\n",
       "      <td>784.923382</td>\n",
       "      <td>705.033333</td>\n",
       "      <td>-0.060365</td>\n",
       "      <td>0.136024</td>\n",
       "      <td>5.65</td>\n",
       "      <td>...</td>\n",
       "      <td>400.9</td>\n",
       "      <td>138.2</td>\n",
       "      <td>44.3</td>\n",
       "      <td>559.6</td>\n",
       "      <td>0.0</td>\n",
       "      <td>753.0</td>\n",
       "      <td>248.5</td>\n",
       "      <td>412.7</td>\n",
       "      <td>197.5</td>\n",
       "      <td>1056.6</td>\n",
       "    </tr>\n",
       "    <tr>\n",
       "      <th>338</th>\n",
       "      <td>2011/02/16</td>\n",
       "      <td>Anglogold Ashanti Ltd</td>\n",
       "      <td>33230.0</td>\n",
       "      <td>-0.007586</td>\n",
       "      <td>32411.016667</td>\n",
       "      <td>1134.366223</td>\n",
       "      <td>629.016667</td>\n",
       "      <td>-0.061601</td>\n",
       "      <td>0.076571</td>\n",
       "      <td>5.53</td>\n",
       "      <td>...</td>\n",
       "      <td>407.9</td>\n",
       "      <td>197.8</td>\n",
       "      <td>40.4</td>\n",
       "      <td>3.1</td>\n",
       "      <td>3.1</td>\n",
       "      <td>779.3</td>\n",
       "      <td>172.3</td>\n",
       "      <td>444.2</td>\n",
       "      <td>97.4</td>\n",
       "      <td>1095.5</td>\n",
       "    </tr>\n",
       "  </tbody>\n",
       "</table>\n",
       "<p>5 rows × 22 columns</p>\n",
       "</div>"
      ],
      "text/plain": [
       "           Date                 company  current_price  momentum  \\\n",
       "87   2010/02/17   Anglogold Ashanti Ltd        29500.0 -0.103343   \n",
       "139  2010/05/06   Anglogold Ashanti Ltd        31150.0  0.139982   \n",
       "206  2010/08/11   Anglogold Ashanti Ltd        31420.0 -0.026943   \n",
       "270  2010/11/10   Anglogold Ashanti Ltd        34987.0  0.096771   \n",
       "338  2011/02/16   Anglogold Ashanti Ltd        33230.0 -0.007586   \n",
       "\n",
       "     moving_average  moving_volatility  trading_range  target_return  \\\n",
       "87     30598.216667        1854.530002     850.550000       0.090136   \n",
       "139    28743.150000        1079.933674     697.066667      -0.053612   \n",
       "206    31682.016667        1388.464601     864.983333       0.050286   \n",
       "270    32142.716667         784.923382     705.033333      -0.060365   \n",
       "338    32411.016667        1134.366223     629.016667      -0.061601   \n",
       "\n",
       "     exp_market_change  rates       ...         Gross_profit  \\\n",
       "87           -0.016852   7.08       ...                329.5   \n",
       "139           0.044321   6.58       ...                239.3   \n",
       "206           0.008204   6.42       ...                381.9   \n",
       "270           0.136024   5.65       ...                400.9   \n",
       "338           0.076571   5.53       ...                407.9   \n",
       "\n",
       "     Operating_profit  Net_Profit  Issue_of_shares  Share_repurchase  \\\n",
       "87              431.7       317.9              3.9               3.9   \n",
       "139             141.3       115.0              0.3               0.0   \n",
       "206              -8.9      -136.0              2.6               0.0   \n",
       "270             138.2        44.3            559.6               0.0   \n",
       "338             197.8        40.4              3.1               3.1   \n",
       "\n",
       "     Non_current_assets  Current_assets  Non_current_liabilities  \\\n",
       "87                732.8           237.2                    220.7   \n",
       "139               741.4           188.0                    221.0   \n",
       "206               719.6           203.3                    306.8   \n",
       "270               753.0           248.5                    412.7   \n",
       "338               779.3           172.3                    444.2   \n",
       "\n",
       "     Current_liabilities  net_cash_op_act  \n",
       "87                 454.3            959.6  \n",
       "139                396.3            816.6  \n",
       "206                328.0           1003.0  \n",
       "270                197.5           1056.6  \n",
       "338                 97.4           1095.5  \n",
       "\n",
       "[5 rows x 22 columns]"
      ]
     },
     "execution_count": 103,
     "metadata": {},
     "output_type": "execute_result"
    }
   ],
   "source": [
    "df_final.head()"
   ]
  },
  {
   "cell_type": "markdown",
   "metadata": {
    "colab_type": "text",
    "id": "8uGpMHI4Tn2R"
   },
   "source": [
    "Save the dataset as a csv in order to use it in the future."
   ]
  },
  {
   "cell_type": "code",
   "execution_count": 104,
   "metadata": {
    "colab": {
     "autoexec": {
      "startup": false,
      "wait_interval": 0
     }
    },
    "colab_type": "code",
    "collapsed": true,
    "id": "w3rKm51-Tn2U"
   },
   "outputs": [],
   "source": [
    "df_final.to_csv('data.csv')"
   ]
  },
  {
   "cell_type": "markdown",
   "metadata": {
    "colab_type": "text",
    "id": "86OrIvX_Tn2c"
   },
   "source": [
    "In the next notebook we will use the dataset created above to predict stock returns in Scikit Learn using multifactor linear regression."
   ]
  }
 ],
 "metadata": {
  "colab": {
   "default_view": {},
   "name": "2. Lets put together our stock market data set (Stock Data Preparation).ipynb",
   "provenance": [],
   "version": "0.3.2",
   "views": {}
  },
  "kernelspec": {
   "display_name": "Python 3",
   "language": "python",
   "name": "python3"
  },
  "language_info": {
   "codemirror_mode": {
    "name": "ipython",
    "version": 3
   },
   "file_extension": ".py",
   "mimetype": "text/x-python",
   "name": "python",
   "nbconvert_exporter": "python",
   "pygments_lexer": "ipython3",
   "version": "3.6.2"
  }
 },
 "nbformat": 4,
 "nbformat_minor": 1
}
